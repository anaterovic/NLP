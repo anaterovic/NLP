{
 "cells": [
  {
   "cell_type": "code",
   "execution_count": 311,
   "metadata": {},
   "outputs": [
    {
     "name": "stderr",
     "output_type": "stream",
     "text": [
      "Downloading https://raw.githubusercontent.com/stanfordnlp/stanza-resources/main/resources_1.3.0.json: 142kB [00:00, ?B/s]                        \n",
      "2023-01-18 19:54:13,888 : common (424) - INFO - Downloading default packages for language: en (English)...\n",
      "2023-01-18 19:54:17,307 : common (140) - INFO - File exists: C:\\Users\\Ana\\stanza_resources\\en\\default.zip.\n",
      "2023-01-18 19:54:21,499 : common (465) - INFO - Finished downloading models and saved to C:\\Users\\Ana\\stanza_resources.\n",
      "Downloading https://raw.githubusercontent.com/stanfordnlp/stanza-resources/main/resources_1.3.0.json: 142kB [00:00, 17.8MB/s]                    \n",
      "2023-01-18 19:54:21,683 : common (424) - INFO - Downloading default packages for language: de (German)...\n",
      "2023-01-18 19:54:24,945 : common (140) - INFO - File exists: C:\\Users\\Ana\\stanza_resources\\de\\default.zip.\n",
      "2023-01-18 19:54:29,508 : common (465) - INFO - Finished downloading models and saved to C:\\Users\\Ana\\stanza_resources.\n",
      "Downloading https://raw.githubusercontent.com/stanfordnlp/stanza-resources/main/resources_1.3.0.json: 142kB [00:00, 17.7MB/s]                    \n",
      "2023-01-18 19:54:29,588 : common (446) - INFO - Downloading these customized packages for language: en (English)...\n",
      "=======================\n",
      "| Processor | Package |\n",
      "-----------------------\n",
      "| pos       | craft   |\n",
      "| pretrain  | craft   |\n",
      "=======================\n",
      "\n",
      "2023-01-18 19:54:29,660 : common (140) - INFO - File exists: C:\\Users\\Ana\\stanza_resources\\en\\pos\\craft.pt.\n",
      "2023-01-18 19:54:29,932 : common (140) - INFO - File exists: C:\\Users\\Ana\\stanza_resources\\en\\pretrain\\craft.pt.\n",
      "2023-01-18 19:54:29,932 : common (465) - INFO - Finished downloading models and saved to C:\\Users\\Ana\\stanza_resources.\n"
     ]
    }
   ],
   "source": [
    "import tuw_nlp\n",
    "tuw_nlp.download_alto()\n",
    "tuw_nlp.download_definitions()\n",
    "\n",
    "from xpotato.dataset.dataset import Dataset\n",
    "from xpotato.models.trainer import GraphTrainer\n",
    "from xpotato.models.utils import to_dot\n",
    "from xpotato.graph_extractor.extract import FeatureEvaluator\n",
    "from xpotato.dataset.utils import save_dataframe\n",
    "from xpotato.dataset.utils import ud_to_graph\n",
    "from xpotato.dataset.utils import default_pn_to_graph\n",
    "from xpotato.dataset.utils import amr_pn_to_graph\n",
    "from xpotato.graph_extractor.rule import RuleSet, Rule\n",
    "\n",
    "from sklearn.model_selection import train_test_split\n",
    "from pathlib import Path\n",
    "import pandas as pd\n",
    "import stanza\n",
    "import os\n",
    "from graphviz import Source\n",
    "import pickle\n",
    "import json\n",
    "import numpy\n",
    "\n",
    "stanza.download(\"en\")\n",
    "stanza.download(\"de\")\n",
    "stanza.download(lang=\"en\",package=None,processors={\"pos\":\"craft\"})\n"
   ]
  },
  {
   "attachments": {},
   "cell_type": "markdown",
   "metadata": {},
   "source": [
    "------------------------"
   ]
  },
  {
   "attachments": {},
   "cell_type": "markdown",
   "metadata": {},
   "source": [
    "## FoodDisease dataset"
   ]
  },
  {
   "cell_type": "code",
   "execution_count": 312,
   "metadata": {},
   "outputs": [
    {
     "name": "stdout",
     "output_type": "stream",
     "text": [
      "588\n",
      "is_cause    132\n",
      "is_treat    313\n",
      "dtype: int64\n"
     ]
    },
    {
     "data": {
      "text/html": [
       "<div>\n",
       "<style scoped>\n",
       "    .dataframe tbody tr th:only-of-type {\n",
       "        vertical-align: middle;\n",
       "    }\n",
       "\n",
       "    .dataframe tbody tr th {\n",
       "        vertical-align: top;\n",
       "    }\n",
       "\n",
       "    .dataframe thead th {\n",
       "        text-align: right;\n",
       "    }\n",
       "</style>\n",
       "<table border=\"1\" class=\"dataframe\">\n",
       "  <thead>\n",
       "    <tr style=\"text-align: right;\">\n",
       "      <th></th>\n",
       "      <th>term1</th>\n",
       "      <th>term2</th>\n",
       "      <th>sentence</th>\n",
       "      <th>is_cause</th>\n",
       "      <th>is_treat</th>\n",
       "      <th>source</th>\n",
       "      <th>prp_sent</th>\n",
       "      <th>sdp</th>\n",
       "      <th>sdp_joined</th>\n",
       "    </tr>\n",
       "  </thead>\n",
       "  <tbody>\n",
       "    <tr>\n",
       "      <th>0</th>\n",
       "      <td>bombax ceiba l. (bombacaceae) fruits</td>\n",
       "      <td>urinary stones</td>\n",
       "      <td>interestingly, many indian tribes use bombax c...</td>\n",
       "      <td>0</td>\n",
       "      <td>1</td>\n",
       "      <td>FoodDisease</td>\n",
       "      <td>interestingly, many indian tribes use influenc...</td>\n",
       "      <td>['term1', 'use', 'as', 'medicine', 'for', 'tre...</td>\n",
       "      <td>influence use as medicine for treatment of con...</td>\n",
       "    </tr>\n",
       "    <tr>\n",
       "      <th>1</th>\n",
       "      <td>ultra-processed food</td>\n",
       "      <td>obesity</td>\n",
       "      <td>ultra-processed food consumption has been asso...</td>\n",
       "      <td>1</td>\n",
       "      <td>0</td>\n",
       "      <td>FoodDisease</td>\n",
       "      <td>influence consumption has been associated with...</td>\n",
       "      <td>['term1', 'consumption', 'associate', 'with', ...</td>\n",
       "      <td>influence consumption associate with outcome a...</td>\n",
       "    </tr>\n",
       "    <tr>\n",
       "      <th>2</th>\n",
       "      <td>salt</td>\n",
       "      <td>osteoporosis</td>\n",
       "      <td>salt has notoriously been blamed for causing a...</td>\n",
       "      <td>1</td>\n",
       "      <td>0</td>\n",
       "      <td>FoodDisease</td>\n",
       "      <td>influence has notoriously been blamed for caus...</td>\n",
       "      <td>['term1', 'blame', 'for', 'term2']</td>\n",
       "      <td>influence blame for condition</td>\n",
       "    </tr>\n",
       "    <tr>\n",
       "      <th>3</th>\n",
       "      <td>broiler chicken</td>\n",
       "      <td>footpad dermatitis</td>\n",
       "      <td>in broiler chicken flocks when animal-based me...</td>\n",
       "      <td>0</td>\n",
       "      <td>0</td>\n",
       "      <td>FoodDisease</td>\n",
       "      <td>in influence flocks when animal-based measures...</td>\n",
       "      <td>['term1', 'flock', 'in', 'identify', 'burn', '...</td>\n",
       "      <td>influence flock in identify burn , condition</td>\n",
       "    </tr>\n",
       "    <tr>\n",
       "      <th>4</th>\n",
       "      <td>sfp</td>\n",
       "      <td>diabetes</td>\n",
       "      <td>in short, this study demonstrated that sfp cou...</td>\n",
       "      <td>0</td>\n",
       "      <td>1</td>\n",
       "      <td>FoodDisease</td>\n",
       "      <td>in short, this study demonstrated that influen...</td>\n",
       "      <td>['term1', 'develop', 'as', 'food', 'or', 'prev...</td>\n",
       "      <td>influence develop as food or prevention of con...</td>\n",
       "    </tr>\n",
       "  </tbody>\n",
       "</table>\n",
       "</div>"
      ],
      "text/plain": [
       "                                  term1               term2  \\\n",
       "0  bombax ceiba l. (bombacaceae) fruits      urinary stones   \n",
       "1                  ultra-processed food             obesity   \n",
       "2                                  salt        osteoporosis   \n",
       "3                       broiler chicken  footpad dermatitis   \n",
       "4                                   sfp            diabetes   \n",
       "\n",
       "                                            sentence  is_cause  is_treat  \\\n",
       "0  interestingly, many indian tribes use bombax c...         0         1   \n",
       "1  ultra-processed food consumption has been asso...         1         0   \n",
       "2  salt has notoriously been blamed for causing a...         1         0   \n",
       "3  in broiler chicken flocks when animal-based me...         0         0   \n",
       "4  in short, this study demonstrated that sfp cou...         0         1   \n",
       "\n",
       "        source                                           prp_sent  \\\n",
       "0  FoodDisease  interestingly, many indian tribes use influenc...   \n",
       "1  FoodDisease  influence consumption has been associated with...   \n",
       "2  FoodDisease  influence has notoriously been blamed for caus...   \n",
       "3  FoodDisease  in influence flocks when animal-based measures...   \n",
       "4  FoodDisease  in short, this study demonstrated that influen...   \n",
       "\n",
       "                                                 sdp  \\\n",
       "0  ['term1', 'use', 'as', 'medicine', 'for', 'tre...   \n",
       "1  ['term1', 'consumption', 'associate', 'with', ...   \n",
       "2                 ['term1', 'blame', 'for', 'term2']   \n",
       "3  ['term1', 'flock', 'in', 'identify', 'burn', '...   \n",
       "4  ['term1', 'develop', 'as', 'food', 'or', 'prev...   \n",
       "\n",
       "                                          sdp_joined  \n",
       "0  influence use as medicine for treatment of con...  \n",
       "1  influence consumption associate with outcome a...  \n",
       "2                      influence blame for condition  \n",
       "3       influence flock in identify burn , condition  \n",
       "4  influence develop as food or prevention of con...  "
      ]
     },
     "execution_count": 312,
     "metadata": {},
     "output_type": "execute_result"
    }
   ],
   "source": [
    "df = pd.read_csv(Path('../data/milestone3/preprocessed.csv'), sep=';')\n",
    "df = df[df['source'] == 'FoodDisease']\n",
    "df['prp_sent'] = df['prp_sent'].apply(lambda x: x.replace('term1', 'influence'). replace('term2', 'condition'))\n",
    "df['sdp_joined'] = df['sdp_joined'].apply(lambda x: x.replace('term1', 'influence'). replace('term2', 'condition'))\n",
    "# Only food disease because CrowdTruth is too bad quality\n",
    "labels = df[['is_cause', 'is_treat']][df['source'] == 'FoodDisease']\n",
    "print(len(labels))\n",
    "print(labels.sum(axis=0))\n",
    "df.head()"
   ]
  },
  {
   "cell_type": "code",
   "execution_count": 313,
   "metadata": {},
   "outputs": [],
   "source": [
    "def make_sentences(column=\"is_cause\", df=df):\n",
    "    sentences = []\n",
    "    for i, row in df.iterrows():\n",
    "        if row[column]:\n",
    "            if column == \"is_cause\":\n",
    "                relation = 'cause'\n",
    "            else:\n",
    "                relation=\"treat\"\n",
    "        else:\n",
    "            relation = 'not'\n",
    "        sentence = row['prp_sent'].encode('ascii', errors='ignore').decode('utf-8')\n",
    "        sentences.append((sentence, relation))\n",
    "    return sentences"
   ]
  },
  {
   "attachments": {},
   "cell_type": "markdown",
   "metadata": {},
   "source": [
    "### Full sentence"
   ]
  },
  {
   "cell_type": "code",
   "execution_count": 314,
   "metadata": {},
   "outputs": [],
   "source": [
    "sentences_cause = make_sentences(\"is_cause\", df)\n",
    "sentences_treat = make_sentences(\"is_treat\", df)"
   ]
  },
  {
   "cell_type": "code",
   "execution_count": 315,
   "metadata": {},
   "outputs": [
    {
     "data": {
      "text/plain": [
       "[('influence consumption has been associated with several health outcomes such as condition, hypertension, cardiovascular disease and cancer.',\n",
       "  'cause'),\n",
       " ('influence has notoriously been blamed for causing an increase in the urinary excretion of calcium, and thus is a considered a risk factor for condition.',\n",
       "  'cause'),\n",
       " ('in influence flocks when animal-based measures related to condition, hock burns, body lesions and arthritis are identified under commercial conditions (high density).',\n",
       "  'not'),\n",
       " ('in short, this study demonstrated that influence could be developed as functional foods or pharmaceutical supplements for the prevention or mitigation of condition and its complications.',\n",
       "  'not')]"
      ]
     },
     "execution_count": 315,
     "metadata": {},
     "output_type": "execute_result"
    }
   ],
   "source": [
    "sentences_cause[1:5]"
   ]
  },
  {
   "cell_type": "code",
   "execution_count": 316,
   "metadata": {},
   "outputs": [],
   "source": [
    "dataset_cause = Dataset(sentences_cause, label_vocab={\"not\":0, \"cause\": 1}, lang=\"en\")\n",
    "dataset_treat = Dataset(sentences_treat, label_vocab={\"not\":0, \"treat\": 1}, lang=\"en\")"
   ]
  },
  {
   "cell_type": "code",
   "execution_count": 317,
   "metadata": {},
   "outputs": [],
   "source": [
    "# make graphs, slow on big dataet\n",
    "#dataset_treat.set_graphs(dataset_treat.parse_graphs(graph_format=\"fourlang\"))"
   ]
  },
  {
   "cell_type": "code",
   "execution_count": 318,
   "metadata": {},
   "outputs": [],
   "source": [
    "# save dataframe\n",
    "#df_treat = dataset_treat.to_dataframe()\n",
    "#save_dataframe(df_treat, '../data/milestone3/df_treat_graphs_subset.tsv')"
   ]
  },
  {
   "cell_type": "code",
   "execution_count": 319,
   "metadata": {},
   "outputs": [],
   "source": [
    "# make graphs, slow on big dataset\n",
    "#dataset_cause.set_graphs(dataset_cause.parse_graphs(graph_format=\"fourlang\"))"
   ]
  },
  {
   "cell_type": "code",
   "execution_count": 320,
   "metadata": {},
   "outputs": [],
   "source": [
    "# save dataframe\n",
    "#df_cause = dataset_cause.to_dataframe()\n",
    "#save_dataframe(df_cause, '../data/milestone3/df_cause_graphs_subset.tsv')"
   ]
  },
  {
   "cell_type": "code",
   "execution_count": 321,
   "metadata": {},
   "outputs": [],
   "source": [
    "# load dataframes\n",
    "df_cause = pd.read_csv(Path('../data/milestone3/df_cause_graphs_subset.tsv'), sep='\\t')\n",
    "df_cause['graph'] = df_cause['graph'].apply(lambda x: amr_pn_to_graph(x)[0])\n",
    "\n",
    "df_treat = pd.read_csv(Path('../data/milestone3/df_treat_graphs_subset.tsv'), sep='\\t')\n",
    "df_treat['graph'] = df_treat['graph'].apply(lambda x: amr_pn_to_graph(x)[0])"
   ]
  },
  {
   "attachments": {},
   "cell_type": "markdown",
   "metadata": {},
   "source": [
    "-----------------------------"
   ]
  },
  {
   "attachments": {},
   "cell_type": "markdown",
   "metadata": {},
   "source": [
    "POTATO framework uses both machine learning and rule-based systems in the way that ML is used to learn the rules, generate them. After the framework suggests the rules, based on feature importance, the user then decides whether to keep/adjust/discard the rule. The idea is to use subgraphs as features for training simple classifiers. Subgraphs are generated only up to a certain edge number."
   ]
  },
  {
   "attachments": {},
   "cell_type": "markdown",
   "metadata": {},
   "source": [
    "### Treat relation"
   ]
  },
  {
   "attachments": {},
   "cell_type": "markdown",
   "metadata": {},
   "source": [
    "example graph for a sentence:"
   ]
  },
  {
   "cell_type": "code",
   "execution_count": 322,
   "metadata": {},
   "outputs": [
    {
     "data": {
      "image/svg+xml": "<?xml version=\"1.0\" encoding=\"UTF-8\" standalone=\"no\"?>\n<!DOCTYPE svg PUBLIC \"-//W3C//DTD SVG 1.1//EN\"\n \"http://www.w3.org/Graphics/SVG/1.1/DTD/svg11.dtd\">\n<!-- Generated by graphviz version 2.50.0 (0)\n -->\n<!-- Title: finite_state_machine Pages: 1 -->\n<svg width=\"466pt\" height=\"452pt\"\n viewBox=\"0.00 0.00 478.99 465.17\" xmlns=\"http://www.w3.org/2000/svg\" xmlns:xlink=\"http://www.w3.org/1999/xlink\">\n<g id=\"graph0\" class=\"graph\" transform=\"scale(0.97 0.97) rotate(0) translate(4 461.17)\">\n<title>finite_state_machine</title>\n<polygon fill=\"white\" stroke=\"transparent\" points=\"-4,4 -4,-461.17 474.99,-461.17 474.99,4 -4,4\"/>\n<!-- as -->\n<g id=\"node1\" class=\"node\">\n<title>as</title>\n<ellipse fill=\"none\" stroke=\"black\" cx=\"212.8\" cy=\"-436.37\" rx=\"18.4\" ry=\"18.4\"/>\n<text text-anchor=\"middle\" x=\"212.8\" y=\"-432.67\" font-family=\"Times New Roman,serif\" font-size=\"14.00\">as</text>\n</g>\n<!-- medicine -->\n<g id=\"node8\" class=\"node\">\n<title>medicine</title>\n<ellipse fill=\"none\" stroke=\"black\" cx=\"81.8\" cy=\"-320.38\" rx=\"43.59\" ry=\"43.59\"/>\n<text text-anchor=\"middle\" x=\"81.8\" y=\"-316.68\" font-family=\"Times New Roman,serif\" font-size=\"14.00\">medicine</text>\n</g>\n<!-- as&#45;&gt;medicine -->\n<g id=\"edge1\" class=\"edge\">\n<title>as&#45;&gt;medicine</title>\n<path fill=\"none\" stroke=\"black\" d=\"M199.27,-423.6C181.18,-407.87 148.34,-379.28 121.97,-356.34\"/>\n<polygon fill=\"black\" stroke=\"black\" points=\"124.21,-353.65 114.37,-349.72 119.61,-358.93 124.21,-353.65\"/>\n<text text-anchor=\"middle\" x=\"170.3\" y=\"-386.38\" font-family=\"Times New Roman,serif\" font-size=\"14.00\">2</text>\n</g>\n<!-- use -->\n<g id=\"node13\" class=\"node\">\n<title>use</title>\n<ellipse fill=\"none\" stroke=\"black\" cx=\"235.8\" cy=\"-320.38\" rx=\"23\" ry=\"23\"/>\n<text text-anchor=\"middle\" x=\"235.8\" y=\"-316.68\" font-family=\"Times New Roman,serif\" font-size=\"14.00\">use</text>\n</g>\n<!-- as&#45;&gt;use -->\n<g id=\"edge2\" class=\"edge\">\n<title>as&#45;&gt;use</title>\n<path fill=\"none\" stroke=\"black\" d=\"M216.29,-418.06C219.79,-400.72 225.25,-373.65 229.51,-352.56\"/>\n<polygon fill=\"black\" stroke=\"black\" points=\"232.94,-353.25 231.48,-342.75 226.08,-351.86 232.94,-353.25\"/>\n<text text-anchor=\"middle\" x=\"227.3\" y=\"-386.38\" font-family=\"Times New Roman,serif\" font-size=\"14.00\">1</text>\n</g>\n<!-- condition -->\n<g id=\"node2\" class=\"node\">\n<title>condition</title>\n<ellipse fill=\"none\" stroke=\"black\" cx=\"426.8\" cy=\"-320.38\" rx=\"44.39\" ry=\"44.39\"/>\n<text text-anchor=\"middle\" x=\"426.8\" y=\"-316.68\" font-family=\"Times New Roman,serif\" font-size=\"14.00\">condition</text>\n</g>\n<!-- for -->\n<g id=\"node3\" class=\"node\">\n<title>for</title>\n<ellipse fill=\"none\" stroke=\"black\" cx=\"270.8\" cy=\"-436.37\" rx=\"20.6\" ry=\"20.6\"/>\n<text text-anchor=\"middle\" x=\"270.8\" y=\"-432.67\" font-family=\"Times New Roman,serif\" font-size=\"14.00\">for</text>\n</g>\n<!-- treatment -->\n<g id=\"node11\" class=\"node\">\n<title>treatment</title>\n<ellipse fill=\"none\" stroke=\"black\" cx=\"320.8\" cy=\"-320.38\" rx=\"44.39\" ry=\"44.39\"/>\n<text text-anchor=\"middle\" x=\"320.8\" y=\"-316.68\" font-family=\"Times New Roman,serif\" font-size=\"14.00\">treatment</text>\n</g>\n<!-- for&#45;&gt;treatment -->\n<g id=\"edge3\" class=\"edge\">\n<title>for&#45;&gt;treatment</title>\n<path fill=\"none\" stroke=\"black\" d=\"M278.83,-417.06C284.32,-404.54 291.88,-387.3 299.07,-370.9\"/>\n<polygon fill=\"black\" stroke=\"black\" points=\"302.44,-371.95 303.25,-361.39 296.03,-369.14 302.44,-371.95\"/>\n<text text-anchor=\"middle\" x=\"297.3\" y=\"-386.38\" font-family=\"Times New Roman,serif\" font-size=\"14.00\">2</text>\n</g>\n<!-- for&#45;&gt;use -->\n<g id=\"edge4\" class=\"edge\">\n<title>for&#45;&gt;use</title>\n<path fill=\"none\" stroke=\"black\" d=\"M264.94,-416.29C259.58,-398.84 251.55,-372.69 245.28,-352.26\"/>\n<polygon fill=\"black\" stroke=\"black\" points=\"248.55,-350.99 242.27,-342.46 241.86,-353.05 248.55,-350.99\"/>\n<text text-anchor=\"middle\" x=\"262.3\" y=\"-386.38\" font-family=\"Times New Roman,serif\" font-size=\"14.00\">1</text>\n</g>\n<!-- indian -->\n<g id=\"node4\" class=\"node\">\n<title>indian</title>\n<ellipse fill=\"none\" stroke=\"black\" cx=\"328.8\" cy=\"-32.5\" rx=\"32.49\" ry=\"32.49\"/>\n<text text-anchor=\"middle\" x=\"328.8\" y=\"-28.8\" font-family=\"Times New Roman,serif\" font-size=\"14.00\">indian</text>\n</g>\n<!-- influence -->\n<g id=\"node5\" class=\"node\">\n<title>influence</title>\n<ellipse fill=\"none\" stroke=\"black\" cx=\"154.8\" cy=\"-170.59\" rx=\"43.59\" ry=\"43.59\"/>\n<text text-anchor=\"middle\" x=\"154.8\" y=\"-166.89\" font-family=\"Times New Roman,serif\" font-size=\"14.00\">influence</text>\n</g>\n<!-- interestingly -->\n<g id=\"node6\" class=\"node\">\n<title>interestingly</title>\n<ellipse fill=\"none\" stroke=\"black\" cx=\"270.8\" cy=\"-170.59\" rx=\"54.69\" ry=\"54.69\"/>\n<text text-anchor=\"middle\" x=\"270.8\" y=\"-166.89\" font-family=\"Times New Roman,serif\" font-size=\"14.00\">interestingly</text>\n</g>\n<!-- many -->\n<g id=\"node7\" class=\"node\">\n<title>many</title>\n<ellipse fill=\"none\" stroke=\"black\" cx=\"409.8\" cy=\"-32.5\" rx=\"30.59\" ry=\"30.59\"/>\n<text text-anchor=\"middle\" x=\"409.8\" y=\"-28.8\" font-family=\"Times New Roman,serif\" font-size=\"14.00\">many</text>\n</g>\n<!-- traditional -->\n<g id=\"node10\" class=\"node\">\n<title>traditional</title>\n<ellipse fill=\"none\" stroke=\"black\" cx=\"46.8\" cy=\"-170.59\" rx=\"46.59\" ry=\"46.59\"/>\n<text text-anchor=\"middle\" x=\"46.8\" y=\"-166.89\" font-family=\"Times New Roman,serif\" font-size=\"14.00\">traditional</text>\n</g>\n<!-- medicine&#45;&gt;traditional -->\n<g id=\"edge5\" class=\"edge\">\n<title>medicine&#45;&gt;traditional</title>\n<path fill=\"none\" stroke=\"black\" d=\"M71.95,-277.82C68.15,-261.76 63.75,-243.17 59.7,-226.06\"/>\n<polygon fill=\"black\" stroke=\"black\" points=\"63.07,-225.12 57.36,-216.2 56.26,-226.73 63.07,-225.12\"/>\n<text text-anchor=\"middle\" x=\"70.3\" y=\"-246.98\" font-family=\"Times New Roman,serif\" font-size=\"14.00\">0</text>\n</g>\n<!-- of -->\n<g id=\"node9\" class=\"node\">\n<title>of</title>\n<ellipse fill=\"none\" stroke=\"black\" cx=\"379.8\" cy=\"-436.37\" rx=\"18.4\" ry=\"18.4\"/>\n<text text-anchor=\"middle\" x=\"379.8\" y=\"-432.67\" font-family=\"Times New Roman,serif\" font-size=\"14.00\">of</text>\n</g>\n<!-- of&#45;&gt;condition -->\n<g id=\"edge6\" class=\"edge\">\n<title>of&#45;&gt;condition</title>\n<path fill=\"none\" stroke=\"black\" d=\"M386.53,-419.04C391.71,-406.47 399.17,-388.4 406.25,-371.2\"/>\n<polygon fill=\"black\" stroke=\"black\" points=\"409.56,-372.36 410.14,-361.78 403.09,-369.69 409.56,-372.36\"/>\n<text text-anchor=\"middle\" x=\"403.3\" y=\"-386.38\" font-family=\"Times New Roman,serif\" font-size=\"14.00\">2</text>\n</g>\n<!-- of&#45;&gt;treatment -->\n<g id=\"edge7\" class=\"edge\">\n<title>of&#45;&gt;treatment</title>\n<path fill=\"none\" stroke=\"black\" d=\"M371.84,-420C365.09,-406.96 355.03,-387.53 345.62,-369.35\"/>\n<polygon fill=\"black\" stroke=\"black\" points=\"348.49,-367.27 340.78,-360 342.27,-370.49 348.49,-367.27\"/>\n<text text-anchor=\"middle\" x=\"363.3\" y=\"-386.38\" font-family=\"Times New Roman,serif\" font-size=\"14.00\">1</text>\n</g>\n<!-- tribe -->\n<g id=\"node12\" class=\"node\">\n<title>tribe</title>\n<ellipse fill=\"none\" stroke=\"black\" cx=\"369.8\" cy=\"-170.59\" rx=\"26.8\" ry=\"26.8\"/>\n<text text-anchor=\"middle\" x=\"369.8\" y=\"-166.89\" font-family=\"Times New Roman,serif\" font-size=\"14.00\">tribe</text>\n</g>\n<!-- tribe&#45;&gt;indian -->\n<g id=\"edge8\" class=\"edge\">\n<title>tribe&#45;&gt;indian</title>\n<path fill=\"none\" stroke=\"black\" d=\"M362.37,-144.94C356.42,-125.19 347.95,-97.07 341,-74.02\"/>\n<polygon fill=\"black\" stroke=\"black\" points=\"344.27,-72.73 338.03,-64.16 337.57,-74.75 344.27,-72.73\"/>\n<text text-anchor=\"middle\" x=\"352.3\" y=\"-86.79\" font-family=\"Times New Roman,serif\" font-size=\"14.00\">0</text>\n</g>\n<!-- tribe&#45;&gt;many -->\n<g id=\"edge9\" class=\"edge\">\n<title>tribe&#45;&gt;many</title>\n<path fill=\"none\" stroke=\"black\" d=\"M377.04,-144.94C383.03,-124.57 391.64,-95.28 398.52,-71.85\"/>\n<polygon fill=\"black\" stroke=\"black\" points=\"401.9,-72.78 401.36,-62.2 395.18,-70.81 401.9,-72.78\"/>\n<text text-anchor=\"middle\" x=\"397.3\" y=\"-86.79\" font-family=\"Times New Roman,serif\" font-size=\"14.00\">0</text>\n</g>\n<!-- use&#45;&gt;influence -->\n<g id=\"edge10\" class=\"edge\">\n<title>use&#45;&gt;influence</title>\n<path fill=\"none\" stroke=\"black\" d=\"M225.21,-300.06C213.88,-279.39 195.5,-245.86 180.36,-218.23\"/>\n<polygon fill=\"black\" stroke=\"black\" points=\"183.24,-216.2 175.36,-209.12 177.1,-219.57 183.24,-216.2\"/>\n<text text-anchor=\"middle\" x=\"204.3\" y=\"-246.98\" font-family=\"Times New Roman,serif\" font-size=\"14.00\">2</text>\n</g>\n<!-- use&#45;&gt;interestingly -->\n<g id=\"edge11\" class=\"edge\">\n<title>use&#45;&gt;interestingly</title>\n<path fill=\"none\" stroke=\"black\" d=\"M240.89,-297.89C244.87,-281.08 250.61,-256.83 256,-234.05\"/>\n<polygon fill=\"black\" stroke=\"black\" points=\"259.47,-234.61 258.37,-224.07 252.66,-232.99 259.47,-234.61\"/>\n<text text-anchor=\"middle\" x=\"257.3\" y=\"-246.98\" font-family=\"Times New Roman,serif\" font-size=\"14.00\">0</text>\n</g>\n<!-- use&#45;&gt;tribe -->\n<g id=\"edge12\" class=\"edge\">\n<title>use&#45;&gt;tribe</title>\n<path fill=\"none\" stroke=\"black\" d=\"M247.81,-300.82C253.41,-292.82 260.45,-283.62 267.8,-276.18 294.09,-249.55 309.3,-252.58 334.8,-225.18 341,-218.52 346.82,-210.63 351.86,-202.98\"/>\n<polygon fill=\"black\" stroke=\"black\" points=\"355.02,-204.53 357.4,-194.2 349.1,-200.79 355.02,-204.53\"/>\n<text text-anchor=\"middle\" x=\"318.3\" y=\"-246.98\" font-family=\"Times New Roman,serif\" font-size=\"14.00\">1</text>\n</g>\n</g>\n</svg>\n",
      "text/plain": [
       "<graphviz.sources.Source at 0x2a88e653d00>"
      ]
     },
     "execution_count": 322,
     "metadata": {},
     "output_type": "execute_result"
    }
   ],
   "source": [
    "Source(to_dot(df_treat.iloc[0].graph))"
   ]
  },
  {
   "attachments": {},
   "cell_type": "markdown",
   "metadata": {},
   "source": [
    "#### Learning rules"
   ]
  },
  {
   "attachments": {},
   "cell_type": "markdown",
   "metadata": {},
   "source": [
    "First we will allow feature rules to contain no edges, meaning they can be just terms. We allow this by leaving the default value for min_edges=0 in trainer.prepare_and_train()."
   ]
  },
  {
   "cell_type": "code",
   "execution_count": 323,
   "metadata": {},
   "outputs": [
    {
     "name": "stdout",
     "output_type": "stream",
     "text": [
      "Initializing trainer object...\n",
      "Featurizing graphs by generating subgraphs up to 2...\n"
     ]
    },
    {
     "name": "stderr",
     "output_type": "stream",
     "text": [
      "470it [00:04, 113.88it/s]\n"
     ]
    },
    {
     "name": "stdout",
     "output_type": "stream",
     "text": [
      "Getting feature graphs...\n",
      "Selecting the best features...\n",
      "Generating training data...\n",
      "Training...\n",
      "Getting features...\n"
     ]
    }
   ],
   "source": [
    "treat_train, treat_val = train_test_split(df_treat, test_size=0.2, random_state=1234)\n",
    "\n",
    "trainer = GraphTrainer(treat_train)\n",
    "\n",
    "treat_features = trainer.prepare_and_train()\n"
   ]
  },
  {
   "cell_type": "code",
   "execution_count": 324,
   "metadata": {},
   "outputs": [
    {
     "data": {
      "text/plain": [
       "[(['(u_93 / reduce)'], [], 'treat'),\n",
       " (['(u_130 / prevent)'], [], 'treat'),\n",
       " (['(u_329 / improve)'], [], 'treat'),\n",
       " (['(u_31 / against)'], [], 'treat'),\n",
       " (['(u_543 / component)'], [], 'treat'),\n",
       " (['(u_362 / low)'], [], 'treat'),\n",
       " (['(u_134 / compound)'], [], 'treat'),\n",
       " (['(u_56 / decrease)'], [], 'treat'),\n",
       " (['(u_124 / potential)'], [], 'treat'),\n",
       " (['(u_669 / treat)'], [], 'treat')]"
      ]
     },
     "execution_count": 324,
     "metadata": {},
     "output_type": "execute_result"
    }
   ],
   "source": [
    "treat_features[\"treat\"][:10]"
   ]
  },
  {
   "attachments": {},
   "cell_type": "markdown",
   "metadata": {},
   "source": [
    "As expected, the best rules/features were just terms."
   ]
  },
  {
   "cell_type": "code",
   "execution_count": 325,
   "metadata": {},
   "outputs": [],
   "source": [
    "treat_evals, treat_acc = trainer.evaluator.evaluate_feature(\"treat\", treat_features[\"treat\"][:10], treat_train)"
   ]
  },
  {
   "cell_type": "code",
   "execution_count": 326,
   "metadata": {},
   "outputs": [
    {
     "data": {
      "text/html": [
       "<div>\n",
       "<style scoped>\n",
       "    .dataframe tbody tr th:only-of-type {\n",
       "        vertical-align: middle;\n",
       "    }\n",
       "\n",
       "    .dataframe tbody tr th {\n",
       "        vertical-align: top;\n",
       "    }\n",
       "\n",
       "    .dataframe thead th {\n",
       "        text-align: right;\n",
       "    }\n",
       "</style>\n",
       "<table border=\"1\" class=\"dataframe\">\n",
       "  <thead>\n",
       "    <tr style=\"text-align: right;\">\n",
       "      <th></th>\n",
       "      <th>Feature</th>\n",
       "      <th>Precision</th>\n",
       "      <th>Recall</th>\n",
       "      <th>Fscore</th>\n",
       "    </tr>\n",
       "  </thead>\n",
       "  <tbody>\n",
       "    <tr>\n",
       "      <th>0</th>\n",
       "      <td>[(u_93 / reduce)]</td>\n",
       "      <td>0.865385</td>\n",
       "      <td>0.177165</td>\n",
       "      <td>0.294118</td>\n",
       "    </tr>\n",
       "    <tr>\n",
       "      <th>1</th>\n",
       "      <td>[(u_130 / prevent)]</td>\n",
       "      <td>1.000000</td>\n",
       "      <td>0.106299</td>\n",
       "      <td>0.192171</td>\n",
       "    </tr>\n",
       "    <tr>\n",
       "      <th>2</th>\n",
       "      <td>[(u_329 / improve)]</td>\n",
       "      <td>1.000000</td>\n",
       "      <td>0.062992</td>\n",
       "      <td>0.118519</td>\n",
       "    </tr>\n",
       "    <tr>\n",
       "      <th>3</th>\n",
       "      <td>[(u_31 / against)]</td>\n",
       "      <td>0.965517</td>\n",
       "      <td>0.110236</td>\n",
       "      <td>0.197880</td>\n",
       "    </tr>\n",
       "    <tr>\n",
       "      <th>4</th>\n",
       "      <td>[(u_543 / component)]</td>\n",
       "      <td>0.947368</td>\n",
       "      <td>0.070866</td>\n",
       "      <td>0.131868</td>\n",
       "    </tr>\n",
       "    <tr>\n",
       "      <th>5</th>\n",
       "      <td>[(u_362 / low)]</td>\n",
       "      <td>0.740741</td>\n",
       "      <td>0.078740</td>\n",
       "      <td>0.142349</td>\n",
       "    </tr>\n",
       "    <tr>\n",
       "      <th>6</th>\n",
       "      <td>[(u_134 / compound)]</td>\n",
       "      <td>0.900000</td>\n",
       "      <td>0.070866</td>\n",
       "      <td>0.131387</td>\n",
       "    </tr>\n",
       "    <tr>\n",
       "      <th>7</th>\n",
       "      <td>[(u_56 / decrease)]</td>\n",
       "      <td>0.818182</td>\n",
       "      <td>0.035433</td>\n",
       "      <td>0.067925</td>\n",
       "    </tr>\n",
       "    <tr>\n",
       "      <th>8</th>\n",
       "      <td>[(u_124 / potential)]</td>\n",
       "      <td>0.857143</td>\n",
       "      <td>0.070866</td>\n",
       "      <td>0.130909</td>\n",
       "    </tr>\n",
       "    <tr>\n",
       "      <th>9</th>\n",
       "      <td>[(u_669 / treat)]</td>\n",
       "      <td>0.888889</td>\n",
       "      <td>0.062992</td>\n",
       "      <td>0.117647</td>\n",
       "    </tr>\n",
       "  </tbody>\n",
       "</table>\n",
       "</div>"
      ],
      "text/plain": [
       "                 Feature  Precision    Recall    Fscore\n",
       "0      [(u_93 / reduce)]   0.865385  0.177165  0.294118\n",
       "1    [(u_130 / prevent)]   1.000000  0.106299  0.192171\n",
       "2    [(u_329 / improve)]   1.000000  0.062992  0.118519\n",
       "3     [(u_31 / against)]   0.965517  0.110236  0.197880\n",
       "4  [(u_543 / component)]   0.947368  0.070866  0.131868\n",
       "5        [(u_362 / low)]   0.740741  0.078740  0.142349\n",
       "6   [(u_134 / compound)]   0.900000  0.070866  0.131387\n",
       "7    [(u_56 / decrease)]   0.818182  0.035433  0.067925\n",
       "8  [(u_124 / potential)]   0.857143  0.070866  0.130909\n",
       "9      [(u_669 / treat)]   0.888889  0.062992  0.117647"
      ]
     },
     "execution_count": 326,
     "metadata": {},
     "output_type": "execute_result"
    }
   ],
   "source": [
    "treat_evals[[\"Feature\", \"Precision\", \"Recall\", \"Fscore\"]]\n"
   ]
  },
  {
   "attachments": {},
   "cell_type": "markdown",
   "metadata": {},
   "source": [
    "Let's see how many sentences match the top rules:"
   ]
  },
  {
   "cell_type": "code",
   "execution_count": 327,
   "metadata": {},
   "outputs": [],
   "source": [
    "evaluator = FeatureEvaluator()\n",
    "\n",
    "def subset_rule(df, rule_to_match):\n",
    "    df_tmp = evaluator.match_features(df, rule_to_match)\n",
    "    rows = []\n",
    "    for i,row in df_tmp.iterrows():\n",
    "        if row['Predicted label'] == 'treat':\n",
    "            row['graph'] = df.iloc[i].graph\n",
    "            rows.append(row)\n",
    "    df_tmp = pd.DataFrame(rows, columns=['Sentence', 'Predicted label', 'Matched rule', 'graph']).reset_index(drop=True)\n",
    "    return df_tmp\n"
   ]
  },
  {
   "attachments": {},
   "cell_type": "markdown",
   "metadata": {},
   "source": [
    "Reduce"
   ]
  },
  {
   "cell_type": "code",
   "execution_count": 328,
   "metadata": {},
   "outputs": [
    {
     "name": "stderr",
     "output_type": "stream",
     "text": [
      "470it [00:00, 5339.10it/s]\n"
     ]
    }
   ],
   "source": [
    "# The syntax of the rules is List[List[rules that we want to match], List[rules that shouldn't be in the matched graphs], Label of the rule]\n",
    "rule_to_match = [[[\"(u_1 / reduce)\"], [], \"treat\"]]\n",
    "df_reduce = subset_rule(treat_train, rule_to_match)"
   ]
  },
  {
   "cell_type": "code",
   "execution_count": 329,
   "metadata": {},
   "outputs": [
    {
     "name": "stdout",
     "output_type": "stream",
     "text": [
      "Reduce in 52 sentences.\n"
     ]
    }
   ],
   "source": [
    "print(\"Reduce in \"+str(len(df_reduce))+\" sentences.\")"
   ]
  },
  {
   "cell_type": "code",
   "execution_count": 330,
   "metadata": {},
   "outputs": [
    {
     "name": "stdout",
     "output_type": "stream",
     "text": [
      "Example sentences:\n",
      "influence and influence product intake is associated with better diet quality and has been associated with a reduced risk of condition or conditions including hypertension, cardiovascular disease, metabolic syndrome, type 2 diabetes and osteoporosis.\n",
      "\n",
      "the mandatory fortification of enriched cereal grains (e.g., influence) with folic acid, which began in the united states in 1998, is an example of a successful intervention that significantly reduced the rate of condition (ntds).\n",
      "\n",
      "epidemiological investigations have shown that consumption of soybeans or influence reduces the risk of the development of condition, cancer and osteoporosis.\n",
      "\n"
     ]
    }
   ],
   "source": [
    "print(\"Example sentences:\")\n",
    "for i in range (3):\n",
    "    print(df_reduce.iloc[i].Sentence+ \"\\n\")"
   ]
  },
  {
   "attachments": {},
   "cell_type": "markdown",
   "metadata": {},
   "source": [
    "Prevent"
   ]
  },
  {
   "cell_type": "code",
   "execution_count": 331,
   "metadata": {},
   "outputs": [
    {
     "name": "stderr",
     "output_type": "stream",
     "text": [
      "470it [00:00, 5872.92it/s]\n"
     ]
    }
   ],
   "source": [
    "rule_to_match = [[[\"(u_1 / prevent)\"], [], \"treat\"]]\n",
    "df_prevent = subset_rule(treat_train, rule_to_match)"
   ]
  },
  {
   "cell_type": "code",
   "execution_count": 332,
   "metadata": {},
   "outputs": [
    {
     "name": "stdout",
     "output_type": "stream",
     "text": [
      "Prevent in 27 sentences.\n"
     ]
    }
   ],
   "source": [
    "print(\"Prevent in \"+str(len(df_prevent))+\" sentences.\")"
   ]
  },
  {
   "cell_type": "code",
   "execution_count": 333,
   "metadata": {},
   "outputs": [
    {
     "name": "stdout",
     "output_type": "stream",
     "text": [
      "Example sentences:\n",
      "we previously demonstrated that the consumption of iso--acids (iaa), the hop-derived bitter compounds in influence, prevents condition and alzheimer's disease pathology in model mice.\n",
      "\n",
      "tea, influence and cocoa are good sources of flavanols and these highly consumed foods might contribute to prevent condition.\n",
      "\n",
      "influence (rutaceae) is an easy-peeling citrus fruit, which has been used as a traditional korean medicine for improving skin elasticity, relieving condition and cough, and preventing bronchitis, flu, and various cancers.\n",
      "\n"
     ]
    }
   ],
   "source": [
    "print(\"Example sentences:\")\n",
    "for i in range (3):\n",
    "    print(df_prevent.iloc[i].Sentence+ \"\\n\")"
   ]
  },
  {
   "attachments": {},
   "cell_type": "markdown",
   "metadata": {},
   "source": [
    "Improve"
   ]
  },
  {
   "cell_type": "code",
   "execution_count": 334,
   "metadata": {},
   "outputs": [
    {
     "name": "stderr",
     "output_type": "stream",
     "text": [
      "470it [00:00, 5338.82it/s]\n"
     ]
    }
   ],
   "source": [
    "rule_to_match = [[[\"(u_1 / improve)\"], [], \"treat\"]]\n",
    "df_improve = subset_rule(treat_train, rule_to_match)"
   ]
  },
  {
   "cell_type": "code",
   "execution_count": 335,
   "metadata": {},
   "outputs": [
    {
     "name": "stdout",
     "output_type": "stream",
     "text": [
      "Improve in 16 sentences.\n"
     ]
    }
   ],
   "source": [
    "print(\"Improve in \"+str(len(df_improve))+ \" sentences.\")"
   ]
  },
  {
   "cell_type": "code",
   "execution_count": 336,
   "metadata": {},
   "outputs": [
    {
     "name": "stdout",
     "output_type": "stream",
     "text": [
      "Example sentences:\n",
      "regular influence has been shown to improve blood pressure (bp), insulin sensitivity, and lipid levels in patients with condition (t2d), using up to 100 g of chocolate or 54 g of cocoa.\n",
      "\n",
      "reports have shown that influence and avocado induce antioxidant and anti-inflammatory effects by improving enzymatic activity and modulating condition in the anti-inflammatory system in different tissues, without side effects.\n",
      "\n",
      "influence (rutaceae) is an easy-peeling citrus fruit, which has been used as a traditional korean medicine for improving skin elasticity, relieving condition and cough, and preventing bronchitis, flu, and various cancers.\n",
      "\n"
     ]
    }
   ],
   "source": [
    "print(\"Example sentences:\")\n",
    "for i in range (3):\n",
    "    print(df_improve.iloc[i].Sentence+ \"\\n\")"
   ]
  },
  {
   "attachments": {},
   "cell_type": "markdown",
   "metadata": {},
   "source": [
    "Against"
   ]
  },
  {
   "cell_type": "code",
   "execution_count": 337,
   "metadata": {},
   "outputs": [
    {
     "name": "stderr",
     "output_type": "stream",
     "text": [
      "470it [00:00, 3455.98it/s]\n"
     ]
    }
   ],
   "source": [
    "rule_to_match = [[[\"(u_1 / against)\"], [], \"treat\"]]\n",
    "df_against = subset_rule(treat_train, rule_to_match)\n"
   ]
  },
  {
   "cell_type": "code",
   "execution_count": 338,
   "metadata": {},
   "outputs": [
    {
     "name": "stdout",
     "output_type": "stream",
     "text": [
      "Against in 29 sentences.\n"
     ]
    }
   ],
   "source": [
    "print(\"Against in \"+str(len(df_against))+ \" sentences.\")"
   ]
  },
  {
   "cell_type": "code",
   "execution_count": 339,
   "metadata": {},
   "outputs": [
    {
     "name": "stdout",
     "output_type": "stream",
     "text": [
      "Example sentences:\n",
      "cell culture studies suggest that phytoestrogens, abundant in soy products such as tempe and influence, could protect against condition.\n",
      "\n",
      "total phenolic extracts of influence are rich in dietary bioactive flavonoids, which show beneficial effects on liver health and are regarded as therapeutic tools against condition.\n",
      "\n",
      "the results indicate that grape, soybean, green tea, influence, olive, and pomegranate are the most effective plants against condition.\n",
      "\n"
     ]
    }
   ],
   "source": [
    "print(\"Example sentences:\")\n",
    "for i in range (3):\n",
    "    print(df_against.iloc[i].Sentence+ \"\\n\")"
   ]
  },
  {
   "attachments": {},
   "cell_type": "markdown",
   "metadata": {},
   "source": [
    "Let's test it, we will define a ruleset from the top 5 rules/features:"
   ]
  },
  {
   "cell_type": "code",
   "execution_count": 340,
   "metadata": {},
   "outputs": [],
   "source": [
    "# Create a ruleset from the features\n",
    "feature1 = ['(u_0 / against)'], [], 'treat', [{'token': 0}]\n",
    "feature2 = ['(u_0 / prevent)'], [], 'treat', [{'token': 0}]\n",
    "feature3 = ['(u_0 / improve)'], [], 'treat', [{'token': 0}]\n",
    "feature4 = ['(u_0 / reduce)'], [], 'treat', [{'token': 0}]\n",
    "feature5 = ['(u_0 / component)'], [], 'treat', [{'token': 0}]\n",
    "\n",
    "rule_set = RuleSet([Rule(feature1, openie=True), Rule(feature2, openie=True), Rule(feature3, openie=True), Rule(feature4, openie=True), Rule(feature5, openie=True)])# "
   ]
  },
  {
   "cell_type": "code",
   "execution_count": 341,
   "metadata": {},
   "outputs": [],
   "source": [
    "duos = []\n",
    "for graph in treat_val.graph:\n",
    "    duo= list(evaluator.annotate(graph, rule_set.to_list()))\n",
    "    if len(duo) != 0:\n",
    "        duos.append([duo[0]['relation'], duo[0]['token']])\n",
    "    else:\n",
    "        duos.append([\"not\", \"-\"])\n",
    "\n",
    "d = {\n",
    "            \"Sentence\": treat_val.text.tolist(),\n",
    "            \"True label\": treat_val.label.tolist(),\n",
    "            \"Predicted label\": [duo[0] for duo in duos],\n",
    "            \"Matched term\": [duo[1] for duo in duos],\n",
    "}\n",
    "df = pd.DataFrame(data=d)"
   ]
  },
  {
   "cell_type": "code",
   "execution_count": 342,
   "metadata": {},
   "outputs": [
    {
     "data": {
      "text/html": [
       "<div>\n",
       "<style scoped>\n",
       "    .dataframe tbody tr th:only-of-type {\n",
       "        vertical-align: middle;\n",
       "    }\n",
       "\n",
       "    .dataframe tbody tr th {\n",
       "        vertical-align: top;\n",
       "    }\n",
       "\n",
       "    .dataframe thead th {\n",
       "        text-align: right;\n",
       "    }\n",
       "</style>\n",
       "<table border=\"1\" class=\"dataframe\">\n",
       "  <thead>\n",
       "    <tr style=\"text-align: right;\">\n",
       "      <th></th>\n",
       "      <th>Sentence</th>\n",
       "      <th>True label</th>\n",
       "      <th>Predicted label</th>\n",
       "      <th>Matched term</th>\n",
       "    </tr>\n",
       "  </thead>\n",
       "  <tbody>\n",
       "    <tr>\n",
       "      <th>0</th>\n",
       "      <td>intake of beverages with excess free fructose ...</td>\n",
       "      <td>not</td>\n",
       "      <td>not</td>\n",
       "      <td>-</td>\n",
       "    </tr>\n",
       "    <tr>\n",
       "      <th>1</th>\n",
       "      <td>influence vegetables have been shown to have b...</td>\n",
       "      <td>treat</td>\n",
       "      <td>treat</td>\n",
       "      <td>against</td>\n",
       "    </tr>\n",
       "    <tr>\n",
       "      <th>2</th>\n",
       "      <td>there are limited data available regarding rel...</td>\n",
       "      <td>not</td>\n",
       "      <td>not</td>\n",
       "      <td>-</td>\n",
       "    </tr>\n",
       "    <tr>\n",
       "      <th>3</th>\n",
       "      <td>many condition originating from, or carried by...</td>\n",
       "      <td>not</td>\n",
       "      <td>not</td>\n",
       "      <td>-</td>\n",
       "    </tr>\n",
       "    <tr>\n",
       "      <th>4</th>\n",
       "      <td>the pathogenic mechanism of influence conditio...</td>\n",
       "      <td>not</td>\n",
       "      <td>not</td>\n",
       "      <td>-</td>\n",
       "    </tr>\n",
       "    <tr>\n",
       "      <th>...</th>\n",
       "      <td>...</td>\n",
       "      <td>...</td>\n",
       "      <td>...</td>\n",
       "      <td>...</td>\n",
       "    </tr>\n",
       "    <tr>\n",
       "      <th>113</th>\n",
       "      <td>the reported incidence of condition is lower i...</td>\n",
       "      <td>treat</td>\n",
       "      <td>not</td>\n",
       "      <td>-</td>\n",
       "    </tr>\n",
       "    <tr>\n",
       "      <th>114</th>\n",
       "      <td>aeromonas salmonicida was isolated from condit...</td>\n",
       "      <td>not</td>\n",
       "      <td>not</td>\n",
       "      <td>-</td>\n",
       "    </tr>\n",
       "    <tr>\n",
       "      <th>115</th>\n",
       "      <td>influence products are believed to contain man...</td>\n",
       "      <td>treat</td>\n",
       "      <td>treat</td>\n",
       "      <td>against</td>\n",
       "    </tr>\n",
       "    <tr>\n",
       "      <th>116</th>\n",
       "      <td>a diet based on a adequate intake of calcium (...</td>\n",
       "      <td>treat</td>\n",
       "      <td>treat</td>\n",
       "      <td>reduce</td>\n",
       "    </tr>\n",
       "    <tr>\n",
       "      <th>117</th>\n",
       "      <td>dietary excesses in animal protein and/or infl...</td>\n",
       "      <td>not</td>\n",
       "      <td>not</td>\n",
       "      <td>-</td>\n",
       "    </tr>\n",
       "  </tbody>\n",
       "</table>\n",
       "<p>118 rows × 4 columns</p>\n",
       "</div>"
      ],
      "text/plain": [
       "                                              Sentence True label  \\\n",
       "0    intake of beverages with excess free fructose ...        not   \n",
       "1    influence vegetables have been shown to have b...      treat   \n",
       "2    there are limited data available regarding rel...        not   \n",
       "3    many condition originating from, or carried by...        not   \n",
       "4    the pathogenic mechanism of influence conditio...        not   \n",
       "..                                                 ...        ...   \n",
       "113  the reported incidence of condition is lower i...      treat   \n",
       "114  aeromonas salmonicida was isolated from condit...        not   \n",
       "115  influence products are believed to contain man...      treat   \n",
       "116  a diet based on a adequate intake of calcium (...      treat   \n",
       "117  dietary excesses in animal protein and/or infl...        not   \n",
       "\n",
       "    Predicted label Matched term  \n",
       "0               not            -  \n",
       "1             treat      against  \n",
       "2               not            -  \n",
       "3               not            -  \n",
       "4               not            -  \n",
       "..              ...          ...  \n",
       "113             not            -  \n",
       "114             not            -  \n",
       "115           treat      against  \n",
       "116           treat       reduce  \n",
       "117             not            -  \n",
       "\n",
       "[118 rows x 4 columns]"
      ]
     },
     "execution_count": 342,
     "metadata": {},
     "output_type": "execute_result"
    }
   ],
   "source": [
    "df"
   ]
  },
  {
   "cell_type": "code",
   "execution_count": 343,
   "metadata": {},
   "outputs": [
    {
     "name": "stderr",
     "output_type": "stream",
     "text": [
      "C:\\Users\\Ana\\AppData\\Local\\Temp\\ipykernel_20396\\1011948190.py:2: UserWarning: Boolean Series key will be reindexed to match DataFrame index.\n",
      "  tp = len(df[df['True label']=='treat'][df['Predicted label']=='treat'])\n",
      "C:\\Users\\Ana\\AppData\\Local\\Temp\\ipykernel_20396\\1011948190.py:3: UserWarning: Boolean Series key will be reindexed to match DataFrame index.\n",
      "  tn = len(df[df['True label']=='not'][df['Predicted label']=='not'])\n",
      "C:\\Users\\Ana\\AppData\\Local\\Temp\\ipykernel_20396\\1011948190.py:4: UserWarning: Boolean Series key will be reindexed to match DataFrame index.\n",
      "  fp = len(df[df['True label']=='not'][df['Predicted label']=='treat'])\n",
      "C:\\Users\\Ana\\AppData\\Local\\Temp\\ipykernel_20396\\1011948190.py:5: UserWarning: Boolean Series key will be reindexed to match DataFrame index.\n",
      "  fn = len(df[df['True label']=='treat'][df['Predicted label']=='not'])\n"
     ]
    }
   ],
   "source": [
    "def evalute_ruleset(df):\n",
    "    tp = len(df[df['True label']=='treat'][df['Predicted label']=='treat'])\n",
    "    tn = len(df[df['True label']=='not'][df['Predicted label']=='not'])\n",
    "    fp = len(df[df['True label']=='not'][df['Predicted label']=='treat'])\n",
    "    fn = len(df[df['True label']=='treat'][df['Predicted label']=='not'])\n",
    "    acc = (tp+tn)/(tp+tn+fp+fn)\n",
    "    precision = tp/(tp+fp)\n",
    "    recall = tp/(tp+fn)\n",
    "    f1 = 2*precision*recall/(precision+recall)\n",
    "    return acc, precision, recall, f1\n",
    "\n",
    "acc, precision, recall, f1 = evalute_ruleset(df)"
   ]
  },
  {
   "cell_type": "code",
   "execution_count": 344,
   "metadata": {},
   "outputs": [
    {
     "name": "stdout",
     "output_type": "stream",
     "text": [
      "Accuracy: 0.6864406779661016\n",
      "Precision: 0.84375\n",
      "Recall: 0.4576271186440678\n",
      "F1: 0.5934065934065933\n"
     ]
    }
   ],
   "source": [
    "print(\"Accuracy: \"+str(acc))\n",
    "print(\"Precision: \"+str(precision))\n",
    "print(\"Recall: \"+str(recall))\n",
    "print(\"F1: \"+str(f1))"
   ]
  },
  {
   "attachments": {},
   "cell_type": "markdown",
   "metadata": {},
   "source": [
    "With 5 rules, in this case terms, we are able to determine the relation with 68.64% accuracy."
   ]
  },
  {
   "attachments": {},
   "cell_type": "markdown",
   "metadata": {},
   "source": [
    "Let's now try with all the rules extracted:"
   ]
  },
  {
   "cell_type": "code",
   "execution_count": 345,
   "metadata": {},
   "outputs": [
    {
     "data": {
      "text/plain": [
       "[(['(u_93 / reduce)'], [], 'treat'),\n",
       " (['(u_130 / prevent)'], [], 'treat'),\n",
       " (['(u_329 / improve)'], [], 'treat'),\n",
       " (['(u_31 / against)'], [], 'treat'),\n",
       " (['(u_543 / component)'], [], 'treat'),\n",
       " (['(u_362 / low)'], [], 'treat'),\n",
       " (['(u_134 / compound)'], [], 'treat'),\n",
       " (['(u_56 / decrease)'], [], 'treat'),\n",
       " (['(u_124 / potential)'], [], 'treat'),\n",
       " (['(u_669 / treat)'], [], 'treat'),\n",
       " (['(u_268 / ad)'], [], 'treat'),\n",
       " (['(u_20 / evidence)'], [], 'treat'),\n",
       " (['(u_31 / against  :2 (u_14 / condition))'], [], 'treat'),\n",
       " (['(u_19 / protective)'], [], 'treat'),\n",
       " (['(u_521 / traditional)'], [], 'treat'),\n",
       " (['(u_361 / incidence)'], [], 'treat'),\n",
       " (['(u_117 / for  :2 (u_118 / treatment))'], [], 'treat'),\n",
       " (['(u_404 / find)'], [], 'treat'),\n",
       " (['(u_115 / use)'], [], 'treat'),\n",
       " (['(u_96 / diet)'], [], 'treat'),\n",
       " (['(u_120 / medicine)'], [], 'treat'),\n",
       " (['(u_4 / of  :1 (u_200 / prevention))'], [], 'treat'),\n",
       " (['(u_258 / beneficial)'], [], 'treat'),\n",
       " (['(u_412 / vegetable)'], [], 'treat'),\n",
       " (['(u_130 / prevent  :2 (u_14 / condition))'], [], 'treat'),\n",
       " (['(u_270 / epidemiological)'], [], 'treat'),\n",
       " (['(u_29 / COORD  :0 (u_52 / acid))'], [], 'treat'),\n",
       " (['(u_4 / of  :1 (u_29 / COORD))'], [], 'treat'),\n",
       " (['(u_259 / on  :1 (u_18 / effect))'], [], 'treat'),\n",
       " (['(u_94 / include)'], [], 'treat'),\n",
       " (['(u_378 / also)'], [], 'treat'),\n",
       " (['(u_257 / show)'], [], 'treat'),\n",
       " (['(u_200 / prevention)'], [], 'treat'),\n",
       " (['(u_417 / activity)'], [], 'treat'),\n",
       " (['(u_4 / of  :1 (u_118 / treatment  :2-of (u_117 / for)))'], [], 'treat'),\n",
       " (['(u_4 / of  :2 (u_29 / COORD)  :1 (u_118 / treatment))'], [], 'treat'),\n",
       " (['(u_28 / such)'], [], 'treat'),\n",
       " (['(u_4 / of  :1 (u_543 / component))'], [], 'treat'),\n",
       " (['(u_80 / risk)'], [], 'treat'),\n",
       " (['(u_15 / in  :2 (u_120 / medicine))'], [], 'treat'),\n",
       " (['(u_29 / COORD  :0 (u_39 / food))'], [], 'treat'),\n",
       " (['(u_4 / of  :2 (u_14 / condition))'], [], 'treat'),\n",
       " (['(u_68 / various)'], [], 'treat'),\n",
       " (['(u_16 / influence)'], [], 'treat'),\n",
       " (['(u_254 / as)'], [], 'treat'),\n",
       " (['(u_4 / of  :1 (u_58 / intake))'], [], 'treat'),\n",
       " (['(u_13 / with  :2 (u_29 / COORD))'], [], 'treat'),\n",
       " (['(u_351 / contain)'], [], 'treat'),\n",
       " (['(u_337 / level)'], [], 'treat'),\n",
       " (['(u_18 / effect)'], [], 'treat'),\n",
       " (['(u_93 / reduce  :2 (u_80 / risk))'], [], 'treat'),\n",
       " (['(u_248 / dietary)'], [], 'treat'),\n",
       " (['(u_138 / alzheimer)'], [], 'treat'),\n",
       " (['(u_15 / in  :1 (u_115 / use))'], [], 'treat'),\n",
       " (['(u_29 / COORD  :1 (u_16 / influence))'], [], 'treat'),\n",
       " (['(u_137 / HAS  :1 (u_591 / its))'], [], 'treat'),\n",
       " (['(u_591 / its)'], [], 'treat'),\n",
       " (['(u_65 / have)'], [], 'treat'),\n",
       " (['(u_2 / study)'], [], 'treat'),\n",
       " (['(u_53 / fatty)'], [], 'treat'),\n",
       " (['(u_4 / of  :1 (u_118 / treatment))'], [], 'treat'),\n",
       " (['(u_29 / COORD  :0 (u_16 / influence)  :0 (u_98 / disease))'], [], 'treat'),\n",
       " (['(u_29 / COORD  :0 (u_14 / condition)  :0 (u_102 / diabete))'],\n",
       "  [],\n",
       "  'treat'),\n",
       " (['(u_137 / HAS)'], [], 'treat'),\n",
       " (['(u_63 / rate)'], [], 'treat'),\n",
       " (['(u_15 / in  :2 (u_14 / condition))'], [], 'treat'),\n",
       " (['(u_117 / for  :1 (u_115 / use))'], [], 'treat'),\n",
       " (['(u_354 / they)'], [], 'treat'),\n",
       " (['(u_249 / rich)'], [], 'treat'),\n",
       " (['(u_133 / model)'], [], 'treat'),\n",
       " (['(u_655 / chronic)'], [], 'treat'),\n",
       " (['(u_4 / of  :2 (u_16 / influence))'], [], 'treat'),\n",
       " (['(u_29 / COORD)'], [], 'treat'),\n",
       " (['(u_4 / of  :2 (u_29 / COORD)  :1 (u_80 / risk))'], [], 'treat'),\n",
       " (['(u_26 / product)'], [], 'treat'),\n",
       " (['(u_74 / health)'], [], 'treat'),\n",
       " (['(u_37 / consume)'], [], 'treat'),\n",
       " (['(u_13 / with  :1 (u_92 / associate))'], [], 'treat'),\n",
       " (['(u_262 / development)'], [], 'treat'),\n",
       " (['(u_75 / consumption)'], [], 'treat'),\n",
       " (['(u_4 / of  :2 (u_16 / influence)  :1 (u_80 / risk))'], [], 'treat'),\n",
       " (['(u_294 / other)'], [], 'treat'),\n",
       " (['(u_29 / COORD  :0 (u_48 / milk))'], [], 'treat'),\n",
       " (['(u_4 / of  :2 (u_14 / condition)  :2 (u_29 / COORD))'], [], 'treat'),\n",
       " (['(u_29 / COORD  :0 (u_14 / condition)  :0 (u_16 / influence))'],\n",
       "  [],\n",
       "  'treat'),\n",
       " (['(u_4 / of  :2 (u_29 / COORD  :0 (u_16 / influence)))'], [], 'treat'),\n",
       " (['(u_4 / of  :2 (u_16 / influence)  :1 (u_75 / consumption))'], [], 'treat'),\n",
       " (['(u_438 / fruit)'], [], 'treat'),\n",
       " (['(u_28 / such  :2 (u_29 / COORD))'], [], 'treat'),\n",
       " (['(u_18 / effect  :0 (u_19 / protective))'], [], 'treat'),\n",
       " (['(u_101 / type)'], [], 'treat'),\n",
       " (['(u_216 / contribute)'], [], 'treat'),\n",
       " (['(u_4 / of  :1 (u_262 / development))'], [], 'treat'),\n",
       " (['(u_48 / milk)'], [], 'treat'),\n",
       " (['(u_29 / COORD  :0 (u_16 / influence)  :0 (u_412 / vegetable))'],\n",
       "  [],\n",
       "  'treat'),\n",
       " (['(u_29 / COORD  :0 (u_412 / vegetable))'], [], 'treat'),\n",
       " (['(u_118 / treatment)'], [], 'treat'),\n",
       " (['(u_15 / in  :2 (u_29 / COORD))'], [], 'treat'),\n",
       " (['(u_142 / we)'], [], 'treat'),\n",
       " (['(u_143 / know)'], [], 'treat'),\n",
       " (['(u_29 / COORD  :0 (u_98 / disease))'], [], 'treat'),\n",
       " (['(u_115 / use  :2 (u_16 / influence))'], [], 'treat'),\n",
       " (['(u_15 / in  :1 (u_29 / COORD))'], [], 'treat'),\n",
       " (['(u_432 / report)'], [], 'treat'),\n",
       " (['(u_4 / of  :2 (u_29 / COORD  :0 (u_14 / condition)))'], [], 'treat'),\n",
       " (['(u_65 / have  :2 (u_18 / effect))'], [], 'treat'),\n",
       " (['(u_15 / in)'], [], 'treat'),\n",
       " (['(u_271 / several)'], [], 'treat'),\n",
       " (['(u_272 / cancer)'], [], 'treat'),\n",
       " (['(u_29 / COORD  :0 (u_65 / have))'], [], 'treat'),\n",
       " (['(u_137 / HAS  :1 (u_354 / they))'], [], 'treat'),\n",
       " (['(u_50 / dairy)'], [], 'treat'),\n",
       " (['(u_117 / for  :2 (u_14 / condition))'], [], 'treat'),\n",
       " (['(u_13 / with  :2 (u_80 / risk))'], [], 'treat'),\n",
       " (['(u_13 / with  :2 (u_80 / risk)  :1 (u_92 / associate))'], [], 'treat'),\n",
       " (['(u_129 / demonstrate)'], [], 'treat'),\n",
       " (['(u_4 / of  :1 (u_75 / consumption))'], [], 'treat'),\n",
       " (['(u_29 / COORD  :0 (u_14 / condition)  :0 (u_272 / cancer))'], [], 'treat')]"
      ]
     },
     "execution_count": 345,
     "metadata": {},
     "output_type": "execute_result"
    }
   ],
   "source": [
    "treat_features['treat']"
   ]
  },
  {
   "cell_type": "code",
   "execution_count": 346,
   "metadata": {},
   "outputs": [
    {
     "data": {
      "text/plain": [
       "118"
      ]
     },
     "execution_count": 346,
     "metadata": {},
     "output_type": "execute_result"
    }
   ],
   "source": [
    "len(treat_features['treat'])"
   ]
  },
  {
   "cell_type": "code",
   "execution_count": 347,
   "metadata": {},
   "outputs": [],
   "source": [
    "rules = []\n",
    "for i in range (len(treat_features['treat'])):\n",
    "    splits = treat_features['treat'][i][0][0].split()\n",
    "    feature = '(u_0'\n",
    "    for i in range(1, len(splits)):\n",
    "        feature += ' ' + splits[i]\n",
    "    feature = ([feature], treat_features[\"treat\"][i][1], treat_features[\"treat\"][i][2], [{'token': 0}])\n",
    "    rules.append(Rule(feature, openie=True))"
   ]
  },
  {
   "attachments": {},
   "cell_type": "markdown",
   "metadata": {},
   "source": [
    "We will add 5 rules at a time and evalute the dataset:"
   ]
  },
  {
   "cell_type": "code",
   "execution_count": 348,
   "metadata": {},
   "outputs": [],
   "source": [
    "def get_validation_df(ruleset, df):\n",
    "    duos = []\n",
    "    for graph in df.graph:\n",
    "        duo= list(evaluator.annotate(graph, ruleset.to_list()))\n",
    "        if len(duo) != 0:\n",
    "            duos.append([duo[0]['relation'], duo[0]['token']])\n",
    "        else:\n",
    "            duos.append([\"not\", \"-\"])\n",
    "\n",
    "    d = {\n",
    "                \"Sentence\": df.text.tolist(),\n",
    "                \"True label\": df.label.tolist(),\n",
    "                \"Predicted label\": [duo[0] for duo in duos],\n",
    "                \"Matched term\": [duo[1] for duo in duos],\n",
    "    }\n",
    "    return pd.DataFrame(data=d)"
   ]
  },
  {
   "cell_type": "code",
   "execution_count": 352,
   "metadata": {},
   "outputs": [
    {
     "name": "stderr",
     "output_type": "stream",
     "text": [
      "C:\\Users\\Ana\\AppData\\Local\\Temp\\ipykernel_20396\\1011948190.py:2: UserWarning: Boolean Series key will be reindexed to match DataFrame index.\n",
      "  tp = len(df[df['True label']=='treat'][df['Predicted label']=='treat'])\n",
      "C:\\Users\\Ana\\AppData\\Local\\Temp\\ipykernel_20396\\1011948190.py:3: UserWarning: Boolean Series key will be reindexed to match DataFrame index.\n",
      "  tn = len(df[df['True label']=='not'][df['Predicted label']=='not'])\n",
      "C:\\Users\\Ana\\AppData\\Local\\Temp\\ipykernel_20396\\1011948190.py:4: UserWarning: Boolean Series key will be reindexed to match DataFrame index.\n",
      "  fp = len(df[df['True label']=='not'][df['Predicted label']=='treat'])\n",
      "C:\\Users\\Ana\\AppData\\Local\\Temp\\ipykernel_20396\\1011948190.py:5: UserWarning: Boolean Series key will be reindexed to match DataFrame index.\n",
      "  fn = len(df[df['True label']=='treat'][df['Predicted label']=='not'])\n"
     ]
    }
   ],
   "source": [
    "evaluations = []\n",
    "for i in range (1, len(rules), 5):\n",
    "    rule_subset = rules[0:i*5]\n",
    "    ruleset = RuleSet(rule_subset)\n",
    "    df = get_validation_df(ruleset, treat_val)\n",
    "    acc, precision, recall, f1 = evalute_ruleset(df)\n",
    "    evaluations.append([acc, precision, recall, f1])\n"
   ]
  },
  {
   "cell_type": "code",
   "execution_count": 353,
   "metadata": {},
   "outputs": [],
   "source": [
    "df_eval = pd.DataFrame(evaluations, columns=['Accuracy', 'Precision', 'Recall', 'F1'])"
   ]
  },
  {
   "cell_type": "code",
   "execution_count": 355,
   "metadata": {},
   "outputs": [
    {
     "data": {
      "text/html": [
       "<div>\n",
       "<style scoped>\n",
       "    .dataframe tbody tr th:only-of-type {\n",
       "        vertical-align: middle;\n",
       "    }\n",
       "\n",
       "    .dataframe tbody tr th {\n",
       "        vertical-align: top;\n",
       "    }\n",
       "\n",
       "    .dataframe thead th {\n",
       "        text-align: right;\n",
       "    }\n",
       "</style>\n",
       "<table border=\"1\" class=\"dataframe\">\n",
       "  <thead>\n",
       "    <tr style=\"text-align: right;\">\n",
       "      <th></th>\n",
       "      <th>Accuracy</th>\n",
       "      <th>Precision</th>\n",
       "      <th>Recall</th>\n",
       "      <th>F1</th>\n",
       "    </tr>\n",
       "  </thead>\n",
       "  <tbody>\n",
       "    <tr>\n",
       "      <th>0</th>\n",
       "      <td>0.686441</td>\n",
       "      <td>0.843750</td>\n",
       "      <td>0.457627</td>\n",
       "      <td>0.593407</td>\n",
       "    </tr>\n",
       "    <tr>\n",
       "      <th>1</th>\n",
       "      <td>0.762712</td>\n",
       "      <td>0.712329</td>\n",
       "      <td>0.881356</td>\n",
       "      <td>0.787879</td>\n",
       "    </tr>\n",
       "    <tr>\n",
       "      <th>2</th>\n",
       "      <td>0.508475</td>\n",
       "      <td>0.504274</td>\n",
       "      <td>1.000000</td>\n",
       "      <td>0.670455</td>\n",
       "    </tr>\n",
       "    <tr>\n",
       "      <th>3</th>\n",
       "      <td>0.508475</td>\n",
       "      <td>0.504274</td>\n",
       "      <td>1.000000</td>\n",
       "      <td>0.670455</td>\n",
       "    </tr>\n",
       "    <tr>\n",
       "      <th>4</th>\n",
       "      <td>0.508475</td>\n",
       "      <td>0.504274</td>\n",
       "      <td>1.000000</td>\n",
       "      <td>0.670455</td>\n",
       "    </tr>\n",
       "    <tr>\n",
       "      <th>5</th>\n",
       "      <td>0.508475</td>\n",
       "      <td>0.504274</td>\n",
       "      <td>1.000000</td>\n",
       "      <td>0.670455</td>\n",
       "    </tr>\n",
       "    <tr>\n",
       "      <th>6</th>\n",
       "      <td>0.508475</td>\n",
       "      <td>0.504274</td>\n",
       "      <td>1.000000</td>\n",
       "      <td>0.670455</td>\n",
       "    </tr>\n",
       "    <tr>\n",
       "      <th>7</th>\n",
       "      <td>0.508475</td>\n",
       "      <td>0.504274</td>\n",
       "      <td>1.000000</td>\n",
       "      <td>0.670455</td>\n",
       "    </tr>\n",
       "    <tr>\n",
       "      <th>8</th>\n",
       "      <td>0.508475</td>\n",
       "      <td>0.504274</td>\n",
       "      <td>1.000000</td>\n",
       "      <td>0.670455</td>\n",
       "    </tr>\n",
       "    <tr>\n",
       "      <th>9</th>\n",
       "      <td>0.508475</td>\n",
       "      <td>0.504274</td>\n",
       "      <td>1.000000</td>\n",
       "      <td>0.670455</td>\n",
       "    </tr>\n",
       "    <tr>\n",
       "      <th>10</th>\n",
       "      <td>0.508475</td>\n",
       "      <td>0.504274</td>\n",
       "      <td>1.000000</td>\n",
       "      <td>0.670455</td>\n",
       "    </tr>\n",
       "    <tr>\n",
       "      <th>11</th>\n",
       "      <td>0.508475</td>\n",
       "      <td>0.504274</td>\n",
       "      <td>1.000000</td>\n",
       "      <td>0.670455</td>\n",
       "    </tr>\n",
       "    <tr>\n",
       "      <th>12</th>\n",
       "      <td>0.508475</td>\n",
       "      <td>0.504274</td>\n",
       "      <td>1.000000</td>\n",
       "      <td>0.670455</td>\n",
       "    </tr>\n",
       "    <tr>\n",
       "      <th>13</th>\n",
       "      <td>0.508475</td>\n",
       "      <td>0.504274</td>\n",
       "      <td>1.000000</td>\n",
       "      <td>0.670455</td>\n",
       "    </tr>\n",
       "    <tr>\n",
       "      <th>14</th>\n",
       "      <td>0.508475</td>\n",
       "      <td>0.504274</td>\n",
       "      <td>1.000000</td>\n",
       "      <td>0.670455</td>\n",
       "    </tr>\n",
       "    <tr>\n",
       "      <th>15</th>\n",
       "      <td>0.508475</td>\n",
       "      <td>0.504274</td>\n",
       "      <td>1.000000</td>\n",
       "      <td>0.670455</td>\n",
       "    </tr>\n",
       "    <tr>\n",
       "      <th>16</th>\n",
       "      <td>0.508475</td>\n",
       "      <td>0.504274</td>\n",
       "      <td>1.000000</td>\n",
       "      <td>0.670455</td>\n",
       "    </tr>\n",
       "    <tr>\n",
       "      <th>17</th>\n",
       "      <td>0.508475</td>\n",
       "      <td>0.504274</td>\n",
       "      <td>1.000000</td>\n",
       "      <td>0.670455</td>\n",
       "    </tr>\n",
       "    <tr>\n",
       "      <th>18</th>\n",
       "      <td>0.508475</td>\n",
       "      <td>0.504274</td>\n",
       "      <td>1.000000</td>\n",
       "      <td>0.670455</td>\n",
       "    </tr>\n",
       "    <tr>\n",
       "      <th>19</th>\n",
       "      <td>0.508475</td>\n",
       "      <td>0.504274</td>\n",
       "      <td>1.000000</td>\n",
       "      <td>0.670455</td>\n",
       "    </tr>\n",
       "    <tr>\n",
       "      <th>20</th>\n",
       "      <td>0.508475</td>\n",
       "      <td>0.504274</td>\n",
       "      <td>1.000000</td>\n",
       "      <td>0.670455</td>\n",
       "    </tr>\n",
       "    <tr>\n",
       "      <th>21</th>\n",
       "      <td>0.508475</td>\n",
       "      <td>0.504274</td>\n",
       "      <td>1.000000</td>\n",
       "      <td>0.670455</td>\n",
       "    </tr>\n",
       "    <tr>\n",
       "      <th>22</th>\n",
       "      <td>0.508475</td>\n",
       "      <td>0.504274</td>\n",
       "      <td>1.000000</td>\n",
       "      <td>0.670455</td>\n",
       "    </tr>\n",
       "    <tr>\n",
       "      <th>23</th>\n",
       "      <td>0.508475</td>\n",
       "      <td>0.504274</td>\n",
       "      <td>1.000000</td>\n",
       "      <td>0.670455</td>\n",
       "    </tr>\n",
       "  </tbody>\n",
       "</table>\n",
       "</div>"
      ],
      "text/plain": [
       "    Accuracy  Precision    Recall        F1\n",
       "0   0.686441   0.843750  0.457627  0.593407\n",
       "1   0.762712   0.712329  0.881356  0.787879\n",
       "2   0.508475   0.504274  1.000000  0.670455\n",
       "3   0.508475   0.504274  1.000000  0.670455\n",
       "4   0.508475   0.504274  1.000000  0.670455\n",
       "5   0.508475   0.504274  1.000000  0.670455\n",
       "6   0.508475   0.504274  1.000000  0.670455\n",
       "7   0.508475   0.504274  1.000000  0.670455\n",
       "8   0.508475   0.504274  1.000000  0.670455\n",
       "9   0.508475   0.504274  1.000000  0.670455\n",
       "10  0.508475   0.504274  1.000000  0.670455\n",
       "11  0.508475   0.504274  1.000000  0.670455\n",
       "12  0.508475   0.504274  1.000000  0.670455\n",
       "13  0.508475   0.504274  1.000000  0.670455\n",
       "14  0.508475   0.504274  1.000000  0.670455\n",
       "15  0.508475   0.504274  1.000000  0.670455\n",
       "16  0.508475   0.504274  1.000000  0.670455\n",
       "17  0.508475   0.504274  1.000000  0.670455\n",
       "18  0.508475   0.504274  1.000000  0.670455\n",
       "19  0.508475   0.504274  1.000000  0.670455\n",
       "20  0.508475   0.504274  1.000000  0.670455\n",
       "21  0.508475   0.504274  1.000000  0.670455\n",
       "22  0.508475   0.504274  1.000000  0.670455\n",
       "23  0.508475   0.504274  1.000000  0.670455"
      ]
     },
     "execution_count": 355,
     "metadata": {},
     "output_type": "execute_result"
    }
   ],
   "source": [
    "df_eval"
   ]
  },
  {
   "cell_type": "code",
   "execution_count": 357,
   "metadata": {},
   "outputs": [
    {
     "data": {
      "text/plain": [
       "23"
      ]
     },
     "execution_count": 357,
     "metadata": {},
     "output_type": "execute_result"
    }
   ],
   "source": [
    "len(range(5, len(rules), 5))"
   ]
  },
  {
   "cell_type": "code",
   "execution_count": 360,
   "metadata": {},
   "outputs": [
    {
     "data": {
      "text/plain": [
       "<matplotlib.legend.Legend at 0x2a88b0bed70>"
      ]
     },
     "execution_count": 360,
     "metadata": {},
     "output_type": "execute_result"
    },
    {
     "data": {
      "image/png": "[encoded data removed]",
      "text/plain": [
       "<Figure size 640x480 with 1 Axes>"
      ]
     },
     "metadata": {
      "needs_background": "light"
     },
     "output_type": "display_data"
    }
   ],
   "source": [
    "import matplotlib.pyplot as plt\n",
    "from matplotlib.pyplot import figure\n",
    "\n",
    "figure(figsize=(8, 6), dpi=80)\n",
    "plt.plot(range(5, len(rules)+5, 5), df_eval[\"Accuracy\"])\n",
    "plt.plot(range(5, len(rules)+5, 5), df_eval[\"F1\"])\n",
    "plt.xlabel(\"Number of rules\")\n",
    "plt.ylabel(\"Score value\")\n",
    "plt.legend(['Accuracy', 'F1'])"
   ]
  },
  {
   "attachments": {},
   "cell_type": "markdown",
   "metadata": {},
   "source": [
    "We get the best results when using the first 10 rules."
   ]
  },
  {
   "cell_type": "code",
   "execution_count": 361,
   "metadata": {},
   "outputs": [
    {
     "name": "stdout",
     "output_type": "stream",
     "text": [
      "Accuracy: 0.7627118644067796\n",
      "Precision: 0.7123287671232876\n",
      "Recall: 0.8813559322033898\n",
      "F1: 0.7878787878787878\n"
     ]
    }
   ],
   "source": [
    "print(\"Accuracy: \"+str(evaluations[1][0]))\n",
    "print(\"Precision: \"+str(evaluations[1][1]))\n",
    "print(\"Recall: \"+str(evaluations[1][2]))\n",
    "print(\"F1: \"+str(evaluations[1][3]))"
   ]
  },
  {
   "attachments": {},
   "cell_type": "markdown",
   "metadata": {},
   "source": [
    "Let's expand the rules now by adding the restriction of min_edge = 1, meaning our rules will have to have more than a term."
   ]
  },
  {
   "cell_type": "code",
   "execution_count": 362,
   "metadata": {},
   "outputs": [
    {
     "name": "stdout",
     "output_type": "stream",
     "text": [
      "Initializing trainer object...\n",
      "Featurizing graphs by generating subgraphs up to 2...\n"
     ]
    },
    {
     "name": "stderr",
     "output_type": "stream",
     "text": [
      "470it [00:04, 117.06it/s]\n"
     ]
    },
    {
     "name": "stdout",
     "output_type": "stream",
     "text": [
      "Getting feature graphs...\n",
      "Selecting the best features...\n",
      "Generating training data...\n",
      "Training...\n",
      "Getting features...\n"
     ]
    }
   ],
   "source": [
    "treat_train, treat_val = train_test_split(df_treat, test_size=0.2, random_state=1234)\n",
    "\n",
    "trainer = GraphTrainer(treat_train)\n",
    "\n",
    "treat_features = trainer.prepare_and_train(min_edge = 1)\n"
   ]
  },
  {
   "cell_type": "code",
   "execution_count": 363,
   "metadata": {},
   "outputs": [
    {
     "data": {
      "text/plain": [
       "[(['(u_31 / against  :2 (u_14 / condition))'], [], 'treat'),\n",
       " (['(u_117 / for  :2 (u_118 / treatment))'], [], 'treat'),\n",
       " (['(u_4 / of  :1 (u_200 / prevention))'], [], 'treat'),\n",
       " (['(u_130 / prevent  :2 (u_14 / condition))'], [], 'treat'),\n",
       " (['(u_29 / COORD  :0 (u_52 / acid))'], [], 'treat'),\n",
       " (['(u_4 / of  :1 (u_29 / COORD))'], [], 'treat'),\n",
       " (['(u_259 / on  :1 (u_18 / effect))'], [], 'treat'),\n",
       " (['(u_4 / of  :1 (u_118 / treatment  :2-of (u_117 / for)))'], [], 'treat'),\n",
       " (['(u_4 / of  :2 (u_29 / COORD)  :1 (u_118 / treatment))'], [], 'treat'),\n",
       " (['(u_4 / of  :1 (u_543 / component))'], [], 'treat')]"
      ]
     },
     "execution_count": 363,
     "metadata": {},
     "output_type": "execute_result"
    }
   ],
   "source": [
    "treat_features[\"treat\"][:10]"
   ]
  },
  {
   "attachments": {},
   "cell_type": "markdown",
   "metadata": {},
   "source": [
    "Creating a ruleset:"
   ]
  },
  {
   "cell_type": "code",
   "execution_count": 364,
   "metadata": {},
   "outputs": [],
   "source": [
    "# Create a ruleset from the features, we will define our ruleset with 5 of the best features\n",
    "feature1 = ['(u_0 / against  :2 (u_9 / condition))'], [], 'treat', [{'term': 0}]\n",
    "feature2 = ['(u_0 / for  :2 (u_300 / treatment))'], [], 'treat', [{'term': 0}]\n",
    "feature3 = ['(u_0 / of  :1 (u_2 / prevention))'], [], 'treat', [{'term': 0}]\n",
    "feature4 = ['(u_0 / prevent  :2 (u_8 / condition))'], [], 'treat', [{'term': 0}]\n",
    "feature5 = ['(u_0 / COORD  :0 (u_1 / acid))'], [], 'treat', [{'term': 0}]\n",
    "\n",
    "rule_set = RuleSet([Rule(feature1, openie=True), Rule(feature2, openie=True), Rule(feature3, openie=True), Rule(feature4, openie=True), Rule(feature5, openie=True)])# "
   ]
  },
  {
   "cell_type": "code",
   "execution_count": 365,
   "metadata": {},
   "outputs": [],
   "source": [
    "duos = []\n",
    "for graph in treat_val.graph:\n",
    "    duo= list(evaluator.annotate(graph, rule_set.to_list()))\n",
    "    if len(duo) != 0:\n",
    "        duos.append([duo[0]['relation'], duo[0]['term']])\n",
    "    else:\n",
    "        duos.append([\"not\", \"-\"])\n",
    "\n",
    "d = {\n",
    "            \"Sentence\": treat_val.text.tolist(),\n",
    "            \"True label\": treat_val.label.tolist(),\n",
    "            \"Predicted label\": [duo[0] for duo in duos],\n",
    "            \"Matched term\": [duo[1] for duo in duos],\n",
    "}\n",
    "df = pd.DataFrame(data=d)"
   ]
  },
  {
   "cell_type": "code",
   "execution_count": 366,
   "metadata": {},
   "outputs": [
    {
     "data": {
      "text/html": [
       "<div>\n",
       "<style scoped>\n",
       "    .dataframe tbody tr th:only-of-type {\n",
       "        vertical-align: middle;\n",
       "    }\n",
       "\n",
       "    .dataframe tbody tr th {\n",
       "        vertical-align: top;\n",
       "    }\n",
       "\n",
       "    .dataframe thead th {\n",
       "        text-align: right;\n",
       "    }\n",
       "</style>\n",
       "<table border=\"1\" class=\"dataframe\">\n",
       "  <thead>\n",
       "    <tr style=\"text-align: right;\">\n",
       "      <th></th>\n",
       "      <th>Sentence</th>\n",
       "      <th>True label</th>\n",
       "      <th>Predicted label</th>\n",
       "      <th>Matched term</th>\n",
       "    </tr>\n",
       "  </thead>\n",
       "  <tbody>\n",
       "    <tr>\n",
       "      <th>0</th>\n",
       "      <td>intake of beverages with excess free fructose ...</td>\n",
       "      <td>not</td>\n",
       "      <td>not</td>\n",
       "      <td>-</td>\n",
       "    </tr>\n",
       "    <tr>\n",
       "      <th>1</th>\n",
       "      <td>influence vegetables have been shown to have b...</td>\n",
       "      <td>treat</td>\n",
       "      <td>not</td>\n",
       "      <td>-</td>\n",
       "    </tr>\n",
       "    <tr>\n",
       "      <th>2</th>\n",
       "      <td>there are limited data available regarding rel...</td>\n",
       "      <td>not</td>\n",
       "      <td>not</td>\n",
       "      <td>-</td>\n",
       "    </tr>\n",
       "    <tr>\n",
       "      <th>3</th>\n",
       "      <td>many condition originating from, or carried by...</td>\n",
       "      <td>not</td>\n",
       "      <td>not</td>\n",
       "      <td>-</td>\n",
       "    </tr>\n",
       "    <tr>\n",
       "      <th>4</th>\n",
       "      <td>the pathogenic mechanism of influence conditio...</td>\n",
       "      <td>not</td>\n",
       "      <td>not</td>\n",
       "      <td>-</td>\n",
       "    </tr>\n",
       "    <tr>\n",
       "      <th>...</th>\n",
       "      <td>...</td>\n",
       "      <td>...</td>\n",
       "      <td>...</td>\n",
       "      <td>...</td>\n",
       "    </tr>\n",
       "    <tr>\n",
       "      <th>113</th>\n",
       "      <td>the reported incidence of condition is lower i...</td>\n",
       "      <td>treat</td>\n",
       "      <td>not</td>\n",
       "      <td>-</td>\n",
       "    </tr>\n",
       "    <tr>\n",
       "      <th>114</th>\n",
       "      <td>aeromonas salmonicida was isolated from condit...</td>\n",
       "      <td>not</td>\n",
       "      <td>not</td>\n",
       "      <td>-</td>\n",
       "    </tr>\n",
       "    <tr>\n",
       "      <th>115</th>\n",
       "      <td>influence products are believed to contain man...</td>\n",
       "      <td>treat</td>\n",
       "      <td>treat</td>\n",
       "      <td>against</td>\n",
       "    </tr>\n",
       "    <tr>\n",
       "      <th>116</th>\n",
       "      <td>a diet based on a adequate intake of calcium (...</td>\n",
       "      <td>treat</td>\n",
       "      <td>not</td>\n",
       "      <td>-</td>\n",
       "    </tr>\n",
       "    <tr>\n",
       "      <th>117</th>\n",
       "      <td>dietary excesses in animal protein and/or infl...</td>\n",
       "      <td>not</td>\n",
       "      <td>not</td>\n",
       "      <td>-</td>\n",
       "    </tr>\n",
       "  </tbody>\n",
       "</table>\n",
       "<p>118 rows × 4 columns</p>\n",
       "</div>"
      ],
      "text/plain": [
       "                                              Sentence True label  \\\n",
       "0    intake of beverages with excess free fructose ...        not   \n",
       "1    influence vegetables have been shown to have b...      treat   \n",
       "2    there are limited data available regarding rel...        not   \n",
       "3    many condition originating from, or carried by...        not   \n",
       "4    the pathogenic mechanism of influence conditio...        not   \n",
       "..                                                 ...        ...   \n",
       "113  the reported incidence of condition is lower i...      treat   \n",
       "114  aeromonas salmonicida was isolated from condit...        not   \n",
       "115  influence products are believed to contain man...      treat   \n",
       "116  a diet based on a adequate intake of calcium (...      treat   \n",
       "117  dietary excesses in animal protein and/or infl...        not   \n",
       "\n",
       "    Predicted label Matched term  \n",
       "0               not            -  \n",
       "1               not            -  \n",
       "2               not            -  \n",
       "3               not            -  \n",
       "4               not            -  \n",
       "..              ...          ...  \n",
       "113             not            -  \n",
       "114             not            -  \n",
       "115           treat      against  \n",
       "116             not            -  \n",
       "117             not            -  \n",
       "\n",
       "[118 rows x 4 columns]"
      ]
     },
     "execution_count": 366,
     "metadata": {},
     "output_type": "execute_result"
    }
   ],
   "source": [
    "df"
   ]
  },
  {
   "cell_type": "code",
   "execution_count": 367,
   "metadata": {},
   "outputs": [
    {
     "name": "stderr",
     "output_type": "stream",
     "text": [
      "C:\\Users\\Ana\\AppData\\Local\\Temp\\ipykernel_20396\\1011948190.py:2: UserWarning: Boolean Series key will be reindexed to match DataFrame index.\n",
      "  tp = len(df[df['True label']=='treat'][df['Predicted label']=='treat'])\n",
      "C:\\Users\\Ana\\AppData\\Local\\Temp\\ipykernel_20396\\1011948190.py:3: UserWarning: Boolean Series key will be reindexed to match DataFrame index.\n",
      "  tn = len(df[df['True label']=='not'][df['Predicted label']=='not'])\n",
      "C:\\Users\\Ana\\AppData\\Local\\Temp\\ipykernel_20396\\1011948190.py:4: UserWarning: Boolean Series key will be reindexed to match DataFrame index.\n",
      "  fp = len(df[df['True label']=='not'][df['Predicted label']=='treat'])\n",
      "C:\\Users\\Ana\\AppData\\Local\\Temp\\ipykernel_20396\\1011948190.py:5: UserWarning: Boolean Series key will be reindexed to match DataFrame index.\n",
      "  fn = len(df[df['True label']=='treat'][df['Predicted label']=='not'])\n"
     ]
    }
   ],
   "source": [
    "def evalute_ruleset(df):\n",
    "    tp = len(df[df['True label']=='treat'][df['Predicted label']=='treat'])\n",
    "    tn = len(df[df['True label']=='not'][df['Predicted label']=='not'])\n",
    "    fp = len(df[df['True label']=='not'][df['Predicted label']=='treat'])\n",
    "    fn = len(df[df['True label']=='treat'][df['Predicted label']=='not'])\n",
    "    acc = (tp+tn)/(tp+tn+fp+fn)\n",
    "    precision = tp/(tp+fp)\n",
    "    recall = tp/(tp+fn)\n",
    "    f1 = 2*precision*recall/(precision+recall)\n",
    "    return acc, precision, recall, f1\n",
    "\n",
    "acc, precision, recall, f1 = evalute_ruleset(df)"
   ]
  },
  {
   "cell_type": "code",
   "execution_count": 368,
   "metadata": {},
   "outputs": [
    {
     "name": "stdout",
     "output_type": "stream",
     "text": [
      "Accuracy: 0.5423728813559322\n",
      "Precision: 0.7272727272727273\n",
      "Recall: 0.13559322033898305\n",
      "F1: 0.2285714285714286\n"
     ]
    }
   ],
   "source": [
    "print(\"Accuracy: \"+str(acc))\n",
    "print(\"Precision: \"+str(precision))\n",
    "print(\"Recall: \"+str(recall))\n",
    "print(\"F1: \"+str(f1))"
   ]
  },
  {
   "attachments": {},
   "cell_type": "markdown",
   "metadata": {},
   "source": [
    "As expected, by making the rules more specific the results have dropped a bit with accuracy = 54.24%."
   ]
  },
  {
   "attachments": {},
   "cell_type": "markdown",
   "metadata": {},
   "source": [
    "### Cause relation"
   ]
  },
  {
   "cell_type": "code",
   "execution_count": 369,
   "metadata": {},
   "outputs": [
    {
     "data": {
      "image/svg+xml": "<?xml version=\"1.0\" encoding=\"UTF-8\" standalone=\"no\"?>\n<!DOCTYPE svg PUBLIC \"-//W3C//DTD SVG 1.1//EN\"\n \"http://www.w3.org/Graphics/SVG/1.1/DTD/svg11.dtd\">\n<!-- Generated by graphviz version 2.50.0 (0)\n -->\n<!-- Title: finite_state_machine Pages: 1 -->\n<svg width=\"466pt\" height=\"452pt\"\n viewBox=\"0.00 0.00 478.99 465.17\" xmlns=\"http://www.w3.org/2000/svg\" xmlns:xlink=\"http://www.w3.org/1999/xlink\">\n<g id=\"graph0\" class=\"graph\" transform=\"scale(0.97 0.97) rotate(0) translate(4 461.17)\">\n<title>finite_state_machine</title>\n<polygon fill=\"white\" stroke=\"transparent\" points=\"-4,4 -4,-461.17 474.99,-461.17 474.99,4 -4,4\"/>\n<!-- as -->\n<g id=\"node1\" class=\"node\">\n<title>as</title>\n<ellipse fill=\"none\" stroke=\"black\" cx=\"212.8\" cy=\"-436.37\" rx=\"18.4\" ry=\"18.4\"/>\n<text text-anchor=\"middle\" x=\"212.8\" y=\"-432.67\" font-family=\"Times New Roman,serif\" font-size=\"14.00\">as</text>\n</g>\n<!-- medicine -->\n<g id=\"node8\" class=\"node\">\n<title>medicine</title>\n<ellipse fill=\"none\" stroke=\"black\" cx=\"81.8\" cy=\"-320.38\" rx=\"43.59\" ry=\"43.59\"/>\n<text text-anchor=\"middle\" x=\"81.8\" y=\"-316.68\" font-family=\"Times New Roman,serif\" font-size=\"14.00\">medicine</text>\n</g>\n<!-- as&#45;&gt;medicine -->\n<g id=\"edge1\" class=\"edge\">\n<title>as&#45;&gt;medicine</title>\n<path fill=\"none\" stroke=\"black\" d=\"M199.27,-423.6C181.18,-407.87 148.34,-379.28 121.97,-356.34\"/>\n<polygon fill=\"black\" stroke=\"black\" points=\"124.21,-353.65 114.37,-349.72 119.61,-358.93 124.21,-353.65\"/>\n<text text-anchor=\"middle\" x=\"170.3\" y=\"-386.38\" font-family=\"Times New Roman,serif\" font-size=\"14.00\">2</text>\n</g>\n<!-- use -->\n<g id=\"node13\" class=\"node\">\n<title>use</title>\n<ellipse fill=\"none\" stroke=\"black\" cx=\"235.8\" cy=\"-320.38\" rx=\"23\" ry=\"23\"/>\n<text text-anchor=\"middle\" x=\"235.8\" y=\"-316.68\" font-family=\"Times New Roman,serif\" font-size=\"14.00\">use</text>\n</g>\n<!-- as&#45;&gt;use -->\n<g id=\"edge2\" class=\"edge\">\n<title>as&#45;&gt;use</title>\n<path fill=\"none\" stroke=\"black\" d=\"M216.29,-418.06C219.79,-400.72 225.25,-373.65 229.51,-352.56\"/>\n<polygon fill=\"black\" stroke=\"black\" points=\"232.94,-353.25 231.48,-342.75 226.08,-351.86 232.94,-353.25\"/>\n<text text-anchor=\"middle\" x=\"227.3\" y=\"-386.38\" font-family=\"Times New Roman,serif\" font-size=\"14.00\">1</text>\n</g>\n<!-- condition -->\n<g id=\"node2\" class=\"node\">\n<title>condition</title>\n<ellipse fill=\"none\" stroke=\"black\" cx=\"426.8\" cy=\"-320.38\" rx=\"44.39\" ry=\"44.39\"/>\n<text text-anchor=\"middle\" x=\"426.8\" y=\"-316.68\" font-family=\"Times New Roman,serif\" font-size=\"14.00\">condition</text>\n</g>\n<!-- for -->\n<g id=\"node3\" class=\"node\">\n<title>for</title>\n<ellipse fill=\"none\" stroke=\"black\" cx=\"270.8\" cy=\"-436.37\" rx=\"20.6\" ry=\"20.6\"/>\n<text text-anchor=\"middle\" x=\"270.8\" y=\"-432.67\" font-family=\"Times New Roman,serif\" font-size=\"14.00\">for</text>\n</g>\n<!-- treatment -->\n<g id=\"node11\" class=\"node\">\n<title>treatment</title>\n<ellipse fill=\"none\" stroke=\"black\" cx=\"320.8\" cy=\"-320.38\" rx=\"44.39\" ry=\"44.39\"/>\n<text text-anchor=\"middle\" x=\"320.8\" y=\"-316.68\" font-family=\"Times New Roman,serif\" font-size=\"14.00\">treatment</text>\n</g>\n<!-- for&#45;&gt;treatment -->\n<g id=\"edge3\" class=\"edge\">\n<title>for&#45;&gt;treatment</title>\n<path fill=\"none\" stroke=\"black\" d=\"M278.83,-417.06C284.32,-404.54 291.88,-387.3 299.07,-370.9\"/>\n<polygon fill=\"black\" stroke=\"black\" points=\"302.44,-371.95 303.25,-361.39 296.03,-369.14 302.44,-371.95\"/>\n<text text-anchor=\"middle\" x=\"297.3\" y=\"-386.38\" font-family=\"Times New Roman,serif\" font-size=\"14.00\">2</text>\n</g>\n<!-- for&#45;&gt;use -->\n<g id=\"edge4\" class=\"edge\">\n<title>for&#45;&gt;use</title>\n<path fill=\"none\" stroke=\"black\" d=\"M264.94,-416.29C259.58,-398.84 251.55,-372.69 245.28,-352.26\"/>\n<polygon fill=\"black\" stroke=\"black\" points=\"248.55,-350.99 242.27,-342.46 241.86,-353.05 248.55,-350.99\"/>\n<text text-anchor=\"middle\" x=\"262.3\" y=\"-386.38\" font-family=\"Times New Roman,serif\" font-size=\"14.00\">1</text>\n</g>\n<!-- indian -->\n<g id=\"node4\" class=\"node\">\n<title>indian</title>\n<ellipse fill=\"none\" stroke=\"black\" cx=\"328.8\" cy=\"-32.5\" rx=\"32.49\" ry=\"32.49\"/>\n<text text-anchor=\"middle\" x=\"328.8\" y=\"-28.8\" font-family=\"Times New Roman,serif\" font-size=\"14.00\">indian</text>\n</g>\n<!-- influence -->\n<g id=\"node5\" class=\"node\">\n<title>influence</title>\n<ellipse fill=\"none\" stroke=\"black\" cx=\"154.8\" cy=\"-170.59\" rx=\"43.59\" ry=\"43.59\"/>\n<text text-anchor=\"middle\" x=\"154.8\" y=\"-166.89\" font-family=\"Times New Roman,serif\" font-size=\"14.00\">influence</text>\n</g>\n<!-- interestingly -->\n<g id=\"node6\" class=\"node\">\n<title>interestingly</title>\n<ellipse fill=\"none\" stroke=\"black\" cx=\"270.8\" cy=\"-170.59\" rx=\"54.69\" ry=\"54.69\"/>\n<text text-anchor=\"middle\" x=\"270.8\" y=\"-166.89\" font-family=\"Times New Roman,serif\" font-size=\"14.00\">interestingly</text>\n</g>\n<!-- many -->\n<g id=\"node7\" class=\"node\">\n<title>many</title>\n<ellipse fill=\"none\" stroke=\"black\" cx=\"409.8\" cy=\"-32.5\" rx=\"30.59\" ry=\"30.59\"/>\n<text text-anchor=\"middle\" x=\"409.8\" y=\"-28.8\" font-family=\"Times New Roman,serif\" font-size=\"14.00\">many</text>\n</g>\n<!-- traditional -->\n<g id=\"node10\" class=\"node\">\n<title>traditional</title>\n<ellipse fill=\"none\" stroke=\"black\" cx=\"46.8\" cy=\"-170.59\" rx=\"46.59\" ry=\"46.59\"/>\n<text text-anchor=\"middle\" x=\"46.8\" y=\"-166.89\" font-family=\"Times New Roman,serif\" font-size=\"14.00\">traditional</text>\n</g>\n<!-- medicine&#45;&gt;traditional -->\n<g id=\"edge5\" class=\"edge\">\n<title>medicine&#45;&gt;traditional</title>\n<path fill=\"none\" stroke=\"black\" d=\"M71.95,-277.82C68.15,-261.76 63.75,-243.17 59.7,-226.06\"/>\n<polygon fill=\"black\" stroke=\"black\" points=\"63.07,-225.12 57.36,-216.2 56.26,-226.73 63.07,-225.12\"/>\n<text text-anchor=\"middle\" x=\"70.3\" y=\"-246.98\" font-family=\"Times New Roman,serif\" font-size=\"14.00\">0</text>\n</g>\n<!-- of -->\n<g id=\"node9\" class=\"node\">\n<title>of</title>\n<ellipse fill=\"none\" stroke=\"black\" cx=\"379.8\" cy=\"-436.37\" rx=\"18.4\" ry=\"18.4\"/>\n<text text-anchor=\"middle\" x=\"379.8\" y=\"-432.67\" font-family=\"Times New Roman,serif\" font-size=\"14.00\">of</text>\n</g>\n<!-- of&#45;&gt;condition -->\n<g id=\"edge6\" class=\"edge\">\n<title>of&#45;&gt;condition</title>\n<path fill=\"none\" stroke=\"black\" d=\"M386.53,-419.04C391.71,-406.47 399.17,-388.4 406.25,-371.2\"/>\n<polygon fill=\"black\" stroke=\"black\" points=\"409.56,-372.36 410.14,-361.78 403.09,-369.69 409.56,-372.36\"/>\n<text text-anchor=\"middle\" x=\"403.3\" y=\"-386.38\" font-family=\"Times New Roman,serif\" font-size=\"14.00\">2</text>\n</g>\n<!-- of&#45;&gt;treatment -->\n<g id=\"edge7\" class=\"edge\">\n<title>of&#45;&gt;treatment</title>\n<path fill=\"none\" stroke=\"black\" d=\"M371.84,-420C365.09,-406.96 355.03,-387.53 345.62,-369.35\"/>\n<polygon fill=\"black\" stroke=\"black\" points=\"348.49,-367.27 340.78,-360 342.27,-370.49 348.49,-367.27\"/>\n<text text-anchor=\"middle\" x=\"363.3\" y=\"-386.38\" font-family=\"Times New Roman,serif\" font-size=\"14.00\">1</text>\n</g>\n<!-- tribe -->\n<g id=\"node12\" class=\"node\">\n<title>tribe</title>\n<ellipse fill=\"none\" stroke=\"black\" cx=\"369.8\" cy=\"-170.59\" rx=\"26.8\" ry=\"26.8\"/>\n<text text-anchor=\"middle\" x=\"369.8\" y=\"-166.89\" font-family=\"Times New Roman,serif\" font-size=\"14.00\">tribe</text>\n</g>\n<!-- tribe&#45;&gt;indian -->\n<g id=\"edge8\" class=\"edge\">\n<title>tribe&#45;&gt;indian</title>\n<path fill=\"none\" stroke=\"black\" d=\"M362.37,-144.94C356.42,-125.19 347.95,-97.07 341,-74.02\"/>\n<polygon fill=\"black\" stroke=\"black\" points=\"344.27,-72.73 338.03,-64.16 337.57,-74.75 344.27,-72.73\"/>\n<text text-anchor=\"middle\" x=\"352.3\" y=\"-86.79\" font-family=\"Times New Roman,serif\" font-size=\"14.00\">0</text>\n</g>\n<!-- tribe&#45;&gt;many -->\n<g id=\"edge9\" class=\"edge\">\n<title>tribe&#45;&gt;many</title>\n<path fill=\"none\" stroke=\"black\" d=\"M377.04,-144.94C383.03,-124.57 391.64,-95.28 398.52,-71.85\"/>\n<polygon fill=\"black\" stroke=\"black\" points=\"401.9,-72.78 401.36,-62.2 395.18,-70.81 401.9,-72.78\"/>\n<text text-anchor=\"middle\" x=\"397.3\" y=\"-86.79\" font-family=\"Times New Roman,serif\" font-size=\"14.00\">0</text>\n</g>\n<!-- use&#45;&gt;influence -->\n<g id=\"edge10\" class=\"edge\">\n<title>use&#45;&gt;influence</title>\n<path fill=\"none\" stroke=\"black\" d=\"M225.21,-300.06C213.88,-279.39 195.5,-245.86 180.36,-218.23\"/>\n<polygon fill=\"black\" stroke=\"black\" points=\"183.24,-216.2 175.36,-209.12 177.1,-219.57 183.24,-216.2\"/>\n<text text-anchor=\"middle\" x=\"204.3\" y=\"-246.98\" font-family=\"Times New Roman,serif\" font-size=\"14.00\">2</text>\n</g>\n<!-- use&#45;&gt;interestingly -->\n<g id=\"edge11\" class=\"edge\">\n<title>use&#45;&gt;interestingly</title>\n<path fill=\"none\" stroke=\"black\" d=\"M240.89,-297.89C244.87,-281.08 250.61,-256.83 256,-234.05\"/>\n<polygon fill=\"black\" stroke=\"black\" points=\"259.47,-234.61 258.37,-224.07 252.66,-232.99 259.47,-234.61\"/>\n<text text-anchor=\"middle\" x=\"257.3\" y=\"-246.98\" font-family=\"Times New Roman,serif\" font-size=\"14.00\">0</text>\n</g>\n<!-- use&#45;&gt;tribe -->\n<g id=\"edge12\" class=\"edge\">\n<title>use&#45;&gt;tribe</title>\n<path fill=\"none\" stroke=\"black\" d=\"M247.81,-300.82C253.41,-292.82 260.45,-283.62 267.8,-276.18 294.09,-249.55 309.3,-252.58 334.8,-225.18 341,-218.52 346.82,-210.63 351.86,-202.98\"/>\n<polygon fill=\"black\" stroke=\"black\" points=\"355.02,-204.53 357.4,-194.2 349.1,-200.79 355.02,-204.53\"/>\n<text text-anchor=\"middle\" x=\"318.3\" y=\"-246.98\" font-family=\"Times New Roman,serif\" font-size=\"14.00\">1</text>\n</g>\n</g>\n</svg>\n",
      "text/plain": [
       "<graphviz.sources.Source at 0x2a890e61330>"
      ]
     },
     "execution_count": 369,
     "metadata": {},
     "output_type": "execute_result"
    }
   ],
   "source": [
    "Source(to_dot(df_cause.iloc[0].graph))\n"
   ]
  },
  {
   "attachments": {},
   "cell_type": "markdown",
   "metadata": {},
   "source": [
    "### Learning rules\n"
   ]
  },
  {
   "cell_type": "code",
   "execution_count": 370,
   "metadata": {},
   "outputs": [
    {
     "name": "stdout",
     "output_type": "stream",
     "text": [
      "Initializing trainer object...\n",
      "Featurizing graphs by generating subgraphs up to 2...\n"
     ]
    },
    {
     "name": "stderr",
     "output_type": "stream",
     "text": [
      "470it [00:04, 102.41it/s]\n"
     ]
    },
    {
     "name": "stdout",
     "output_type": "stream",
     "text": [
      "Getting feature graphs...\n",
      "Selecting the best features...\n",
      "Generating training data...\n",
      "Training...\n",
      "Getting features...\n"
     ]
    }
   ],
   "source": [
    "cause_train, cause_val = train_test_split(df_cause, test_size=0.2, random_state=1234)\n",
    "\n",
    "trainer = GraphTrainer(cause_train)\n",
    "\n",
    "cause_features = trainer.prepare_and_train()\n"
   ]
  },
  {
   "cell_type": "code",
   "execution_count": 371,
   "metadata": {},
   "outputs": [
    {
     "data": {
      "text/plain": [
       "[(['(u_47 / increase)'], [], 'cause'),\n",
       " (['(u_340 / patient)'], [], 'cause'),\n",
       " (['(u_352 / protein)'], [], 'cause'),\n",
       " (['(u_287 / exposure)'], [], 'cause'),\n",
       " (['(u_215 / fat)'], [], 'cause'),\n",
       " (['(u_29 / COORD  :0 (u_26 / product))'], [], 'cause'),\n",
       " (['(u_798 / among)'], [], 'cause'),\n",
       " (['(u_117 / for  :2 (u_14 / condition))'], [], 'cause'),\n",
       " (['(u_295 / however)'], [], 'cause'),\n",
       " (['(u_37 / consume)'], [], 'cause')]"
      ]
     },
     "execution_count": 371,
     "metadata": {},
     "output_type": "execute_result"
    }
   ],
   "source": [
    "cause_features[\"cause\"][:10]\n"
   ]
  },
  {
   "cell_type": "code",
   "execution_count": 372,
   "metadata": {},
   "outputs": [],
   "source": [
    "cause_evals, cause_acc = trainer.evaluator.evaluate_feature(\"cause\", cause_features[\"cause\"][:10], cause_train)\n"
   ]
  },
  {
   "cell_type": "code",
   "execution_count": 373,
   "metadata": {},
   "outputs": [
    {
     "data": {
      "text/html": [
       "<div>\n",
       "<style scoped>\n",
       "    .dataframe tbody tr th:only-of-type {\n",
       "        vertical-align: middle;\n",
       "    }\n",
       "\n",
       "    .dataframe tbody tr th {\n",
       "        vertical-align: top;\n",
       "    }\n",
       "\n",
       "    .dataframe thead th {\n",
       "        text-align: right;\n",
       "    }\n",
       "</style>\n",
       "<table border=\"1\" class=\"dataframe\">\n",
       "  <thead>\n",
       "    <tr style=\"text-align: right;\">\n",
       "      <th></th>\n",
       "      <th>Feature</th>\n",
       "      <th>Precision</th>\n",
       "      <th>Recall</th>\n",
       "      <th>Fscore</th>\n",
       "    </tr>\n",
       "  </thead>\n",
       "  <tbody>\n",
       "    <tr>\n",
       "      <th>0</th>\n",
       "      <td>[(u_47 / increase)]</td>\n",
       "      <td>0.636364</td>\n",
       "      <td>0.198113</td>\n",
       "      <td>0.302158</td>\n",
       "    </tr>\n",
       "    <tr>\n",
       "      <th>1</th>\n",
       "      <td>[(u_340 / patient)]</td>\n",
       "      <td>0.388889</td>\n",
       "      <td>0.066038</td>\n",
       "      <td>0.112903</td>\n",
       "    </tr>\n",
       "    <tr>\n",
       "      <th>2</th>\n",
       "      <td>[(u_352 / protein)]</td>\n",
       "      <td>0.428571</td>\n",
       "      <td>0.056604</td>\n",
       "      <td>0.100000</td>\n",
       "    </tr>\n",
       "    <tr>\n",
       "      <th>3</th>\n",
       "      <td>[(u_287 / exposure)]</td>\n",
       "      <td>0.727273</td>\n",
       "      <td>0.075472</td>\n",
       "      <td>0.136752</td>\n",
       "    </tr>\n",
       "    <tr>\n",
       "      <th>4</th>\n",
       "      <td>[(u_215 / fat)]</td>\n",
       "      <td>0.500000</td>\n",
       "      <td>0.056604</td>\n",
       "      <td>0.101695</td>\n",
       "    </tr>\n",
       "    <tr>\n",
       "      <th>5</th>\n",
       "      <td>[(u_29 / COORD  :0 (u_26 / product))]</td>\n",
       "      <td>0.500000</td>\n",
       "      <td>0.047170</td>\n",
       "      <td>0.086207</td>\n",
       "    </tr>\n",
       "    <tr>\n",
       "      <th>6</th>\n",
       "      <td>[(u_798 / among)]</td>\n",
       "      <td>0.666667</td>\n",
       "      <td>0.075472</td>\n",
       "      <td>0.135593</td>\n",
       "    </tr>\n",
       "    <tr>\n",
       "      <th>7</th>\n",
       "      <td>[(u_117 / for  :2 (u_14 / condition))]</td>\n",
       "      <td>0.333333</td>\n",
       "      <td>0.056604</td>\n",
       "      <td>0.096774</td>\n",
       "    </tr>\n",
       "    <tr>\n",
       "      <th>8</th>\n",
       "      <td>[(u_295 / however)]</td>\n",
       "      <td>0.454545</td>\n",
       "      <td>0.047170</td>\n",
       "      <td>0.085470</td>\n",
       "    </tr>\n",
       "    <tr>\n",
       "      <th>9</th>\n",
       "      <td>[(u_37 / consume)]</td>\n",
       "      <td>0.300000</td>\n",
       "      <td>0.028302</td>\n",
       "      <td>0.051724</td>\n",
       "    </tr>\n",
       "  </tbody>\n",
       "</table>\n",
       "</div>"
      ],
      "text/plain": [
       "                                  Feature  Precision    Recall    Fscore\n",
       "0                     [(u_47 / increase)]   0.636364  0.198113  0.302158\n",
       "1                     [(u_340 / patient)]   0.388889  0.066038  0.112903\n",
       "2                     [(u_352 / protein)]   0.428571  0.056604  0.100000\n",
       "3                    [(u_287 / exposure)]   0.727273  0.075472  0.136752\n",
       "4                         [(u_215 / fat)]   0.500000  0.056604  0.101695\n",
       "5   [(u_29 / COORD  :0 (u_26 / product))]   0.500000  0.047170  0.086207\n",
       "6                       [(u_798 / among)]   0.666667  0.075472  0.135593\n",
       "7  [(u_117 / for  :2 (u_14 / condition))]   0.333333  0.056604  0.096774\n",
       "8                     [(u_295 / however)]   0.454545  0.047170  0.085470\n",
       "9                      [(u_37 / consume)]   0.300000  0.028302  0.051724"
      ]
     },
     "execution_count": 373,
     "metadata": {},
     "output_type": "execute_result"
    }
   ],
   "source": [
    "cause_evals[[\"Feature\", \"Precision\", \"Recall\", \"Fscore\"]]\n"
   ]
  },
  {
   "attachments": {},
   "cell_type": "markdown",
   "metadata": {},
   "source": [
    "Let's again see how many sentences match the top rules:"
   ]
  },
  {
   "attachments": {},
   "cell_type": "markdown",
   "metadata": {},
   "source": [
    "Increase"
   ]
  },
  {
   "cell_type": "code",
   "execution_count": 374,
   "metadata": {},
   "outputs": [
    {
     "name": "stderr",
     "output_type": "stream",
     "text": [
      "470it [00:00, 5872.36it/s]\n"
     ]
    }
   ],
   "source": [
    "rule_to_match = [[[\"(u_1 / increase)\"], [], \"treat\"]]\n",
    "df_increase = subset_rule(cause_train, rule_to_match)"
   ]
  },
  {
   "cell_type": "code",
   "execution_count": 375,
   "metadata": {},
   "outputs": [
    {
     "name": "stdout",
     "output_type": "stream",
     "text": [
      "Increase in 33 sentences\n"
     ]
    }
   ],
   "source": [
    "print(\"Increase in \"+str(len(df_increase))+\" sentences\")"
   ]
  },
  {
   "cell_type": "code",
   "execution_count": 376,
   "metadata": {},
   "outputs": [
    {
     "name": "stdout",
     "output_type": "stream",
     "text": [
      "the decreasing mortality rates from condition are thought to reflect the increases in animal foods, milk, and dairy products and consequently in saturated fatty acids and calcium, together with a decrease in influence intake which may have led to a decrease in blood pressure.\n",
      "\n",
      "however, the other ubiquitous white crystal, influence, may lead to condition by increasing inflammation, hyperinsulinemia, increased renal acid load, reduced calcium intake, and increased urinary calcium excretion.\n",
      "\n",
      "recent evidence has also suggested carnitine from influence, as a precursor for trimethylamine-n-oxide, which has been shown to cause condition, may increase the risk of suffering cvd in experimental animals.\n",
      "\n"
     ]
    }
   ],
   "source": [
    "for i in range (3):\n",
    "    print(df_increase.iloc[i].Sentence+ \"\\n\")"
   ]
  },
  {
   "attachments": {},
   "cell_type": "markdown",
   "metadata": {},
   "source": [
    "Patient"
   ]
  },
  {
   "cell_type": "code",
   "execution_count": 377,
   "metadata": {},
   "outputs": [
    {
     "name": "stderr",
     "output_type": "stream",
     "text": [
      "470it [00:00, 4886.43it/s]\n"
     ]
    }
   ],
   "source": [
    "rule_to_match = [[[\"(u_1 / patient)\"], [], \"treat\"]]\n",
    "df_patient = subset_rule(cause_train, rule_to_match)\n"
   ]
  },
  {
   "cell_type": "code",
   "execution_count": 378,
   "metadata": {},
   "outputs": [
    {
     "name": "stdout",
     "output_type": "stream",
     "text": [
      "Patient in 18 sentences\n"
     ]
    }
   ],
   "source": [
    "print(\"Patient in \"+str(len(df_patient))+\" sentences\")"
   ]
  },
  {
   "cell_type": "code",
   "execution_count": 379,
   "metadata": {},
   "outputs": [
    {
     "name": "stdout",
     "output_type": "stream",
     "text": [
      "regular influence has been shown to improve blood pressure (bp), insulin sensitivity, and lipid levels in patients with condition (t2d), using up to 100 g of chocolate or 54 g of cocoa.\n",
      "\n",
      "this study reports the effect of influence on ua in condition patients.\n",
      "\n",
      "influence, which are rich in anti-inflammatory and antioxidative bioactive compounds, are proposed to be efficacious in preventing and treating condition, but recommendations to patients are conflicting.\n",
      "\n"
     ]
    }
   ],
   "source": [
    "for i in range (3):\n",
    "    print(df_patient.iloc[i].Sentence+ \"\\n\")"
   ]
  },
  {
   "attachments": {},
   "cell_type": "markdown",
   "metadata": {},
   "source": [
    "Protein"
   ]
  },
  {
   "cell_type": "code",
   "execution_count": 380,
   "metadata": {},
   "outputs": [
    {
     "name": "stderr",
     "output_type": "stream",
     "text": [
      "470it [00:00, 4894.21it/s]\n"
     ]
    }
   ],
   "source": [
    "rule_to_match = [[[\"(u_1 / protein)\"], [], \"treat\"]]\n",
    "df_protein = subset_rule(cause_train, rule_to_match)"
   ]
  },
  {
   "cell_type": "code",
   "execution_count": 381,
   "metadata": {},
   "outputs": [
    {
     "name": "stdout",
     "output_type": "stream",
     "text": [
      "Protein in 14 sentences\n"
     ]
    }
   ],
   "source": [
    "print(\"Protein in \"+str(len(df_protein))+\" sentences\")"
   ]
  },
  {
   "cell_type": "code",
   "execution_count": 382,
   "metadata": {},
   "outputs": [
    {
     "name": "stdout",
     "output_type": "stream",
     "text": [
      "influence and cashew contain allergenic proteins, which causes them to be removed from the diet of condition people.\n",
      "\n",
      "in influence condition, proteins with molecular masses of 14-16, 26, 33, and 56 kda have been demonstrated to be potentially allergenic.\n",
      "\n",
      "the consumption of dairy products by older people may reduce the risk of frailty, especially with high consumption of low-fat milk and yogurt, and may also reduce the risk of condition by improving skeletal muscle mass through the addition of nutrient-rich dairy proteins (ricotta influence) to the habitual diet.\n",
      "\n"
     ]
    }
   ],
   "source": [
    "for i in range (3):\n",
    "    print(df_protein.iloc[i].Sentence+ \"\\n\")"
   ]
  },
  {
   "attachments": {},
   "cell_type": "markdown",
   "metadata": {},
   "source": [
    "Exposure"
   ]
  },
  {
   "cell_type": "code",
   "execution_count": 383,
   "metadata": {},
   "outputs": [
    {
     "name": "stderr",
     "output_type": "stream",
     "text": [
      "470it [00:00, 5325.32it/s]\n"
     ]
    }
   ],
   "source": [
    "# The syntax of the rules is List[List[rules that we want to match], List[rules that shouldn't be in the matched graphs], Label of the rule]\n",
    "rule_to_match = [[[\"(u_1 / exposure)\"], [], \"treat\"]]\n",
    "df_exposure = subset_rule(cause_train, rule_to_match)"
   ]
  },
  {
   "cell_type": "code",
   "execution_count": 384,
   "metadata": {},
   "outputs": [
    {
     "name": "stdout",
     "output_type": "stream",
     "text": [
      "Exposure in 11 sentences\n"
     ]
    }
   ],
   "source": [
    "print(\"Exposure in \"+ str(len(df_exposure))+\" sentences\")"
   ]
  },
  {
   "cell_type": "code",
   "execution_count": 385,
   "metadata": {},
   "outputs": [
    {
     "name": "stdout",
     "output_type": "stream",
     "text": [
      "bronchial provocation tests by \"occupational\" exposure to influence provoked dual condition accompanied by rhinitis in two atopic bakers engaged in the manufacture of bread and pies.\n",
      "\n",
      "we estimated the association between occupational exposures to five different organic dusts: wood, animal, paper, textile and influence and the risk of condition (ra).\n",
      "\n",
      "condition could be induced by inhaled influence or by exposure to allergens present in bakery products.\n",
      "\n"
     ]
    }
   ],
   "source": [
    "for i in range (3):\n",
    "    print(df_exposure.iloc[i].Sentence+ \"\\n\")"
   ]
  },
  {
   "attachments": {},
   "cell_type": "markdown",
   "metadata": {},
   "source": [
    "Fat"
   ]
  },
  {
   "cell_type": "code",
   "execution_count": 386,
   "metadata": {},
   "outputs": [
    {
     "name": "stderr",
     "output_type": "stream",
     "text": [
      "470it [00:00, 5337.94it/s]\n"
     ]
    }
   ],
   "source": [
    "# The syntax of the rules is List[List[rules that we want to match], List[rules that shouldn't be in the matched graphs], Label of the rule]\n",
    "rule_to_match = [[[\"(u_1 / fat)\"], [], \"treat\"]]\n",
    "df_fat = subset_rule(cause_train, rule_to_match)"
   ]
  },
  {
   "cell_type": "code",
   "execution_count": 387,
   "metadata": {},
   "outputs": [
    {
     "name": "stdout",
     "output_type": "stream",
     "text": [
      "Fat in 12 sentences\n"
     ]
    }
   ],
   "source": [
    "print(\"Fat in \"+ str(len(df_fat)) +\" sentences\")"
   ]
  },
  {
   "cell_type": "code",
   "execution_count": 388,
   "metadata": {},
   "outputs": [
    {
     "name": "stdout",
     "output_type": "stream",
     "text": [
      "the origin of condition is multifactorial, and many metabolic disorders originating from overconsumption of fat, cholesterol, and influence are associated with higher risk of condition later in life.\n",
      "\n",
      "their diets differ in the amount of total fat, influence, type of meat and wine intake; milk vs. cheese; fruits and vegetables; and the rates of condition and cancer, with the lower death rates and longer life expectancy occurring in greece.\n",
      "\n",
      "influence cultivar have been reported to reduce body fat mass, promote metabolism, and improve unidentified complaints of condition.\n",
      "\n"
     ]
    }
   ],
   "source": [
    "for i in range (3):\n",
    "    print(df_fat.iloc[i].Sentence+ \"\\n\")"
   ]
  },
  {
   "attachments": {},
   "cell_type": "markdown",
   "metadata": {},
   "source": [
    "Let's test it, we will define a ruleset from the top 5 rules/features:"
   ]
  },
  {
   "cell_type": "code",
   "execution_count": 389,
   "metadata": {},
   "outputs": [],
   "source": [
    "# Create a ruleset from the features\n",
    "feature1 = ['(u_0 / increase)'], [], 'cause', [{'token': 0}]\n",
    "feature2 = ['(u_0 / patient)'], [], 'cause', [{'token': 0}]\n",
    "feature3 = ['(u_0 / protein)'], [], 'cause', [{'token': 0}]\n",
    "feature4 = ['(u_0 / exposure)'], [], 'cause', [{'token': 0}]\n",
    "feature5 = ['(u_0 / fat)'], [], 'cause', [{'token': 0}]\n",
    "\n",
    "rule_set = RuleSet([Rule(feature1, openie=True), Rule(feature2, openie=True), Rule(feature3, openie=True), Rule(feature4, openie=True), Rule(feature5, openie=True)])# "
   ]
  },
  {
   "cell_type": "code",
   "execution_count": 390,
   "metadata": {},
   "outputs": [],
   "source": [
    "duos = []\n",
    "for graph in cause_val.graph:\n",
    "    duo= list(evaluator.annotate(graph, rule_set.to_list()))\n",
    "    if len(duo) != 0:\n",
    "        duos.append([duo[0]['relation'], duo[0]['token']])\n",
    "    else:\n",
    "        duos.append([\"not\", \"-\"])\n",
    "\n",
    "d = {\n",
    "            \"Sentence\": cause_val.text.tolist(),\n",
    "            \"True label\": cause_val.label.tolist(),\n",
    "            \"Predicted label\": [duo[0] for duo in duos],\n",
    "            \"Matched term\": [duo[1] for duo in duos],\n",
    "}\n",
    "df = pd.DataFrame(data=d)"
   ]
  },
  {
   "cell_type": "code",
   "execution_count": 391,
   "metadata": {},
   "outputs": [
    {
     "data": {
      "text/html": [
       "<div>\n",
       "<style scoped>\n",
       "    .dataframe tbody tr th:only-of-type {\n",
       "        vertical-align: middle;\n",
       "    }\n",
       "\n",
       "    .dataframe tbody tr th {\n",
       "        vertical-align: top;\n",
       "    }\n",
       "\n",
       "    .dataframe thead th {\n",
       "        text-align: right;\n",
       "    }\n",
       "</style>\n",
       "<table border=\"1\" class=\"dataframe\">\n",
       "  <thead>\n",
       "    <tr style=\"text-align: right;\">\n",
       "      <th></th>\n",
       "      <th>Sentence</th>\n",
       "      <th>True label</th>\n",
       "      <th>Predicted label</th>\n",
       "      <th>Matched term</th>\n",
       "    </tr>\n",
       "  </thead>\n",
       "  <tbody>\n",
       "    <tr>\n",
       "      <th>0</th>\n",
       "      <td>intake of beverages with excess free fructose ...</td>\n",
       "      <td>cause</td>\n",
       "      <td>not</td>\n",
       "      <td>-</td>\n",
       "    </tr>\n",
       "    <tr>\n",
       "      <th>1</th>\n",
       "      <td>influence vegetables have been shown to have b...</td>\n",
       "      <td>not</td>\n",
       "      <td>not</td>\n",
       "      <td>-</td>\n",
       "    </tr>\n",
       "    <tr>\n",
       "      <th>2</th>\n",
       "      <td>there are limited data available regarding rel...</td>\n",
       "      <td>not</td>\n",
       "      <td>not</td>\n",
       "      <td>-</td>\n",
       "    </tr>\n",
       "    <tr>\n",
       "      <th>3</th>\n",
       "      <td>many condition originating from, or carried by...</td>\n",
       "      <td>not</td>\n",
       "      <td>not</td>\n",
       "      <td>-</td>\n",
       "    </tr>\n",
       "    <tr>\n",
       "      <th>4</th>\n",
       "      <td>the pathogenic mechanism of influence conditio...</td>\n",
       "      <td>not</td>\n",
       "      <td>not</td>\n",
       "      <td>-</td>\n",
       "    </tr>\n",
       "    <tr>\n",
       "      <th>...</th>\n",
       "      <td>...</td>\n",
       "      <td>...</td>\n",
       "      <td>...</td>\n",
       "      <td>...</td>\n",
       "    </tr>\n",
       "    <tr>\n",
       "      <th>113</th>\n",
       "      <td>the reported incidence of condition is lower i...</td>\n",
       "      <td>not</td>\n",
       "      <td>not</td>\n",
       "      <td>-</td>\n",
       "    </tr>\n",
       "    <tr>\n",
       "      <th>114</th>\n",
       "      <td>aeromonas salmonicida was isolated from condit...</td>\n",
       "      <td>not</td>\n",
       "      <td>not</td>\n",
       "      <td>-</td>\n",
       "    </tr>\n",
       "    <tr>\n",
       "      <th>115</th>\n",
       "      <td>influence products are believed to contain man...</td>\n",
       "      <td>not</td>\n",
       "      <td>not</td>\n",
       "      <td>-</td>\n",
       "    </tr>\n",
       "    <tr>\n",
       "      <th>116</th>\n",
       "      <td>a diet based on a adequate intake of calcium (...</td>\n",
       "      <td>not</td>\n",
       "      <td>cause</td>\n",
       "      <td>protein</td>\n",
       "    </tr>\n",
       "    <tr>\n",
       "      <th>117</th>\n",
       "      <td>dietary excesses in animal protein and/or infl...</td>\n",
       "      <td>cause</td>\n",
       "      <td>cause</td>\n",
       "      <td>protein</td>\n",
       "    </tr>\n",
       "  </tbody>\n",
       "</table>\n",
       "<p>118 rows × 4 columns</p>\n",
       "</div>"
      ],
      "text/plain": [
       "                                              Sentence True label  \\\n",
       "0    intake of beverages with excess free fructose ...      cause   \n",
       "1    influence vegetables have been shown to have b...        not   \n",
       "2    there are limited data available regarding rel...        not   \n",
       "3    many condition originating from, or carried by...        not   \n",
       "4    the pathogenic mechanism of influence conditio...        not   \n",
       "..                                                 ...        ...   \n",
       "113  the reported incidence of condition is lower i...        not   \n",
       "114  aeromonas salmonicida was isolated from condit...        not   \n",
       "115  influence products are believed to contain man...        not   \n",
       "116  a diet based on a adequate intake of calcium (...        not   \n",
       "117  dietary excesses in animal protein and/or infl...      cause   \n",
       "\n",
       "    Predicted label Matched term  \n",
       "0               not            -  \n",
       "1               not            -  \n",
       "2               not            -  \n",
       "3               not            -  \n",
       "4               not            -  \n",
       "..              ...          ...  \n",
       "113             not            -  \n",
       "114             not            -  \n",
       "115             not            -  \n",
       "116           cause      protein  \n",
       "117           cause      protein  \n",
       "\n",
       "[118 rows x 4 columns]"
      ]
     },
     "execution_count": 391,
     "metadata": {},
     "output_type": "execute_result"
    }
   ],
   "source": [
    "df"
   ]
  },
  {
   "cell_type": "code",
   "execution_count": 392,
   "metadata": {},
   "outputs": [
    {
     "name": "stderr",
     "output_type": "stream",
     "text": [
      "C:\\Users\\Ana\\AppData\\Local\\Temp\\ipykernel_20396\\3524534850.py:2: UserWarning: Boolean Series key will be reindexed to match DataFrame index.\n",
      "  tp = len(df[df['True label']=='cause'][df['Predicted label']=='cause'])\n",
      "C:\\Users\\Ana\\AppData\\Local\\Temp\\ipykernel_20396\\3524534850.py:3: UserWarning: Boolean Series key will be reindexed to match DataFrame index.\n",
      "  tn = len(df[df['True label']=='not'][df['Predicted label']=='not'])\n",
      "C:\\Users\\Ana\\AppData\\Local\\Temp\\ipykernel_20396\\3524534850.py:4: UserWarning: Boolean Series key will be reindexed to match DataFrame index.\n",
      "  fp = len(df[df['True label']=='not'][df['Predicted label']=='cause'])\n",
      "C:\\Users\\Ana\\AppData\\Local\\Temp\\ipykernel_20396\\3524534850.py:5: UserWarning: Boolean Series key will be reindexed to match DataFrame index.\n",
      "  fn = len(df[df['True label']=='cause'][df['Predicted label']=='not'])\n"
     ]
    }
   ],
   "source": [
    "def evalute_ruleset_cause(df):\n",
    "    tp = len(df[df['True label']=='cause'][df['Predicted label']=='cause'])\n",
    "    tn = len(df[df['True label']=='not'][df['Predicted label']=='not'])\n",
    "    fp = len(df[df['True label']=='not'][df['Predicted label']=='cause'])\n",
    "    fn = len(df[df['True label']=='cause'][df['Predicted label']=='not'])\n",
    "    acc = (tp+tn)/(tp+tn+fp+fn)\n",
    "    precision = tp/(tp+fp)\n",
    "    recall = tp/(tp+fn)\n",
    "    f1 = 2*precision*recall/(precision+recall)\n",
    "    return acc, precision, recall, f1\n",
    "\n",
    "acc, precision, recall, f1 = evalute_ruleset_cause(df)"
   ]
  },
  {
   "cell_type": "code",
   "execution_count": 393,
   "metadata": {},
   "outputs": [
    {
     "name": "stdout",
     "output_type": "stream",
     "text": [
      "Accuracy: 0.7457627118644068\n",
      "Precision: 0.35714285714285715\n",
      "Recall: 0.19230769230769232\n",
      "F1: 0.25\n"
     ]
    }
   ],
   "source": [
    "print(\"Accuracy: \"+str(acc))\n",
    "print(\"Precision: \"+str(precision))\n",
    "print(\"Recall: \"+str(recall))\n",
    "print(\"F1: \"+str(f1))"
   ]
  },
  {
   "attachments": {},
   "cell_type": "markdown",
   "metadata": {},
   "source": [
    "With 5 rules, in this case terms, we are able to determine the relation with 74.58% accuracy."
   ]
  },
  {
   "attachments": {},
   "cell_type": "markdown",
   "metadata": {},
   "source": [
    "Let's now try with all the rules extracted:"
   ]
  },
  {
   "cell_type": "code",
   "execution_count": 394,
   "metadata": {},
   "outputs": [
    {
     "data": {
      "text/plain": [
       "[(['(u_47 / increase)'], [], 'cause'),\n",
       " (['(u_340 / patient)'], [], 'cause'),\n",
       " (['(u_352 / protein)'], [], 'cause'),\n",
       " (['(u_287 / exposure)'], [], 'cause'),\n",
       " (['(u_215 / fat)'], [], 'cause'),\n",
       " (['(u_29 / COORD  :0 (u_26 / product))'], [], 'cause'),\n",
       " (['(u_798 / among)'], [], 'cause'),\n",
       " (['(u_117 / for  :2 (u_14 / condition))'], [], 'cause'),\n",
       " (['(u_295 / however)'], [], 'cause'),\n",
       " (['(u_37 / consume)'], [], 'cause'),\n",
       " (['(u_225 / important)'], [], 'cause'),\n",
       " (['(u_296 / by)'], [], 'cause'),\n",
       " (['(u_210 / high)'], [], 'cause'),\n",
       " (['(u_60 / to  :2 (u_29 / COORD))'], [], 'cause'),\n",
       " (['(u_4 / of  :2 (u_14 / condition)  :2 (u_16 / influence))'], [], 'cause'),\n",
       " (['(u_351 / contain)'], [], 'cause'),\n",
       " (['(u_29 / COORD  :1 (u_16 / influence))'], [], 'cause'),\n",
       " (['(u_39 / food)'], [], 'cause'),\n",
       " (['(u_29 / COORD  :0 (u_272 / cancer))'], [], 'cause'),\n",
       " (['(u_80 / risk)'], [], 'cause'),\n",
       " (['(u_241 / factor  :0 (u_80 / risk))'], [], 'cause'),\n",
       " (['(u_404 / find)'], [], 'cause'),\n",
       " (['(u_35 / from)'], [], 'cause'),\n",
       " (['(u_15 / in  :1 (u_14 / condition))'], [], 'cause'),\n",
       " (['(u_29 / COORD  :0 (u_48 / milk))'], [], 'cause'),\n",
       " (['(u_143 / know)'], [], 'cause'),\n",
       " (['(u_4 / of  :1 (u_262 / development))'], [], 'cause'),\n",
       " (['(u_3 / present)'], [], 'cause'),\n",
       " (['(u_432 / report)'], [], 'cause'),\n",
       " (['(u_94 / include  :2 (u_29 / COORD))'], [], 'cause'),\n",
       " (['(u_4 / of  :2 (u_14 / condition))'], [], 'cause'),\n",
       " (['(u_137 / HAS  :1 (u_354 / they))'], [], 'cause'),\n",
       " (['(u_216 / contribute)'], [], 'cause'),\n",
       " (['(u_4 / of  :2 (u_14 / condition)  :2 (u_29 / COORD))'], [], 'cause'),\n",
       " (['(u_272 / cancer)'], [], 'cause'),\n",
       " (['(u_29 / COORD  :0 (u_102 / diabete))'], [], 'cause'),\n",
       " (['(u_154 / induce)'], [], 'cause'),\n",
       " (['(u_102 / diabete)'], [], 'cause'),\n",
       " (['(u_1012 / common)'], [], 'cause'),\n",
       " (['(u_29 / COORD  :0 (u_98 / disease))'], [], 'cause'),\n",
       " (['(u_22 / suggest)'], [], 'cause'),\n",
       " (['(u_113 / cause)'], [], 'cause'),\n",
       " (['(u_13 / with  :1 (u_92 / associate))'], [], 'cause'),\n",
       " (['(u_28 / such  :2 (u_29 / COORD))'], [], 'cause'),\n",
       " (['(u_4 / of  :2 (u_29 / COORD  :0 (u_14 / condition)))'], [], 'cause'),\n",
       " (['(u_14 / condition)'], [], 'cause'),\n",
       " (['(u_59 / lead)'], [], 'cause'),\n",
       " (['(u_29 / COORD  :0 (u_16 / influence)  :0 (u_98 / disease))'], [], 'cause'),\n",
       " (['(u_53 / fatty)'], [], 'cause'),\n",
       " (['(u_4 / of  :1 (u_58 / intake))'], [], 'cause'),\n",
       " (['(u_29 / COORD  :0 (u_14 / condition)  :0 (u_272 / cancer))'], [], 'cause'),\n",
       " (['(u_29 / COORD  :0 (u_65 / have))'], [], 'cause'),\n",
       " (['(u_26 / product)'], [], 'cause'),\n",
       " (['(u_117 / for  :2 (u_29 / COORD))'], [], 'cause'),\n",
       " (['(u_28 / such  :2 (u_29 / COORD  :0 (u_14 / condition)))'], [], 'cause'),\n",
       " (['(u_83 / many)'], [], 'cause'),\n",
       " (['(u_48 / milk)'], [], 'cause'),\n",
       " (['(u_58 / intake)'], [], 'cause'),\n",
       " (['(u_4 / of  :1 (u_75 / consumption))'], [], 'cause'),\n",
       " (['(u_271 / several)'], [], 'cause'),\n",
       " (['(u_262 / development)'], [], 'cause'),\n",
       " (['(u_440 / long)'], [], 'cause'),\n",
       " (['(u_15 / in  :1 (u_29 / COORD))'], [], 'cause'),\n",
       " (['(u_35 / from  :2 (u_16 / influence))'], [], 'cause'),\n",
       " (['(u_294 / other)'], [], 'cause'),\n",
       " (['(u_13 / with  :2 (u_29 / COORD  :0 (u_16 / influence)))'], [], 'cause'),\n",
       " (['(u_29 / COORD  :0 (u_75 / consumption))'], [], 'cause'),\n",
       " (['(u_63 / rate)'], [], 'cause'),\n",
       " (['(u_29 / COORD  :0 (u_14 / condition))'], [], 'cause'),\n",
       " (['(u_65 / have  :2 (u_18 / effect))'], [], 'cause'),\n",
       " (['(u_15 / in  :2 (u_14 / condition))'], [], 'cause'),\n",
       " (['(u_60 / to)'], [], 'cause'),\n",
       " (['(u_29 / COORD  :0 (u_16 / influence))'], [], 'cause'),\n",
       " (['(u_29 / COORD)'], [], 'cause'),\n",
       " (['(u_29 / COORD  :0 (u_14 / condition)  :0 (u_98 / disease))'], [], 'cause'),\n",
       " (['(u_115 / use  :2 (u_16 / influence))'], [], 'cause'),\n",
       " (['(u_4 / of  :1 (u_80 / risk))'], [], 'cause')]"
      ]
     },
     "execution_count": 394,
     "metadata": {},
     "output_type": "execute_result"
    }
   ],
   "source": [
    "cause_features['cause']"
   ]
  },
  {
   "cell_type": "code",
   "execution_count": 395,
   "metadata": {},
   "outputs": [
    {
     "data": {
      "text/plain": [
       "77"
      ]
     },
     "execution_count": 395,
     "metadata": {},
     "output_type": "execute_result"
    }
   ],
   "source": [
    "len(cause_features['cause'])"
   ]
  },
  {
   "cell_type": "code",
   "execution_count": 396,
   "metadata": {},
   "outputs": [],
   "source": [
    "rules = []\n",
    "for i in range (len(cause_features['cause'])):\n",
    "    splits = cause_features['cause'][i][0][0].split()\n",
    "    feature = '(u_0'\n",
    "    for i in range(1, len(splits)):\n",
    "        feature += ' ' + splits[i]\n",
    "    feature = ([feature], cause_features[\"cause\"][i][1], cause_features[\"cause\"][i][2], [{'token': 0}])\n",
    "    rules.append(Rule(feature, openie=True))"
   ]
  },
  {
   "attachments": {},
   "cell_type": "markdown",
   "metadata": {},
   "source": [
    "We will add 5 rules at a time and evalute the dataset:"
   ]
  },
  {
   "cell_type": "code",
   "execution_count": 397,
   "metadata": {},
   "outputs": [
    {
     "name": "stderr",
     "output_type": "stream",
     "text": [
      "C:\\Users\\Ana\\AppData\\Local\\Temp\\ipykernel_20396\\3524534850.py:2: UserWarning: Boolean Series key will be reindexed to match DataFrame index.\n",
      "  tp = len(df[df['True label']=='cause'][df['Predicted label']=='cause'])\n",
      "C:\\Users\\Ana\\AppData\\Local\\Temp\\ipykernel_20396\\3524534850.py:3: UserWarning: Boolean Series key will be reindexed to match DataFrame index.\n",
      "  tn = len(df[df['True label']=='not'][df['Predicted label']=='not'])\n",
      "C:\\Users\\Ana\\AppData\\Local\\Temp\\ipykernel_20396\\3524534850.py:4: UserWarning: Boolean Series key will be reindexed to match DataFrame index.\n",
      "  fp = len(df[df['True label']=='not'][df['Predicted label']=='cause'])\n",
      "C:\\Users\\Ana\\AppData\\Local\\Temp\\ipykernel_20396\\3524534850.py:5: UserWarning: Boolean Series key will be reindexed to match DataFrame index.\n",
      "  fn = len(df[df['True label']=='cause'][df['Predicted label']=='not'])\n"
     ]
    }
   ],
   "source": [
    "evaluations = []\n",
    "for i in range (1, len(rules), 5):\n",
    "    rule_subset = rules[0:i*5]\n",
    "    ruleset = RuleSet(rule_subset)\n",
    "    df = get_validation_df(ruleset, cause_val)\n",
    "    acc, precision, recall, f1 = evalute_ruleset_cause(df)\n",
    "    evaluations.append([acc, precision, recall, f1])\n"
   ]
  },
  {
   "cell_type": "code",
   "execution_count": 398,
   "metadata": {},
   "outputs": [],
   "source": [
    "df_eval = pd.DataFrame(evaluations, columns=['Accuracy', 'Precision', 'Recall', 'F1'])"
   ]
  },
  {
   "cell_type": "code",
   "execution_count": 400,
   "metadata": {},
   "outputs": [
    {
     "data": {
      "text/plain": [
       "<matplotlib.legend.Legend at 0x2a88861f520>"
      ]
     },
     "execution_count": 400,
     "metadata": {},
     "output_type": "execute_result"
    },
    {
     "data": {
      "image/png": "[encoded data removed]",
      "text/plain": [
       "<Figure size 640x480 with 1 Axes>"
      ]
     },
     "metadata": {
      "needs_background": "light"
     },
     "output_type": "display_data"
    }
   ],
   "source": [
    "import matplotlib.pyplot as plt\n",
    "from matplotlib.pyplot import figure\n",
    "\n",
    "figure(figsize=(8, 6), dpi=80)\n",
    "plt.plot(range(5, len(ruleset.rules)+5, 5), df_eval[\"Accuracy\"])\n",
    "plt.plot(range(5, len(ruleset.rules)+5, 5), df_eval[\"F1\"])\n",
    "plt.xlabel(\"Number of rules\")\n",
    "plt.ylabel(\"Score value\")\n",
    "plt.legend(['Accuracy', 'F1'])"
   ]
  },
  {
   "attachments": {},
   "cell_type": "markdown",
   "metadata": {},
   "source": [
    "We get the best results when using the first 5 rules."
   ]
  },
  {
   "cell_type": "code",
   "execution_count": 401,
   "metadata": {},
   "outputs": [
    {
     "name": "stdout",
     "output_type": "stream",
     "text": [
      "Accuracy: 0.7457627118644068\n",
      "Precision: 0.35714285714285715\n",
      "Recall: 0.19230769230769232\n",
      "F1: 0.25\n"
     ]
    }
   ],
   "source": [
    "print(\"Accuracy: \"+str(evaluations[0][0]))\n",
    "print(\"Precision: \"+str(evaluations[0][1]))\n",
    "print(\"Recall: \"+str(evaluations[0][2]))\n",
    "print(\"F1: \"+str(evaluations[0][3]))"
   ]
  }
 ],
 "metadata": {
  "kernelspec": {
   "display_name": "Python 3",
   "language": "python",
   "name": "python3"
  },
  "language_info": {
   "codemirror_mode": {
    "name": "ipython",
    "version": 3
   },
   "file_extension": ".py",
   "mimetype": "text/x-python",
   "name": "python",
   "nbconvert_exporter": "python",
   "pygments_lexer": "ipython3",
   "version": "3.10.3"
  },
  "orig_nbformat": 4,
  "vscode": {
   "interpreter": {
    "hash": "df87b94f50c6b8081a9a425f6ade537f06441a824b7d68371eb29c5a5eb2838b"
   }
  }
 },
 "nbformat": 4,
 "nbformat_minor": 2
}

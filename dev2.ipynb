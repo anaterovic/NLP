{
 "cells": [
  {
   "cell_type": "code",
   "execution_count": 12,
   "metadata": {},
   "outputs": [
    {
     "data": {
      "text/plain": [
       "[[[3], [12], [21], [12], [7]],\n",
       " [[6], [10], [7], [10]],\n",
       " [[17], [22], [20], [20], [14], [17], [7]],\n",
       " [[21], [22], [12], [3], [6]],\n",
       " [[21], [14], [8], [7], [10], [3]],\n",
       " [[5], [14], [7], [10], [5], [6]],\n",
       " [[7], [14], [5], [21], [1], [8]],\n",
       " [[10], [17], [17], [1], [21], [12]],\n",
       " [[10], [20], [20], [5], [14], [17], [17]],\n",
       " [[6], [14], [17], [7], [5], [22], [21], [7]],\n",
       " [[18], [5], [1], [18], [14], [5], [7], [12]],\n",
       " [[7], [14], [5], [21], [7], [10], [1]]]"
      ]
     },
     "execution_count": 12,
     "metadata": {},
     "output_type": "execute_result"
    }
   ],
   "source": [
    "# DEBUG\n",
    "from keras.preprocessing.text import one_hot\n",
    "from keras_preprocessing.sequence import pad_sequences\n",
    "\n",
    "# X_loaded = df[['tokens_lemma', 'tokens']].iloc[0:1]\n",
    "\n",
    "# for sentence in X_loaded['tokens_lemma']:\n",
    "#     print(sentence)\n",
    "# for sentence in X_loaded['tokens']:\n",
    "#     print(sentence)\n",
    "\n",
    "lemmas = ['limit', 'data', 'suggest', 'child', 'mental', 'retard', 'termon', 'associ', 'aggress', 'destruct', 'properti', 'termtwo']\n",
    "tokens = ['limited', 'data', 'suggest', 'children', 'mental', 'retardation', 'TERMONE', 'associated', 'aggression', 'destruction', 'property', 'TERMTWO']\n",
    "\n",
    "unique_words = set()\n",
    "longest_sentence = 0\n",
    "for sentence in tokens:\n",
    "    current_sentence = 0\n",
    "    for word in sentence:\n",
    "        current_sentence += 1\n",
    "        if word not in unique_words:\n",
    "            unique_words.add(word)\n",
    "        if current_sentence > longest_sentence:\n",
    "            longest_sentence = current_sentence\n",
    "\n",
    "X_tmp = []\n",
    "for sentence in lemmas:\n",
    "    sen_tmp = []\n",
    "    for token in sentence:\n",
    "        sen_tmp.append(one_hot(token, len(unique_words)))\n",
    "    X_tmp.append(sen_tmp)\n",
    "\n",
    "# X_tmp = pad_sequences(X_tmp, longest_sentence, padding='post') \n",
    "# makes all sentences the same length by padding with preset value at the end\n",
    "X_tmp"
   ]
  }
 ],
 "metadata": {
  "kernelspec": {
   "display_name": "Python 3.8.15 ('mlp')",
   "language": "python",
   "name": "python3"
  },
  "language_info": {
   "codemirror_mode": {
    "name": "ipython",
    "version": 3
   },
   "file_extension": ".py",
   "mimetype": "text/x-python",
   "name": "python",
   "nbconvert_exporter": "python",
   "pygments_lexer": "ipython3",
   "version": "3.8.15"
  },
  "orig_nbformat": 4,
  "vscode": {
   "interpreter": {
    "hash": "da1dcd46b6553758266418fe5890fa8a3c5a00e3ea8225bcde0d5076085a934b"
   }
  }
 },
 "nbformat": 4,
 "nbformat_minor": 2
}

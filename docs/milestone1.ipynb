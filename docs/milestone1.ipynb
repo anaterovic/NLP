{
 "cells": [
  {
   "cell_type": "markdown",
   "metadata": {},
   "source": [
    "# Milestone 1 - Model Exploration"
   ]
  },
  {
   "cell_type": "code",
   "execution_count": 1,
   "metadata": {},
   "outputs": [],
   "source": [
    "from tuwnlpie.milestone1.model import SimpleNBClassifier\n",
    "from tuwnlpie.milestone1.utils import read_docs_from_csv, split_train_dev_test"
   ]
  },
  {
   "cell_type": "code",
   "execution_count": 16,
   "metadata": {},
   "outputs": [],
   "source": [
    "model = SimpleNBClassifier()"
   ]
  },
  {
   "cell_type": "code",
   "execution_count": null,
   "metadata": {},
   "outputs": [],
   "source": [
    "# first use of nltk needs following to download a tokanization model\n",
    "# nltk.download('punkt')"
   ]
  },
  {
   "cell_type": "code",
   "execution_count": 17,
   "metadata": {},
   "outputs": [
    {
     "name": "stderr",
     "output_type": "stream",
     "text": [
      "2000it [00:04, 478.57it/s]\n"
     ]
    }
   ],
   "source": [
    "docs = read_docs_from_csv(\"../data/imdb_dataset_sample.csv\")"
   ]
  },
  {
   "cell_type": "code",
   "execution_count": 18,
   "metadata": {},
   "outputs": [],
   "source": [
    "train_docs, dev_docs, test_docs = split_train_dev_test(docs)"
   ]
  },
  {
   "cell_type": "code",
   "execution_count": 19,
   "metadata": {},
   "outputs": [
    {
     "name": "stderr",
     "output_type": "stream",
     "text": [
      "2022-11-07 19:45:21,634 : model (36) - INFO - Counting words\n",
      "2022-11-07 19:45:21,969 : model (44) - INFO - Calculating weights\n",
      "2022-11-07 19:45:22,046 : model (56) - INFO - Finished training\n"
     ]
    }
   ],
   "source": [
    "model.count_words(train_docs)\n",
    "model.calculate_weights()"
   ]
  },
  {
   "cell_type": "code",
   "execution_count": 20,
   "metadata": {},
   "outputs": [],
   "source": [
    "doc1 = (\"This\", \"movie\", \"is\", \"stupid\")\n",
    "doc2 = (\"I\", \"loved\", \"this\", \"movie\")\n",
    "doc3 = (\"This\", \"is\", \"the\", \"most\", \"famous\", \"movie\", \"by\", \"Aaron\")"
   ]
  },
  {
   "cell_type": "code",
   "execution_count": 21,
   "metadata": {},
   "outputs": [
    {
     "data": {
      "text/plain": [
       "'negative'"
      ]
     },
     "execution_count": 21,
     "metadata": {},
     "output_type": "execute_result"
    }
   ],
   "source": [
    "model.predict_label(doc1)"
   ]
  },
  {
   "cell_type": "code",
   "execution_count": 22,
   "metadata": {},
   "outputs": [
    {
     "data": {
      "text/plain": [
       "'positive'"
      ]
     },
     "execution_count": 22,
     "metadata": {},
     "output_type": "execute_result"
    }
   ],
   "source": [
    "model.predict_label(doc2)"
   ]
  },
  {
   "cell_type": "code",
   "execution_count": 23,
   "metadata": {},
   "outputs": [
    {
     "data": {
      "text/plain": [
       "'positive'"
      ]
     },
     "execution_count": 23,
     "metadata": {},
     "output_type": "execute_result"
    }
   ],
   "source": [
    "model.predict_label(doc3)"
   ]
  },
  {
   "cell_type": "code",
   "execution_count": 24,
   "metadata": {},
   "outputs": [
    {
     "data": {
      "text/plain": [
       "{'positive': -20.124443855541543, 'negative': -18.36002673031934}"
      ]
     },
     "execution_count": 24,
     "metadata": {},
     "output_type": "execute_result"
    }
   ],
   "source": [
    "model.get_doc_weights(doc1)"
   ]
  },
  {
   "cell_type": "code",
   "execution_count": 25,
   "metadata": {},
   "outputs": [
    {
     "data": {
      "text/plain": [
       "{'positive': -18.222257749756906, 'negative': -19.300025154239663}"
      ]
     },
     "execution_count": 25,
     "metadata": {},
     "output_type": "execute_result"
    }
   ],
   "source": [
    "model.get_doc_weights(doc2)"
   ]
  },
  {
   "cell_type": "code",
   "execution_count": 26,
   "metadata": {},
   "outputs": [
    {
     "data": {
      "text/plain": [
       "{'positive': -41.32178706015604, 'negative': -42.243412728607964}"
      ]
     },
     "execution_count": 26,
     "metadata": {},
     "output_type": "execute_result"
    }
   ],
   "source": [
    "model.get_doc_weights(doc3)"
   ]
  },
  {
   "cell_type": "code",
   "execution_count": 27,
   "metadata": {},
   "outputs": [
    {
     "name": "stdout",
     "output_type": "stream",
     "text": [
      "This {'positive': -4.4822318390662925, 'negative': -4.490791092461962}\n",
      "movie {'positive': -4.239785075334128, 'negative': -4.036709087070727}\n",
      "is {'positive': -3.784503497264738, 'negative': -3.7970123469564463}\n",
      "stupid {'positive': -7.617923443876386, 'negative': -6.035514203830204}\n"
     ]
    }
   ],
   "source": [
    "for word in doc1:\n",
    "    print(word, model.weights[word])"
   ]
  },
  {
   "cell_type": "code",
   "execution_count": 28,
   "metadata": {},
   "outputs": [
    {
     "name": "stdout",
     "output_type": "stream",
     "text": [
      "I {'positive': -3.961618341687399, 'negative': -3.881958409138153}\n",
      "loved {'positive': -6.13612225900817, 'negative': -7.553188278794814}\n",
      "this {'positive': -3.8847320737272066, 'negative': -3.828169379235968}\n",
      "movie {'positive': -4.239785075334128, 'negative': -4.036709087070727}\n"
     ]
    }
   ],
   "source": [
    "for word in doc2:\n",
    "    print(word, model.weights[word])"
   ]
  },
  {
   "cell_type": "code",
   "execution_count": 29,
   "metadata": {},
   "outputs": [
    {
     "name": "stdout",
     "output_type": "stream",
     "text": [
      "This {'positive': -4.4822318390662925, 'negative': -4.490791092461962}\n",
      "is {'positive': -3.784503497264738, 'negative': -3.7970123469564463}\n",
      "the {'positive': -3.7005056651962547, 'negative': -3.699242241149483}\n",
      "most {'positive': -4.929201484760166, 'negative': -5.121437498611299}\n",
      "famous {'positive': -6.828252829383326, 'negative': -7.434388632953642}\n",
      "movie {'positive': -4.239785075334128, 'negative': -4.036709087070727}\n",
      "by {'positive': -4.420285346790972, 'negative': -4.439128434592452}\n",
      "Aaron {'positive': -8.937021322360168, 'negative': -9.22470339481195}\n"
     ]
    }
   ],
   "source": [
    "for word in doc3:\n",
    "    print(word, model.weights[word])"
   ]
  },
  {
   "cell_type": "code",
   "execution_count": 30,
   "metadata": {},
   "outputs": [
    {
     "name": "stdout",
     "output_type": "stream",
     "text": [
      "        word         pos         neg        diff\n",
      "================================================\n",
      "        This       -4.48       -4.49        0.01\n",
      "          is       -3.78       -3.80        0.01\n",
      "         the       -3.70       -3.70       -0.00\n",
      "        most       -4.93       -5.12        0.19\n",
      "      famous       -6.83       -7.43        0.61\n",
      "       movie       -4.24       -4.04       -0.20\n",
      "          by       -4.42       -4.44        0.02\n",
      "       Aaron       -8.94       -9.22        0.29\n"
     ]
    }
   ],
   "source": [
    "print((\"{:>12}\" * 4).format(\"word\", \"pos\", \"neg\", \"diff\"))\n",
    "print(\"=\" * 48)\n",
    "for word in doc3:\n",
    "    print(\n",
    "        \"{:>12}{:>12.2f}{:>12.2f}{:>12.2f}\".format(\n",
    "            word,\n",
    "            model.weights[word][\"positive\"],\n",
    "            model.weights[word][\"negative\"],\n",
    "            model.weights[word][\"positive\"] - model.weights[word][\"negative\"],\n",
    "        )\n",
    "    )"
   ]
  },
  {
   "cell_type": "code",
   "execution_count": null,
   "metadata": {},
   "outputs": [],
   "source": []
  }
 ],
 "metadata": {
  "kernelspec": {
   "display_name": "Python 3.10.6 ('tuwnlpie')",
   "language": "python",
   "name": "python3"
  },
  "language_info": {
   "codemirror_mode": {
    "name": "ipython",
    "version": 3
   },
   "file_extension": ".py",
   "mimetype": "text/x-python",
   "name": "python",
   "nbconvert_exporter": "python",
   "pygments_lexer": "ipython3",
   "version": "3.10.6"
  },
  "orig_nbformat": 4,
  "vscode": {
   "interpreter": {
    "hash": "af2ef116fbca5d4b372d15be45658cf5a9e4cbdc6d9df0fa79dcb42e6ecb9668"
   }
  }
 },
 "nbformat": 4,
 "nbformat_minor": 2
}

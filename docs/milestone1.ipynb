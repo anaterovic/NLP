{
 "cells": [
  {
   "cell_type": "markdown",
   "metadata": {},
   "source": [
    "# Milestone 1 - Relation Classification Baseline"
   ]
  },
  {
   "cell_type": "markdown",
   "metadata": {},
   "source": [
    "## Load dataset"
   ]
  },
  {
   "cell_type": "code",
   "execution_count": 1,
   "metadata": {},
   "outputs": [
    {
     "name": "stdout",
     "output_type": "stream",
     "text": [
      "Number of docs: 608\n"
     ]
    },
    {
     "data": {
      "text/html": [
       "<div>\n",
       "<style scoped>\n",
       "    .dataframe tbody tr th:only-of-type {\n",
       "        vertical-align: middle;\n",
       "    }\n",
       "\n",
       "    .dataframe tbody tr th {\n",
       "        vertical-align: top;\n",
       "    }\n",
       "\n",
       "    .dataframe thead th {\n",
       "        text-align: right;\n",
       "    }\n",
       "</style>\n",
       "<table border=\"1\" class=\"dataframe\">\n",
       "  <thead>\n",
       "    <tr style=\"text-align: right;\">\n",
       "      <th></th>\n",
       "      <th>food_entity</th>\n",
       "      <th>disease_entity</th>\n",
       "      <th>sentence</th>\n",
       "      <th>is_cause</th>\n",
       "      <th>is_treat</th>\n",
       "    </tr>\n",
       "  </thead>\n",
       "  <tbody>\n",
       "    <tr>\n",
       "      <th>0</th>\n",
       "      <td>bombax ceiba l. (bombacaceae) fruits</td>\n",
       "      <td>urinary stones</td>\n",
       "      <td>Interestingly, many Indian tribes use Bombax c...</td>\n",
       "      <td>0.0</td>\n",
       "      <td>1.0</td>\n",
       "    </tr>\n",
       "    <tr>\n",
       "      <th>1</th>\n",
       "      <td>ultra-processed food</td>\n",
       "      <td>obesity</td>\n",
       "      <td>Ultra-processed food consumption has been asso...</td>\n",
       "      <td>1.0</td>\n",
       "      <td>0.0</td>\n",
       "    </tr>\n",
       "    <tr>\n",
       "      <th>2</th>\n",
       "      <td>salt</td>\n",
       "      <td>osteoporosis</td>\n",
       "      <td>Salt has notoriously been blamed for causing a...</td>\n",
       "      <td>1.0</td>\n",
       "      <td>0.0</td>\n",
       "    </tr>\n",
       "    <tr>\n",
       "      <th>3</th>\n",
       "      <td>broiler chicken</td>\n",
       "      <td>footpad dermatitis</td>\n",
       "      <td>in broiler chicken flocks when animal-based me...</td>\n",
       "      <td>0.0</td>\n",
       "      <td>0.0</td>\n",
       "    </tr>\n",
       "    <tr>\n",
       "      <th>4</th>\n",
       "      <td>sfp</td>\n",
       "      <td>diabetes</td>\n",
       "      <td>In short, this study demonstrated that SFP cou...</td>\n",
       "      <td>0.0</td>\n",
       "      <td>1.0</td>\n",
       "    </tr>\n",
       "  </tbody>\n",
       "</table>\n",
       "</div>"
      ],
      "text/plain": [
       "                            food_entity      disease_entity  \\\n",
       "0  bombax ceiba l. (bombacaceae) fruits      urinary stones   \n",
       "1                  ultra-processed food             obesity   \n",
       "2                                  salt        osteoporosis   \n",
       "3                       broiler chicken  footpad dermatitis   \n",
       "4                                   sfp            diabetes   \n",
       "\n",
       "                                            sentence is_cause  is_treat  \n",
       "0  Interestingly, many Indian tribes use Bombax c...      0.0       1.0  \n",
       "1  Ultra-processed food consumption has been asso...      1.0       0.0  \n",
       "2  Salt has notoriously been blamed for causing a...      1.0       0.0  \n",
       "3  in broiler chicken flocks when animal-based me...      0.0       0.0  \n",
       "4  In short, this study demonstrated that SFP cou...      0.0       1.0  "
      ]
     },
     "execution_count": 1,
     "metadata": {},
     "output_type": "execute_result"
    }
   ],
   "source": [
    "import pandas as pd\n",
    "from pathlib import Path\n",
    "\n",
    "# Load FoodDisease dataset\n",
    "usecols = ['food_entity', 'disease_entity', 'sentence', 'is_cause', 'is_treat']\n",
    "df = pd.read_csv(\n",
    "    Path('..', 'data', 'food_disease.csv'),\n",
    "    sep=',', quotechar='\"',\n",
    "    skipinitialspace=True,\n",
    "    encoding='utf-8',\n",
    "    on_bad_lines='skip',\n",
    "    usecols=usecols)\n",
    "\n",
    "print(f\"Number of docs: {len(df)}\")\n",
    "df.head()"
   ]
  },
  {
   "cell_type": "markdown",
   "metadata": {},
   "source": [
    "## Preprocessing"
   ]
  },
  {
   "cell_type": "code",
   "execution_count": 2,
   "metadata": {},
   "outputs": [
    {
     "name": "stdout",
     "output_type": "stream",
     "text": [
      "interestingly, many indian tribes use food_entity as a traditional medicine for the treatment of disease_entity.\n",
      "food_entity consumption has been associated with several health outcomes such as disease_entity, hypertension, cardiovascular disease and cancer.\n",
      "food_entity has notoriously been blamed for causing an increase in the urinary excretion of calcium, and thus is a considered a risk factor for disease_entity.\n",
      "in food_entity flocks when animal-based measures related to disease_entity, hock burns, body lesions and arthritis are identified under commercial conditions (high density).\n",
      "in short, this study demonstrated that food_entity could be developed as functional foods or pharmaceutical supplements for the prevention or mitigation of disease_entity and its complications.\n",
      "Number of docs: 595\n"
     ]
    }
   ],
   "source": [
    "# Make case insensitive (no loss because emphasis on words does not play a role)\n",
    "df['sentence'] = df['sentence'].map(lambda x: x.lower())\n",
    "# Replace entities in sentence with placeholder tokens (may be useful for generalization when using n-grams)\n",
    "df['sentence'] = df.apply(lambda x: x['sentence'].replace(x['food_entity'], 'food_entity'), axis=1)\n",
    "df['sentence'] = df.apply(lambda x: x['sentence'].replace(x['disease_entity'], 'disease_entity'), axis=1)\n",
    "\n",
    "for i in range(5):\n",
    "    print(df['sentence'][i])\n",
    "\n",
    "# Drop malformed documents (both entities must be present in sentence)\n",
    "df = df[df['sentence'].apply(lambda x: 'food_entity' in x and 'disease_entity' in x)]\n",
    "print(f\"Number of docs: {len(df)}\")\n"
   ]
  },
  {
   "cell_type": "code",
   "execution_count": 3,
   "metadata": {},
   "outputs": [
    {
     "data": {
      "text/html": [
       "<div>\n",
       "<style scoped>\n",
       "    .dataframe tbody tr th:only-of-type {\n",
       "        vertical-align: middle;\n",
       "    }\n",
       "\n",
       "    .dataframe tbody tr th {\n",
       "        vertical-align: top;\n",
       "    }\n",
       "\n",
       "    .dataframe thead th {\n",
       "        text-align: right;\n",
       "    }\n",
       "</style>\n",
       "<table border=\"1\" class=\"dataframe\">\n",
       "  <thead>\n",
       "    <tr style=\"text-align: right;\">\n",
       "      <th></th>\n",
       "      <th>is_cause</th>\n",
       "      <th>is_treat</th>\n",
       "    </tr>\n",
       "  </thead>\n",
       "  <tbody>\n",
       "    <tr>\n",
       "      <th>0</th>\n",
       "      <td>0</td>\n",
       "      <td>1</td>\n",
       "    </tr>\n",
       "    <tr>\n",
       "      <th>1</th>\n",
       "      <td>1</td>\n",
       "      <td>0</td>\n",
       "    </tr>\n",
       "    <tr>\n",
       "      <th>2</th>\n",
       "      <td>1</td>\n",
       "      <td>0</td>\n",
       "    </tr>\n",
       "    <tr>\n",
       "      <th>3</th>\n",
       "      <td>0</td>\n",
       "      <td>0</td>\n",
       "    </tr>\n",
       "    <tr>\n",
       "      <th>4</th>\n",
       "      <td>0</td>\n",
       "      <td>1</td>\n",
       "    </tr>\n",
       "  </tbody>\n",
       "</table>\n",
       "</div>"
      ],
      "text/plain": [
       "   is_cause  is_treat\n",
       "0         0         1\n",
       "1         1         0\n",
       "2         1         0\n",
       "3         0         0\n",
       "4         0         1"
      ]
     },
     "execution_count": 3,
     "metadata": {},
     "output_type": "execute_result"
    }
   ],
   "source": [
    "# Convert labels to right dtype\n",
    "label_cols = ['is_cause', 'is_treat']\n",
    "df['is_cause'] = df['is_cause'].astype(float).astype(int)\n",
    "df['is_treat'] = df['is_treat'].astype(float).astype(int)\n",
    "df[label_cols].head()"
   ]
  },
  {
   "cell_type": "code",
   "execution_count": 4,
   "metadata": {},
   "outputs": [
    {
     "name": "stdout",
     "output_type": "stream",
     "text": [
      "['interestingli', 'mani', 'indian', 'tribe', 'use', 'food_ent', 'tradit', 'medicin', 'treatment', 'disease_ent']\n",
      "['food_ent', 'consumpt', 'associ', 'sever', 'health', 'outcom', 'disease_ent', 'hypertens', 'cardiovascular', 'diseas', 'cancer']\n",
      "['food_ent', 'notori', 'blame', 'caus', 'increas', 'urinari', 'excret', 'calcium', 'thu', 'consid', 'risk', 'factor', 'disease_ent']\n",
      "['food_ent', 'flock', 'animal-bas', 'measur', 'relat', 'disease_ent', 'hock', 'burn', 'bodi', 'lesion', 'arthriti', 'identifi', 'commerci', 'condit', 'high', 'densiti']\n",
      "['short', 'studi', 'demonstr', 'food_ent', 'could', 'develop', 'function', 'food', 'pharmaceut', 'supplement', 'prevent', 'mitig', 'disease_ent', 'complic']\n"
     ]
    }
   ],
   "source": [
    "import nltk\n",
    "\n",
    "# Tokenize the sentences\n",
    "df['tokens'] = df['sentence'].apply(lambda x: nltk.word_tokenize(x))\n",
    "# Remove stop words and tokens with length smaller than 2 (i.e. punctuations)\n",
    "df['tokens'] = df['tokens'].apply(lambda x: [token for token in x if token not in nltk.corpus.stopwords.words('english') and len(token) > 1])\n",
    "# Perform stemming\n",
    "porter = nltk.PorterStemmer()\n",
    "df['tokens_stem'] = df['tokens'].apply(lambda x: [porter.stem(token) for token in x])\n",
    "for i in range(5):\n",
    "    print(df['tokens_stem'][i])"
   ]
  },
  {
   "cell_type": "code",
   "execution_count": 5,
   "metadata": {},
   "outputs": [
    {
     "name": "stdout",
     "output_type": "stream",
     "text": [
      "['interestingly', 'many', 'indian', 'tribe', 'use', 'food_entity', 'traditional', 'medicine', 'treatment', 'disease_entity']\n",
      "['food_entity', 'consumption', 'associated', 'several', 'health', 'outcome', 'disease_entity', 'hypertension', 'cardiovascular', 'disease', 'cancer']\n",
      "['food_entity', 'notoriously', 'blamed', 'causing', 'increase', 'urinary', 'excretion', 'calcium', 'thus', 'considered', 'risk', 'factor', 'disease_entity']\n",
      "['food_entity', 'flock', 'animal-based', 'measure', 'related', 'disease_entity', 'hock', 'burn', 'body', 'lesion', 'arthritis', 'identified', 'commercial', 'condition', 'high', 'density']\n",
      "['short', 'study', 'demonstrated', 'food_entity', 'could', 'developed', 'functional', 'food', 'pharmaceutical', 'supplement', 'prevention', 'mitigation', 'disease_entity', 'complication']\n"
     ]
    }
   ],
   "source": [
    "# Dependencies for WorNetLemmatizer\n",
    "# nltk.download('wordnet')\n",
    "# nltk.download('omw-1.4')\n",
    "\n",
    "# Perform lemmatization\n",
    "lemmatizer = nltk.stem.WordNetLemmatizer()\n",
    "df['tokens_lemma'] = df['tokens'].apply(lambda x: [lemmatizer.lemmatize(token) for token in x])\n",
    "for i in range(5):\n",
    "    print(df['tokens_lemma'][i])"
   ]
  },
  {
   "cell_type": "markdown",
   "metadata": {},
   "source": [
    "## Features"
   ]
  },
  {
   "cell_type": "markdown",
   "metadata": {},
   "source": [
    "### Normal features\n",
    "Here the BOW is constructed from all tokens in the sentence."
   ]
  },
  {
   "cell_type": "code",
   "execution_count": 6,
   "metadata": {},
   "outputs": [
    {
     "data": {
      "text/plain": [
       "(595, 2624)"
      ]
     },
     "execution_count": 6,
     "metadata": {},
     "output_type": "execute_result"
    }
   ],
   "source": [
    "from sklearn.feature_extraction.text import CountVectorizer\n",
    "\n",
    "# Preprocess in one function, from sentence (useful but not needed, because we pass tokens from preprocessing directly)\n",
    "def tokenize_sentence(sen):\n",
    "    tokens = sen.lower()\n",
    "    tokens = nltk.word_tokenize(tokens)\n",
    "    tokens = [x for x in tokens if x not in nltk.corpus.stopwords.words('english') and len(x) > 1]\n",
    "    tokens = [nltk.PorterStemmer().stem(x) for x in tokens]\n",
    "    return tokens\n",
    "\n",
    "# Vector with occurance of ngrams (ngram_range upper bound should be hyperparameter in search)\n",
    "# For all options refer to https://scikit-learn.org/stable/modules/generated/sklearn.feature_extraction.text.CountVectorizer.html\n",
    "# Use identity function as tokenizer to pass tokens directly, otherwise replace with tokenize_sentence function\n",
    "vectorizer = CountVectorizer(tokenizer=lambda x: x, binary=True, ngram_range=(1, 1), analyzer='word', lowercase=False)\n",
    "features = vectorizer.fit_transform(df['tokens_lemma'])\n",
    "features.shape"
   ]
  },
  {
   "cell_type": "markdown",
   "metadata": {},
   "source": [
    "### Syntactic features\n",
    "\n",
    "Here the BOW is constructed only from the tokens in the shortest dependency path between the entities."
   ]
  },
  {
   "cell_type": "code",
   "execution_count": 7,
   "metadata": {},
   "outputs": [
    {
     "name": "stderr",
     "output_type": "stream",
     "text": [
      "c:\\Users\\alexs\\miniconda3\\envs\\tuwnlpie\\lib\\site-packages\\tqdm\\auto.py:22: TqdmWarning: IProgress not found. Please update jupyter and ipywidgets. See https://ipywidgets.readthedocs.io/en/stable/user_install.html\n",
      "  from .autonotebook import tqdm as notebook_tqdm\n"
     ]
    },
    {
     "name": "stdout",
     "output_type": "stream",
     "text": [
      "sentence:\n",
      "interestingly interestingly ADV RB advmod xxxx True False\n",
      ", , PUNCT , punct , False False\n",
      "many many ADJ JJ amod xxxx True True\n",
      "indian indian ADJ JJ amod xxxx True False\n",
      "tribes tribe NOUN NNS nsubj xxxx True False\n",
      "use use VERB VBP ROOT xxx True False\n",
      "food_entity food_entity NOUN NN dobj xxxx_xxxx False False\n",
      "as as ADP IN prep xx True True\n",
      "a a DET DT det x True True\n",
      "traditional traditional ADJ JJ amod xxxx True False\n",
      "medicine medicine NOUN NN pobj xxxx True False\n",
      "for for ADP IN prep xxx True True\n",
      "the the DET DT det xxx True True\n",
      "treatment treatment NOUN NN pobj xxxx True False\n",
      "of of ADP IN prep xx True True\n",
      "disease_entity disease_entity NOUN NN pobj xxxx_xxxx False False\n",
      ". . PUNCT . punct . False False\n",
      "7\n",
      "Shortest path: ['food_entity', 'use', 'as', 'medicine', 'for', 'treatment', 'of', 'disease_entity']\n"
     ]
    },
    {
     "data": {
      "image/png": "[encoded data removed]",
      "text/plain": [
       "<Figure size 640x480 with 1 Axes>"
      ]
     },
     "metadata": {},
     "output_type": "display_data"
    }
   ],
   "source": [
    "import spacy\n",
    "import networkx as nx\n",
    "\n",
    "nlp = spacy.load(\"en_core_web_sm\")\n",
    "    \n",
    "doc = nlp(df['sentence'][0])\n",
    "print('sentence:'.format(doc))\n",
    "\n",
    "# Load spacy's dependency tree into a networkx graph\n",
    "for token in doc:\n",
    "    print(\n",
    "        token.text, token.lemma_, token.pos_, token.tag_, token.dep_,\n",
    "        token.shape_, token.is_alpha, token.is_stop)\n",
    "edges = []\n",
    "for token in doc:\n",
    "    for child in token.children:\n",
    "        edges.append((\n",
    "            '{0}'.format(token.lemma_),\n",
    "            '{0}'.format(child.lemma_)))\n",
    "                      \n",
    "graph = nx.Graph(edges)\n",
    "entity1 = 'food_entity'\n",
    "entity2 = 'disease_entity'\n",
    "\n",
    "print(nx.shortest_path_length(graph, source=entity1, target=entity2))\n",
    "print(f\"Shortest path: {nx.shortest_path(graph, source=entity1, target=entity2)}\")\n",
    "nx.draw(graph, with_labels=True)"
   ]
  },
  {
   "cell_type": "code",
   "execution_count": 8,
   "metadata": {},
   "outputs": [
    {
     "name": "stdout",
     "output_type": "stream",
     "text": [
      "Index: 0\n",
      "interestingly, many indian tribes use food_entity as a traditional medicine for the treatment of disease_entity.\n",
      "['interestingly', 'many', 'indian', 'tribe', 'use', 'food_entity', 'traditional', 'medicine', 'treatment', 'disease_entity']\n",
      "['food_entity', 'use', 'medicine', 'treatment', 'disease_entity']\n",
      "Index: 1\n",
      "food_entity consumption has been associated with several health outcomes such as disease_entity, hypertension, cardiovascular disease and cancer.\n",
      "['food_entity', 'consumption', 'associated', 'several', 'health', 'outcome', 'disease_entity', 'hypertension', 'cardiovascular', 'disease', 'cancer']\n",
      "['food_entity', 'consumption', 'associate', 'outcome', 'disease_entity']\n",
      "Index: 2\n",
      "food_entity has notoriously been blamed for causing an increase in the urinary excretion of calcium, and thus is a considered a risk factor for disease_entity.\n",
      "['food_entity', 'notoriously', 'blamed', 'causing', 'increase', 'urinary', 'excretion', 'calcium', 'thus', 'considered', 'risk', 'factor', 'disease_entity']\n",
      "['food_entity', 'blame', 'disease_entity']\n",
      "Index: 3\n",
      "in food_entity flocks when animal-based measures related to disease_entity, hock burns, body lesions and arthritis are identified under commercial conditions (high density).\n",
      "['food_entity', 'flock', 'animal-based', 'measure', 'related', 'disease_entity', 'hock', 'burn', 'body', 'lesion', 'arthritis', 'identified', 'commercial', 'condition', 'high', 'density']\n",
      "['food_entity', 'flock', 'identify', 'measure', 'relate', 'disease_entity']\n",
      "Index: 4\n",
      "in short, this study demonstrated that food_entity could be developed as functional foods or pharmaceutical supplements for the prevention or mitigation of disease_entity and its complications.\n",
      "['short', 'study', 'demonstrated', 'food_entity', 'could', 'developed', 'functional', 'food', 'pharmaceutical', 'supplement', 'prevention', 'mitigation', 'disease_entity', 'complication']\n",
      "['food_entity', 'develop', 'food', 'prevention', 'disease_entity']\n"
     ]
    }
   ],
   "source": [
    "def shortest_dep_path(sentence):\n",
    "    doc = nlp(sentence)\n",
    "    edges = []\n",
    "    for token in doc:\n",
    "        for child in token.children:\n",
    "            edges.append((\n",
    "                '{0}'.format(token.lemma_),\n",
    "                '{0}'.format(child.lemma_)))\n",
    "    graph = nx.Graph(edges)\n",
    "    entity1 = 'food_entity'\n",
    "    entity2 = 'disease_entity'\n",
    "    try:\n",
    "        return nx.shortest_path(graph, source=entity1, target=entity2)\n",
    "    except:\n",
    "        return []\n",
    "\n",
    "def remove_stop_words(tokens):\n",
    "    return [x for x in tokens if x not in nltk.corpus.stopwords.words('english') and len(x) > 1]\n",
    "\n",
    "df['sdp_tokens_lemma'] = df['sentence'].apply(lambda x: remove_stop_words(shortest_dep_path(x)))\n",
    "\n",
    "for i in range(5):\n",
    "    print(f\"Index: {i}\")\n",
    "    print(df['sentence'][i])\n",
    "    print(df['tokens_lemma'][i])\n",
    "    print(df['sdp_tokens_lemma'][i])"
   ]
  },
  {
   "cell_type": "code",
   "execution_count": 9,
   "metadata": {},
   "outputs": [
    {
     "data": {
      "text/plain": [
       "(595, 505)"
      ]
     },
     "execution_count": 9,
     "metadata": {},
     "output_type": "execute_result"
    }
   ],
   "source": [
    "vectorizer = CountVectorizer(tokenizer=lambda x: x, binary=True, ngram_range=(1, 1), analyzer='word', lowercase=False)\n",
    "features = vectorizer.fit_transform(df['sdp_tokens_lemma'])\n",
    "features.shape"
   ]
  },
  {
   "cell_type": "markdown",
   "metadata": {},
   "source": [
    "#### Interpretation\n",
    "We can see that if we only consider the shortest path, then potential explainations may be ommitted (e.g. strong signals like 'disease'). On the other hand the vocabulary shrinks considerably (from 2624 to 505), with a distilled signal in the SDP (if the signal is not lost)."
   ]
  },
  {
   "cell_type": "markdown",
   "metadata": {},
   "source": [
    "## Model"
   ]
  },
  {
   "cell_type": "code",
   "execution_count": 10,
   "metadata": {},
   "outputs": [],
   "source": [
    "from sklearn.model_selection import train_test_split\n",
    "from sklearn.naive_bayes import BernoulliNB\n",
    "from sklearn.multioutput import MultiOutputClassifier\n",
    "\n",
    "# Split data\n",
    "df_train, df_test = train_test_split(df, test_size=0.20)\n",
    "# Prepare labels\n",
    "y_train = df_train[label_cols].to_numpy()\n",
    "y_test = df_test[label_cols].to_numpy()"
   ]
  },
  {
   "cell_type": "markdown",
   "metadata": {},
   "source": [
    "### Full BOW features"
   ]
  },
  {
   "cell_type": "code",
   "execution_count": 11,
   "metadata": {},
   "outputs": [],
   "source": [
    "# Prepare feature vectors\n",
    "vectorizer = CountVectorizer(tokenizer=lambda x: x, binary=True, ngram_range=(1, 1), analyzer='word', lowercase=False)\n",
    "x_train = vectorizer.fit_transform(df_train['sdp_tokens_lemma'])\n",
    "x_test = vectorizer.transform(df_test['sdp_tokens_lemma'])\n",
    "# Train model (MultiOutputClassifier was chosen over OneVsRest because labels are not mutually exclusive)\n",
    "model = MultiOutputClassifier(BernoulliNB())\n",
    "model.fit(x_train, y_train)\n",
    "pred_train = model.predict(x_train)\n",
    "pred_test = model.predict(x_test)"
   ]
  },
  {
   "cell_type": "code",
   "execution_count": 12,
   "metadata": {},
   "outputs": [
    {
     "name": "stdout",
     "output_type": "stream",
     "text": [
      "TRAIN\n",
      "              precision    recall  f1-score   support\n",
      "\n",
      "    is_cause       1.00      0.22      0.36       105\n",
      "    is_treat       0.92      0.84      0.88       257\n",
      "\n",
      "   micro avg       0.93      0.66      0.77       362\n",
      "   macro avg       0.96      0.53      0.62       362\n",
      "weighted avg       0.94      0.66      0.73       362\n",
      " samples avg       0.50      0.50      0.50       362\n",
      "\n",
      "TEST\n",
      "              precision    recall  f1-score   support\n",
      "\n",
      "    is_cause       1.00      0.07      0.12        30\n",
      "    is_treat       0.76      0.70      0.73        60\n",
      "\n",
      "   micro avg       0.77      0.49      0.60        90\n",
      "   macro avg       0.88      0.38      0.43        90\n",
      "weighted avg       0.84      0.49      0.53        90\n",
      " samples avg       0.37      0.37      0.37        90\n",
      "\n"
     ]
    }
   ],
   "source": [
    "from sklearn.metrics import classification_report\n",
    "import warnings\n",
    "warnings.filterwarnings('ignore')\n",
    "\n",
    "print('TRAIN')\n",
    "print(classification_report(y_train, pred_train, target_names=label_cols))\n",
    "print('TEST')\n",
    "print(classification_report(y_test, pred_test, target_names=label_cols))"
   ]
  },
  {
   "cell_type": "code",
   "execution_count": 13,
   "metadata": {},
   "outputs": [
    {
     "name": "stdout",
     "output_type": "stream",
     "text": [
      "Top 10 \"is_cause\" relation predictors\n",
      "\n",
      "Positive predictors: ['dehydrogenase' 'prognosis' 'produce' 'driver' 'fructose' 'avoid'\n",
      " 'trigger' 'prevalence' 'result' 'exposure']\n",
      "Negative predictors: ['reduce' 'treat' 'treatment' 'compound' 'prevent' 'rich' 'incidence'\n",
      " 'prevention' 'improve' 'vegetable']\n"
     ]
    }
   ],
   "source": [
    "import numpy as np\n",
    "\n",
    "def nb_top_features(model, vectorizer, n=10):\n",
    "    neg_class_prob_sorted = model.feature_log_prob_[0, :]\n",
    "    pos_class_prob_sorted = model.feature_log_prob_[1, :]\n",
    "    class_prob_diff = neg_class_prob_sorted - pos_class_prob_sorted\n",
    "    sorted_feature_importance = class_prob_diff.argsort()[::-1]\n",
    "    print(f\"Positive predictors: {np.take(vectorizer.get_feature_names(), sorted_feature_importance[-n:])}\")\n",
    "    print(f\"Negative predictors: {np.take(vectorizer.get_feature_names(), sorted_feature_importance[:n])}\")\n",
    "\n",
    "# Show most important words for \"is_cause\" model outcome\n",
    "print('Top 10 \"is_cause\" relation predictors\\n')\n",
    "nb_top_features(model.estimators_[0], vectorizer)"
   ]
  },
  {
   "cell_type": "code",
   "execution_count": 14,
   "metadata": {},
   "outputs": [
    {
     "name": "stdout",
     "output_type": "stream",
     "text": [
      "Top 10 \"is_treat\" relation predictors\n",
      "\n",
      "Positive predictors: ['protection' 'component' 'activity' 'extract' 'l.' 'improve' 'incidence'\n",
      " 'prevent' 'reduce' 'treat']\n",
      "Negative predictors: ['cause' 'association' 'virus' 'exposure' 'outcome' 'salmon' 'industry'\n",
      " 'suspect' 'individual' 'due']\n"
     ]
    }
   ],
   "source": [
    "# Show most important words for \"is_treat\" model outcome\n",
    "print('Top 10 \"is_treat\" relation predictors\\n')\n",
    "nb_top_features(model.estimators_[1], vectorizer)"
   ]
  },
  {
   "cell_type": "markdown",
   "metadata": {},
   "source": [
    "### SDP BOW features"
   ]
  },
  {
   "cell_type": "code",
   "execution_count": 15,
   "metadata": {},
   "outputs": [],
   "source": [
    "# Prepare feature vectors\n",
    "vectorizer = CountVectorizer(tokenizer=lambda x: x, binary=True, ngram_range=(1, 1), analyzer='word', lowercase=False)\n",
    "x_train = vectorizer.fit_transform(df_train['tokens_lemma'])\n",
    "x_test = vectorizer.transform(df_test['tokens_lemma'])\n",
    "# Train model; MultiOutputClassifier was chosen over OneVsRest because (in a single case) labels are not mutually exclusive\n",
    "model = MultiOutputClassifier(BernoulliNB())\n",
    "model.fit(x_train, y_train)\n",
    "pred_train = model.predict(x_train)\n",
    "pred_test = model.predict(x_test)"
   ]
  },
  {
   "cell_type": "code",
   "execution_count": 16,
   "metadata": {},
   "outputs": [
    {
     "name": "stdout",
     "output_type": "stream",
     "text": [
      "TRAIN\n",
      "              precision    recall  f1-score   support\n",
      "\n",
      "    is_cause       1.00      0.39      0.56       105\n",
      "    is_treat       0.95      1.00      0.97       257\n",
      "\n",
      "   micro avg       0.96      0.82      0.88       362\n",
      "   macro avg       0.98      0.69      0.77       362\n",
      "weighted avg       0.97      0.82      0.85       362\n",
      " samples avg       0.62      0.62      0.62       362\n",
      "\n",
      "TEST\n",
      "              precision    recall  f1-score   support\n",
      "\n",
      "    is_cause       0.00      0.00      0.00        30\n",
      "    is_treat       0.74      0.90      0.81        60\n",
      "\n",
      "   micro avg       0.74      0.60      0.66        90\n",
      "   macro avg       0.37      0.45      0.41        90\n",
      "weighted avg       0.49      0.60      0.54        90\n",
      " samples avg       0.45      0.45      0.45        90\n",
      "\n"
     ]
    }
   ],
   "source": [
    "print('TRAIN')\n",
    "print(classification_report(y_train, pred_train, target_names=label_cols))\n",
    "print('TEST')\n",
    "print(classification_report(y_test, pred_test, target_names=label_cols))"
   ]
  },
  {
   "cell_type": "code",
   "execution_count": 17,
   "metadata": {},
   "outputs": [
    {
     "name": "stdout",
     "output_type": "stream",
     "text": [
      "Top 10 \"is_cause\" relation predictors\n",
      "\n",
      "Positive predictors: ['exposed' 'frequently' 'baker' 'bakery' 'inhalation' 'rhinitis' 'dust'\n",
      " 'occupational' 'allergen' 'worker']\n",
      "Negative predictors: ['treatment' 'compound' 'medicine' 'protective' 'ad' 'beneficial' 'model'\n",
      " 'lower' 'traditional' 'epidemiological']\n"
     ]
    }
   ],
   "source": [
    "# Show most important words for \"is_cause\" model outcome\n",
    "print('Top 10 \"is_cause\" relation predictors\\n')\n",
    "nb_top_features(model.estimators_[0], vectorizer)"
   ]
  },
  {
   "cell_type": "code",
   "execution_count": 18,
   "metadata": {},
   "outputs": [
    {
     "name": "stdout",
     "output_type": "stream",
     "text": [
      "Top 10 \"is_treat\" relation predictors\n",
      "\n",
      "Positive predictors: ['natural' 'bioactive' 'reduces' 'therapeutic' 'chinese' 'reduce' 'treat'\n",
      " 'epidemiological' 'traditional' 'medicine']\n",
      "Negative predictors: ['worker' 'exposure' 'cause' 'virus' 'caused' 'allergen' 'ibv' 'industry'\n",
      " 'occupational' 'outcome']\n"
     ]
    }
   ],
   "source": [
    "# Show most important words for \"is_treat\" model outcome\n",
    "print('Top 10 \"is_treat\" relation predictors\\n')\n",
    "nb_top_features(model.estimators_[1], vectorizer)"
   ]
  },
  {
   "cell_type": "markdown",
   "metadata": {},
   "source": [
    "## Conclusion\n",
    "\n",
    "We can see that the most predictive words make sense for each outcome, so it seems our models are wired the right way. The models trained on the syntactic SDP features seem to behave more robustly. Explorable paths would be to combine both feature vectors (probably redundant information), consider longer n-grams (actually performed worse in all experiments we did), part-of-speech features, or use other models (e.g. hyperparameter tuned SVM).\n",
    "\n",
    "The main problem metric wise is that the recall for the \"is_cause\" model is super low. The dataset is imbalanced with less positive examples for the \"is_cause\" relation, so it might be because of bias. One potential mitigation for this could be stratification or re-weighting of some sort."
   ]
  }
 ],
 "metadata": {
  "kernelspec": {
   "display_name": "Python 3.10.6 ('tuwnlpie')",
   "language": "python",
   "name": "python3"
  },
  "language_info": {
   "codemirror_mode": {
    "name": "ipython",
    "version": 3
   },
   "file_extension": ".py",
   "mimetype": "text/x-python",
   "name": "python",
   "nbconvert_exporter": "python",
   "pygments_lexer": "ipython3",
   "version": "3.10.6"
  },
  "orig_nbformat": 4,
  "vscode": {
   "interpreter": {
    "hash": "83898479c5b0bfadf55251aa9cfdfe0a5aebac05a423bd225279be3173794cfc"
   }
  }
 },
 "nbformat": 4,
 "nbformat_minor": 2
}

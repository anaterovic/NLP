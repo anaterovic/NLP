{
 "cells": [
  {
   "cell_type": "markdown",
   "metadata": {},
   "source": [
    "# Load Dataset"
   ]
  },
  {
   "cell_type": "code",
   "execution_count": 6,
   "metadata": {},
   "outputs": [
    {
     "name": "stderr",
     "output_type": "stream",
     "text": [
      "C:\\Users\\Ana\\AppData\\Local\\Temp\\ipykernel_9720\\72095722.py:26: FutureWarning: The frame.append method is deprecated and will be removed from pandas in a future version. Use pandas.concat instead.\n",
      "  df = df_caus.append(df_treat, ignore_index=True)\n"
     ]
    },
    {
     "data": {
      "text/html": [
       "<div>\n",
       "<style scoped>\n",
       "    .dataframe tbody tr th:only-of-type {\n",
       "        vertical-align: middle;\n",
       "    }\n",
       "\n",
       "    .dataframe tbody tr th {\n",
       "        vertical-align: top;\n",
       "    }\n",
       "\n",
       "    .dataframe thead th {\n",
       "        text-align: right;\n",
       "    }\n",
       "</style>\n",
       "<table border=\"1\" class=\"dataframe\">\n",
       "  <thead>\n",
       "    <tr style=\"text-align: right;\">\n",
       "      <th></th>\n",
       "      <th>term1</th>\n",
       "      <th>term2</th>\n",
       "      <th>sentence</th>\n",
       "      <th>is_cause</th>\n",
       "      <th>is_treat</th>\n",
       "    </tr>\n",
       "  </thead>\n",
       "  <tbody>\n",
       "    <tr>\n",
       "      <th>0</th>\n",
       "      <td>AUTISM</td>\n",
       "      <td>TANTRUM</td>\n",
       "      <td>The limited data suggest that, in children wit...</td>\n",
       "      <td>1</td>\n",
       "      <td>0</td>\n",
       "    </tr>\n",
       "    <tr>\n",
       "      <th>1</th>\n",
       "      <td>SLEEP PROBLEM</td>\n",
       "      <td>FAMILY STRESS</td>\n",
       "      <td>SLEEP PROBLEMs are associated with difficult b...</td>\n",
       "      <td>1</td>\n",
       "      <td>0</td>\n",
       "    </tr>\n",
       "    <tr>\n",
       "      <th>2</th>\n",
       "      <td>CEREBELLAR ATAXIA</td>\n",
       "      <td>DYSFUNCTION OF THE CEREBELLUM</td>\n",
       "      <td>The term CEREBELLAR ATAXIA is employed to indi...</td>\n",
       "      <td>1</td>\n",
       "      <td>0</td>\n",
       "    </tr>\n",
       "    <tr>\n",
       "      <th>3</th>\n",
       "      <td>CEREBELLAR DEGENERATION</td>\n",
       "      <td>CHRONIC ETHANOL ABUSE</td>\n",
       "      <td>Non hereditary causes of cerebellar degenerati...</td>\n",
       "      <td>1</td>\n",
       "      <td>0</td>\n",
       "    </tr>\n",
       "    <tr>\n",
       "      <th>4</th>\n",
       "      <td>HEART PROBLEM</td>\n",
       "      <td>ARTHRITIS</td>\n",
       "      <td>The disorder can present with a migratory ture...</td>\n",
       "      <td>1</td>\n",
       "      <td>0</td>\n",
       "    </tr>\n",
       "    <tr>\n",
       "      <th>...</th>\n",
       "      <td>...</td>\n",
       "      <td>...</td>\n",
       "      <td>...</td>\n",
       "      <td>...</td>\n",
       "      <td>...</td>\n",
       "    </tr>\n",
       "    <tr>\n",
       "      <th>7963</th>\n",
       "      <td>PARKINSON'S DISEASE</td>\n",
       "      <td>AMANTADINE</td>\n",
       "      <td>A 61 year old man with PARKINSON'S DISEASE (PD...</td>\n",
       "      <td>0</td>\n",
       "      <td>1</td>\n",
       "    </tr>\n",
       "    <tr>\n",
       "      <th>7964</th>\n",
       "      <td>DEPRESSION</td>\n",
       "      <td>IMIPRAMINE</td>\n",
       "      <td>With successful treatment of the patient's dep...</td>\n",
       "      <td>0</td>\n",
       "      <td>1</td>\n",
       "    </tr>\n",
       "    <tr>\n",
       "      <th>7965</th>\n",
       "      <td>ANGI</td>\n",
       "      <td>BEPRIDIL</td>\n",
       "      <td>Five of 15 patients receiving bepridil did not...</td>\n",
       "      <td>0</td>\n",
       "      <td>1</td>\n",
       "    </tr>\n",
       "    <tr>\n",
       "      <th>7966</th>\n",
       "      <td>HEMOPHILIA A</td>\n",
       "      <td>FACTOR VIII</td>\n",
       "      <td>The development of antibodies to factor VIII i...</td>\n",
       "      <td>0</td>\n",
       "      <td>1</td>\n",
       "    </tr>\n",
       "    <tr>\n",
       "      <th>7967</th>\n",
       "      <td>FOOD STIMULATED GASTRO OESOPHAGEAL REFLUX MECH...</td>\n",
       "      <td>CISAPRIDE</td>\n",
       "      <td>The influence of CISAPRIDE on FOOD STIMULATED ...</td>\n",
       "      <td>0</td>\n",
       "      <td>1</td>\n",
       "    </tr>\n",
       "  </tbody>\n",
       "</table>\n",
       "<p>7968 rows × 5 columns</p>\n",
       "</div>"
      ],
      "text/plain": [
       "                                                  term1  \\\n",
       "0                                                AUTISM   \n",
       "1                                         SLEEP PROBLEM   \n",
       "2                                     CEREBELLAR ATAXIA   \n",
       "3                               CEREBELLAR DEGENERATION   \n",
       "4                                         HEART PROBLEM   \n",
       "...                                                 ...   \n",
       "7963                                PARKINSON'S DISEASE   \n",
       "7964                                         DEPRESSION   \n",
       "7965                                               ANGI   \n",
       "7966                                       HEMOPHILIA A   \n",
       "7967  FOOD STIMULATED GASTRO OESOPHAGEAL REFLUX MECH...   \n",
       "\n",
       "                              term2  \\\n",
       "0                           TANTRUM   \n",
       "1                     FAMILY STRESS   \n",
       "2     DYSFUNCTION OF THE CEREBELLUM   \n",
       "3             CHRONIC ETHANOL ABUSE   \n",
       "4                         ARTHRITIS   \n",
       "...                             ...   \n",
       "7963                     AMANTADINE   \n",
       "7964                     IMIPRAMINE   \n",
       "7965                       BEPRIDIL   \n",
       "7966                    FACTOR VIII   \n",
       "7967                      CISAPRIDE   \n",
       "\n",
       "                                               sentence  is_cause  is_treat  \n",
       "0     The limited data suggest that, in children wit...         1         0  \n",
       "1     SLEEP PROBLEMs are associated with difficult b...         1         0  \n",
       "2     The term CEREBELLAR ATAXIA is employed to indi...         1         0  \n",
       "3     Non hereditary causes of cerebellar degenerati...         1         0  \n",
       "4     The disorder can present with a migratory ture...         1         0  \n",
       "...                                                 ...       ...       ...  \n",
       "7963  A 61 year old man with PARKINSON'S DISEASE (PD...         0         1  \n",
       "7964  With successful treatment of the patient's dep...         0         1  \n",
       "7965  Five of 15 patients receiving bepridil did not...         0         1  \n",
       "7966  The development of antibodies to factor VIII i...         0         1  \n",
       "7967  The influence of CISAPRIDE on FOOD STIMULATED ...         0         1  \n",
       "\n",
       "[7968 rows x 5 columns]"
      ]
     },
     "execution_count": 6,
     "metadata": {},
     "output_type": "execute_result"
    }
   ],
   "source": [
    "import pandas as pd\n",
    "from pathlib import Path\n",
    "\n",
    "usedcols = ['sentence', 'term1', 'term2']\n",
    "\n",
    "df_caus = pd.read_csv(\n",
    "    Path('..', 'data', 'crowd_truth_cause.csv'),\n",
    "    sep=',', quotechar='\"',\n",
    "    skipinitialspace=True,\n",
    "    encoding='utf-8',\n",
    "    on_bad_lines='skip',\n",
    "    usecols=usedcols\n",
    ")\n",
    "df_caus[\"is_cause\"] = 1\n",
    "df_caus[\"is_treat\"] = 0\n",
    "df_treat = pd.read_csv(\n",
    "    Path('..', 'data', 'crowd_truth_treat.csv'),\n",
    "    sep=',', quotechar='\"',\n",
    "    skipinitialspace=True,\n",
    "    encoding='utf-8',\n",
    "    on_bad_lines='skip',\n",
    "    usecols=usedcols\n",
    ")\n",
    "df_treat[\"is_treat\"] = 1\n",
    "df_treat[\"is_cause\"] = 0\n",
    "df = df_caus.append(df_treat, ignore_index=True)\n",
    "df\n"
   ]
  },
  {
   "cell_type": "markdown",
   "metadata": {},
   "source": [
    "# Preprocessing"
   ]
  },
  {
   "cell_type": "code",
   "execution_count": 7,
   "metadata": {},
   "outputs": [
    {
     "name": "stdout",
     "output_type": "stream",
     "text": [
      "the limited data suggest that, in children with mental retardation, TERM_ONE is associated with aggression, destruction of property, and TERM_TWOs.\n",
      "TERM_ONEs are associated with difficult behaviors and TERM_TWO, and are often a focus of clinical attention over and above the primary asd diagnosis.\n",
      "the term TERM_ONE is employed to indicate ataxia that is due to TERM_TWO\n",
      "non hereditary causes of TERM_ONE include TERM_TWO, paraneoplastic TERM_ONE, high altitude cerebral oedema, coeliac disease, normal pressure hydrocephalus and cerebellitis.\n",
      "the disorder can present with a migratory ture of TERM_TWO with many other features like TERM_ONEs, skin rash, gait abnormality and skin nodules.\n",
      "Number of docs: 7821\n"
     ]
    }
   ],
   "source": [
    "# Make case insensitive (no loss because emphasis on words does not play a role)\n",
    "df['sentence'] = df['sentence'].map(lambda x: x.lower())\n",
    "# Replace entities in sentence with placeholder tokens (may be useful for generalization when using n-grams)\n",
    "df['sentence'] = df.apply(lambda x: x['sentence'].replace(x['term1'].lower(), 'TERM_ONE'), axis=1)\n",
    "df['sentence'] = df.apply(lambda x: x['sentence'].replace(x['term2'].lower(), 'TERM_TWO'), axis=1)\n",
    "\n",
    "for i in range(5):\n",
    "    print(df['sentence'][i])\n",
    "\n",
    "df = df[df['sentence'].apply(lambda x: 'TERM_ONE' in x and 'TERM_TWO' in x)]\n",
    "\n",
    "print(f\"Number of docs: {len(df)}\")"
   ]
  },
  {
   "cell_type": "code",
   "execution_count": 8,
   "metadata": {},
   "outputs": [
    {
     "name": "stderr",
     "output_type": "stream",
     "text": [
      "C:\\Users\\Ana\\AppData\\Local\\Temp\\ipykernel_9720\\892057628.py:3: SettingWithCopyWarning: \n",
      "A value is trying to be set on a copy of a slice from a DataFrame.\n",
      "Try using .loc[row_indexer,col_indexer] = value instead\n",
      "\n",
      "See the caveats in the documentation: https://pandas.pydata.org/pandas-docs/stable/user_guide/indexing.html#returning-a-view-versus-a-copy\n",
      "  df['is_cause'] = df['is_cause'].astype(float).astype(int)\n",
      "C:\\Users\\Ana\\AppData\\Local\\Temp\\ipykernel_9720\\892057628.py:4: SettingWithCopyWarning: \n",
      "A value is trying to be set on a copy of a slice from a DataFrame.\n",
      "Try using .loc[row_indexer,col_indexer] = value instead\n",
      "\n",
      "See the caveats in the documentation: https://pandas.pydata.org/pandas-docs/stable/user_guide/indexing.html#returning-a-view-versus-a-copy\n",
      "  df['is_treat'] = df['is_treat'].astype(float).astype(int)\n"
     ]
    },
    {
     "data": {
      "text/html": [
       "<div>\n",
       "<style scoped>\n",
       "    .dataframe tbody tr th:only-of-type {\n",
       "        vertical-align: middle;\n",
       "    }\n",
       "\n",
       "    .dataframe tbody tr th {\n",
       "        vertical-align: top;\n",
       "    }\n",
       "\n",
       "    .dataframe thead th {\n",
       "        text-align: right;\n",
       "    }\n",
       "</style>\n",
       "<table border=\"1\" class=\"dataframe\">\n",
       "  <thead>\n",
       "    <tr style=\"text-align: right;\">\n",
       "      <th></th>\n",
       "      <th>is_cause</th>\n",
       "      <th>is_treat</th>\n",
       "    </tr>\n",
       "  </thead>\n",
       "  <tbody>\n",
       "    <tr>\n",
       "      <th>0</th>\n",
       "      <td>1</td>\n",
       "      <td>0</td>\n",
       "    </tr>\n",
       "    <tr>\n",
       "      <th>1</th>\n",
       "      <td>1</td>\n",
       "      <td>0</td>\n",
       "    </tr>\n",
       "    <tr>\n",
       "      <th>2</th>\n",
       "      <td>1</td>\n",
       "      <td>0</td>\n",
       "    </tr>\n",
       "    <tr>\n",
       "      <th>3</th>\n",
       "      <td>1</td>\n",
       "      <td>0</td>\n",
       "    </tr>\n",
       "    <tr>\n",
       "      <th>4</th>\n",
       "      <td>1</td>\n",
       "      <td>0</td>\n",
       "    </tr>\n",
       "  </tbody>\n",
       "</table>\n",
       "</div>"
      ],
      "text/plain": [
       "   is_cause  is_treat\n",
       "0         1         0\n",
       "1         1         0\n",
       "2         1         0\n",
       "3         1         0\n",
       "4         1         0"
      ]
     },
     "execution_count": 8,
     "metadata": {},
     "output_type": "execute_result"
    }
   ],
   "source": [
    "# Convert labels to right dtype\n",
    "label_cols = ['is_cause', 'is_treat']\n",
    "df['is_cause'] = df['is_cause'].astype(float).astype(int)\n",
    "df['is_treat'] = df['is_treat'].astype(float).astype(int)\n",
    "df[label_cols].head()"
   ]
  },
  {
   "cell_type": "code",
   "execution_count": 9,
   "metadata": {},
   "outputs": [
    {
     "name": "stderr",
     "output_type": "stream",
     "text": [
      "[nltk_data] Downloading package punkt to\n",
      "[nltk_data]     C:\\Users\\Ana\\AppData\\Roaming\\nltk_data...\n",
      "[nltk_data]   Package punkt is already up-to-date!\n",
      "[nltk_data] Downloading package stopwords to\n",
      "[nltk_data]     C:\\Users\\Ana\\AppData\\Roaming\\nltk_data...\n",
      "[nltk_data]   Package stopwords is already up-to-date!\n",
      "C:\\Users\\Ana\\AppData\\Local\\Temp\\ipykernel_9720\\798162507.py:6: SettingWithCopyWarning: \n",
      "A value is trying to be set on a copy of a slice from a DataFrame.\n",
      "Try using .loc[row_indexer,col_indexer] = value instead\n",
      "\n",
      "See the caveats in the documentation: https://pandas.pydata.org/pandas-docs/stable/user_guide/indexing.html#returning-a-view-versus-a-copy\n",
      "  df['tokens'] = df['sentence'].apply(lambda x: nltk.word_tokenize(x))\n",
      "C:\\Users\\Ana\\AppData\\Local\\Temp\\ipykernel_9720\\798162507.py:8: SettingWithCopyWarning: \n",
      "A value is trying to be set on a copy of a slice from a DataFrame.\n",
      "Try using .loc[row_indexer,col_indexer] = value instead\n",
      "\n",
      "See the caveats in the documentation: https://pandas.pydata.org/pandas-docs/stable/user_guide/indexing.html#returning-a-view-versus-a-copy\n",
      "  df['tokens'] = df['tokens'].apply(lambda x: [token for token in x if token not in nltk.corpus.stopwords.words('english') and len(token) > 1])\n"
     ]
    },
    {
     "name": "stdout",
     "output_type": "stream",
     "text": [
      "['limit', 'data', 'suggest', 'children', 'mental', 'retard', 'term_on', 'associ', 'aggress', 'destruct', 'properti', 'term_two']\n",
      "['term_on', 'associ', 'difficult', 'behavior', 'term_two', 'often', 'focu', 'clinic', 'attent', 'primari', 'asd', 'diagnosi']\n",
      "['term', 'term_on', 'employ', 'indic', 'ataxia', 'due', 'term_two']\n",
      "['non', 'hereditari', 'caus', 'term_on', 'includ', 'term_two', 'paraneoplast', 'term_on', 'high', 'altitud', 'cerebr', 'oedema', 'coeliac', 'diseas', 'normal', 'pressur', 'hydrocephalu', 'cerebel']\n",
      "['disord', 'present', 'migratori', 'ture', 'term_two', 'mani', 'featur', 'like', 'term_on', 'skin', 'rash', 'gait', 'abnorm', 'skin', 'nodul']\n"
     ]
    },
    {
     "name": "stderr",
     "output_type": "stream",
     "text": [
      "C:\\Users\\Ana\\AppData\\Local\\Temp\\ipykernel_9720\\798162507.py:11: SettingWithCopyWarning: \n",
      "A value is trying to be set on a copy of a slice from a DataFrame.\n",
      "Try using .loc[row_indexer,col_indexer] = value instead\n",
      "\n",
      "See the caveats in the documentation: https://pandas.pydata.org/pandas-docs/stable/user_guide/indexing.html#returning-a-view-versus-a-copy\n",
      "  df['tokens_stem'] = df['tokens'].apply(lambda x: [porter.stem(token) for token in x])\n"
     ]
    }
   ],
   "source": [
    "import nltk\n",
    "nltk.download('punkt') # for tokanization\n",
    "nltk.download('stopwords') # for stopword removal\n",
    "\n",
    "# Tokenize the sentences\n",
    "df['tokens'] = df['sentence'].apply(lambda x: nltk.word_tokenize(x))\n",
    "# Remove stop words and tokens with length smaller than 2 (i.e. punctuations)\n",
    "df['tokens'] = df['tokens'].apply(lambda x: [token for token in x if token not in nltk.corpus.stopwords.words('english') and len(token) > 1])\n",
    "# Perform stemming\n",
    "porter = nltk.PorterStemmer()\n",
    "df['tokens_stem'] = df['tokens'].apply(lambda x: [porter.stem(token) for token in x])\n",
    "for i in range(5):\n",
    "    print(df['tokens_stem'][i])"
   ]
  },
  {
   "cell_type": "code",
   "execution_count": 10,
   "metadata": {},
   "outputs": [
    {
     "name": "stderr",
     "output_type": "stream",
     "text": [
      "[nltk_data] Downloading package wordnet to\n",
      "[nltk_data]     C:\\Users\\Ana\\AppData\\Roaming\\nltk_data...\n",
      "[nltk_data]   Package wordnet is already up-to-date!\n",
      "[nltk_data] Downloading package omw-1.4 to\n",
      "[nltk_data]     C:\\Users\\Ana\\AppData\\Roaming\\nltk_data...\n",
      "[nltk_data]   Package omw-1.4 is already up-to-date!\n"
     ]
    },
    {
     "name": "stdout",
     "output_type": "stream",
     "text": [
      "['limit', 'data', 'suggest', 'child', 'mental', 'retard', 'term_on', 'associ', 'aggress', 'destruct', 'properti', 'term_two']\n",
      "['term_on', 'associ', 'difficult', 'behavior', 'term_two', 'often', 'focu', 'clinic', 'attent', 'primari', 'asd', 'diagnosi']\n",
      "['term', 'term_on', 'employ', 'indic', 'ataxia', 'due', 'term_two']\n",
      "['non', 'hereditari', 'caus', 'term_on', 'includ', 'term_two', 'paraneoplast', 'term_on', 'high', 'altitud', 'cerebr', 'oedema', 'coeliac', 'diseas', 'normal', 'pressur', 'hydrocephalu', 'cerebel']\n",
      "['disord', 'present', 'migratori', 'ture', 'term_two', 'mani', 'featur', 'like', 'term_on', 'skin', 'rash', 'gait', 'abnorm', 'skin', 'nodul']\n"
     ]
    },
    {
     "name": "stderr",
     "output_type": "stream",
     "text": [
      "C:\\Users\\Ana\\AppData\\Local\\Temp\\ipykernel_9720\\2670736935.py:7: SettingWithCopyWarning: \n",
      "A value is trying to be set on a copy of a slice from a DataFrame.\n",
      "Try using .loc[row_indexer,col_indexer] = value instead\n",
      "\n",
      "See the caveats in the documentation: https://pandas.pydata.org/pandas-docs/stable/user_guide/indexing.html#returning-a-view-versus-a-copy\n",
      "  df['tokens_lemma'] = df['tokens_stem'].apply(lambda x: [lemmatizer.lemmatize(token) for token in x])\n"
     ]
    }
   ],
   "source": [
    "# Dependencies for WorNetLemmatizer\n",
    "nltk.download('wordnet')\n",
    "nltk.download('omw-1.4')\n",
    "\n",
    "# Perform lemmatization\n",
    "lemmatizer = nltk.stem.WordNetLemmatizer()\n",
    "df['tokens_lemma'] = df['tokens_stem'].apply(lambda x: [lemmatizer.lemmatize(token) for token in x])\n",
    "for i in range(5):\n",
    "    print(df['tokens_lemma'][i])"
   ]
  },
  {
   "cell_type": "markdown",
   "metadata": {},
   "source": []
  },
  {
   "cell_type": "code",
   "execution_count": null,
   "metadata": {},
   "outputs": [],
   "source": []
  },
  {
   "cell_type": "markdown",
   "metadata": {},
   "source": [
    "# time expression recognition\n",
    "standalone to python-time"
   ]
  },
  {
   "cell_type": "markdown",
   "metadata": {},
   "source": []
  }
 ],
 "metadata": {
  "kernelspec": {
   "display_name": "Python 3.10.8 ('nlp')",
   "language": "python",
   "name": "python3"
  },
  "language_info": {
   "codemirror_mode": {
    "name": "ipython",
    "version": 3
   },
   "file_extension": ".py",
   "mimetype": "text/x-python",
   "name": "python",
   "nbconvert_exporter": "python",
   "pygments_lexer": "ipython3",
   "version": "3.10.8"
  },
  "orig_nbformat": 4,
  "vscode": {
   "interpreter": {
    "hash": "3efb5a2bd22a1b5f50f0c388520d8d3e60e70db335b0771969a2b55381d10c7a"
   }
  }
 },
 "nbformat": 4,
 "nbformat_minor": 2
}

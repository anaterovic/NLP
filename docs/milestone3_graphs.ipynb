{
 "cells": [
  {
   "cell_type": "code",
   "execution_count": 1,
   "metadata": {},
   "outputs": [
    {
     "name": "stderr",
     "output_type": "stream",
     "text": [
      "Downloading https://raw.githubusercontent.com/stanfordnlp/stanza-resources/main/resources_1.3.0.json: 142kB [00:00, 17.7MB/s]                    \n",
      "2023-01-26 15:18:49,856 : common (424) - INFO - Downloading default packages for language: en (English)...\n",
      "2023-01-26 15:18:54,422 : common (140) - INFO - File exists: C:\\Users\\Ana\\stanza_resources\\en\\default.zip.\n",
      "2023-01-26 15:19:01,912 : common (465) - INFO - Finished downloading models and saved to C:\\Users\\Ana\\stanza_resources.\n",
      "Downloading https://raw.githubusercontent.com/stanfordnlp/stanza-resources/main/resources_1.3.0.json: 142kB [00:00, ?B/s]                        \n",
      "2023-01-26 15:19:04,170 : common (424) - INFO - Downloading default packages for language: de (German)...\n",
      "2023-01-26 15:19:07,519 : common (140) - INFO - File exists: C:\\Users\\Ana\\stanza_resources\\de\\default.zip.\n",
      "2023-01-26 15:19:14,972 : common (465) - INFO - Finished downloading models and saved to C:\\Users\\Ana\\stanza_resources.\n",
      "Downloading https://raw.githubusercontent.com/stanfordnlp/stanza-resources/main/resources_1.3.0.json: 142kB [00:00, 17.8MB/s]                    \n",
      "2023-01-26 15:19:15,084 : common (446) - INFO - Downloading these customized packages for language: en (English)...\n",
      "=======================\n",
      "| Processor | Package |\n",
      "-----------------------\n",
      "| pos       | craft   |\n",
      "| pretrain  | craft   |\n",
      "=======================\n",
      "\n",
      "2023-01-26 15:19:15,164 : common (140) - INFO - File exists: C:\\Users\\Ana\\stanza_resources\\en\\pos\\craft.pt.\n",
      "2023-01-26 15:19:15,494 : common (140) - INFO - File exists: C:\\Users\\Ana\\stanza_resources\\en\\pretrain\\craft.pt.\n",
      "2023-01-26 15:19:15,495 : common (465) - INFO - Finished downloading models and saved to C:\\Users\\Ana\\stanza_resources.\n"
     ]
    }
   ],
   "source": [
    "import tuw_nlp\n",
    "tuw_nlp.download_alto()\n",
    "tuw_nlp.download_definitions()\n",
    "\n",
    "from xpotato.dataset.dataset import Dataset\n",
    "from xpotato.models.trainer import GraphTrainer\n",
    "from xpotato.models.utils import to_dot\n",
    "from xpotato.graph_extractor.extract import FeatureEvaluator\n",
    "from xpotato.dataset.utils import save_dataframe\n",
    "from xpotato.dataset.utils import ud_to_graph\n",
    "from xpotato.dataset.utils import default_pn_to_graph\n",
    "from xpotato.dataset.utils import amr_pn_to_graph\n",
    "from xpotato.graph_extractor.rule import RuleSet, Rule\n",
    "\n",
    "from sklearn.model_selection import train_test_split\n",
    "from pathlib import Path\n",
    "import pandas as pd\n",
    "import stanza\n",
    "import os\n",
    "from graphviz import Source\n",
    "import pickle\n",
    "import json\n",
    "import numpy\n",
    "from tqdm import tqdm\n",
    "import seaborn as sns\n",
    "from sklearn.metrics import confusion_matrix\n",
    "\n",
    "stanza.download(\"en\")\n",
    "stanza.download(\"de\")\n",
    "stanza.download(lang=\"en\",package=None,processors={\"pos\":\"craft\"})\n"
   ]
  },
  {
   "attachments": {},
   "cell_type": "markdown",
   "metadata": {},
   "source": [
    "------------------------"
   ]
  },
  {
   "attachments": {},
   "cell_type": "markdown",
   "metadata": {},
   "source": [
    "## FoodDisease dataset"
   ]
  },
  {
   "cell_type": "code",
   "execution_count": 2,
   "metadata": {},
   "outputs": [
    {
     "name": "stdout",
     "output_type": "stream",
     "text": [
      "588\n",
      "is_cause    132\n",
      "is_treat    313\n",
      "dtype: int64\n"
     ]
    },
    {
     "data": {
      "text/html": [
       "<div>\n",
       "<style scoped>\n",
       "    .dataframe tbody tr th:only-of-type {\n",
       "        vertical-align: middle;\n",
       "    }\n",
       "\n",
       "    .dataframe tbody tr th {\n",
       "        vertical-align: top;\n",
       "    }\n",
       "\n",
       "    .dataframe thead th {\n",
       "        text-align: right;\n",
       "    }\n",
       "</style>\n",
       "<table border=\"1\" class=\"dataframe\">\n",
       "  <thead>\n",
       "    <tr style=\"text-align: right;\">\n",
       "      <th></th>\n",
       "      <th>term1</th>\n",
       "      <th>term2</th>\n",
       "      <th>sentence</th>\n",
       "      <th>is_cause</th>\n",
       "      <th>is_treat</th>\n",
       "      <th>source</th>\n",
       "      <th>prp_sent</th>\n",
       "      <th>sdp</th>\n",
       "      <th>sdp_joined</th>\n",
       "    </tr>\n",
       "  </thead>\n",
       "  <tbody>\n",
       "    <tr>\n",
       "      <th>0</th>\n",
       "      <td>bombax ceiba l. (bombacaceae) fruits</td>\n",
       "      <td>urinary stones</td>\n",
       "      <td>interestingly, many indian tribes use bombax c...</td>\n",
       "      <td>0</td>\n",
       "      <td>1</td>\n",
       "      <td>FoodDisease</td>\n",
       "      <td>interestingly, many indian tribes use influenc...</td>\n",
       "      <td>['term1', 'use', 'as', 'medicine', 'for', 'tre...</td>\n",
       "      <td>influence use as medicine for treatment of con...</td>\n",
       "    </tr>\n",
       "    <tr>\n",
       "      <th>1</th>\n",
       "      <td>ultra-processed food</td>\n",
       "      <td>obesity</td>\n",
       "      <td>ultra-processed food consumption has been asso...</td>\n",
       "      <td>1</td>\n",
       "      <td>0</td>\n",
       "      <td>FoodDisease</td>\n",
       "      <td>influence consumption has been associated with...</td>\n",
       "      <td>['term1', 'consumption', 'associate', 'with', ...</td>\n",
       "      <td>influence consumption associate with outcome a...</td>\n",
       "    </tr>\n",
       "    <tr>\n",
       "      <th>2</th>\n",
       "      <td>salt</td>\n",
       "      <td>osteoporosis</td>\n",
       "      <td>salt has notoriously been blamed for causing a...</td>\n",
       "      <td>1</td>\n",
       "      <td>0</td>\n",
       "      <td>FoodDisease</td>\n",
       "      <td>influence has notoriously been blamed for caus...</td>\n",
       "      <td>['term1', 'blame', 'for', 'term2']</td>\n",
       "      <td>influence blame for condition</td>\n",
       "    </tr>\n",
       "    <tr>\n",
       "      <th>3</th>\n",
       "      <td>broiler chicken</td>\n",
       "      <td>footpad dermatitis</td>\n",
       "      <td>in broiler chicken flocks when animal-based me...</td>\n",
       "      <td>0</td>\n",
       "      <td>0</td>\n",
       "      <td>FoodDisease</td>\n",
       "      <td>in influence flocks when animal-based measures...</td>\n",
       "      <td>['term1', 'flock', 'in', 'identify', 'burn', '...</td>\n",
       "      <td>influence flock in identify burn , condition</td>\n",
       "    </tr>\n",
       "    <tr>\n",
       "      <th>4</th>\n",
       "      <td>sfp</td>\n",
       "      <td>diabetes</td>\n",
       "      <td>in short, this study demonstrated that sfp cou...</td>\n",
       "      <td>0</td>\n",
       "      <td>1</td>\n",
       "      <td>FoodDisease</td>\n",
       "      <td>in short, this study demonstrated that influen...</td>\n",
       "      <td>['term1', 'develop', 'as', 'food', 'or', 'prev...</td>\n",
       "      <td>influence develop as food or prevention of con...</td>\n",
       "    </tr>\n",
       "  </tbody>\n",
       "</table>\n",
       "</div>"
      ],
      "text/plain": [
       "                                  term1               term2  \\\n",
       "0  bombax ceiba l. (bombacaceae) fruits      urinary stones   \n",
       "1                  ultra-processed food             obesity   \n",
       "2                                  salt        osteoporosis   \n",
       "3                       broiler chicken  footpad dermatitis   \n",
       "4                                   sfp            diabetes   \n",
       "\n",
       "                                            sentence  is_cause  is_treat  \\\n",
       "0  interestingly, many indian tribes use bombax c...         0         1   \n",
       "1  ultra-processed food consumption has been asso...         1         0   \n",
       "2  salt has notoriously been blamed for causing a...         1         0   \n",
       "3  in broiler chicken flocks when animal-based me...         0         0   \n",
       "4  in short, this study demonstrated that sfp cou...         0         1   \n",
       "\n",
       "        source                                           prp_sent  \\\n",
       "0  FoodDisease  interestingly, many indian tribes use influenc...   \n",
       "1  FoodDisease  influence consumption has been associated with...   \n",
       "2  FoodDisease  influence has notoriously been blamed for caus...   \n",
       "3  FoodDisease  in influence flocks when animal-based measures...   \n",
       "4  FoodDisease  in short, this study demonstrated that influen...   \n",
       "\n",
       "                                                 sdp  \\\n",
       "0  ['term1', 'use', 'as', 'medicine', 'for', 'tre...   \n",
       "1  ['term1', 'consumption', 'associate', 'with', ...   \n",
       "2                 ['term1', 'blame', 'for', 'term2']   \n",
       "3  ['term1', 'flock', 'in', 'identify', 'burn', '...   \n",
       "4  ['term1', 'develop', 'as', 'food', 'or', 'prev...   \n",
       "\n",
       "                                          sdp_joined  \n",
       "0  influence use as medicine for treatment of con...  \n",
       "1  influence consumption associate with outcome a...  \n",
       "2                      influence blame for condition  \n",
       "3       influence flock in identify burn , condition  \n",
       "4  influence develop as food or prevention of con...  "
      ]
     },
     "execution_count": 2,
     "metadata": {},
     "output_type": "execute_result"
    }
   ],
   "source": [
    "df = pd.read_csv(Path('../data/milestone3/preprocessed.csv'), sep=';')\n",
    "df = df[df['source'] == 'FoodDisease']\n",
    "df['prp_sent'] = df['prp_sent'].apply(lambda x: x.replace('term1', 'influence'). replace('term2', 'condition'))\n",
    "df['sdp_joined'] = df['sdp_joined'].apply(lambda x: x.replace('term1', 'influence'). replace('term2', 'condition'))\n",
    "# Only food disease because CrowdTruth is too bad quality\n",
    "labels = df[['is_cause', 'is_treat']][df['source'] == 'FoodDisease']\n",
    "print(len(labels))\n",
    "print(labels.sum(axis=0))\n",
    "df.head()"
   ]
  },
  {
   "cell_type": "code",
   "execution_count": 3,
   "metadata": {},
   "outputs": [],
   "source": [
    "def make_sentences(column=\"is_cause\", df=df):\n",
    "    sentences = []\n",
    "    for i, row in df.iterrows():\n",
    "        if row[column]:\n",
    "            if column == \"is_cause\":\n",
    "                relation = 'cause'\n",
    "            else:\n",
    "                relation=\"treat\"\n",
    "        else:\n",
    "            relation = 'not'\n",
    "        sentence = row['prp_sent'].encode('ascii', errors='ignore').decode('utf-8')\n",
    "        sentences.append((sentence, relation))\n",
    "    return sentences"
   ]
  },
  {
   "attachments": {},
   "cell_type": "markdown",
   "metadata": {},
   "source": [
    "## Full sentence"
   ]
  },
  {
   "cell_type": "code",
   "execution_count": 4,
   "metadata": {},
   "outputs": [],
   "source": [
    "sentences_cause = make_sentences(\"is_cause\", df)\n",
    "sentences_treat = make_sentences(\"is_treat\", df)"
   ]
  },
  {
   "cell_type": "code",
   "execution_count": 5,
   "metadata": {},
   "outputs": [
    {
     "data": {
      "text/plain": [
       "[('influence consumption has been associated with several health outcomes such as condition, hypertension, cardiovascular disease and cancer.',\n",
       "  'cause'),\n",
       " ('influence has notoriously been blamed for causing an increase in the urinary excretion of calcium, and thus is a considered a risk factor for condition.',\n",
       "  'cause'),\n",
       " ('in influence flocks when animal-based measures related to condition, hock burns, body lesions and arthritis are identified under commercial conditions (high density).',\n",
       "  'not'),\n",
       " ('in short, this study demonstrated that influence could be developed as functional foods or pharmaceutical supplements for the prevention or mitigation of condition and its complications.',\n",
       "  'not')]"
      ]
     },
     "execution_count": 5,
     "metadata": {},
     "output_type": "execute_result"
    }
   ],
   "source": [
    "sentences_cause[1:5]"
   ]
  },
  {
   "cell_type": "code",
   "execution_count": 6,
   "metadata": {},
   "outputs": [],
   "source": [
    "dataset_cause = Dataset(sentences_cause, label_vocab={\"not\":0, \"cause\": 1}, lang=\"en\")\n",
    "dataset_treat = Dataset(sentences_treat, label_vocab={\"not\":0, \"treat\": 1}, lang=\"en\")"
   ]
  },
  {
   "cell_type": "code",
   "execution_count": 7,
   "metadata": {},
   "outputs": [],
   "source": [
    "# make graphs, slow on big dataet\n",
    "#dataset_treat.set_graphs(dataset_treat.parse_graphs(graph_format=\"fourlang\"))"
   ]
  },
  {
   "cell_type": "code",
   "execution_count": 8,
   "metadata": {},
   "outputs": [],
   "source": [
    "# save dataframe\n",
    "#df_treat = dataset_treat.to_dataframe()\n",
    "#save_dataframe(df_treat, '../data/milestone3/df_treat_graphs_subset.tsv')"
   ]
  },
  {
   "cell_type": "code",
   "execution_count": 9,
   "metadata": {},
   "outputs": [],
   "source": [
    "# make graphs, slow on big dataset\n",
    "#dataset_cause.set_graphs(dataset_cause.parse_graphs(graph_format=\"fourlang\"))"
   ]
  },
  {
   "cell_type": "code",
   "execution_count": 10,
   "metadata": {},
   "outputs": [],
   "source": [
    "# save dataframe\n",
    "#df_cause = dataset_cause.to_dataframe()\n",
    "#save_dataframe(df_cause, '../data/milestone3/df_cause_graphs_subset.tsv')"
   ]
  },
  {
   "cell_type": "code",
   "execution_count": 11,
   "metadata": {},
   "outputs": [],
   "source": [
    "# load dataframes\n",
    "df_cause = pd.read_csv(Path('../data/milestone3/df_cause_graphs_subset.tsv'), sep='\\t')\n",
    "df_cause['graph'] = df_cause['graph'].apply(lambda x: amr_pn_to_graph(x)[0])\n",
    "\n",
    "df_treat = pd.read_csv(Path('../data/milestone3/df_treat_graphs_subset.tsv'), sep='\\t')\n",
    "df_treat['graph'] = df_treat['graph'].apply(lambda x: amr_pn_to_graph(x)[0])"
   ]
  },
  {
   "attachments": {},
   "cell_type": "markdown",
   "metadata": {},
   "source": [
    "-----------------------------"
   ]
  },
  {
   "attachments": {},
   "cell_type": "markdown",
   "metadata": {},
   "source": [
    "POTATO framework uses both machine learning and rule-based systems in the way that ML is used to learn the rules, generate them. After the framework suggests the rules, based on feature importance, the user then decides whether to keep/adjust/discard the rule. The idea is to use subgraphs as features for training simple classifiers. Subgraphs are generated only up to a certain edge number."
   ]
  },
  {
   "attachments": {},
   "cell_type": "markdown",
   "metadata": {},
   "source": [
    "### Treat relation"
   ]
  },
  {
   "attachments": {},
   "cell_type": "markdown",
   "metadata": {},
   "source": [
    "example graph for a sentence:"
   ]
  },
  {
   "cell_type": "code",
   "execution_count": 12,
   "metadata": {},
   "outputs": [
    {
     "data": {
      "image/svg+xml": "<?xml version=\"1.0\" encoding=\"UTF-8\" standalone=\"no\"?>\n<!DOCTYPE svg PUBLIC \"-//W3C//DTD SVG 1.1//EN\"\n \"http://www.w3.org/Graphics/SVG/1.1/DTD/svg11.dtd\">\n<!-- Generated by graphviz version 2.50.0 (0)\n -->\n<!-- Title: finite_state_machine Pages: 1 -->\n<svg width=\"466pt\" height=\"452pt\"\n viewBox=\"0.00 0.00 478.99 465.17\" xmlns=\"http://www.w3.org/2000/svg\" xmlns:xlink=\"http://www.w3.org/1999/xlink\">\n<g id=\"graph0\" class=\"graph\" transform=\"scale(0.97 0.97) rotate(0) translate(4 461.17)\">\n<title>finite_state_machine</title>\n<polygon fill=\"white\" stroke=\"transparent\" points=\"-4,4 -4,-461.17 474.99,-461.17 474.99,4 -4,4\"/>\n<!-- as -->\n<g id=\"node1\" class=\"node\">\n<title>as</title>\n<ellipse fill=\"none\" stroke=\"black\" cx=\"212.8\" cy=\"-436.37\" rx=\"18.4\" ry=\"18.4\"/>\n<text text-anchor=\"middle\" x=\"212.8\" y=\"-432.67\" font-family=\"Times New Roman,serif\" font-size=\"14.00\">as</text>\n</g>\n<!-- medicine -->\n<g id=\"node8\" class=\"node\">\n<title>medicine</title>\n<ellipse fill=\"none\" stroke=\"black\" cx=\"81.8\" cy=\"-320.38\" rx=\"43.59\" ry=\"43.59\"/>\n<text text-anchor=\"middle\" x=\"81.8\" y=\"-316.68\" font-family=\"Times New Roman,serif\" font-size=\"14.00\">medicine</text>\n</g>\n<!-- as&#45;&gt;medicine -->\n<g id=\"edge1\" class=\"edge\">\n<title>as&#45;&gt;medicine</title>\n<path fill=\"none\" stroke=\"black\" d=\"M199.27,-423.6C181.18,-407.87 148.34,-379.28 121.97,-356.34\"/>\n<polygon fill=\"black\" stroke=\"black\" points=\"124.21,-353.65 114.37,-349.72 119.61,-358.93 124.21,-353.65\"/>\n<text text-anchor=\"middle\" x=\"170.3\" y=\"-386.38\" font-family=\"Times New Roman,serif\" font-size=\"14.00\">2</text>\n</g>\n<!-- use -->\n<g id=\"node13\" class=\"node\">\n<title>use</title>\n<ellipse fill=\"none\" stroke=\"black\" cx=\"235.8\" cy=\"-320.38\" rx=\"23\" ry=\"23\"/>\n<text text-anchor=\"middle\" x=\"235.8\" y=\"-316.68\" font-family=\"Times New Roman,serif\" font-size=\"14.00\">use</text>\n</g>\n<!-- as&#45;&gt;use -->\n<g id=\"edge2\" class=\"edge\">\n<title>as&#45;&gt;use</title>\n<path fill=\"none\" stroke=\"black\" d=\"M216.29,-418.06C219.79,-400.72 225.25,-373.65 229.51,-352.56\"/>\n<polygon fill=\"black\" stroke=\"black\" points=\"232.94,-353.25 231.48,-342.75 226.08,-351.86 232.94,-353.25\"/>\n<text text-anchor=\"middle\" x=\"227.3\" y=\"-386.38\" font-family=\"Times New Roman,serif\" font-size=\"14.00\">1</text>\n</g>\n<!-- condition -->\n<g id=\"node2\" class=\"node\">\n<title>condition</title>\n<ellipse fill=\"none\" stroke=\"black\" cx=\"426.8\" cy=\"-320.38\" rx=\"44.39\" ry=\"44.39\"/>\n<text text-anchor=\"middle\" x=\"426.8\" y=\"-316.68\" font-family=\"Times New Roman,serif\" font-size=\"14.00\">condition</text>\n</g>\n<!-- for -->\n<g id=\"node3\" class=\"node\">\n<title>for</title>\n<ellipse fill=\"none\" stroke=\"black\" cx=\"270.8\" cy=\"-436.37\" rx=\"20.6\" ry=\"20.6\"/>\n<text text-anchor=\"middle\" x=\"270.8\" y=\"-432.67\" font-family=\"Times New Roman,serif\" font-size=\"14.00\">for</text>\n</g>\n<!-- treatment -->\n<g id=\"node11\" class=\"node\">\n<title>treatment</title>\n<ellipse fill=\"none\" stroke=\"black\" cx=\"320.8\" cy=\"-320.38\" rx=\"44.39\" ry=\"44.39\"/>\n<text text-anchor=\"middle\" x=\"320.8\" y=\"-316.68\" font-family=\"Times New Roman,serif\" font-size=\"14.00\">treatment</text>\n</g>\n<!-- for&#45;&gt;treatment -->\n<g id=\"edge3\" class=\"edge\">\n<title>for&#45;&gt;treatment</title>\n<path fill=\"none\" stroke=\"black\" d=\"M278.83,-417.06C284.32,-404.54 291.88,-387.3 299.07,-370.9\"/>\n<polygon fill=\"black\" stroke=\"black\" points=\"302.44,-371.95 303.25,-361.39 296.03,-369.14 302.44,-371.95\"/>\n<text text-anchor=\"middle\" x=\"297.3\" y=\"-386.38\" font-family=\"Times New Roman,serif\" font-size=\"14.00\">2</text>\n</g>\n<!-- for&#45;&gt;use -->\n<g id=\"edge4\" class=\"edge\">\n<title>for&#45;&gt;use</title>\n<path fill=\"none\" stroke=\"black\" d=\"M264.94,-416.29C259.58,-398.84 251.55,-372.69 245.28,-352.26\"/>\n<polygon fill=\"black\" stroke=\"black\" points=\"248.55,-350.99 242.27,-342.46 241.86,-353.05 248.55,-350.99\"/>\n<text text-anchor=\"middle\" x=\"262.3\" y=\"-386.38\" font-family=\"Times New Roman,serif\" font-size=\"14.00\">1</text>\n</g>\n<!-- indian -->\n<g id=\"node4\" class=\"node\">\n<title>indian</title>\n<ellipse fill=\"none\" stroke=\"black\" cx=\"328.8\" cy=\"-32.5\" rx=\"32.49\" ry=\"32.49\"/>\n<text text-anchor=\"middle\" x=\"328.8\" y=\"-28.8\" font-family=\"Times New Roman,serif\" font-size=\"14.00\">indian</text>\n</g>\n<!-- influence -->\n<g id=\"node5\" class=\"node\">\n<title>influence</title>\n<ellipse fill=\"none\" stroke=\"black\" cx=\"154.8\" cy=\"-170.59\" rx=\"43.59\" ry=\"43.59\"/>\n<text text-anchor=\"middle\" x=\"154.8\" y=\"-166.89\" font-family=\"Times New Roman,serif\" font-size=\"14.00\">influence</text>\n</g>\n<!-- interestingly -->\n<g id=\"node6\" class=\"node\">\n<title>interestingly</title>\n<ellipse fill=\"none\" stroke=\"black\" cx=\"270.8\" cy=\"-170.59\" rx=\"54.69\" ry=\"54.69\"/>\n<text text-anchor=\"middle\" x=\"270.8\" y=\"-166.89\" font-family=\"Times New Roman,serif\" font-size=\"14.00\">interestingly</text>\n</g>\n<!-- many -->\n<g id=\"node7\" class=\"node\">\n<title>many</title>\n<ellipse fill=\"none\" stroke=\"black\" cx=\"409.8\" cy=\"-32.5\" rx=\"30.59\" ry=\"30.59\"/>\n<text text-anchor=\"middle\" x=\"409.8\" y=\"-28.8\" font-family=\"Times New Roman,serif\" font-size=\"14.00\">many</text>\n</g>\n<!-- traditional -->\n<g id=\"node10\" class=\"node\">\n<title>traditional</title>\n<ellipse fill=\"none\" stroke=\"black\" cx=\"46.8\" cy=\"-170.59\" rx=\"46.59\" ry=\"46.59\"/>\n<text text-anchor=\"middle\" x=\"46.8\" y=\"-166.89\" font-family=\"Times New Roman,serif\" font-size=\"14.00\">traditional</text>\n</g>\n<!-- medicine&#45;&gt;traditional -->\n<g id=\"edge5\" class=\"edge\">\n<title>medicine&#45;&gt;traditional</title>\n<path fill=\"none\" stroke=\"black\" d=\"M71.95,-277.82C68.15,-261.76 63.75,-243.17 59.7,-226.06\"/>\n<polygon fill=\"black\" stroke=\"black\" points=\"63.07,-225.12 57.36,-216.2 56.26,-226.73 63.07,-225.12\"/>\n<text text-anchor=\"middle\" x=\"70.3\" y=\"-246.98\" font-family=\"Times New Roman,serif\" font-size=\"14.00\">0</text>\n</g>\n<!-- of -->\n<g id=\"node9\" class=\"node\">\n<title>of</title>\n<ellipse fill=\"none\" stroke=\"black\" cx=\"379.8\" cy=\"-436.37\" rx=\"18.4\" ry=\"18.4\"/>\n<text text-anchor=\"middle\" x=\"379.8\" y=\"-432.67\" font-family=\"Times New Roman,serif\" font-size=\"14.00\">of</text>\n</g>\n<!-- of&#45;&gt;condition -->\n<g id=\"edge6\" class=\"edge\">\n<title>of&#45;&gt;condition</title>\n<path fill=\"none\" stroke=\"black\" d=\"M386.53,-419.04C391.71,-406.47 399.17,-388.4 406.25,-371.2\"/>\n<polygon fill=\"black\" stroke=\"black\" points=\"409.56,-372.36 410.14,-361.78 403.09,-369.69 409.56,-372.36\"/>\n<text text-anchor=\"middle\" x=\"403.3\" y=\"-386.38\" font-family=\"Times New Roman,serif\" font-size=\"14.00\">2</text>\n</g>\n<!-- of&#45;&gt;treatment -->\n<g id=\"edge7\" class=\"edge\">\n<title>of&#45;&gt;treatment</title>\n<path fill=\"none\" stroke=\"black\" d=\"M371.84,-420C365.09,-406.96 355.03,-387.53 345.62,-369.35\"/>\n<polygon fill=\"black\" stroke=\"black\" points=\"348.49,-367.27 340.78,-360 342.27,-370.49 348.49,-367.27\"/>\n<text text-anchor=\"middle\" x=\"363.3\" y=\"-386.38\" font-family=\"Times New Roman,serif\" font-size=\"14.00\">1</text>\n</g>\n<!-- tribe -->\n<g id=\"node12\" class=\"node\">\n<title>tribe</title>\n<ellipse fill=\"none\" stroke=\"black\" cx=\"369.8\" cy=\"-170.59\" rx=\"26.8\" ry=\"26.8\"/>\n<text text-anchor=\"middle\" x=\"369.8\" y=\"-166.89\" font-family=\"Times New Roman,serif\" font-size=\"14.00\">tribe</text>\n</g>\n<!-- tribe&#45;&gt;indian -->\n<g id=\"edge8\" class=\"edge\">\n<title>tribe&#45;&gt;indian</title>\n<path fill=\"none\" stroke=\"black\" d=\"M362.37,-144.94C356.42,-125.19 347.95,-97.07 341,-74.02\"/>\n<polygon fill=\"black\" stroke=\"black\" points=\"344.27,-72.73 338.03,-64.16 337.57,-74.75 344.27,-72.73\"/>\n<text text-anchor=\"middle\" x=\"352.3\" y=\"-86.79\" font-family=\"Times New Roman,serif\" font-size=\"14.00\">0</text>\n</g>\n<!-- tribe&#45;&gt;many -->\n<g id=\"edge9\" class=\"edge\">\n<title>tribe&#45;&gt;many</title>\n<path fill=\"none\" stroke=\"black\" d=\"M377.04,-144.94C383.03,-124.57 391.64,-95.28 398.52,-71.85\"/>\n<polygon fill=\"black\" stroke=\"black\" points=\"401.9,-72.78 401.36,-62.2 395.18,-70.81 401.9,-72.78\"/>\n<text text-anchor=\"middle\" x=\"397.3\" y=\"-86.79\" font-family=\"Times New Roman,serif\" font-size=\"14.00\">0</text>\n</g>\n<!-- use&#45;&gt;influence -->\n<g id=\"edge10\" class=\"edge\">\n<title>use&#45;&gt;influence</title>\n<path fill=\"none\" stroke=\"black\" d=\"M225.21,-300.06C213.88,-279.39 195.5,-245.86 180.36,-218.23\"/>\n<polygon fill=\"black\" stroke=\"black\" points=\"183.24,-216.2 175.36,-209.12 177.1,-219.57 183.24,-216.2\"/>\n<text text-anchor=\"middle\" x=\"204.3\" y=\"-246.98\" font-family=\"Times New Roman,serif\" font-size=\"14.00\">2</text>\n</g>\n<!-- use&#45;&gt;interestingly -->\n<g id=\"edge11\" class=\"edge\">\n<title>use&#45;&gt;interestingly</title>\n<path fill=\"none\" stroke=\"black\" d=\"M240.89,-297.89C244.87,-281.08 250.61,-256.83 256,-234.05\"/>\n<polygon fill=\"black\" stroke=\"black\" points=\"259.47,-234.61 258.37,-224.07 252.66,-232.99 259.47,-234.61\"/>\n<text text-anchor=\"middle\" x=\"257.3\" y=\"-246.98\" font-family=\"Times New Roman,serif\" font-size=\"14.00\">0</text>\n</g>\n<!-- use&#45;&gt;tribe -->\n<g id=\"edge12\" class=\"edge\">\n<title>use&#45;&gt;tribe</title>\n<path fill=\"none\" stroke=\"black\" d=\"M247.81,-300.82C253.41,-292.82 260.45,-283.62 267.8,-276.18 294.09,-249.55 309.3,-252.58 334.8,-225.18 341,-218.52 346.82,-210.63 351.86,-202.98\"/>\n<polygon fill=\"black\" stroke=\"black\" points=\"355.02,-204.53 357.4,-194.2 349.1,-200.79 355.02,-204.53\"/>\n<text text-anchor=\"middle\" x=\"318.3\" y=\"-246.98\" font-family=\"Times New Roman,serif\" font-size=\"14.00\">1</text>\n</g>\n</g>\n</svg>\n",
      "text/plain": [
       "<graphviz.sources.Source at 0x244325763e0>"
      ]
     },
     "execution_count": 12,
     "metadata": {},
     "output_type": "execute_result"
    }
   ],
   "source": [
    "Source(to_dot(df_treat.iloc[0].graph))"
   ]
  },
  {
   "attachments": {},
   "cell_type": "markdown",
   "metadata": {},
   "source": [
    "#### Learning rules"
   ]
  },
  {
   "attachments": {},
   "cell_type": "markdown",
   "metadata": {},
   "source": [
    "First we will allow feature rules to contain no edges, meaning they can be just terms. We allow this by leaving the default value for min_edges=0 in trainer.prepare_and_train()."
   ]
  },
  {
   "cell_type": "code",
   "execution_count": 13,
   "metadata": {},
   "outputs": [
    {
     "name": "stdout",
     "output_type": "stream",
     "text": [
      "Initializing trainer object...\n",
      "Featurizing graphs by generating subgraphs up to 2...\n"
     ]
    },
    {
     "name": "stderr",
     "output_type": "stream",
     "text": [
      "529it [00:06, 84.87it/s] \n"
     ]
    },
    {
     "name": "stdout",
     "output_type": "stream",
     "text": [
      "Getting feature graphs...\n",
      "Selecting the best features...\n",
      "Generating training data...\n",
      "Training...\n",
      "Getting features...\n"
     ]
    }
   ],
   "source": [
    "treat_train, treat_val = train_test_split(df_treat, test_size=0.1, random_state=1)\n",
    "\n",
    "trainer = GraphTrainer(treat_train)\n",
    "\n",
    "treat_features = trainer.prepare_and_train()\n"
   ]
  },
  {
   "cell_type": "code",
   "execution_count": 14,
   "metadata": {},
   "outputs": [
    {
     "data": {
      "text/plain": [
       "[(['(u_114 / reduce)'], [], 'treat'),\n",
       " (['(u_227 / decrease)'], [], 'treat'),\n",
       " (['(u_76 / against)'], [], 'treat'),\n",
       " (['(u_108 / prevent)'], [], 'treat'),\n",
       " (['(u_57 / improve)'], [], 'treat'),\n",
       " (['(u_117 / component)'], [], 'treat'),\n",
       " (['(u_138 / compound)'], [], 'treat'),\n",
       " (['(u_486 / low)'], [], 'treat'),\n",
       " (['(u_421 / treat)'], [], 'treat'),\n",
       " (['(u_76 / against  :2 (u_21 / condition))'], [], 'treat')]"
      ]
     },
     "execution_count": 14,
     "metadata": {},
     "output_type": "execute_result"
    }
   ],
   "source": [
    "treat_features[\"treat\"][:10]"
   ]
  },
  {
   "attachments": {},
   "cell_type": "markdown",
   "metadata": {},
   "source": [
    "As expected, the best rules/features were just terms."
   ]
  },
  {
   "cell_type": "code",
   "execution_count": 15,
   "metadata": {},
   "outputs": [],
   "source": [
    "treat_evals, treat_acc = trainer.evaluator.evaluate_feature(\"treat\", treat_features[\"treat\"][:10], treat_train)"
   ]
  },
  {
   "cell_type": "code",
   "execution_count": 16,
   "metadata": {},
   "outputs": [
    {
     "data": {
      "text/html": [
       "<div>\n",
       "<style scoped>\n",
       "    .dataframe tbody tr th:only-of-type {\n",
       "        vertical-align: middle;\n",
       "    }\n",
       "\n",
       "    .dataframe tbody tr th {\n",
       "        vertical-align: top;\n",
       "    }\n",
       "\n",
       "    .dataframe thead th {\n",
       "        text-align: right;\n",
       "    }\n",
       "</style>\n",
       "<table border=\"1\" class=\"dataframe\">\n",
       "  <thead>\n",
       "    <tr style=\"text-align: right;\">\n",
       "      <th></th>\n",
       "      <th>Feature</th>\n",
       "      <th>Precision</th>\n",
       "      <th>Recall</th>\n",
       "      <th>Fscore</th>\n",
       "    </tr>\n",
       "  </thead>\n",
       "  <tbody>\n",
       "    <tr>\n",
       "      <th>0</th>\n",
       "      <td>[(u_114 / reduce)]</td>\n",
       "      <td>0.866667</td>\n",
       "      <td>0.185714</td>\n",
       "      <td>0.305882</td>\n",
       "    </tr>\n",
       "    <tr>\n",
       "      <th>1</th>\n",
       "      <td>[(u_227 / decrease)]</td>\n",
       "      <td>0.833333</td>\n",
       "      <td>0.035714</td>\n",
       "      <td>0.068493</td>\n",
       "    </tr>\n",
       "    <tr>\n",
       "      <th>2</th>\n",
       "      <td>[(u_76 / against)]</td>\n",
       "      <td>0.939394</td>\n",
       "      <td>0.110714</td>\n",
       "      <td>0.198083</td>\n",
       "    </tr>\n",
       "    <tr>\n",
       "      <th>3</th>\n",
       "      <td>[(u_108 / prevent)]</td>\n",
       "      <td>0.931034</td>\n",
       "      <td>0.096429</td>\n",
       "      <td>0.174757</td>\n",
       "    </tr>\n",
       "    <tr>\n",
       "      <th>4</th>\n",
       "      <td>[(u_57 / improve)]</td>\n",
       "      <td>0.950000</td>\n",
       "      <td>0.067857</td>\n",
       "      <td>0.126667</td>\n",
       "    </tr>\n",
       "    <tr>\n",
       "      <th>5</th>\n",
       "      <td>[(u_117 / component)]</td>\n",
       "      <td>0.950000</td>\n",
       "      <td>0.067857</td>\n",
       "      <td>0.126667</td>\n",
       "    </tr>\n",
       "    <tr>\n",
       "      <th>6</th>\n",
       "      <td>[(u_138 / compound)]</td>\n",
       "      <td>0.913043</td>\n",
       "      <td>0.075000</td>\n",
       "      <td>0.138614</td>\n",
       "    </tr>\n",
       "    <tr>\n",
       "      <th>7</th>\n",
       "      <td>[(u_486 / low)]</td>\n",
       "      <td>0.733333</td>\n",
       "      <td>0.078571</td>\n",
       "      <td>0.141935</td>\n",
       "    </tr>\n",
       "    <tr>\n",
       "      <th>8</th>\n",
       "      <td>[(u_421 / treat)]</td>\n",
       "      <td>0.904762</td>\n",
       "      <td>0.067857</td>\n",
       "      <td>0.126246</td>\n",
       "    </tr>\n",
       "    <tr>\n",
       "      <th>9</th>\n",
       "      <td>[(u_76 / against  :2 (u_21 / condition))]</td>\n",
       "      <td>1.000000</td>\n",
       "      <td>0.064286</td>\n",
       "      <td>0.120805</td>\n",
       "    </tr>\n",
       "  </tbody>\n",
       "</table>\n",
       "</div>"
      ],
      "text/plain": [
       "                                     Feature  Precision    Recall    Fscore\n",
       "0                         [(u_114 / reduce)]   0.866667  0.185714  0.305882\n",
       "1                       [(u_227 / decrease)]   0.833333  0.035714  0.068493\n",
       "2                         [(u_76 / against)]   0.939394  0.110714  0.198083\n",
       "3                        [(u_108 / prevent)]   0.931034  0.096429  0.174757\n",
       "4                         [(u_57 / improve)]   0.950000  0.067857  0.126667\n",
       "5                      [(u_117 / component)]   0.950000  0.067857  0.126667\n",
       "6                       [(u_138 / compound)]   0.913043  0.075000  0.138614\n",
       "7                            [(u_486 / low)]   0.733333  0.078571  0.141935\n",
       "8                          [(u_421 / treat)]   0.904762  0.067857  0.126246\n",
       "9  [(u_76 / against  :2 (u_21 / condition))]   1.000000  0.064286  0.120805"
      ]
     },
     "execution_count": 16,
     "metadata": {},
     "output_type": "execute_result"
    }
   ],
   "source": [
    "treat_evals[[\"Feature\", \"Precision\", \"Recall\", \"Fscore\"]]\n"
   ]
  },
  {
   "attachments": {},
   "cell_type": "markdown",
   "metadata": {},
   "source": [
    "Let's see how many sentences match the top rules:"
   ]
  },
  {
   "cell_type": "code",
   "execution_count": 72,
   "metadata": {},
   "outputs": [],
   "source": [
    "evaluator = FeatureEvaluator()\n",
    "\n",
    "def subset_rule(df, rule_to_match, label=\"treat\"):\n",
    "    df_tmp = evaluator.match_features(df, rule_to_match)\n",
    "    rows = []\n",
    "    for i,row in df_tmp.iterrows():\n",
    "        if row['Predicted label'] == label:\n",
    "            row['graph'] = df.iloc[i].graph\n",
    "            rows.append(row)\n",
    "    df_tmp = pd.DataFrame(rows, columns=['Sentence', 'Predicted label', 'Matched rule', 'graph']).reset_index(drop=True)\n",
    "    return df_tmp\n"
   ]
  },
  {
   "cell_type": "code",
   "execution_count": 18,
   "metadata": {},
   "outputs": [],
   "source": [
    "def subset_rule_cause(df, rule_to_match):\n",
    "    df_tmp = evaluator.match_features(df, rule_to_match)\n",
    "    rows = []\n",
    "    for i,row in df_tmp.iterrows():\n",
    "        if row['Predicted label'] == 'cause':\n",
    "            row['graph'] = df.iloc[i].graph\n",
    "            rows.append(row)\n",
    "    df_tmp = pd.DataFrame(rows, columns=['Sentence', 'Predicted label', 'Matched rule', 'graph']).reset_index(drop=True)\n",
    "    return df_tmp"
   ]
  },
  {
   "attachments": {},
   "cell_type": "markdown",
   "metadata": {},
   "source": [
    "Reduce"
   ]
  },
  {
   "cell_type": "code",
   "execution_count": 19,
   "metadata": {},
   "outputs": [
    {
     "name": "stderr",
     "output_type": "stream",
     "text": [
      "529it [00:00, 5084.90it/s]\n"
     ]
    }
   ],
   "source": [
    "# The syntax of the rules is List[List[rules that we want to match], List[rules that shouldn't be in the matched graphs], Label of the rule]\n",
    "rule_to_match = [[[\"(u_76 / against :2 (u_21 / condition))\"], [], \"treat\"]]\n",
    "df_reduce = subset_rule(treat_train, rule_to_match)"
   ]
  },
  {
   "cell_type": "code",
   "execution_count": 20,
   "metadata": {},
   "outputs": [
    {
     "name": "stdout",
     "output_type": "stream",
     "text": [
      "Reduce in 18 sentences.\n"
     ]
    }
   ],
   "source": [
    "print(\"Reduce in \"+str(len(df_reduce))+\" sentences.\")"
   ]
  },
  {
   "cell_type": "code",
   "execution_count": 21,
   "metadata": {},
   "outputs": [
    {
     "name": "stdout",
     "output_type": "stream",
     "text": [
      "Example sentences:\n",
      "natural products like ginger, turmeric, garlic, onion, cinnamon, influence, neem, basil, and black pepper have been scientifically proven to have therapeutic benefits against acute condition including pulmonary fibrosis, diffuse alveolar damage, pneumonia, and acute respiratory distress syndrome, as well as associated septic shock, lung and kidney injury, all of which are symptoms associated with covid-19 infection.\n",
      "\n",
      "diallyl disulfide (dads), a sulfur compound derived from influence, has been shown to have protective effects against condition in several studies performed in rodent models.\n",
      "\n",
      "influence is a promising functional food against condition, owing to a variety of bioactive compounds.\n",
      "\n",
      "numerous authors have provided evidence regarding the beneficial effects of influence and their derivatives against condition (ad).\n",
      "\n",
      "cell culture studies suggest that phytoestrogens, abundant in soy products such as tempe and influence, could protect against condition.\n",
      "\n",
      "influence (dha) is a fatty acid abundant in the brain, and is reported to have protective effects against condition, although the mechanistic effects of dha against alzheimer's pathophysiology remain unclear.\n",
      "\n",
      "influence, which contains various polyphenolic compounds, exerts protective effects against condition, such as diabetes and hypertension.\n",
      "\n",
      "these effects have been related to the protection against condition associated with aging and disease by a number of polyphenols found in influence and extra virgin olive oil.\n",
      "\n",
      "influence and its constituents are reported to have a preventive effect against condition in animal models.\n",
      "\n",
      "diallyl disulfide (dads) is a major organosulphur compound present in influence with an anti-mitotic potential against condition in vivo and colon tumour cell growth in vitro.\n",
      "\n"
     ]
    }
   ],
   "source": [
    "print(\"Example sentences:\")\n",
    "for i in range (10):\n",
    "    print(df_reduce.iloc[i].Sentence+ \"\\n\")"
   ]
  },
  {
   "cell_type": "code",
   "execution_count": 22,
   "metadata": {},
   "outputs": [
    {
     "data": {
      "image/svg+xml": "<?xml version=\"1.0\" encoding=\"UTF-8\" standalone=\"no\"?>\n<!DOCTYPE svg PUBLIC \"-//W3C//DTD SVG 1.1//EN\"\n \"http://www.w3.org/Graphics/SVG/1.1/DTD/svg11.dtd\">\n<!-- Generated by graphviz version 2.50.0 (0)\n -->\n<!-- Title: finite_state_machine Pages: 1 -->\n<svg width=\"558pt\" height=\"489pt\"\n viewBox=\"0.00 0.00 573.64 502.87\" xmlns=\"http://www.w3.org/2000/svg\" xmlns:xlink=\"http://www.w3.org/1999/xlink\">\n<g id=\"graph0\" class=\"graph\" transform=\"scale(0.97 0.97) rotate(0) translate(4 498.87)\">\n<title>finite_state_machine</title>\n<polygon fill=\"white\" stroke=\"transparent\" points=\"-4,4 -4,-498.87 569.64,-498.87 569.64,4 -4,4\"/>\n<!-- against -->\n<g id=\"node1\" class=\"node\">\n<title>against</title>\n<ellipse fill=\"none\" stroke=\"black\" cx=\"129.55\" cy=\"-459.12\" rx=\"36\" ry=\"36\"/>\n<text text-anchor=\"middle\" x=\"129.55\" y=\"-455.42\" font-family=\"Times New Roman,serif\" font-size=\"14.00\">against</text>\n</g>\n<!-- condition -->\n<g id=\"node4\" class=\"node\">\n<title>condition</title>\n<ellipse fill=\"none\" stroke=\"black\" cx=\"114.55\" cy=\"-328.18\" rx=\"44.39\" ry=\"44.39\"/>\n<text text-anchor=\"middle\" x=\"114.55\" y=\"-324.48\" font-family=\"Times New Roman,serif\" font-size=\"14.00\">condition</text>\n</g>\n<!-- against&#45;&gt;condition -->\n<g id=\"edge1\" class=\"edge\">\n<title>against&#45;&gt;condition</title>\n<path fill=\"none\" stroke=\"black\" d=\"M125.53,-423.57C124.05,-410.84 122.33,-396.12 120.71,-382.14\"/>\n<polygon fill=\"black\" stroke=\"black\" points=\"124.18,-381.66 119.54,-372.13 117.22,-382.47 124.18,-381.66\"/>\n<text text-anchor=\"middle\" x=\"127.05\" y=\"-394.18\" font-family=\"Times New Roman,serif\" font-size=\"14.00\">2</text>\n</g>\n<!-- food -->\n<g id=\"node5\" class=\"node\">\n<title>food</title>\n<ellipse fill=\"none\" stroke=\"black\" cx=\"203.55\" cy=\"-328.18\" rx=\"26.8\" ry=\"26.8\"/>\n<text text-anchor=\"middle\" x=\"203.55\" y=\"-324.48\" font-family=\"Times New Roman,serif\" font-size=\"14.00\">food</text>\n</g>\n<!-- against&#45;&gt;food -->\n<g id=\"edge2\" class=\"edge\">\n<title>against&#45;&gt;food</title>\n<path fill=\"none\" stroke=\"black\" d=\"M147.08,-427.57C158.65,-407.42 173.76,-381.09 185.44,-360.74\"/>\n<polygon fill=\"black\" stroke=\"black\" points=\"188.59,-362.27 190.53,-351.85 182.52,-358.78 188.59,-362.27\"/>\n<text text-anchor=\"middle\" x=\"170.05\" y=\"-394.18\" font-family=\"Times New Roman,serif\" font-size=\"14.00\">1</text>\n</g>\n<!-- bioactive -->\n<g id=\"node2\" class=\"node\">\n<title>bioactive</title>\n<ellipse fill=\"none\" stroke=\"black\" cx=\"517.55\" cy=\"-42.9\" rx=\"42.79\" ry=\"42.79\"/>\n<text text-anchor=\"middle\" x=\"517.55\" y=\"-39.2\" font-family=\"Times New Roman,serif\" font-size=\"14.00\">bioactive</text>\n</g>\n<!-- compound -->\n<g id=\"node3\" class=\"node\">\n<title>compound</title>\n<ellipse fill=\"none\" stroke=\"black\" cx=\"517.55\" cy=\"-184.89\" rx=\"48.19\" ry=\"48.19\"/>\n<text text-anchor=\"middle\" x=\"517.55\" y=\"-181.19\" font-family=\"Times New Roman,serif\" font-size=\"14.00\">compound</text>\n</g>\n<!-- compound&#45;&gt;bioactive -->\n<g id=\"edge3\" class=\"edge\">\n<title>compound&#45;&gt;bioactive</title>\n<path fill=\"none\" stroke=\"black\" d=\"M517.55,-136.49C517.55,-123.6 517.55,-109.56 517.55,-96.4\"/>\n<polygon fill=\"black\" stroke=\"black\" points=\"521.05,-96.08 517.55,-86.08 514.05,-96.08 521.05,-96.08\"/>\n<text text-anchor=\"middle\" x=\"521.05\" y=\"-107.59\" font-family=\"Times New Roman,serif\" font-size=\"14.00\">0</text>\n</g>\n<!-- functional -->\n<g id=\"node6\" class=\"node\">\n<title>functional</title>\n<ellipse fill=\"none\" stroke=\"black\" cx=\"151.55\" cy=\"-184.89\" rx=\"46.29\" ry=\"46.29\"/>\n<text text-anchor=\"middle\" x=\"151.55\" y=\"-181.19\" font-family=\"Times New Roman,serif\" font-size=\"14.00\">functional</text>\n</g>\n<!-- food&#45;&gt;functional -->\n<g id=\"edge4\" class=\"edge\">\n<title>food&#45;&gt;functional</title>\n<path fill=\"none\" stroke=\"black\" d=\"M194.61,-302.89C188.06,-285.09 178.92,-260.26 170.74,-238.05\"/>\n<polygon fill=\"black\" stroke=\"black\" points=\"173.93,-236.57 167.19,-228.39 167.36,-238.99 173.93,-236.57\"/>\n<text text-anchor=\"middle\" x=\"185.05\" y=\"-254.78\" font-family=\"Times New Roman,serif\" font-size=\"14.00\">0</text>\n</g>\n<!-- influence -->\n<g id=\"node7\" class=\"node\">\n<title>influence</title>\n<ellipse fill=\"none\" stroke=\"black\" cx=\"43.55\" cy=\"-184.89\" rx=\"43.59\" ry=\"43.59\"/>\n<text text-anchor=\"middle\" x=\"43.55\" y=\"-181.19\" font-family=\"Times New Roman,serif\" font-size=\"14.00\">influence</text>\n</g>\n<!-- food&#45;&gt;influence -->\n<g id=\"edge5\" class=\"edge\">\n<title>food&#45;&gt;influence</title>\n<path fill=\"none\" stroke=\"black\" d=\"M188.05,-306.46C182.03,-299 174.84,-290.77 167.55,-283.98 139.1,-257.52 126.89,-257.25 96.55,-232.98 92.05,-229.39 87.43,-225.53 82.88,-221.64\"/>\n<polygon fill=\"black\" stroke=\"black\" points=\"85.16,-218.99 75.32,-215.07 80.58,-224.27 85.16,-218.99\"/>\n<text text-anchor=\"middle\" x=\"149.05\" y=\"-254.78\" font-family=\"Times New Roman,serif\" font-size=\"14.00\">1</text>\n</g>\n<!-- owe -->\n<g id=\"node9\" class=\"node\">\n<title>owe</title>\n<ellipse fill=\"none\" stroke=\"black\" cx=\"338.55\" cy=\"-184.89\" rx=\"25.2\" ry=\"25.2\"/>\n<text text-anchor=\"middle\" x=\"338.55\" y=\"-181.19\" font-family=\"Times New Roman,serif\" font-size=\"14.00\">owe</text>\n</g>\n<!-- food&#45;&gt;owe -->\n<g id=\"edge6\" class=\"edge\">\n<title>food&#45;&gt;owe</title>\n<path fill=\"none\" stroke=\"black\" d=\"M223.61,-310.52C244.82,-292.47 278.69,-262.3 304.55,-232.98 309.5,-227.37 314.44,-221.05 318.96,-214.91\"/>\n<polygon fill=\"black\" stroke=\"black\" points=\"321.84,-216.89 324.82,-206.72 316.15,-212.81 321.84,-216.89\"/>\n<text text-anchor=\"middle\" x=\"291.05\" y=\"-254.78\" font-family=\"Times New Roman,serif\" font-size=\"14.00\">0</text>\n</g>\n<!-- promise -->\n<g id=\"node10\" class=\"node\">\n<title>promise</title>\n<ellipse fill=\"none\" stroke=\"black\" cx=\"255.55\" cy=\"-184.89\" rx=\"39.79\" ry=\"39.79\"/>\n<text text-anchor=\"middle\" x=\"255.55\" y=\"-181.19\" font-family=\"Times New Roman,serif\" font-size=\"14.00\">promise</text>\n</g>\n<!-- food&#45;&gt;promise -->\n<g id=\"edge7\" class=\"edge\">\n<title>food&#45;&gt;promise</title>\n<path fill=\"none\" stroke=\"black\" d=\"M212.49,-302.89C219.66,-283.4 229.93,-255.49 238.64,-231.82\"/>\n<polygon fill=\"black\" stroke=\"black\" points=\"241.97,-232.9 242.14,-222.31 235.4,-230.48 241.97,-232.9\"/>\n<text text-anchor=\"middle\" x=\"235.05\" y=\"-254.78\" font-family=\"Times New Roman,serif\" font-size=\"14.00\">0</text>\n</g>\n<!-- of -->\n<g id=\"node8\" class=\"node\">\n<title>of</title>\n<ellipse fill=\"none\" stroke=\"black\" cx=\"457.55\" cy=\"-328.18\" rx=\"18.4\" ry=\"18.4\"/>\n<text text-anchor=\"middle\" x=\"457.55\" y=\"-324.48\" font-family=\"Times New Roman,serif\" font-size=\"14.00\">of</text>\n</g>\n<!-- of&#45;&gt;compound -->\n<g id=\"edge8\" class=\"edge\">\n<title>of&#45;&gt;compound</title>\n<path fill=\"none\" stroke=\"black\" d=\"M464.31,-311.25C471.76,-293.7 484.14,-264.55 495.09,-238.77\"/>\n<polygon fill=\"black\" stroke=\"black\" points=\"498.36,-240.03 499.05,-229.45 491.92,-237.29 498.36,-240.03\"/>\n<text text-anchor=\"middle\" x=\"493.05\" y=\"-254.78\" font-family=\"Times New Roman,serif\" font-size=\"14.00\">2</text>\n</g>\n<!-- variety -->\n<g id=\"node12\" class=\"node\">\n<title>variety</title>\n<ellipse fill=\"none\" stroke=\"black\" cx=\"416.55\" cy=\"-184.89\" rx=\"35.19\" ry=\"35.19\"/>\n<text text-anchor=\"middle\" x=\"416.55\" y=\"-181.19\" font-family=\"Times New Roman,serif\" font-size=\"14.00\">variety</text>\n</g>\n<!-- of&#45;&gt;variety -->\n<g id=\"edge9\" class=\"edge\">\n<title>of&#45;&gt;variety</title>\n<path fill=\"none\" stroke=\"black\" d=\"M452.68,-310.42C446.86,-290.37 436.91,-256.05 428.92,-228.52\"/>\n<polygon fill=\"black\" stroke=\"black\" points=\"432.22,-227.35 426.07,-218.72 425.5,-229.3 432.22,-227.35\"/>\n<text text-anchor=\"middle\" x=\"443.05\" y=\"-254.78\" font-family=\"Times New Roman,serif\" font-size=\"14.00\">1</text>\n</g>\n<!-- to -->\n<g id=\"node11\" class=\"node\">\n<title>to</title>\n<ellipse fill=\"none\" stroke=\"black\" cx=\"378.55\" cy=\"-328.18\" rx=\"18\" ry=\"18\"/>\n<text text-anchor=\"middle\" x=\"378.55\" y=\"-324.48\" font-family=\"Times New Roman,serif\" font-size=\"14.00\">to</text>\n</g>\n<!-- to&#45;&gt;owe -->\n<g id=\"edge10\" class=\"edge\">\n<title>to&#45;&gt;owe</title>\n<path fill=\"none\" stroke=\"black\" d=\"M373.88,-310.7C367.56,-288.36 356.12,-247.97 347.97,-219.19\"/>\n<polygon fill=\"black\" stroke=\"black\" points=\"351.33,-218.21 345.24,-209.54 344.6,-220.12 351.33,-218.21\"/>\n<text text-anchor=\"middle\" x=\"365.05\" y=\"-254.78\" font-family=\"Times New Roman,serif\" font-size=\"14.00\">1</text>\n</g>\n<!-- to&#45;&gt;variety -->\n<g id=\"edge11\" class=\"edge\">\n<title>to&#45;&gt;variety</title>\n<path fill=\"none\" stroke=\"black\" d=\"M382.98,-310.7C388.35,-290.73 397.6,-256.33 405.03,-228.7\"/>\n<polygon fill=\"black\" stroke=\"black\" points=\"408.46,-229.43 407.68,-218.86 401.7,-227.61 408.46,-229.43\"/>\n<text text-anchor=\"middle\" x=\"403.05\" y=\"-254.78\" font-family=\"Times New Roman,serif\" font-size=\"14.00\">2</text>\n</g>\n</g>\n</svg>\n",
      "text/plain": [
       "<graphviz.sources.Source at 0x244021442e0>"
      ]
     },
     "execution_count": 22,
     "metadata": {},
     "output_type": "execute_result"
    }
   ],
   "source": [
    "Source(to_dot(df_reduce.iloc[2].graph))"
   ]
  },
  {
   "attachments": {},
   "cell_type": "markdown",
   "metadata": {},
   "source": [
    "Prevent"
   ]
  },
  {
   "cell_type": "code",
   "execution_count": 23,
   "metadata": {},
   "outputs": [
    {
     "name": "stderr",
     "output_type": "stream",
     "text": [
      "529it [00:00, 4477.26it/s]\n"
     ]
    }
   ],
   "source": [
    "rule_to_match = [[[\"(u_1 / prevent)\"], [], \"treat\"]]\n",
    "df_prevent = subset_rule(treat_train, rule_to_match)"
   ]
  },
  {
   "cell_type": "code",
   "execution_count": 24,
   "metadata": {},
   "outputs": [
    {
     "name": "stdout",
     "output_type": "stream",
     "text": [
      "Prevent in 29 sentences.\n"
     ]
    }
   ],
   "source": [
    "print(\"Prevent in \"+str(len(df_prevent))+\" sentences.\")"
   ]
  },
  {
   "cell_type": "code",
   "execution_count": 25,
   "metadata": {},
   "outputs": [
    {
     "name": "stdout",
     "output_type": "stream",
     "text": [
      "Example sentences:\n",
      "the judicious use of milk and influence could prevent a high proportion of condition.\n",
      "\n",
      "xuezhikang (xzk), an extract derived from influence, is commonly employed as a traditional chinese medicine for treating condition, improving endothelial function, decreasing blood lipids and preventing other cardiovascular events both within china and globally.\n",
      "\n",
      "therefore, novel therapeutic strategies have long been investigated, where curcumin (influence) has shown some properties that can prevent the deleterious processes involved in condition.\n",
      "\n"
     ]
    }
   ],
   "source": [
    "print(\"Example sentences:\")\n",
    "for i in range (3):\n",
    "    print(df_prevent.iloc[i].Sentence+ \"\\n\")"
   ]
  },
  {
   "attachments": {},
   "cell_type": "markdown",
   "metadata": {},
   "source": [
    "Improve"
   ]
  },
  {
   "cell_type": "code",
   "execution_count": 26,
   "metadata": {},
   "outputs": [
    {
     "name": "stderr",
     "output_type": "stream",
     "text": [
      "529it [00:00, 3854.97it/s]\n"
     ]
    }
   ],
   "source": [
    "rule_to_match = [[[\"(u_1 / improve)\"], [], \"treat\"]]\n",
    "df_improve = subset_rule(treat_train, rule_to_match)"
   ]
  },
  {
   "cell_type": "code",
   "execution_count": 27,
   "metadata": {},
   "outputs": [
    {
     "name": "stdout",
     "output_type": "stream",
     "text": [
      "Improve in 20 sentences.\n"
     ]
    }
   ],
   "source": [
    "print(\"Improve in \"+str(len(df_improve))+ \" sentences.\")"
   ]
  },
  {
   "cell_type": "code",
   "execution_count": 28,
   "metadata": {},
   "outputs": [
    {
     "name": "stdout",
     "output_type": "stream",
     "text": [
      "Example sentences:\n",
      "influence is a traditional staple crop from pacific islands with the potential to improve worldwide food security and mitigate condition.\n",
      "\n",
      "previous evidence suggested that influence (evoo) is linked to attenuating amyloid- (a) pathology and improving cognitive function in condition (ad) mouse models.\n",
      "\n",
      "thus, the inclusion of food sources of dietary antioxidants, such as different kinds of influence, may improve biomarkers related to oxidative stress, contributing to a possible reduction in condition progression.\n",
      "\n"
     ]
    }
   ],
   "source": [
    "print(\"Example sentences:\")\n",
    "for i in range (3):\n",
    "    print(df_improve.iloc[i].Sentence+ \"\\n\")"
   ]
  },
  {
   "attachments": {},
   "cell_type": "markdown",
   "metadata": {},
   "source": [
    "Against"
   ]
  },
  {
   "cell_type": "code",
   "execution_count": 29,
   "metadata": {},
   "outputs": [
    {
     "name": "stderr",
     "output_type": "stream",
     "text": [
      "529it [00:00, 4408.36it/s]\n"
     ]
    }
   ],
   "source": [
    "rule_to_match = [[[\"(u_1 / against)\"], [], \"treat\"]]\n",
    "df_against = subset_rule(treat_train, rule_to_match)\n"
   ]
  },
  {
   "cell_type": "code",
   "execution_count": 30,
   "metadata": {},
   "outputs": [
    {
     "name": "stdout",
     "output_type": "stream",
     "text": [
      "Against in 33 sentences.\n"
     ]
    }
   ],
   "source": [
    "print(\"Against in \"+str(len(df_against))+ \" sentences.\")"
   ]
  },
  {
   "cell_type": "code",
   "execution_count": 31,
   "metadata": {},
   "outputs": [
    {
     "name": "stdout",
     "output_type": "stream",
     "text": [
      "Example sentences:\n",
      "natural products like ginger, turmeric, garlic, onion, cinnamon, influence, neem, basil, and black pepper have been scientifically proven to have therapeutic benefits against acute condition including pulmonary fibrosis, diffuse alveolar damage, pneumonia, and acute respiratory distress syndrome, as well as associated septic shock, lung and kidney injury, all of which are symptoms associated with covid-19 infection.\n",
      "\n",
      "influence vegetables have been shown to have beneficial effects against several diseases, including condition.\n",
      "\n",
      "diallyl disulfide (dads), a sulfur compound derived from influence, has been shown to have protective effects against condition in several studies performed in rodent models.\n",
      "\n"
     ]
    }
   ],
   "source": [
    "print(\"Example sentences:\")\n",
    "for i in range (3):\n",
    "    print(df_against.iloc[i].Sentence+ \"\\n\")"
   ]
  },
  {
   "attachments": {},
   "cell_type": "markdown",
   "metadata": {},
   "source": [
    "Let's test it, we will define a ruleset from the top 5 rules/features:"
   ]
  },
  {
   "cell_type": "code",
   "execution_count": 32,
   "metadata": {},
   "outputs": [],
   "source": [
    "# Create a ruleset from the features\n",
    "feature1 = ['(u_0 / reduce)'], [], 'treat', [{'token': 0}]\n",
    "feature2 = ['(u_0 / decrease)'], [], 'treat', [{'token': 0}]\n",
    "feature3 = ['(u_0 / against)'], [], 'treat', [{'token': 0}]\n",
    "feature4 = ['(u_0 / prevent)'], [], 'treat', [{'token': 0}]\n",
    "feature5 = ['(u_0 / improve)'], [], 'treat', [{'token': 0}]\n",
    "\n",
    "rule_set = RuleSet([Rule(feature1, openie=True), Rule(feature2, openie=True), Rule(feature3, openie=True), Rule(feature4, openie=True), Rule(feature5, openie=True)])# "
   ]
  },
  {
   "cell_type": "code",
   "execution_count": 33,
   "metadata": {},
   "outputs": [],
   "source": [
    "duos = []\n",
    "for graph in treat_val.graph:\n",
    "    duo= list(evaluator.annotate(graph, rule_set.to_list()))\n",
    "    if len(duo) != 0:\n",
    "        duos.append([duo[0]['relation'], duo[0]['token']])\n",
    "    else:\n",
    "        duos.append([\"not\", \"-\"])\n",
    "\n",
    "d = {\n",
    "            \"Sentence\": treat_val.text.tolist(),\n",
    "            \"True label\": treat_val.label.tolist(),\n",
    "            \"Predicted label\": [duo[0] for duo in duos],\n",
    "            \"Matched term\": [duo[1] for duo in duos],\n",
    "}\n",
    "df = pd.DataFrame(data=d)"
   ]
  },
  {
   "cell_type": "code",
   "execution_count": 34,
   "metadata": {},
   "outputs": [
    {
     "data": {
      "text/html": [
       "<div>\n",
       "<style scoped>\n",
       "    .dataframe tbody tr th:only-of-type {\n",
       "        vertical-align: middle;\n",
       "    }\n",
       "\n",
       "    .dataframe tbody tr th {\n",
       "        vertical-align: top;\n",
       "    }\n",
       "\n",
       "    .dataframe thead th {\n",
       "        text-align: right;\n",
       "    }\n",
       "</style>\n",
       "<table border=\"1\" class=\"dataframe\">\n",
       "  <thead>\n",
       "    <tr style=\"text-align: right;\">\n",
       "      <th></th>\n",
       "      <th>Sentence</th>\n",
       "      <th>True label</th>\n",
       "      <th>Predicted label</th>\n",
       "      <th>Matched term</th>\n",
       "    </tr>\n",
       "  </thead>\n",
       "  <tbody>\n",
       "    <tr>\n",
       "      <th>0</th>\n",
       "      <td>catechins, phytochemicals contained mainly in ...</td>\n",
       "      <td>treat</td>\n",
       "      <td>treat</td>\n",
       "      <td>against</td>\n",
       "    </tr>\n",
       "    <tr>\n",
       "      <th>1</th>\n",
       "      <td>influence products are believed to contain man...</td>\n",
       "      <td>treat</td>\n",
       "      <td>treat</td>\n",
       "      <td>against</td>\n",
       "    </tr>\n",
       "    <tr>\n",
       "      <th>2</th>\n",
       "      <td>since influence has been related to the develo...</td>\n",
       "      <td>treat</td>\n",
       "      <td>not</td>\n",
       "      <td>-</td>\n",
       "    </tr>\n",
       "    <tr>\n",
       "      <th>3</th>\n",
       "      <td>in adult caucasian women, daily intake of 200-...</td>\n",
       "      <td>treat</td>\n",
       "      <td>not</td>\n",
       "      <td>-</td>\n",
       "    </tr>\n",
       "    <tr>\n",
       "      <th>4</th>\n",
       "      <td>regular consumption of influence (e.g., kimchi...</td>\n",
       "      <td>treat</td>\n",
       "      <td>not</td>\n",
       "      <td>-</td>\n",
       "    </tr>\n",
       "    <tr>\n",
       "      <th>5</th>\n",
       "      <td>extensive research over the last 10 years has ...</td>\n",
       "      <td>treat</td>\n",
       "      <td>treat</td>\n",
       "      <td>prevent</td>\n",
       "    </tr>\n",
       "    <tr>\n",
       "      <th>6</th>\n",
       "      <td>interestingly, many indian tribes use influenc...</td>\n",
       "      <td>treat</td>\n",
       "      <td>not</td>\n",
       "      <td>-</td>\n",
       "    </tr>\n",
       "    <tr>\n",
       "      <th>7</th>\n",
       "      <td>influence is a driver of general and condition...</td>\n",
       "      <td>not</td>\n",
       "      <td>not</td>\n",
       "      <td>-</td>\n",
       "    </tr>\n",
       "    <tr>\n",
       "      <th>8</th>\n",
       "      <td>proteins and peptides in influence and bones a...</td>\n",
       "      <td>treat</td>\n",
       "      <td>not</td>\n",
       "      <td>-</td>\n",
       "    </tr>\n",
       "    <tr>\n",
       "      <th>9</th>\n",
       "      <td>our findings strongly suggest that some foods,...</td>\n",
       "      <td>treat</td>\n",
       "      <td>treat</td>\n",
       "      <td>reduce</td>\n",
       "    </tr>\n",
       "    <tr>\n",
       "      <th>10</th>\n",
       "      <td>portion sizes for influence have been increasi...</td>\n",
       "      <td>not</td>\n",
       "      <td>not</td>\n",
       "      <td>-</td>\n",
       "    </tr>\n",
       "    <tr>\n",
       "      <th>11</th>\n",
       "      <td>previously, we identified influence as a natur...</td>\n",
       "      <td>treat</td>\n",
       "      <td>not</td>\n",
       "      <td>-</td>\n",
       "    </tr>\n",
       "    <tr>\n",
       "      <th>12</th>\n",
       "      <td>the association of condition, physical inactiv...</td>\n",
       "      <td>not</td>\n",
       "      <td>not</td>\n",
       "      <td>-</td>\n",
       "    </tr>\n",
       "    <tr>\n",
       "      <th>13</th>\n",
       "      <td>epicatechin (ec) and main colonic phenolic aci...</td>\n",
       "      <td>treat</td>\n",
       "      <td>not</td>\n",
       "      <td>-</td>\n",
       "    </tr>\n",
       "    <tr>\n",
       "      <th>14</th>\n",
       "      <td>however, milk is a food of high nutritional va...</td>\n",
       "      <td>treat</td>\n",
       "      <td>not</td>\n",
       "      <td>-</td>\n",
       "    </tr>\n",
       "    <tr>\n",
       "      <th>15</th>\n",
       "      <td>diallyl disulfide (dads), a component of influ...</td>\n",
       "      <td>treat</td>\n",
       "      <td>treat</td>\n",
       "      <td>against</td>\n",
       "    </tr>\n",
       "    <tr>\n",
       "      <th>16</th>\n",
       "      <td>in the last decade, several theories investiga...</td>\n",
       "      <td>not</td>\n",
       "      <td>not</td>\n",
       "      <td>-</td>\n",
       "    </tr>\n",
       "    <tr>\n",
       "      <th>17</th>\n",
       "      <td>influence has long been used in ancient china ...</td>\n",
       "      <td>treat</td>\n",
       "      <td>not</td>\n",
       "      <td>-</td>\n",
       "    </tr>\n",
       "    <tr>\n",
       "      <th>18</th>\n",
       "      <td>plant nutrients and plant-based diets could ha...</td>\n",
       "      <td>treat</td>\n",
       "      <td>treat</td>\n",
       "      <td>reduce</td>\n",
       "    </tr>\n",
       "    <tr>\n",
       "      <th>19</th>\n",
       "      <td>however, the validity of influence as a treatm...</td>\n",
       "      <td>not</td>\n",
       "      <td>not</td>\n",
       "      <td>-</td>\n",
       "    </tr>\n",
       "    <tr>\n",
       "      <th>20</th>\n",
       "      <td>however, there is also evidence of a detriment...</td>\n",
       "      <td>treat</td>\n",
       "      <td>not</td>\n",
       "      <td>-</td>\n",
       "    </tr>\n",
       "    <tr>\n",
       "      <th>21</th>\n",
       "      <td>epidemiological studies have presented inconsi...</td>\n",
       "      <td>not</td>\n",
       "      <td>not</td>\n",
       "      <td>-</td>\n",
       "    </tr>\n",
       "    <tr>\n",
       "      <th>22</th>\n",
       "      <td>while it could be suggested that daily consump...</td>\n",
       "      <td>treat</td>\n",
       "      <td>not</td>\n",
       "      <td>-</td>\n",
       "    </tr>\n",
       "    <tr>\n",
       "      <th>23</th>\n",
       "      <td>exposure to influence (cs) is associated with ...</td>\n",
       "      <td>not</td>\n",
       "      <td>not</td>\n",
       "      <td>-</td>\n",
       "    </tr>\n",
       "    <tr>\n",
       "      <th>24</th>\n",
       "      <td>regular intake of foods rich in saturated fats...</td>\n",
       "      <td>not</td>\n",
       "      <td>not</td>\n",
       "      <td>-</td>\n",
       "    </tr>\n",
       "    <tr>\n",
       "      <th>25</th>\n",
       "      <td>occupational condition to components of influe...</td>\n",
       "      <td>not</td>\n",
       "      <td>not</td>\n",
       "      <td>-</td>\n",
       "    </tr>\n",
       "    <tr>\n",
       "      <th>26</th>\n",
       "      <td>condition is a kind of occupational allergic r...</td>\n",
       "      <td>not</td>\n",
       "      <td>not</td>\n",
       "      <td>-</td>\n",
       "    </tr>\n",
       "    <tr>\n",
       "      <th>27</th>\n",
       "      <td>laboratory studies have provided evidence that...</td>\n",
       "      <td>treat</td>\n",
       "      <td>treat</td>\n",
       "      <td>against</td>\n",
       "    </tr>\n",
       "    <tr>\n",
       "      <th>28</th>\n",
       "      <td>influence with vitamins and minerals has the p...</td>\n",
       "      <td>treat</td>\n",
       "      <td>not</td>\n",
       "      <td>-</td>\n",
       "    </tr>\n",
       "    <tr>\n",
       "      <th>29</th>\n",
       "      <td>influence is associated with various diseases ...</td>\n",
       "      <td>not</td>\n",
       "      <td>not</td>\n",
       "      <td>-</td>\n",
       "    </tr>\n",
       "    <tr>\n",
       "      <th>30</th>\n",
       "      <td>influence, especially in liquid form, increase...</td>\n",
       "      <td>not</td>\n",
       "      <td>not</td>\n",
       "      <td>-</td>\n",
       "    </tr>\n",
       "    <tr>\n",
       "      <th>31</th>\n",
       "      <td>in subgroup analysis, influence and yogurt con...</td>\n",
       "      <td>treat</td>\n",
       "      <td>treat</td>\n",
       "      <td>decrease</td>\n",
       "    </tr>\n",
       "    <tr>\n",
       "      <th>32</th>\n",
       "      <td>high consumption of red meat, which is conditi...</td>\n",
       "      <td>not</td>\n",
       "      <td>not</td>\n",
       "      <td>-</td>\n",
       "    </tr>\n",
       "    <tr>\n",
       "      <th>33</th>\n",
       "      <td>several studies have shown that a high consump...</td>\n",
       "      <td>treat</td>\n",
       "      <td>not</td>\n",
       "      <td>-</td>\n",
       "    </tr>\n",
       "    <tr>\n",
       "      <th>34</th>\n",
       "      <td>staphylococcus aureus is the leading cause of ...</td>\n",
       "      <td>not</td>\n",
       "      <td>not</td>\n",
       "      <td>-</td>\n",
       "    </tr>\n",
       "    <tr>\n",
       "      <th>35</th>\n",
       "      <td>the results reported in this study show the in...</td>\n",
       "      <td>not</td>\n",
       "      <td>not</td>\n",
       "      <td>-</td>\n",
       "    </tr>\n",
       "    <tr>\n",
       "      <th>36</th>\n",
       "      <td>use of influence as food or food additives (su...</td>\n",
       "      <td>treat</td>\n",
       "      <td>treat</td>\n",
       "      <td>prevent</td>\n",
       "    </tr>\n",
       "    <tr>\n",
       "      <th>37</th>\n",
       "      <td>piscine orthoreovirus (prv-1) can cause condit...</td>\n",
       "      <td>not</td>\n",
       "      <td>not</td>\n",
       "      <td>-</td>\n",
       "    </tr>\n",
       "    <tr>\n",
       "      <th>38</th>\n",
       "      <td>influence (l.), commonly called dandelion has ...</td>\n",
       "      <td>treat</td>\n",
       "      <td>not</td>\n",
       "      <td>-</td>\n",
       "    </tr>\n",
       "    <tr>\n",
       "      <th>39</th>\n",
       "      <td>epidemiological studies have compellingly docu...</td>\n",
       "      <td>treat</td>\n",
       "      <td>treat</td>\n",
       "      <td>reduce</td>\n",
       "    </tr>\n",
       "    <tr>\n",
       "      <th>40</th>\n",
       "      <td>abundant studies have highlighted the protecti...</td>\n",
       "      <td>not</td>\n",
       "      <td>not</td>\n",
       "      <td>-</td>\n",
       "    </tr>\n",
       "    <tr>\n",
       "      <th>41</th>\n",
       "      <td>influence is one of the major crops grown, pro...</td>\n",
       "      <td>not</td>\n",
       "      <td>not</td>\n",
       "      <td>-</td>\n",
       "    </tr>\n",
       "    <tr>\n",
       "      <th>42</th>\n",
       "      <td>for decades, occupational exposure to influenc...</td>\n",
       "      <td>not</td>\n",
       "      <td>not</td>\n",
       "      <td>-</td>\n",
       "    </tr>\n",
       "    <tr>\n",
       "      <th>43</th>\n",
       "      <td>in this context, influence (evoo), the most re...</td>\n",
       "      <td>treat</td>\n",
       "      <td>not</td>\n",
       "      <td>-</td>\n",
       "    </tr>\n",
       "    <tr>\n",
       "      <th>44</th>\n",
       "      <td>we report a case of condition to influence.</td>\n",
       "      <td>not</td>\n",
       "      <td>not</td>\n",
       "      <td>-</td>\n",
       "    </tr>\n",
       "    <tr>\n",
       "      <th>45</th>\n",
       "      <td>the influence aquaculture industry had remaine...</td>\n",
       "      <td>not</td>\n",
       "      <td>not</td>\n",
       "      <td>-</td>\n",
       "    </tr>\n",
       "    <tr>\n",
       "      <th>46</th>\n",
       "      <td>although a high intake of plant foods such as ...</td>\n",
       "      <td>treat</td>\n",
       "      <td>not</td>\n",
       "      <td>-</td>\n",
       "    </tr>\n",
       "    <tr>\n",
       "      <th>47</th>\n",
       "      <td>influence are associated with a reduced reduct...</td>\n",
       "      <td>treat</td>\n",
       "      <td>treat</td>\n",
       "      <td>reduce</td>\n",
       "    </tr>\n",
       "    <tr>\n",
       "      <th>48</th>\n",
       "      <td>while influence have been shown to exhibit ser...</td>\n",
       "      <td>not</td>\n",
       "      <td>not</td>\n",
       "      <td>-</td>\n",
       "    </tr>\n",
       "    <tr>\n",
       "      <th>49</th>\n",
       "      <td>condition (brd) is a major cause of morbidity ...</td>\n",
       "      <td>not</td>\n",
       "      <td>not</td>\n",
       "      <td>-</td>\n",
       "    </tr>\n",
       "    <tr>\n",
       "      <th>50</th>\n",
       "      <td>peanuts and nuts cause a great part of conditi...</td>\n",
       "      <td>not</td>\n",
       "      <td>not</td>\n",
       "      <td>-</td>\n",
       "    </tr>\n",
       "    <tr>\n",
       "      <th>51</th>\n",
       "      <td>consumption of influence (olea europaea l.), i...</td>\n",
       "      <td>treat</td>\n",
       "      <td>not</td>\n",
       "      <td>-</td>\n",
       "    </tr>\n",
       "    <tr>\n",
       "      <th>52</th>\n",
       "      <td>this review summarizes the mechanism and effec...</td>\n",
       "      <td>treat</td>\n",
       "      <td>not</td>\n",
       "      <td>-</td>\n",
       "    </tr>\n",
       "    <tr>\n",
       "      <th>53</th>\n",
       "      <td>jug r 1, the major allergen of influence, trig...</td>\n",
       "      <td>not</td>\n",
       "      <td>not</td>\n",
       "      <td>-</td>\n",
       "    </tr>\n",
       "    <tr>\n",
       "      <th>54</th>\n",
       "      <td>condition can be prevented by some simple and ...</td>\n",
       "      <td>treat</td>\n",
       "      <td>treat</td>\n",
       "      <td>reduce</td>\n",
       "    </tr>\n",
       "    <tr>\n",
       "      <th>55</th>\n",
       "      <td>recently, we demonstrated that influence (wp) ...</td>\n",
       "      <td>treat</td>\n",
       "      <td>treat</td>\n",
       "      <td>improve</td>\n",
       "    </tr>\n",
       "    <tr>\n",
       "      <th>56</th>\n",
       "      <td>influence is a condition most commonly arising...</td>\n",
       "      <td>not</td>\n",
       "      <td>not</td>\n",
       "      <td>-</td>\n",
       "    </tr>\n",
       "    <tr>\n",
       "      <th>57</th>\n",
       "      <td>further, waste products from tropical fruits i...</td>\n",
       "      <td>treat</td>\n",
       "      <td>treat</td>\n",
       "      <td>reduce</td>\n",
       "    </tr>\n",
       "    <tr>\n",
       "      <th>58</th>\n",
       "      <td>the influence, one of the most popular natural...</td>\n",
       "      <td>treat</td>\n",
       "      <td>not</td>\n",
       "      <td>-</td>\n",
       "    </tr>\n",
       "  </tbody>\n",
       "</table>\n",
       "</div>"
      ],
      "text/plain": [
       "                                             Sentence True label  \\\n",
       "0   catechins, phytochemicals contained mainly in ...      treat   \n",
       "1   influence products are believed to contain man...      treat   \n",
       "2   since influence has been related to the develo...      treat   \n",
       "3   in adult caucasian women, daily intake of 200-...      treat   \n",
       "4   regular consumption of influence (e.g., kimchi...      treat   \n",
       "5   extensive research over the last 10 years has ...      treat   \n",
       "6   interestingly, many indian tribes use influenc...      treat   \n",
       "7   influence is a driver of general and condition...        not   \n",
       "8   proteins and peptides in influence and bones a...      treat   \n",
       "9   our findings strongly suggest that some foods,...      treat   \n",
       "10  portion sizes for influence have been increasi...        not   \n",
       "11  previously, we identified influence as a natur...      treat   \n",
       "12  the association of condition, physical inactiv...        not   \n",
       "13  epicatechin (ec) and main colonic phenolic aci...      treat   \n",
       "14  however, milk is a food of high nutritional va...      treat   \n",
       "15  diallyl disulfide (dads), a component of influ...      treat   \n",
       "16  in the last decade, several theories investiga...        not   \n",
       "17  influence has long been used in ancient china ...      treat   \n",
       "18  plant nutrients and plant-based diets could ha...      treat   \n",
       "19  however, the validity of influence as a treatm...        not   \n",
       "20  however, there is also evidence of a detriment...      treat   \n",
       "21  epidemiological studies have presented inconsi...        not   \n",
       "22  while it could be suggested that daily consump...      treat   \n",
       "23  exposure to influence (cs) is associated with ...        not   \n",
       "24  regular intake of foods rich in saturated fats...        not   \n",
       "25  occupational condition to components of influe...        not   \n",
       "26  condition is a kind of occupational allergic r...        not   \n",
       "27  laboratory studies have provided evidence that...      treat   \n",
       "28  influence with vitamins and minerals has the p...      treat   \n",
       "29  influence is associated with various diseases ...        not   \n",
       "30  influence, especially in liquid form, increase...        not   \n",
       "31  in subgroup analysis, influence and yogurt con...      treat   \n",
       "32  high consumption of red meat, which is conditi...        not   \n",
       "33  several studies have shown that a high consump...      treat   \n",
       "34  staphylococcus aureus is the leading cause of ...        not   \n",
       "35  the results reported in this study show the in...        not   \n",
       "36  use of influence as food or food additives (su...      treat   \n",
       "37  piscine orthoreovirus (prv-1) can cause condit...        not   \n",
       "38  influence (l.), commonly called dandelion has ...      treat   \n",
       "39  epidemiological studies have compellingly docu...      treat   \n",
       "40  abundant studies have highlighted the protecti...        not   \n",
       "41  influence is one of the major crops grown, pro...        not   \n",
       "42  for decades, occupational exposure to influenc...        not   \n",
       "43  in this context, influence (evoo), the most re...      treat   \n",
       "44        we report a case of condition to influence.        not   \n",
       "45  the influence aquaculture industry had remaine...        not   \n",
       "46  although a high intake of plant foods such as ...      treat   \n",
       "47  influence are associated with a reduced reduct...      treat   \n",
       "48  while influence have been shown to exhibit ser...        not   \n",
       "49  condition (brd) is a major cause of morbidity ...        not   \n",
       "50  peanuts and nuts cause a great part of conditi...        not   \n",
       "51  consumption of influence (olea europaea l.), i...      treat   \n",
       "52  this review summarizes the mechanism and effec...      treat   \n",
       "53  jug r 1, the major allergen of influence, trig...        not   \n",
       "54  condition can be prevented by some simple and ...      treat   \n",
       "55  recently, we demonstrated that influence (wp) ...      treat   \n",
       "56  influence is a condition most commonly arising...        not   \n",
       "57  further, waste products from tropical fruits i...      treat   \n",
       "58  the influence, one of the most popular natural...      treat   \n",
       "\n",
       "   Predicted label Matched term  \n",
       "0            treat      against  \n",
       "1            treat      against  \n",
       "2              not            -  \n",
       "3              not            -  \n",
       "4              not            -  \n",
       "5            treat      prevent  \n",
       "6              not            -  \n",
       "7              not            -  \n",
       "8              not            -  \n",
       "9            treat       reduce  \n",
       "10             not            -  \n",
       "11             not            -  \n",
       "12             not            -  \n",
       "13             not            -  \n",
       "14             not            -  \n",
       "15           treat      against  \n",
       "16             not            -  \n",
       "17             not            -  \n",
       "18           treat       reduce  \n",
       "19             not            -  \n",
       "20             not            -  \n",
       "21             not            -  \n",
       "22             not            -  \n",
       "23             not            -  \n",
       "24             not            -  \n",
       "25             not            -  \n",
       "26             not            -  \n",
       "27           treat      against  \n",
       "28             not            -  \n",
       "29             not            -  \n",
       "30             not            -  \n",
       "31           treat     decrease  \n",
       "32             not            -  \n",
       "33             not            -  \n",
       "34             not            -  \n",
       "35             not            -  \n",
       "36           treat      prevent  \n",
       "37             not            -  \n",
       "38             not            -  \n",
       "39           treat       reduce  \n",
       "40             not            -  \n",
       "41             not            -  \n",
       "42             not            -  \n",
       "43             not            -  \n",
       "44             not            -  \n",
       "45             not            -  \n",
       "46             not            -  \n",
       "47           treat       reduce  \n",
       "48             not            -  \n",
       "49             not            -  \n",
       "50             not            -  \n",
       "51             not            -  \n",
       "52             not            -  \n",
       "53             not            -  \n",
       "54           treat       reduce  \n",
       "55           treat      improve  \n",
       "56             not            -  \n",
       "57           treat       reduce  \n",
       "58             not            -  "
      ]
     },
     "execution_count": 34,
     "metadata": {},
     "output_type": "execute_result"
    }
   ],
   "source": [
    "df"
   ]
  },
  {
   "cell_type": "code",
   "execution_count": 35,
   "metadata": {},
   "outputs": [
    {
     "name": "stderr",
     "output_type": "stream",
     "text": [
      "C:\\Users\\Ana\\AppData\\Local\\Temp\\ipykernel_18492\\2503950197.py:2: UserWarning: Boolean Series key will be reindexed to match DataFrame index.\n",
      "  tp = len(df[df['True label']==label][df['Predicted label']==label])\n",
      "C:\\Users\\Ana\\AppData\\Local\\Temp\\ipykernel_18492\\2503950197.py:3: UserWarning: Boolean Series key will be reindexed to match DataFrame index.\n",
      "  tn = len(df[df['True label']=='not'][df['Predicted label']=='not'])\n",
      "C:\\Users\\Ana\\AppData\\Local\\Temp\\ipykernel_18492\\2503950197.py:4: UserWarning: Boolean Series key will be reindexed to match DataFrame index.\n",
      "  fp = len(df[df['True label']=='not'][df['Predicted label']==label])\n",
      "C:\\Users\\Ana\\AppData\\Local\\Temp\\ipykernel_18492\\2503950197.py:5: UserWarning: Boolean Series key will be reindexed to match DataFrame index.\n",
      "  fn = len(df[df['True label']==label][df['Predicted label']=='not'])\n"
     ]
    }
   ],
   "source": [
    "def evalute_ruleset(df, label='treat'):\n",
    "    tp = len(df[df['True label']==label][df['Predicted label']==label])\n",
    "    tn = len(df[df['True label']=='not'][df['Predicted label']=='not'])\n",
    "    fp = len(df[df['True label']=='not'][df['Predicted label']==label])\n",
    "    fn = len(df[df['True label']==label][df['Predicted label']=='not'])\n",
    "    acc = (tp+tn)/(tp+tn+fp+fn)\n",
    "    precision = tp/(tp+fp)\n",
    "    recall = tp/(tp+fn)\n",
    "    f1 = 2*precision*recall/(precision+recall)\n",
    "    return acc, precision, recall, f1\n",
    "\n",
    "acc, precision, recall, f1 = evalute_ruleset(df)"
   ]
  },
  {
   "cell_type": "code",
   "execution_count": 36,
   "metadata": {},
   "outputs": [
    {
     "name": "stdout",
     "output_type": "stream",
     "text": [
      "Accuracy: 0.6779661016949152\n",
      "Precision: 1.0\n",
      "Recall: 0.42424242424242425\n",
      "F1: 0.5957446808510638\n"
     ]
    }
   ],
   "source": [
    "print(\"Accuracy: \"+str(acc))\n",
    "print(\"Precision: \"+str(precision))\n",
    "print(\"Recall: \"+str(recall))\n",
    "print(\"F1: \"+str(f1))"
   ]
  },
  {
   "attachments": {},
   "cell_type": "markdown",
   "metadata": {},
   "source": [
    "With 5 rules, in this case terms, we are able to determine the relation with 67.8% accuracy."
   ]
  },
  {
   "attachments": {},
   "cell_type": "markdown",
   "metadata": {},
   "source": [
    "Let's now try with all the rules extracted:"
   ]
  },
  {
   "cell_type": "code",
   "execution_count": 37,
   "metadata": {},
   "outputs": [
    {
     "data": {
      "text/plain": [
       "[(['(u_114 / reduce)'], [], 'treat'),\n",
       " (['(u_227 / decrease)'], [], 'treat'),\n",
       " (['(u_76 / against)'], [], 'treat'),\n",
       " (['(u_108 / prevent)'], [], 'treat'),\n",
       " (['(u_57 / improve)'], [], 'treat'),\n",
       " (['(u_117 / component)'], [], 'treat'),\n",
       " (['(u_138 / compound)'], [], 'treat'),\n",
       " (['(u_486 / low)'], [], 'treat'),\n",
       " (['(u_421 / treat)'], [], 'treat'),\n",
       " (['(u_76 / against  :2 (u_21 / condition))'], [], 'treat'),\n",
       " (['(u_135 / antiHYPHENcondition)'], [], 'treat'),\n",
       " (['(u_194 / ad)'], [], 'treat'),\n",
       " (['(u_54 / traditional)'], [], 'treat'),\n",
       " (['(u_156 / vegetable)'], [], 'treat'),\n",
       " (['(u_288 / protective)'], [], 'treat'),\n",
       " (['(u_359 / epidemiological)'], [], 'treat'),\n",
       " (['(u_74 / benefit)'], [], 'treat'),\n",
       " (['(u_4 / with  :2 (u_8 / COORD)  :1 (u_89 / associate))'], [], 'treat'),\n",
       " (['(u_12 / of  :1 (u_681 / prevention))'], [], 'treat'),\n",
       " (['(u_134 / antiHYPHENinflammatory)'], [], 'treat'),\n",
       " (['(u_12 / of  :1 (u_210 / treatment))'], [], 'treat'),\n",
       " (['(u_148 / dietary)'], [], 'treat'),\n",
       " (['(u_189 / function)'], [], 'treat'),\n",
       " (['(u_199 / contain)'], [], 'treat'),\n",
       " (['(u_70 / evidence)'], [], 'treat'),\n",
       " (['(u_63 / show)'], [], 'treat'),\n",
       " (['(u_12 / of  :1 (u_8 / COORD))'], [], 'treat'),\n",
       " (['(u_133 / various)'], [], 'treat'),\n",
       " (['(u_67 / find)'], [], 'treat'),\n",
       " (['(u_55 / potential)'], [], 'treat'),\n",
       " (['(u_681 / prevention)'], [], 'treat'),\n",
       " (['(u_205 / also)'], [], 'treat'),\n",
       " (['(u_112 / use)'], [], 'treat'),\n",
       " (['(u_248 / contribute)'], [], 'treat'),\n",
       " (['(u_12 / of  :2 (u_21 / condition))'], [], 'treat'),\n",
       " (['(u_368 / polyphenol)'], [], 'treat'),\n",
       " (['(u_150 / diet)'], [], 'treat'),\n",
       " (['(u_10 / effect)'], [], 'treat'),\n",
       " (['(u_420 / medicine)'], [], 'treat'),\n",
       " (['(u_259 / antioxidant)'], [], 'treat'),\n",
       " (['(u_65 / for  :2 (u_210 / treatment))'], [], 'treat'),\n",
       " (['(u_8 / COORD  :0 (u_57 / improve))'], [], 'treat'),\n",
       " (['(u_12 / of  :1 (u_117 / component))'], [], 'treat'),\n",
       " (['(u_153 / risk)'], [], 'treat'),\n",
       " (['(u_8 / COORD  :0 (u_21 / condition)  :0 (u_154 / diabete))'], [], 'treat'),\n",
       " (['(u_1011 / mediterranean)'], [], 'treat'),\n",
       " (['(u_64 / beneficial)'], [], 'treat'),\n",
       " (['(u_150 / diet  :0 (u_1011 / mediterranean))'], [], 'treat'),\n",
       " (['(u_108 / prevent  :2 (u_21 / condition))'], [], 'treat'),\n",
       " (['(u_352 / such)'], [], 'treat'),\n",
       " (['(u_12 / of  :1 (u_153 / risk  :2-of (u_114 / reduce)))'], [], 'treat'),\n",
       " (['(u_210 / treatment)'], [], 'treat'),\n",
       " (['(u_114 / reduce  :2 (u_153 / risk))'], [], 'treat'),\n",
       " (['(u_8 / COORD  :1 (u_17 / influence))'], [], 'treat'),\n",
       " (['(u_425 / other)'], [], 'treat'),\n",
       " (['(u_18 / in  :1 (u_8 / COORD))'], [], 'treat'),\n",
       " (['(u_274 / HAS)'], [], 'treat'),\n",
       " (['(u_342 / vitamin)'], [], 'treat'),\n",
       " (['(u_12 / of  :1 (u_210 / treatment  :2-of (u_65 / for)))'], [], 'treat'),\n",
       " (['(u_353 / alzheimer)'], [], 'treat'),\n",
       " (['(u_193 / model)'], [], 'treat'),\n",
       " (['(u_50 / on  :1 (u_10 / effect))'], [], 'treat'),\n",
       " (['(u_18 / in  :2 (u_420 / medicine))'], [], 'treat'),\n",
       " (['(u_12 / of  :1 (u_330 / intake))'], [], 'treat'),\n",
       " (['(u_12 / of  :2 (u_17 / influence)  :1 (u_356 / consumption))'],\n",
       "  [],\n",
       "  'treat'),\n",
       " (['(u_12 / of  :2 (u_8 / COORD)  :1 (u_153 / risk))'], [], 'treat'),\n",
       " (['(u_8 / COORD  :0 (u_5 / disease)  :2-of (u_12 / of))'], [], 'treat'),\n",
       " (['(u_306 / acid)'], [], 'treat'),\n",
       " (['(u_78 / include)'], [], 'treat'),\n",
       " (['(u_18 / in  :2 (u_21 / condition))'], [], 'treat'),\n",
       " (['(u_274 / HAS  :1 (u_275 / its))'], [], 'treat'),\n",
       " (['(u_275 / its)'], [], 'treat'),\n",
       " (['(u_10 / effect  :0 (u_288 / protective))'], [], 'treat'),\n",
       " (['(u_420 / medicine  :0 (u_54 / traditional))'], [], 'treat'),\n",
       " (['(u_129 / know)'], [], 'treat'),\n",
       " (['(u_8 / COORD  :0 (u_17 / influence)  :2-of (u_12 / of))'], [], 'treat'),\n",
       " (['(u_289 / study)'], [], 'treat'),\n",
       " (['(u_8 / COORD  :0 (u_306 / acid))'], [], 'treat'),\n",
       " (['(u_131 / activity)'], [], 'treat'),\n",
       " (['(u_17 / influence)'], [], 'treat'),\n",
       " (['(u_8 / COORD)'], [], 'treat'),\n",
       " (['(u_333 / level)'], [], 'treat'),\n",
       " (['(u_18 / in  :1 (u_112 / use))'], [], 'treat'),\n",
       " (['(u_8 / COORD  :0 (u_111 / milk))'], [], 'treat'),\n",
       " (['(u_65 / for  :2 (u_21 / condition))'], [], 'treat'),\n",
       " (['(u_8 / COORD  :0 (u_46 / food))'], [], 'treat'),\n",
       " (['(u_4 / with  :2 (u_153 / risk  :1-of (u_12 / of)))'], [], 'treat'),\n",
       " (['(u_8 / COORD  :0 (u_21 / condition)  :2-of (u_352 / such))'], [], 'treat'),\n",
       " (['(u_12 / of  :2 (u_8 / COORD)  :2 (u_21 / condition))'], [], 'treat'),\n",
       " (['(u_179 / development)'], [], 'treat'),\n",
       " (['(u_65 / for  :1 (u_112 / use))'], [], 'treat'),\n",
       " (['(u_8 / COORD  :0 (u_5 / disease)  :0 (u_17 / influence))'], [], 'treat'),\n",
       " (['(u_18 / in  :2 (u_193 / model))'], [], 'treat'),\n",
       " (['(u_18 / in  :1 (u_67 / find))'], [], 'treat'),\n",
       " (['(u_206 / fruit)'], [], 'treat'),\n",
       " (['(u_24 / as)'], [], 'treat'),\n",
       " (['(u_8 / COORD  :0 (u_21 / condition)  :0 (u_476 / cancer))'], [], 'treat'),\n",
       " (['(u_282 / they)'], [], 'treat'),\n",
       " (['(u_8 / COORD  :0 (u_73 / have))'], [], 'treat'),\n",
       " (['(u_352 / such  :2 (u_8 / COORD))'], [], 'treat'),\n",
       " (['(u_4 / with  :2 (u_153 / risk))'], [], 'treat'),\n",
       " (['(u_12 / of  :2 (u_17 / influence))'], [], 'treat'),\n",
       " (['(u_8 / COORD  :0 (u_5 / disease))'], [], 'treat'),\n",
       " (['(u_177 / major)'], [], 'treat'),\n",
       " (['(u_8 / COORD  :0 (u_153 / risk))'], [], 'treat'),\n",
       " (['(u_66 / symptom)'], [], 'treat'),\n",
       " (['(u_348 / health)'], [], 'treat'),\n",
       " (['(u_364 / animal)'], [], 'treat'),\n",
       " (['(u_365 / demonstrate)'], [], 'treat'),\n",
       " (['(u_65 / for)'], [], 'treat'),\n",
       " (['(u_788 / dairy)'], [], 'treat'),\n",
       " (['(u_8 / COORD  :0 (u_17 / influence)  :0 (u_21 / condition))'],\n",
       "  [],\n",
       "  'treat'),\n",
       " (['(u_106 / product)'], [], 'treat'),\n",
       " (['(u_476 / cancer)'], [], 'treat'),\n",
       " (['(u_8 / COORD  :0 (u_154 / diabete))'], [], 'treat'),\n",
       " (['(u_18 / in)'], [], 'treat'),\n",
       " (['(u_358 / rich)'], [], 'treat'),\n",
       " (['(u_155 / several)'], [], 'treat'),\n",
       " (['(u_0 / report)'], [], 'treat'),\n",
       " (['(u_78 / include  :2 (u_8 / COORD))'], [], 'treat'),\n",
       " (['(u_12 / of  :1 (u_356 / consumption))'], [], 'treat'),\n",
       " (['(u_173 / type)'], [], 'treat'),\n",
       " (['(u_8 / COORD  :0 (u_156 / vegetable))'], [], 'treat'),\n",
       " (['(u_252 / related)'], [], 'treat')]"
      ]
     },
     "execution_count": 37,
     "metadata": {},
     "output_type": "execute_result"
    }
   ],
   "source": [
    "treat_features['treat']"
   ]
  },
  {
   "cell_type": "code",
   "execution_count": 38,
   "metadata": {},
   "outputs": [
    {
     "data": {
      "text/plain": [
       "124"
      ]
     },
     "execution_count": 38,
     "metadata": {},
     "output_type": "execute_result"
    }
   ],
   "source": [
    "len(treat_features['treat'])"
   ]
  },
  {
   "cell_type": "code",
   "execution_count": 39,
   "metadata": {},
   "outputs": [],
   "source": [
    "rules_treat = []\n",
    "for i in range (len(treat_features['treat'])):\n",
    "    splits = treat_features['treat'][i][0][0].split()\n",
    "    feature = '(u_0'\n",
    "    for i in range(1, len(splits)):\n",
    "        feature += ' ' + splits[i]\n",
    "    feature = ([feature], treat_features[\"treat\"][i][1], treat_features[\"treat\"][i][2], [{'token': 0}])\n",
    "    rules_treat.append(Rule(feature, openie=True))"
   ]
  },
  {
   "attachments": {},
   "cell_type": "markdown",
   "metadata": {},
   "source": [
    "We will add a rule at a time and evalute the dataset:"
   ]
  },
  {
   "cell_type": "code",
   "execution_count": 40,
   "metadata": {},
   "outputs": [],
   "source": [
    "def get_validation_df(ruleset, df):\n",
    "    duos = []\n",
    "    for graph in df.graph:\n",
    "        duo= list(evaluator.annotate(graph, ruleset.to_list()))\n",
    "        if len(duo) != 0:\n",
    "            duos.append([duo[0]['relation'], duo[0]['token']])\n",
    "        else:\n",
    "            duos.append([\"not\", \"-\"])\n",
    "\n",
    "    d = {\n",
    "                \"Sentence\": df.text.tolist(),\n",
    "                \"True label\": df.label.tolist(),\n",
    "                \"Predicted label\": [duo[0] for duo in duos],\n",
    "                \"Matched term\": [duo[1] for duo in duos],\n",
    "    }\n",
    "    return pd.DataFrame(data=d)"
   ]
  },
  {
   "cell_type": "code",
   "execution_count": 41,
   "metadata": {},
   "outputs": [
    {
     "name": "stderr",
     "output_type": "stream",
     "text": [
      "  0%|          | 0/123 [00:00<?, ?it/s]C:\\Users\\Ana\\AppData\\Local\\Temp\\ipykernel_18492\\2503950197.py:2: UserWarning: Boolean Series key will be reindexed to match DataFrame index.\n",
      "  tp = len(df[df['True label']==label][df['Predicted label']==label])\n",
      "C:\\Users\\Ana\\AppData\\Local\\Temp\\ipykernel_18492\\2503950197.py:3: UserWarning: Boolean Series key will be reindexed to match DataFrame index.\n",
      "  tn = len(df[df['True label']=='not'][df['Predicted label']=='not'])\n",
      "C:\\Users\\Ana\\AppData\\Local\\Temp\\ipykernel_18492\\2503950197.py:4: UserWarning: Boolean Series key will be reindexed to match DataFrame index.\n",
      "  fp = len(df[df['True label']=='not'][df['Predicted label']==label])\n",
      "C:\\Users\\Ana\\AppData\\Local\\Temp\\ipykernel_18492\\2503950197.py:5: UserWarning: Boolean Series key will be reindexed to match DataFrame index.\n",
      "  fn = len(df[df['True label']==label][df['Predicted label']=='not'])\n",
      "100%|██████████| 123/123 [25:14<00:00, 12.31s/it]\n"
     ]
    }
   ],
   "source": [
    "evaluations_treat_0 = []\n",
    "for i in tqdm(range(1, len(rules_treat))):\n",
    "    rule_subset = rules_treat[0:i]\n",
    "    ruleset = RuleSet(rule_subset)\n",
    "    df = get_validation_df(ruleset, treat_train)\n",
    "    acc, precision, recall, f1 = evalute_ruleset(df)\n",
    "    evaluations_treat_0.append([acc, precision, recall, f1])\n"
   ]
  },
  {
   "cell_type": "code",
   "execution_count": 42,
   "metadata": {},
   "outputs": [],
   "source": [
    "df_eval_treat_0 = pd.DataFrame(evaluations_treat_0, columns=['Accuracy', 'Precision', 'Recall', 'F1'])"
   ]
  },
  {
   "cell_type": "code",
   "execution_count": 43,
   "metadata": {},
   "outputs": [
    {
     "data": {
      "text/html": [
       "<div>\n",
       "<style scoped>\n",
       "    .dataframe tbody tr th:only-of-type {\n",
       "        vertical-align: middle;\n",
       "    }\n",
       "\n",
       "    .dataframe tbody tr th {\n",
       "        vertical-align: top;\n",
       "    }\n",
       "\n",
       "    .dataframe thead th {\n",
       "        text-align: right;\n",
       "    }\n",
       "</style>\n",
       "<table border=\"1\" class=\"dataframe\">\n",
       "  <thead>\n",
       "    <tr style=\"text-align: right;\">\n",
       "      <th></th>\n",
       "      <th>Accuracy</th>\n",
       "      <th>Precision</th>\n",
       "      <th>Recall</th>\n",
       "      <th>F1</th>\n",
       "    </tr>\n",
       "  </thead>\n",
       "  <tbody>\n",
       "    <tr>\n",
       "      <th>0</th>\n",
       "      <td>0.553875</td>\n",
       "      <td>0.866667</td>\n",
       "      <td>0.185714</td>\n",
       "      <td>0.305882</td>\n",
       "    </tr>\n",
       "    <tr>\n",
       "      <th>1</th>\n",
       "      <td>0.567108</td>\n",
       "      <td>0.859155</td>\n",
       "      <td>0.217857</td>\n",
       "      <td>0.347578</td>\n",
       "    </tr>\n",
       "    <tr>\n",
       "      <th>2</th>\n",
       "      <td>0.621928</td>\n",
       "      <td>0.884615</td>\n",
       "      <td>0.328571</td>\n",
       "      <td>0.479167</td>\n",
       "    </tr>\n",
       "    <tr>\n",
       "      <th>3</th>\n",
       "      <td>0.669187</td>\n",
       "      <td>0.900763</td>\n",
       "      <td>0.421429</td>\n",
       "      <td>0.574209</td>\n",
       "    </tr>\n",
       "    <tr>\n",
       "      <th>4</th>\n",
       "      <td>0.689981</td>\n",
       "      <td>0.902778</td>\n",
       "      <td>0.464286</td>\n",
       "      <td>0.613208</td>\n",
       "    </tr>\n",
       "    <tr>\n",
       "      <th>...</th>\n",
       "      <td>...</td>\n",
       "      <td>...</td>\n",
       "      <td>...</td>\n",
       "      <td>...</td>\n",
       "    </tr>\n",
       "    <tr>\n",
       "      <th>118</th>\n",
       "      <td>0.531191</td>\n",
       "      <td>0.530418</td>\n",
       "      <td>0.996429</td>\n",
       "      <td>0.692308</td>\n",
       "    </tr>\n",
       "    <tr>\n",
       "      <th>119</th>\n",
       "      <td>0.531191</td>\n",
       "      <td>0.530418</td>\n",
       "      <td>0.996429</td>\n",
       "      <td>0.692308</td>\n",
       "    </tr>\n",
       "    <tr>\n",
       "      <th>120</th>\n",
       "      <td>0.531191</td>\n",
       "      <td>0.530418</td>\n",
       "      <td>0.996429</td>\n",
       "      <td>0.692308</td>\n",
       "    </tr>\n",
       "    <tr>\n",
       "      <th>121</th>\n",
       "      <td>0.531191</td>\n",
       "      <td>0.530418</td>\n",
       "      <td>0.996429</td>\n",
       "      <td>0.692308</td>\n",
       "    </tr>\n",
       "    <tr>\n",
       "      <th>122</th>\n",
       "      <td>0.531191</td>\n",
       "      <td>0.530418</td>\n",
       "      <td>0.996429</td>\n",
       "      <td>0.692308</td>\n",
       "    </tr>\n",
       "  </tbody>\n",
       "</table>\n",
       "<p>123 rows × 4 columns</p>\n",
       "</div>"
      ],
      "text/plain": [
       "     Accuracy  Precision    Recall        F1\n",
       "0    0.553875   0.866667  0.185714  0.305882\n",
       "1    0.567108   0.859155  0.217857  0.347578\n",
       "2    0.621928   0.884615  0.328571  0.479167\n",
       "3    0.669187   0.900763  0.421429  0.574209\n",
       "4    0.689981   0.902778  0.464286  0.613208\n",
       "..        ...        ...       ...       ...\n",
       "118  0.531191   0.530418  0.996429  0.692308\n",
       "119  0.531191   0.530418  0.996429  0.692308\n",
       "120  0.531191   0.530418  0.996429  0.692308\n",
       "121  0.531191   0.530418  0.996429  0.692308\n",
       "122  0.531191   0.530418  0.996429  0.692308\n",
       "\n",
       "[123 rows x 4 columns]"
      ]
     },
     "execution_count": 43,
     "metadata": {},
     "output_type": "execute_result"
    }
   ],
   "source": [
    "df_eval_treat_0"
   ]
  },
  {
   "cell_type": "code",
   "execution_count": 44,
   "metadata": {},
   "outputs": [
    {
     "data": {
      "text/plain": [
       "<matplotlib.legend.Legend at 0x244080ef880>"
      ]
     },
     "execution_count": 44,
     "metadata": {},
     "output_type": "execute_result"
    },
    {
     "data": {
      "image/png": "[encoded data removed]",
      "text/plain": [
       "<Figure size 640x480 with 1 Axes>"
      ]
     },
     "metadata": {
      "needs_background": "light"
     },
     "output_type": "display_data"
    }
   ],
   "source": [
    "import matplotlib.pyplot as plt\n",
    "from matplotlib.pyplot import figure\n",
    "\n",
    "figure(figsize=(8, 6), dpi=80)\n",
    "plt.plot(range(1, len(rules_treat), 1), df_eval_treat_0[\"Accuracy\"])\n",
    "plt.plot(range(1, len(rules_treat), 1), df_eval_treat_0[\"F1\"])\n",
    "plt.xlabel(\"Number of rules\")\n",
    "plt.ylabel(\"Score value\")\n",
    "plt.legend(['Accuracy', 'F1'])"
   ]
  },
  {
   "attachments": {},
   "cell_type": "markdown",
   "metadata": {},
   "source": [
    "We get the best results when using 20 rules."
   ]
  },
  {
   "attachments": {},
   "cell_type": "markdown",
   "metadata": {},
   "source": [
    "Behavior on test dataset"
   ]
  },
  {
   "cell_type": "code",
   "execution_count": 45,
   "metadata": {},
   "outputs": [
    {
     "name": "stderr",
     "output_type": "stream",
     "text": [
      "C:\\Users\\Ana\\AppData\\Local\\Temp\\ipykernel_18492\\2503950197.py:2: UserWarning: Boolean Series key will be reindexed to match DataFrame index.\n",
      "  tp = len(df[df['True label']==label][df['Predicted label']==label])\n",
      "C:\\Users\\Ana\\AppData\\Local\\Temp\\ipykernel_18492\\2503950197.py:3: UserWarning: Boolean Series key will be reindexed to match DataFrame index.\n",
      "  tn = len(df[df['True label']=='not'][df['Predicted label']=='not'])\n",
      "C:\\Users\\Ana\\AppData\\Local\\Temp\\ipykernel_18492\\2503950197.py:4: UserWarning: Boolean Series key will be reindexed to match DataFrame index.\n",
      "  fp = len(df[df['True label']=='not'][df['Predicted label']==label])\n",
      "C:\\Users\\Ana\\AppData\\Local\\Temp\\ipykernel_18492\\2503950197.py:5: UserWarning: Boolean Series key will be reindexed to match DataFrame index.\n",
      "  fn = len(df[df['True label']==label][df['Predicted label']=='not'])\n"
     ]
    }
   ],
   "source": [
    "rule_subset = rules_treat[0:20]\n",
    "ruleset = RuleSet(rule_subset)\n",
    "df = get_validation_df(ruleset, treat_val)\n",
    "acc, precision, recall, f1 = evalute_ruleset(df)"
   ]
  },
  {
   "cell_type": "code",
   "execution_count": 46,
   "metadata": {},
   "outputs": [
    {
     "name": "stdout",
     "output_type": "stream",
     "text": [
      "Accuracy: 0.7457627118644068\n",
      "Precision: 0.8461538461538461\n",
      "Recall: 0.6666666666666666\n",
      "F1: 0.7457627118644068\n"
     ]
    }
   ],
   "source": [
    "print(\"Accuracy: \"+str(acc))\n",
    "print(\"Precision: \"+str(precision))\n",
    "print(\"Recall: \"+str(recall))\n",
    "print(\"F1: \"+str(f1))"
   ]
  },
  {
   "cell_type": "code",
   "execution_count": 48,
   "metadata": {},
   "outputs": [],
   "source": [
    "def evaluate_class(y, pred, class_name, title):\n",
    "    \n",
    "    conf_mat = confusion_matrix(y, pred)\n",
    "    y_tick_labels = [f'{class_name}=False', f'{class_name}=True']\n",
    "    x_tick_labels = ['(pred) ' + l for l in y_tick_labels]\n",
    "    sns.set(rc={'figure.figsize':(7, 6)})\n",
    "    sns.heatmap(conf_mat, xticklabels=x_tick_labels, yticklabels=y_tick_labels, annot=True, fmt='.3g'\n",
    "        ).set(title=title)"
   ]
  },
  {
   "cell_type": "code",
   "execution_count": 49,
   "metadata": {},
   "outputs": [
    {
     "data": {
      "image/png": "[encoded data removed]",
      "text/plain": [
       "<Figure size 504x432 with 2 Axes>"
      ]
     },
     "metadata": {},
     "output_type": "display_data"
    }
   ],
   "source": [
    "evaluate_class(df['True label'], df['Predicted label'], 'is_treat', 'Test set (rules, min_edge=0)')"
   ]
  },
  {
   "attachments": {},
   "cell_type": "markdown",
   "metadata": {},
   "source": [
    "Let's expand the rules now by adding the restriction of min_edge = 1, meaning our rules will have to have more than a term."
   ]
  },
  {
   "cell_type": "code",
   "execution_count": 50,
   "metadata": {},
   "outputs": [
    {
     "name": "stdout",
     "output_type": "stream",
     "text": [
      "Initializing trainer object...\n",
      "Featurizing graphs by generating subgraphs up to 2...\n"
     ]
    },
    {
     "name": "stderr",
     "output_type": "stream",
     "text": [
      "529it [00:04, 112.40it/s]\n"
     ]
    },
    {
     "name": "stdout",
     "output_type": "stream",
     "text": [
      "Getting feature graphs...\n",
      "Selecting the best features...\n",
      "Generating training data...\n",
      "Training...\n",
      "Getting features...\n"
     ]
    }
   ],
   "source": [
    "treat_train, treat_val = train_test_split(df_treat, test_size=0.1, random_state=1)\n",
    "\n",
    "trainer = GraphTrainer(treat_train)\n",
    "\n",
    "treat_features = trainer.prepare_and_train(min_edge = 1)\n"
   ]
  },
  {
   "cell_type": "code",
   "execution_count": 51,
   "metadata": {},
   "outputs": [
    {
     "data": {
      "text/plain": [
       "[(['(u_76 / against  :2 (u_21 / condition))'], [], 'treat'),\n",
       " (['(u_4 / with  :2 (u_8 / COORD)  :1 (u_89 / associate))'], [], 'treat'),\n",
       " (['(u_12 / of  :1 (u_681 / prevention))'], [], 'treat'),\n",
       " (['(u_12 / of  :1 (u_210 / treatment))'], [], 'treat'),\n",
       " (['(u_12 / of  :1 (u_8 / COORD))'], [], 'treat'),\n",
       " (['(u_12 / of  :2 (u_21 / condition))'], [], 'treat'),\n",
       " (['(u_65 / for  :2 (u_210 / treatment))'], [], 'treat'),\n",
       " (['(u_8 / COORD  :0 (u_57 / improve))'], [], 'treat'),\n",
       " (['(u_12 / of  :1 (u_117 / component))'], [], 'treat'),\n",
       " (['(u_8 / COORD  :0 (u_21 / condition)  :0 (u_154 / diabete))'], [], 'treat')]"
      ]
     },
     "execution_count": 51,
     "metadata": {},
     "output_type": "execute_result"
    }
   ],
   "source": [
    "treat_features[\"treat\"][:10]"
   ]
  },
  {
   "cell_type": "code",
   "execution_count": 52,
   "metadata": {},
   "outputs": [],
   "source": [
    "treat_evals, treat_acc = trainer.evaluator.evaluate_feature(\"treat\", treat_features[\"treat\"][:10], treat_train)"
   ]
  },
  {
   "cell_type": "code",
   "execution_count": 53,
   "metadata": {},
   "outputs": [
    {
     "data": {
      "text/html": [
       "<div>\n",
       "<style scoped>\n",
       "    .dataframe tbody tr th:only-of-type {\n",
       "        vertical-align: middle;\n",
       "    }\n",
       "\n",
       "    .dataframe tbody tr th {\n",
       "        vertical-align: top;\n",
       "    }\n",
       "\n",
       "    .dataframe thead th {\n",
       "        text-align: right;\n",
       "    }\n",
       "</style>\n",
       "<table border=\"1\" class=\"dataframe\">\n",
       "  <thead>\n",
       "    <tr style=\"text-align: right;\">\n",
       "      <th></th>\n",
       "      <th>Feature</th>\n",
       "      <th>Precision</th>\n",
       "      <th>Recall</th>\n",
       "      <th>Fscore</th>\n",
       "    </tr>\n",
       "  </thead>\n",
       "  <tbody>\n",
       "    <tr>\n",
       "      <th>0</th>\n",
       "      <td>[(u_76 / against  :2 (u_21 / condition))]</td>\n",
       "      <td>1.000000</td>\n",
       "      <td>0.064286</td>\n",
       "      <td>0.120805</td>\n",
       "    </tr>\n",
       "    <tr>\n",
       "      <th>1</th>\n",
       "      <td>[(u_4 / with  :2 (u_8 / COORD)  :1 (u_89 / ass...</td>\n",
       "      <td>0.692308</td>\n",
       "      <td>0.032143</td>\n",
       "      <td>0.061433</td>\n",
       "    </tr>\n",
       "    <tr>\n",
       "      <th>2</th>\n",
       "      <td>[(u_12 / of  :1 (u_681 / prevention))]</td>\n",
       "      <td>0.916667</td>\n",
       "      <td>0.039286</td>\n",
       "      <td>0.075342</td>\n",
       "    </tr>\n",
       "    <tr>\n",
       "      <th>3</th>\n",
       "      <td>[(u_12 / of  :1 (u_210 / treatment))]</td>\n",
       "      <td>1.000000</td>\n",
       "      <td>0.057143</td>\n",
       "      <td>0.108108</td>\n",
       "    </tr>\n",
       "    <tr>\n",
       "      <th>4</th>\n",
       "      <td>[(u_12 / of  :1 (u_8 / COORD))]</td>\n",
       "      <td>0.736842</td>\n",
       "      <td>0.050000</td>\n",
       "      <td>0.093645</td>\n",
       "    </tr>\n",
       "    <tr>\n",
       "      <th>5</th>\n",
       "      <td>[(u_12 / of  :2 (u_21 / condition))]</td>\n",
       "      <td>0.580357</td>\n",
       "      <td>0.232143</td>\n",
       "      <td>0.331633</td>\n",
       "    </tr>\n",
       "    <tr>\n",
       "      <th>6</th>\n",
       "      <td>[(u_65 / for  :2 (u_210 / treatment))]</td>\n",
       "      <td>1.000000</td>\n",
       "      <td>0.050000</td>\n",
       "      <td>0.095238</td>\n",
       "    </tr>\n",
       "    <tr>\n",
       "      <th>7</th>\n",
       "      <td>[(u_8 / COORD  :0 (u_57 / improve))]</td>\n",
       "      <td>1.000000</td>\n",
       "      <td>0.039286</td>\n",
       "      <td>0.075601</td>\n",
       "    </tr>\n",
       "    <tr>\n",
       "      <th>8</th>\n",
       "      <td>[(u_12 / of  :1 (u_117 / component))]</td>\n",
       "      <td>0.916667</td>\n",
       "      <td>0.039286</td>\n",
       "      <td>0.075342</td>\n",
       "    </tr>\n",
       "    <tr>\n",
       "      <th>9</th>\n",
       "      <td>[(u_8 / COORD  :0 (u_21 / condition)  :0 (u_15...</td>\n",
       "      <td>0.769231</td>\n",
       "      <td>0.035714</td>\n",
       "      <td>0.068259</td>\n",
       "    </tr>\n",
       "  </tbody>\n",
       "</table>\n",
       "</div>"
      ],
      "text/plain": [
       "                                             Feature  Precision    Recall  \\\n",
       "0          [(u_76 / against  :2 (u_21 / condition))]   1.000000  0.064286   \n",
       "1  [(u_4 / with  :2 (u_8 / COORD)  :1 (u_89 / ass...   0.692308  0.032143   \n",
       "2             [(u_12 / of  :1 (u_681 / prevention))]   0.916667  0.039286   \n",
       "3              [(u_12 / of  :1 (u_210 / treatment))]   1.000000  0.057143   \n",
       "4                    [(u_12 / of  :1 (u_8 / COORD))]   0.736842  0.050000   \n",
       "5               [(u_12 / of  :2 (u_21 / condition))]   0.580357  0.232143   \n",
       "6             [(u_65 / for  :2 (u_210 / treatment))]   1.000000  0.050000   \n",
       "7               [(u_8 / COORD  :0 (u_57 / improve))]   1.000000  0.039286   \n",
       "8              [(u_12 / of  :1 (u_117 / component))]   0.916667  0.039286   \n",
       "9  [(u_8 / COORD  :0 (u_21 / condition)  :0 (u_15...   0.769231  0.035714   \n",
       "\n",
       "     Fscore  \n",
       "0  0.120805  \n",
       "1  0.061433  \n",
       "2  0.075342  \n",
       "3  0.108108  \n",
       "4  0.093645  \n",
       "5  0.331633  \n",
       "6  0.095238  \n",
       "7  0.075601  \n",
       "8  0.075342  \n",
       "9  0.068259  "
      ]
     },
     "execution_count": 53,
     "metadata": {},
     "output_type": "execute_result"
    }
   ],
   "source": [
    "treat_evals[[\"Feature\", \"Precision\", \"Recall\", \"Fscore\"]]"
   ]
  },
  {
   "cell_type": "code",
   "execution_count": 54,
   "metadata": {},
   "outputs": [],
   "source": [
    "rules_treat_1 = []\n",
    "for i in range (len(treat_features['treat'])):\n",
    "    splits = treat_features['treat'][i][0][0].split()\n",
    "    feature = '(u_0'\n",
    "    for i in range(1, len(splits)):\n",
    "        feature += ' ' + splits[i]\n",
    "    feature = ([feature], treat_features[\"treat\"][i][1], treat_features[\"treat\"][i][2], [{'token': 0}])\n",
    "    rules_treat_1.append(Rule(feature, openie=True))"
   ]
  },
  {
   "attachments": {},
   "cell_type": "markdown",
   "metadata": {},
   "source": [
    "Creating a ruleset:"
   ]
  },
  {
   "cell_type": "code",
   "execution_count": 55,
   "metadata": {},
   "outputs": [
    {
     "name": "stderr",
     "output_type": "stream",
     "text": [
      "  0%|          | 0/51 [00:00<?, ?it/s]C:\\Users\\Ana\\AppData\\Local\\Temp\\ipykernel_18492\\2503950197.py:2: UserWarning: Boolean Series key will be reindexed to match DataFrame index.\n",
      "  tp = len(df[df['True label']==label][df['Predicted label']==label])\n",
      "C:\\Users\\Ana\\AppData\\Local\\Temp\\ipykernel_18492\\2503950197.py:3: UserWarning: Boolean Series key will be reindexed to match DataFrame index.\n",
      "  tn = len(df[df['True label']=='not'][df['Predicted label']=='not'])\n",
      "C:\\Users\\Ana\\AppData\\Local\\Temp\\ipykernel_18492\\2503950197.py:4: UserWarning: Boolean Series key will be reindexed to match DataFrame index.\n",
      "  fp = len(df[df['True label']=='not'][df['Predicted label']==label])\n",
      "C:\\Users\\Ana\\AppData\\Local\\Temp\\ipykernel_18492\\2503950197.py:5: UserWarning: Boolean Series key will be reindexed to match DataFrame index.\n",
      "  fn = len(df[df['True label']==label][df['Predicted label']=='not'])\n",
      "100%|██████████| 51/51 [04:27<00:00,  5.25s/it]\n"
     ]
    }
   ],
   "source": [
    "evaluations_treat_1 = []\n",
    "for i in tqdm(range(1, len(rules_treat_1))):\n",
    "    rule_subset = rules_treat_1[0:i]\n",
    "    ruleset = RuleSet(rule_subset)\n",
    "    df = get_validation_df(ruleset, treat_train)\n",
    "    acc, precision, recall, f1 = evalute_ruleset(df)\n",
    "    evaluations_treat_1.append([acc, precision, recall, f1])"
   ]
  },
  {
   "cell_type": "code",
   "execution_count": 56,
   "metadata": {},
   "outputs": [],
   "source": [
    "df_eval = pd.DataFrame(evaluations_treat_1, columns=['Accuracy', 'Precision', 'Recall', 'F1'])"
   ]
  },
  {
   "cell_type": "code",
   "execution_count": 57,
   "metadata": {},
   "outputs": [
    {
     "data": {
      "text/html": [
       "<div>\n",
       "<style scoped>\n",
       "    .dataframe tbody tr th:only-of-type {\n",
       "        vertical-align: middle;\n",
       "    }\n",
       "\n",
       "    .dataframe tbody tr th {\n",
       "        vertical-align: top;\n",
       "    }\n",
       "\n",
       "    .dataframe thead th {\n",
       "        text-align: right;\n",
       "    }\n",
       "</style>\n",
       "<table border=\"1\" class=\"dataframe\">\n",
       "  <thead>\n",
       "    <tr style=\"text-align: right;\">\n",
       "      <th></th>\n",
       "      <th>Accuracy</th>\n",
       "      <th>Precision</th>\n",
       "      <th>Recall</th>\n",
       "      <th>F1</th>\n",
       "    </tr>\n",
       "  </thead>\n",
       "  <tbody>\n",
       "    <tr>\n",
       "      <th>0</th>\n",
       "      <td>0.504726</td>\n",
       "      <td>1.000000</td>\n",
       "      <td>0.064286</td>\n",
       "      <td>0.120805</td>\n",
       "    </tr>\n",
       "    <tr>\n",
       "      <th>1</th>\n",
       "      <td>0.512287</td>\n",
       "      <td>0.866667</td>\n",
       "      <td>0.092857</td>\n",
       "      <td>0.167742</td>\n",
       "    </tr>\n",
       "    <tr>\n",
       "      <th>2</th>\n",
       "      <td>0.531191</td>\n",
       "      <td>0.880952</td>\n",
       "      <td>0.132143</td>\n",
       "      <td>0.229814</td>\n",
       "    </tr>\n",
       "    <tr>\n",
       "      <th>3</th>\n",
       "      <td>0.559546</td>\n",
       "      <td>0.912281</td>\n",
       "      <td>0.185714</td>\n",
       "      <td>0.308605</td>\n",
       "    </tr>\n",
       "    <tr>\n",
       "      <th>4</th>\n",
       "      <td>0.567108</td>\n",
       "      <td>0.859155</td>\n",
       "      <td>0.217857</td>\n",
       "      <td>0.347578</td>\n",
       "    </tr>\n",
       "    <tr>\n",
       "      <th>5</th>\n",
       "      <td>0.576560</td>\n",
       "      <td>0.672840</td>\n",
       "      <td>0.389286</td>\n",
       "      <td>0.493213</td>\n",
       "    </tr>\n",
       "    <tr>\n",
       "      <th>6</th>\n",
       "      <td>0.578450</td>\n",
       "      <td>0.674847</td>\n",
       "      <td>0.392857</td>\n",
       "      <td>0.496614</td>\n",
       "    </tr>\n",
       "    <tr>\n",
       "      <th>7</th>\n",
       "      <td>0.595463</td>\n",
       "      <td>0.691860</td>\n",
       "      <td>0.425000</td>\n",
       "      <td>0.526549</td>\n",
       "    </tr>\n",
       "    <tr>\n",
       "      <th>8</th>\n",
       "      <td>0.606805</td>\n",
       "      <td>0.700000</td>\n",
       "      <td>0.450000</td>\n",
       "      <td>0.547826</td>\n",
       "    </tr>\n",
       "    <tr>\n",
       "      <th>9</th>\n",
       "      <td>0.614367</td>\n",
       "      <td>0.700000</td>\n",
       "      <td>0.475000</td>\n",
       "      <td>0.565957</td>\n",
       "    </tr>\n",
       "    <tr>\n",
       "      <th>10</th>\n",
       "      <td>0.623819</td>\n",
       "      <td>0.705584</td>\n",
       "      <td>0.496429</td>\n",
       "      <td>0.582809</td>\n",
       "    </tr>\n",
       "    <tr>\n",
       "      <th>11</th>\n",
       "      <td>0.646503</td>\n",
       "      <td>0.718310</td>\n",
       "      <td>0.546429</td>\n",
       "      <td>0.620690</td>\n",
       "    </tr>\n",
       "    <tr>\n",
       "      <th>12</th>\n",
       "      <td>0.654064</td>\n",
       "      <td>0.723502</td>\n",
       "      <td>0.560714</td>\n",
       "      <td>0.631791</td>\n",
       "    </tr>\n",
       "    <tr>\n",
       "      <th>13</th>\n",
       "      <td>0.655955</td>\n",
       "      <td>0.722727</td>\n",
       "      <td>0.567857</td>\n",
       "      <td>0.636000</td>\n",
       "    </tr>\n",
       "    <tr>\n",
       "      <th>14</th>\n",
       "      <td>0.657845</td>\n",
       "      <td>0.716157</td>\n",
       "      <td>0.585714</td>\n",
       "      <td>0.644401</td>\n",
       "    </tr>\n",
       "    <tr>\n",
       "      <th>15</th>\n",
       "      <td>0.657845</td>\n",
       "      <td>0.708861</td>\n",
       "      <td>0.600000</td>\n",
       "      <td>0.649903</td>\n",
       "    </tr>\n",
       "    <tr>\n",
       "      <th>16</th>\n",
       "      <td>0.657845</td>\n",
       "      <td>0.708861</td>\n",
       "      <td>0.600000</td>\n",
       "      <td>0.649903</td>\n",
       "    </tr>\n",
       "    <tr>\n",
       "      <th>17</th>\n",
       "      <td>0.659735</td>\n",
       "      <td>0.703252</td>\n",
       "      <td>0.617857</td>\n",
       "      <td>0.657795</td>\n",
       "    </tr>\n",
       "    <tr>\n",
       "      <th>18</th>\n",
       "      <td>0.671078</td>\n",
       "      <td>0.710317</td>\n",
       "      <td>0.639286</td>\n",
       "      <td>0.672932</td>\n",
       "    </tr>\n",
       "    <tr>\n",
       "      <th>19</th>\n",
       "      <td>0.663516</td>\n",
       "      <td>0.697674</td>\n",
       "      <td>0.642857</td>\n",
       "      <td>0.669145</td>\n",
       "    </tr>\n",
       "    <tr>\n",
       "      <th>20</th>\n",
       "      <td>0.667297</td>\n",
       "      <td>0.698473</td>\n",
       "      <td>0.653571</td>\n",
       "      <td>0.675277</td>\n",
       "    </tr>\n",
       "    <tr>\n",
       "      <th>21</th>\n",
       "      <td>0.665406</td>\n",
       "      <td>0.695817</td>\n",
       "      <td>0.653571</td>\n",
       "      <td>0.674033</td>\n",
       "    </tr>\n",
       "    <tr>\n",
       "      <th>22</th>\n",
       "      <td>0.663516</td>\n",
       "      <td>0.690299</td>\n",
       "      <td>0.660714</td>\n",
       "      <td>0.675182</td>\n",
       "    </tr>\n",
       "    <tr>\n",
       "      <th>23</th>\n",
       "      <td>0.655955</td>\n",
       "      <td>0.673759</td>\n",
       "      <td>0.678571</td>\n",
       "      <td>0.676157</td>\n",
       "    </tr>\n",
       "    <tr>\n",
       "      <th>24</th>\n",
       "      <td>0.657845</td>\n",
       "      <td>0.670103</td>\n",
       "      <td>0.696429</td>\n",
       "      <td>0.683012</td>\n",
       "    </tr>\n",
       "    <tr>\n",
       "      <th>25</th>\n",
       "      <td>0.661626</td>\n",
       "      <td>0.671186</td>\n",
       "      <td>0.707143</td>\n",
       "      <td>0.688696</td>\n",
       "    </tr>\n",
       "    <tr>\n",
       "      <th>26</th>\n",
       "      <td>0.663516</td>\n",
       "      <td>0.672297</td>\n",
       "      <td>0.710714</td>\n",
       "      <td>0.690972</td>\n",
       "    </tr>\n",
       "    <tr>\n",
       "      <th>27</th>\n",
       "      <td>0.640832</td>\n",
       "      <td>0.643312</td>\n",
       "      <td>0.721429</td>\n",
       "      <td>0.680135</td>\n",
       "    </tr>\n",
       "    <tr>\n",
       "      <th>28</th>\n",
       "      <td>0.644612</td>\n",
       "      <td>0.644654</td>\n",
       "      <td>0.732143</td>\n",
       "      <td>0.685619</td>\n",
       "    </tr>\n",
       "    <tr>\n",
       "      <th>29</th>\n",
       "      <td>0.644612</td>\n",
       "      <td>0.643750</td>\n",
       "      <td>0.735714</td>\n",
       "      <td>0.686667</td>\n",
       "    </tr>\n",
       "    <tr>\n",
       "      <th>30</th>\n",
       "      <td>0.640832</td>\n",
       "      <td>0.639752</td>\n",
       "      <td>0.735714</td>\n",
       "      <td>0.684385</td>\n",
       "    </tr>\n",
       "    <tr>\n",
       "      <th>31</th>\n",
       "      <td>0.637051</td>\n",
       "      <td>0.630178</td>\n",
       "      <td>0.760714</td>\n",
       "      <td>0.689320</td>\n",
       "    </tr>\n",
       "    <tr>\n",
       "      <th>32</th>\n",
       "      <td>0.631380</td>\n",
       "      <td>0.623907</td>\n",
       "      <td>0.764286</td>\n",
       "      <td>0.686998</td>\n",
       "    </tr>\n",
       "    <tr>\n",
       "      <th>33</th>\n",
       "      <td>0.631380</td>\n",
       "      <td>0.623907</td>\n",
       "      <td>0.764286</td>\n",
       "      <td>0.686998</td>\n",
       "    </tr>\n",
       "    <tr>\n",
       "      <th>34</th>\n",
       "      <td>0.633270</td>\n",
       "      <td>0.622857</td>\n",
       "      <td>0.778571</td>\n",
       "      <td>0.692063</td>\n",
       "    </tr>\n",
       "    <tr>\n",
       "      <th>35</th>\n",
       "      <td>0.633270</td>\n",
       "      <td>0.622857</td>\n",
       "      <td>0.778571</td>\n",
       "      <td>0.692063</td>\n",
       "    </tr>\n",
       "    <tr>\n",
       "      <th>36</th>\n",
       "      <td>0.637051</td>\n",
       "      <td>0.624294</td>\n",
       "      <td>0.789286</td>\n",
       "      <td>0.697161</td>\n",
       "    </tr>\n",
       "    <tr>\n",
       "      <th>37</th>\n",
       "      <td>0.633270</td>\n",
       "      <td>0.620787</td>\n",
       "      <td>0.789286</td>\n",
       "      <td>0.694969</td>\n",
       "    </tr>\n",
       "    <tr>\n",
       "      <th>38</th>\n",
       "      <td>0.637051</td>\n",
       "      <td>0.622905</td>\n",
       "      <td>0.796429</td>\n",
       "      <td>0.699060</td>\n",
       "    </tr>\n",
       "    <tr>\n",
       "      <th>39</th>\n",
       "      <td>0.640832</td>\n",
       "      <td>0.622951</td>\n",
       "      <td>0.814286</td>\n",
       "      <td>0.705882</td>\n",
       "    </tr>\n",
       "    <tr>\n",
       "      <th>40</th>\n",
       "      <td>0.640832</td>\n",
       "      <td>0.622283</td>\n",
       "      <td>0.817857</td>\n",
       "      <td>0.706790</td>\n",
       "    </tr>\n",
       "    <tr>\n",
       "      <th>41</th>\n",
       "      <td>0.642722</td>\n",
       "      <td>0.623306</td>\n",
       "      <td>0.821429</td>\n",
       "      <td>0.708783</td>\n",
       "    </tr>\n",
       "    <tr>\n",
       "      <th>42</th>\n",
       "      <td>0.642722</td>\n",
       "      <td>0.621333</td>\n",
       "      <td>0.832143</td>\n",
       "      <td>0.711450</td>\n",
       "    </tr>\n",
       "    <tr>\n",
       "      <th>43</th>\n",
       "      <td>0.638941</td>\n",
       "      <td>0.618037</td>\n",
       "      <td>0.832143</td>\n",
       "      <td>0.709285</td>\n",
       "    </tr>\n",
       "    <tr>\n",
       "      <th>44</th>\n",
       "      <td>0.633270</td>\n",
       "      <td>0.609694</td>\n",
       "      <td>0.853571</td>\n",
       "      <td>0.711310</td>\n",
       "    </tr>\n",
       "    <tr>\n",
       "      <th>45</th>\n",
       "      <td>0.635161</td>\n",
       "      <td>0.610687</td>\n",
       "      <td>0.857143</td>\n",
       "      <td>0.713224</td>\n",
       "    </tr>\n",
       "    <tr>\n",
       "      <th>46</th>\n",
       "      <td>0.637051</td>\n",
       "      <td>0.611675</td>\n",
       "      <td>0.860714</td>\n",
       "      <td>0.715134</td>\n",
       "    </tr>\n",
       "    <tr>\n",
       "      <th>47</th>\n",
       "      <td>0.631380</td>\n",
       "      <td>0.603406</td>\n",
       "      <td>0.885714</td>\n",
       "      <td>0.717800</td>\n",
       "    </tr>\n",
       "    <tr>\n",
       "      <th>48</th>\n",
       "      <td>0.633270</td>\n",
       "      <td>0.604369</td>\n",
       "      <td>0.889286</td>\n",
       "      <td>0.719653</td>\n",
       "    </tr>\n",
       "    <tr>\n",
       "      <th>49</th>\n",
       "      <td>0.633270</td>\n",
       "      <td>0.604369</td>\n",
       "      <td>0.889286</td>\n",
       "      <td>0.719653</td>\n",
       "    </tr>\n",
       "    <tr>\n",
       "      <th>50</th>\n",
       "      <td>0.633270</td>\n",
       "      <td>0.604369</td>\n",
       "      <td>0.889286</td>\n",
       "      <td>0.719653</td>\n",
       "    </tr>\n",
       "  </tbody>\n",
       "</table>\n",
       "</div>"
      ],
      "text/plain": [
       "    Accuracy  Precision    Recall        F1\n",
       "0   0.504726   1.000000  0.064286  0.120805\n",
       "1   0.512287   0.866667  0.092857  0.167742\n",
       "2   0.531191   0.880952  0.132143  0.229814\n",
       "3   0.559546   0.912281  0.185714  0.308605\n",
       "4   0.567108   0.859155  0.217857  0.347578\n",
       "5   0.576560   0.672840  0.389286  0.493213\n",
       "6   0.578450   0.674847  0.392857  0.496614\n",
       "7   0.595463   0.691860  0.425000  0.526549\n",
       "8   0.606805   0.700000  0.450000  0.547826\n",
       "9   0.614367   0.700000  0.475000  0.565957\n",
       "10  0.623819   0.705584  0.496429  0.582809\n",
       "11  0.646503   0.718310  0.546429  0.620690\n",
       "12  0.654064   0.723502  0.560714  0.631791\n",
       "13  0.655955   0.722727  0.567857  0.636000\n",
       "14  0.657845   0.716157  0.585714  0.644401\n",
       "15  0.657845   0.708861  0.600000  0.649903\n",
       "16  0.657845   0.708861  0.600000  0.649903\n",
       "17  0.659735   0.703252  0.617857  0.657795\n",
       "18  0.671078   0.710317  0.639286  0.672932\n",
       "19  0.663516   0.697674  0.642857  0.669145\n",
       "20  0.667297   0.698473  0.653571  0.675277\n",
       "21  0.665406   0.695817  0.653571  0.674033\n",
       "22  0.663516   0.690299  0.660714  0.675182\n",
       "23  0.655955   0.673759  0.678571  0.676157\n",
       "24  0.657845   0.670103  0.696429  0.683012\n",
       "25  0.661626   0.671186  0.707143  0.688696\n",
       "26  0.663516   0.672297  0.710714  0.690972\n",
       "27  0.640832   0.643312  0.721429  0.680135\n",
       "28  0.644612   0.644654  0.732143  0.685619\n",
       "29  0.644612   0.643750  0.735714  0.686667\n",
       "30  0.640832   0.639752  0.735714  0.684385\n",
       "31  0.637051   0.630178  0.760714  0.689320\n",
       "32  0.631380   0.623907  0.764286  0.686998\n",
       "33  0.631380   0.623907  0.764286  0.686998\n",
       "34  0.633270   0.622857  0.778571  0.692063\n",
       "35  0.633270   0.622857  0.778571  0.692063\n",
       "36  0.637051   0.624294  0.789286  0.697161\n",
       "37  0.633270   0.620787  0.789286  0.694969\n",
       "38  0.637051   0.622905  0.796429  0.699060\n",
       "39  0.640832   0.622951  0.814286  0.705882\n",
       "40  0.640832   0.622283  0.817857  0.706790\n",
       "41  0.642722   0.623306  0.821429  0.708783\n",
       "42  0.642722   0.621333  0.832143  0.711450\n",
       "43  0.638941   0.618037  0.832143  0.709285\n",
       "44  0.633270   0.609694  0.853571  0.711310\n",
       "45  0.635161   0.610687  0.857143  0.713224\n",
       "46  0.637051   0.611675  0.860714  0.715134\n",
       "47  0.631380   0.603406  0.885714  0.717800\n",
       "48  0.633270   0.604369  0.889286  0.719653\n",
       "49  0.633270   0.604369  0.889286  0.719653\n",
       "50  0.633270   0.604369  0.889286  0.719653"
      ]
     },
     "execution_count": 57,
     "metadata": {},
     "output_type": "execute_result"
    }
   ],
   "source": [
    "df_eval"
   ]
  },
  {
   "cell_type": "code",
   "execution_count": 58,
   "metadata": {},
   "outputs": [
    {
     "data": {
      "text/plain": [
       "<matplotlib.legend.Legend at 0x244015cc9a0>"
      ]
     },
     "execution_count": 58,
     "metadata": {},
     "output_type": "execute_result"
    },
    {
     "data": {
      "image/png": "[encoded data removed]",
      "text/plain": [
       "<Figure size 640x480 with 1 Axes>"
      ]
     },
     "metadata": {},
     "output_type": "display_data"
    }
   ],
   "source": [
    "import matplotlib.pyplot as plt\n",
    "from matplotlib.pyplot import figure\n",
    "\n",
    "figure(figsize=(8, 6), dpi=80)\n",
    "plt.plot(range(1, len(rules_treat_1), 1), df_eval[\"Accuracy\"])\n",
    "plt.plot(range(1, len(rules_treat_1), 1), df_eval[\"F1\"])\n",
    "plt.xlabel(\"Number of rules\")\n",
    "plt.ylabel(\"Score value\")\n",
    "plt.legend(['Accuracy', 'F1'])"
   ]
  },
  {
   "attachments": {},
   "cell_type": "markdown",
   "metadata": {},
   "source": [
    "We get the best results when using the first 27 rules."
   ]
  },
  {
   "cell_type": "code",
   "execution_count": 59,
   "metadata": {},
   "outputs": [
    {
     "name": "stderr",
     "output_type": "stream",
     "text": [
      "C:\\Users\\Ana\\AppData\\Local\\Temp\\ipykernel_18492\\2503950197.py:2: UserWarning: Boolean Series key will be reindexed to match DataFrame index.\n",
      "  tp = len(df[df['True label']==label][df['Predicted label']==label])\n",
      "C:\\Users\\Ana\\AppData\\Local\\Temp\\ipykernel_18492\\2503950197.py:3: UserWarning: Boolean Series key will be reindexed to match DataFrame index.\n",
      "  tn = len(df[df['True label']=='not'][df['Predicted label']=='not'])\n",
      "C:\\Users\\Ana\\AppData\\Local\\Temp\\ipykernel_18492\\2503950197.py:4: UserWarning: Boolean Series key will be reindexed to match DataFrame index.\n",
      "  fp = len(df[df['True label']=='not'][df['Predicted label']==label])\n",
      "C:\\Users\\Ana\\AppData\\Local\\Temp\\ipykernel_18492\\2503950197.py:5: UserWarning: Boolean Series key will be reindexed to match DataFrame index.\n",
      "  fn = len(df[df['True label']==label][df['Predicted label']=='not'])\n"
     ]
    }
   ],
   "source": [
    "rule_subset = rules_treat_1[0:27]\n",
    "ruleset = RuleSet(rule_subset)\n",
    "df = get_validation_df(ruleset, treat_val)\n",
    "acc, precision, recall, f1 = evalute_ruleset(df)"
   ]
  },
  {
   "cell_type": "code",
   "execution_count": 60,
   "metadata": {},
   "outputs": [
    {
     "name": "stdout",
     "output_type": "stream",
     "text": [
      "Accuracy: 0.5932203389830508\n",
      "Precision: 0.6153846153846154\n",
      "Recall: 0.7272727272727273\n",
      "F1: 0.6666666666666667\n"
     ]
    }
   ],
   "source": [
    "print(\"Accuracy: \"+str(acc))\n",
    "print(\"Precision: \"+str(precision))\n",
    "print(\"Recall: \"+str(recall))\n",
    "print(\"F1: \"+str(f1))"
   ]
  },
  {
   "cell_type": "code",
   "execution_count": 61,
   "metadata": {},
   "outputs": [
    {
     "data": {
      "image/png": "[encoded data removed]",
      "text/plain": [
       "<Figure size 504x432 with 2 Axes>"
      ]
     },
     "metadata": {},
     "output_type": "display_data"
    }
   ],
   "source": [
    "evaluate_class(df['True label'], df['Predicted label'], 'is_treat', 'Test set (rules, min_edge=1)')"
   ]
  },
  {
   "attachments": {},
   "cell_type": "markdown",
   "metadata": {},
   "source": [
    "As expected, by making the rules more specific the results have dropped a bit with accuracy = 59.32%."
   ]
  },
  {
   "attachments": {},
   "cell_type": "markdown",
   "metadata": {},
   "source": [
    "### Cause relation"
   ]
  },
  {
   "cell_type": "code",
   "execution_count": 62,
   "metadata": {},
   "outputs": [
    {
     "data": {
      "image/svg+xml": "<?xml version=\"1.0\" encoding=\"UTF-8\" standalone=\"no\"?>\n<!DOCTYPE svg PUBLIC \"-//W3C//DTD SVG 1.1//EN\"\n \"http://www.w3.org/Graphics/SVG/1.1/DTD/svg11.dtd\">\n<!-- Generated by graphviz version 2.50.0 (0)\n -->\n<!-- Title: finite_state_machine Pages: 1 -->\n<svg width=\"466pt\" height=\"452pt\"\n viewBox=\"0.00 0.00 478.99 465.17\" xmlns=\"http://www.w3.org/2000/svg\" xmlns:xlink=\"http://www.w3.org/1999/xlink\">\n<g id=\"graph0\" class=\"graph\" transform=\"scale(0.97 0.97) rotate(0) translate(4 461.17)\">\n<title>finite_state_machine</title>\n<polygon fill=\"white\" stroke=\"transparent\" points=\"-4,4 -4,-461.17 474.99,-461.17 474.99,4 -4,4\"/>\n<!-- as -->\n<g id=\"node1\" class=\"node\">\n<title>as</title>\n<ellipse fill=\"none\" stroke=\"black\" cx=\"212.8\" cy=\"-436.37\" rx=\"18.4\" ry=\"18.4\"/>\n<text text-anchor=\"middle\" x=\"212.8\" y=\"-432.67\" font-family=\"Times New Roman,serif\" font-size=\"14.00\">as</text>\n</g>\n<!-- medicine -->\n<g id=\"node8\" class=\"node\">\n<title>medicine</title>\n<ellipse fill=\"none\" stroke=\"black\" cx=\"81.8\" cy=\"-320.38\" rx=\"43.59\" ry=\"43.59\"/>\n<text text-anchor=\"middle\" x=\"81.8\" y=\"-316.68\" font-family=\"Times New Roman,serif\" font-size=\"14.00\">medicine</text>\n</g>\n<!-- as&#45;&gt;medicine -->\n<g id=\"edge1\" class=\"edge\">\n<title>as&#45;&gt;medicine</title>\n<path fill=\"none\" stroke=\"black\" d=\"M199.27,-423.6C181.18,-407.87 148.34,-379.28 121.97,-356.34\"/>\n<polygon fill=\"black\" stroke=\"black\" points=\"124.21,-353.65 114.37,-349.72 119.61,-358.93 124.21,-353.65\"/>\n<text text-anchor=\"middle\" x=\"170.3\" y=\"-386.38\" font-family=\"Times New Roman,serif\" font-size=\"14.00\">2</text>\n</g>\n<!-- use -->\n<g id=\"node13\" class=\"node\">\n<title>use</title>\n<ellipse fill=\"none\" stroke=\"black\" cx=\"235.8\" cy=\"-320.38\" rx=\"23\" ry=\"23\"/>\n<text text-anchor=\"middle\" x=\"235.8\" y=\"-316.68\" font-family=\"Times New Roman,serif\" font-size=\"14.00\">use</text>\n</g>\n<!-- as&#45;&gt;use -->\n<g id=\"edge2\" class=\"edge\">\n<title>as&#45;&gt;use</title>\n<path fill=\"none\" stroke=\"black\" d=\"M216.29,-418.06C219.79,-400.72 225.25,-373.65 229.51,-352.56\"/>\n<polygon fill=\"black\" stroke=\"black\" points=\"232.94,-353.25 231.48,-342.75 226.08,-351.86 232.94,-353.25\"/>\n<text text-anchor=\"middle\" x=\"227.3\" y=\"-386.38\" font-family=\"Times New Roman,serif\" font-size=\"14.00\">1</text>\n</g>\n<!-- condition -->\n<g id=\"node2\" class=\"node\">\n<title>condition</title>\n<ellipse fill=\"none\" stroke=\"black\" cx=\"426.8\" cy=\"-320.38\" rx=\"44.39\" ry=\"44.39\"/>\n<text text-anchor=\"middle\" x=\"426.8\" y=\"-316.68\" font-family=\"Times New Roman,serif\" font-size=\"14.00\">condition</text>\n</g>\n<!-- for -->\n<g id=\"node3\" class=\"node\">\n<title>for</title>\n<ellipse fill=\"none\" stroke=\"black\" cx=\"270.8\" cy=\"-436.37\" rx=\"20.6\" ry=\"20.6\"/>\n<text text-anchor=\"middle\" x=\"270.8\" y=\"-432.67\" font-family=\"Times New Roman,serif\" font-size=\"14.00\">for</text>\n</g>\n<!-- treatment -->\n<g id=\"node11\" class=\"node\">\n<title>treatment</title>\n<ellipse fill=\"none\" stroke=\"black\" cx=\"320.8\" cy=\"-320.38\" rx=\"44.39\" ry=\"44.39\"/>\n<text text-anchor=\"middle\" x=\"320.8\" y=\"-316.68\" font-family=\"Times New Roman,serif\" font-size=\"14.00\">treatment</text>\n</g>\n<!-- for&#45;&gt;treatment -->\n<g id=\"edge3\" class=\"edge\">\n<title>for&#45;&gt;treatment</title>\n<path fill=\"none\" stroke=\"black\" d=\"M278.83,-417.06C284.32,-404.54 291.88,-387.3 299.07,-370.9\"/>\n<polygon fill=\"black\" stroke=\"black\" points=\"302.44,-371.95 303.25,-361.39 296.03,-369.14 302.44,-371.95\"/>\n<text text-anchor=\"middle\" x=\"297.3\" y=\"-386.38\" font-family=\"Times New Roman,serif\" font-size=\"14.00\">2</text>\n</g>\n<!-- for&#45;&gt;use -->\n<g id=\"edge4\" class=\"edge\">\n<title>for&#45;&gt;use</title>\n<path fill=\"none\" stroke=\"black\" d=\"M264.94,-416.29C259.58,-398.84 251.55,-372.69 245.28,-352.26\"/>\n<polygon fill=\"black\" stroke=\"black\" points=\"248.55,-350.99 242.27,-342.46 241.86,-353.05 248.55,-350.99\"/>\n<text text-anchor=\"middle\" x=\"262.3\" y=\"-386.38\" font-family=\"Times New Roman,serif\" font-size=\"14.00\">1</text>\n</g>\n<!-- indian -->\n<g id=\"node4\" class=\"node\">\n<title>indian</title>\n<ellipse fill=\"none\" stroke=\"black\" cx=\"328.8\" cy=\"-32.5\" rx=\"32.49\" ry=\"32.49\"/>\n<text text-anchor=\"middle\" x=\"328.8\" y=\"-28.8\" font-family=\"Times New Roman,serif\" font-size=\"14.00\">indian</text>\n</g>\n<!-- influence -->\n<g id=\"node5\" class=\"node\">\n<title>influence</title>\n<ellipse fill=\"none\" stroke=\"black\" cx=\"154.8\" cy=\"-170.59\" rx=\"43.59\" ry=\"43.59\"/>\n<text text-anchor=\"middle\" x=\"154.8\" y=\"-166.89\" font-family=\"Times New Roman,serif\" font-size=\"14.00\">influence</text>\n</g>\n<!-- interestingly -->\n<g id=\"node6\" class=\"node\">\n<title>interestingly</title>\n<ellipse fill=\"none\" stroke=\"black\" cx=\"270.8\" cy=\"-170.59\" rx=\"54.69\" ry=\"54.69\"/>\n<text text-anchor=\"middle\" x=\"270.8\" y=\"-166.89\" font-family=\"Times New Roman,serif\" font-size=\"14.00\">interestingly</text>\n</g>\n<!-- many -->\n<g id=\"node7\" class=\"node\">\n<title>many</title>\n<ellipse fill=\"none\" stroke=\"black\" cx=\"409.8\" cy=\"-32.5\" rx=\"30.59\" ry=\"30.59\"/>\n<text text-anchor=\"middle\" x=\"409.8\" y=\"-28.8\" font-family=\"Times New Roman,serif\" font-size=\"14.00\">many</text>\n</g>\n<!-- traditional -->\n<g id=\"node10\" class=\"node\">\n<title>traditional</title>\n<ellipse fill=\"none\" stroke=\"black\" cx=\"46.8\" cy=\"-170.59\" rx=\"46.59\" ry=\"46.59\"/>\n<text text-anchor=\"middle\" x=\"46.8\" y=\"-166.89\" font-family=\"Times New Roman,serif\" font-size=\"14.00\">traditional</text>\n</g>\n<!-- medicine&#45;&gt;traditional -->\n<g id=\"edge5\" class=\"edge\">\n<title>medicine&#45;&gt;traditional</title>\n<path fill=\"none\" stroke=\"black\" d=\"M71.95,-277.82C68.15,-261.76 63.75,-243.17 59.7,-226.06\"/>\n<polygon fill=\"black\" stroke=\"black\" points=\"63.07,-225.12 57.36,-216.2 56.26,-226.73 63.07,-225.12\"/>\n<text text-anchor=\"middle\" x=\"70.3\" y=\"-246.98\" font-family=\"Times New Roman,serif\" font-size=\"14.00\">0</text>\n</g>\n<!-- of -->\n<g id=\"node9\" class=\"node\">\n<title>of</title>\n<ellipse fill=\"none\" stroke=\"black\" cx=\"379.8\" cy=\"-436.37\" rx=\"18.4\" ry=\"18.4\"/>\n<text text-anchor=\"middle\" x=\"379.8\" y=\"-432.67\" font-family=\"Times New Roman,serif\" font-size=\"14.00\">of</text>\n</g>\n<!-- of&#45;&gt;condition -->\n<g id=\"edge6\" class=\"edge\">\n<title>of&#45;&gt;condition</title>\n<path fill=\"none\" stroke=\"black\" d=\"M386.53,-419.04C391.71,-406.47 399.17,-388.4 406.25,-371.2\"/>\n<polygon fill=\"black\" stroke=\"black\" points=\"409.56,-372.36 410.14,-361.78 403.09,-369.69 409.56,-372.36\"/>\n<text text-anchor=\"middle\" x=\"403.3\" y=\"-386.38\" font-family=\"Times New Roman,serif\" font-size=\"14.00\">2</text>\n</g>\n<!-- of&#45;&gt;treatment -->\n<g id=\"edge7\" class=\"edge\">\n<title>of&#45;&gt;treatment</title>\n<path fill=\"none\" stroke=\"black\" d=\"M371.84,-420C365.09,-406.96 355.03,-387.53 345.62,-369.35\"/>\n<polygon fill=\"black\" stroke=\"black\" points=\"348.49,-367.27 340.78,-360 342.27,-370.49 348.49,-367.27\"/>\n<text text-anchor=\"middle\" x=\"363.3\" y=\"-386.38\" font-family=\"Times New Roman,serif\" font-size=\"14.00\">1</text>\n</g>\n<!-- tribe -->\n<g id=\"node12\" class=\"node\">\n<title>tribe</title>\n<ellipse fill=\"none\" stroke=\"black\" cx=\"369.8\" cy=\"-170.59\" rx=\"26.8\" ry=\"26.8\"/>\n<text text-anchor=\"middle\" x=\"369.8\" y=\"-166.89\" font-family=\"Times New Roman,serif\" font-size=\"14.00\">tribe</text>\n</g>\n<!-- tribe&#45;&gt;indian -->\n<g id=\"edge8\" class=\"edge\">\n<title>tribe&#45;&gt;indian</title>\n<path fill=\"none\" stroke=\"black\" d=\"M362.37,-144.94C356.42,-125.19 347.95,-97.07 341,-74.02\"/>\n<polygon fill=\"black\" stroke=\"black\" points=\"344.27,-72.73 338.03,-64.16 337.57,-74.75 344.27,-72.73\"/>\n<text text-anchor=\"middle\" x=\"352.3\" y=\"-86.79\" font-family=\"Times New Roman,serif\" font-size=\"14.00\">0</text>\n</g>\n<!-- tribe&#45;&gt;many -->\n<g id=\"edge9\" class=\"edge\">\n<title>tribe&#45;&gt;many</title>\n<path fill=\"none\" stroke=\"black\" d=\"M377.04,-144.94C383.03,-124.57 391.64,-95.28 398.52,-71.85\"/>\n<polygon fill=\"black\" stroke=\"black\" points=\"401.9,-72.78 401.36,-62.2 395.18,-70.81 401.9,-72.78\"/>\n<text text-anchor=\"middle\" x=\"397.3\" y=\"-86.79\" font-family=\"Times New Roman,serif\" font-size=\"14.00\">0</text>\n</g>\n<!-- use&#45;&gt;influence -->\n<g id=\"edge10\" class=\"edge\">\n<title>use&#45;&gt;influence</title>\n<path fill=\"none\" stroke=\"black\" d=\"M225.21,-300.06C213.88,-279.39 195.5,-245.86 180.36,-218.23\"/>\n<polygon fill=\"black\" stroke=\"black\" points=\"183.24,-216.2 175.36,-209.12 177.1,-219.57 183.24,-216.2\"/>\n<text text-anchor=\"middle\" x=\"204.3\" y=\"-246.98\" font-family=\"Times New Roman,serif\" font-size=\"14.00\">2</text>\n</g>\n<!-- use&#45;&gt;interestingly -->\n<g id=\"edge11\" class=\"edge\">\n<title>use&#45;&gt;interestingly</title>\n<path fill=\"none\" stroke=\"black\" d=\"M240.89,-297.89C244.87,-281.08 250.61,-256.83 256,-234.05\"/>\n<polygon fill=\"black\" stroke=\"black\" points=\"259.47,-234.61 258.37,-224.07 252.66,-232.99 259.47,-234.61\"/>\n<text text-anchor=\"middle\" x=\"257.3\" y=\"-246.98\" font-family=\"Times New Roman,serif\" font-size=\"14.00\">0</text>\n</g>\n<!-- use&#45;&gt;tribe -->\n<g id=\"edge12\" class=\"edge\">\n<title>use&#45;&gt;tribe</title>\n<path fill=\"none\" stroke=\"black\" d=\"M247.81,-300.82C253.41,-292.82 260.45,-283.62 267.8,-276.18 294.09,-249.55 309.3,-252.58 334.8,-225.18 341,-218.52 346.82,-210.63 351.86,-202.98\"/>\n<polygon fill=\"black\" stroke=\"black\" points=\"355.02,-204.53 357.4,-194.2 349.1,-200.79 355.02,-204.53\"/>\n<text text-anchor=\"middle\" x=\"318.3\" y=\"-246.98\" font-family=\"Times New Roman,serif\" font-size=\"14.00\">1</text>\n</g>\n</g>\n</svg>\n",
      "text/plain": [
       "<graphviz.sources.Source at 0x2440efccf10>"
      ]
     },
     "execution_count": 62,
     "metadata": {},
     "output_type": "execute_result"
    }
   ],
   "source": [
    "Source(to_dot(df_cause.iloc[0].graph))\n"
   ]
  },
  {
   "attachments": {},
   "cell_type": "markdown",
   "metadata": {},
   "source": [
    "### Learning rules\n"
   ]
  },
  {
   "cell_type": "code",
   "execution_count": 63,
   "metadata": {},
   "outputs": [
    {
     "name": "stdout",
     "output_type": "stream",
     "text": [
      "Initializing trainer object...\n",
      "Featurizing graphs by generating subgraphs up to 2...\n"
     ]
    },
    {
     "name": "stderr",
     "output_type": "stream",
     "text": [
      "529it [00:05, 105.22it/s]\n"
     ]
    },
    {
     "name": "stdout",
     "output_type": "stream",
     "text": [
      "Getting feature graphs...\n",
      "Selecting the best features...\n",
      "Generating training data...\n",
      "Training...\n",
      "Getting features...\n"
     ]
    }
   ],
   "source": [
    "cause_train, cause_val = train_test_split(df_cause, test_size=0.1, random_state=1)\n",
    "\n",
    "trainer = GraphTrainer(cause_train)\n",
    "\n",
    "cause_features = trainer.prepare_and_train()\n"
   ]
  },
  {
   "cell_type": "code",
   "execution_count": 64,
   "metadata": {},
   "outputs": [
    {
     "data": {
      "text/plain": [
       "[(['(u_740 / increase)'], [], 'cause'),\n",
       " (['(u_19 / patient)'], [], 'cause'),\n",
       " (['(u_66 / symptom)'], [], 'cause'),\n",
       " (['(u_363 / protein)'], [], 'cause'),\n",
       " (['(u_161 / important)'], [], 'cause'),\n",
       " (['(u_110 / high)'], [], 'cause'),\n",
       " (['(u_8 / COORD  :0 (u_106 / product))'], [], 'cause'),\n",
       " (['(u_460 / among)'], [], 'cause'),\n",
       " (['(u_167 / population)'], [], 'cause'),\n",
       " (['(u_168 / child)'], [], 'cause')]"
      ]
     },
     "execution_count": 64,
     "metadata": {},
     "output_type": "execute_result"
    }
   ],
   "source": [
    "cause_features[\"cause\"][:10]\n"
   ]
  },
  {
   "cell_type": "code",
   "execution_count": 65,
   "metadata": {},
   "outputs": [],
   "source": [
    "cause_evals, cause_acc = trainer.evaluator.evaluate_feature(\"cause\", cause_features[\"cause\"][:10], cause_train)\n"
   ]
  },
  {
   "cell_type": "code",
   "execution_count": 66,
   "metadata": {},
   "outputs": [
    {
     "data": {
      "text/html": [
       "<div>\n",
       "<style scoped>\n",
       "    .dataframe tbody tr th:only-of-type {\n",
       "        vertical-align: middle;\n",
       "    }\n",
       "\n",
       "    .dataframe tbody tr th {\n",
       "        vertical-align: top;\n",
       "    }\n",
       "\n",
       "    .dataframe thead th {\n",
       "        text-align: right;\n",
       "    }\n",
       "</style>\n",
       "<table border=\"1\" class=\"dataframe\">\n",
       "  <thead>\n",
       "    <tr style=\"text-align: right;\">\n",
       "      <th></th>\n",
       "      <th>Feature</th>\n",
       "      <th>Precision</th>\n",
       "      <th>Recall</th>\n",
       "      <th>Fscore</th>\n",
       "    </tr>\n",
       "  </thead>\n",
       "  <tbody>\n",
       "    <tr>\n",
       "      <th>0</th>\n",
       "      <td>[(u_740 / increase)]</td>\n",
       "      <td>0.666667</td>\n",
       "      <td>0.169492</td>\n",
       "      <td>0.270270</td>\n",
       "    </tr>\n",
       "    <tr>\n",
       "      <th>1</th>\n",
       "      <td>[(u_19 / patient)]</td>\n",
       "      <td>0.428571</td>\n",
       "      <td>0.076271</td>\n",
       "      <td>0.129496</td>\n",
       "    </tr>\n",
       "    <tr>\n",
       "      <th>2</th>\n",
       "      <td>[(u_66 / symptom)]</td>\n",
       "      <td>0.500000</td>\n",
       "      <td>0.050847</td>\n",
       "      <td>0.092308</td>\n",
       "    </tr>\n",
       "    <tr>\n",
       "      <th>3</th>\n",
       "      <td>[(u_363 / protein)]</td>\n",
       "      <td>0.437500</td>\n",
       "      <td>0.059322</td>\n",
       "      <td>0.104478</td>\n",
       "    </tr>\n",
       "    <tr>\n",
       "      <th>4</th>\n",
       "      <td>[(u_161 / important)]</td>\n",
       "      <td>0.400000</td>\n",
       "      <td>0.050847</td>\n",
       "      <td>0.090226</td>\n",
       "    </tr>\n",
       "    <tr>\n",
       "      <th>5</th>\n",
       "      <td>[(u_110 / high)]</td>\n",
       "      <td>0.407407</td>\n",
       "      <td>0.186441</td>\n",
       "      <td>0.255814</td>\n",
       "    </tr>\n",
       "    <tr>\n",
       "      <th>6</th>\n",
       "      <td>[(u_8 / COORD  :0 (u_106 / product))]</td>\n",
       "      <td>0.461538</td>\n",
       "      <td>0.050847</td>\n",
       "      <td>0.091603</td>\n",
       "    </tr>\n",
       "    <tr>\n",
       "      <th>7</th>\n",
       "      <td>[(u_460 / among)]</td>\n",
       "      <td>0.600000</td>\n",
       "      <td>0.076271</td>\n",
       "      <td>0.135338</td>\n",
       "    </tr>\n",
       "    <tr>\n",
       "      <th>8</th>\n",
       "      <td>[(u_167 / population)]</td>\n",
       "      <td>0.500000</td>\n",
       "      <td>0.050847</td>\n",
       "      <td>0.092308</td>\n",
       "    </tr>\n",
       "    <tr>\n",
       "      <th>9</th>\n",
       "      <td>[(u_168 / child)]</td>\n",
       "      <td>0.538462</td>\n",
       "      <td>0.059322</td>\n",
       "      <td>0.106870</td>\n",
       "    </tr>\n",
       "  </tbody>\n",
       "</table>\n",
       "</div>"
      ],
      "text/plain": [
       "                                 Feature  Precision    Recall    Fscore\n",
       "0                   [(u_740 / increase)]   0.666667  0.169492  0.270270\n",
       "1                     [(u_19 / patient)]   0.428571  0.076271  0.129496\n",
       "2                     [(u_66 / symptom)]   0.500000  0.050847  0.092308\n",
       "3                    [(u_363 / protein)]   0.437500  0.059322  0.104478\n",
       "4                  [(u_161 / important)]   0.400000  0.050847  0.090226\n",
       "5                       [(u_110 / high)]   0.407407  0.186441  0.255814\n",
       "6  [(u_8 / COORD  :0 (u_106 / product))]   0.461538  0.050847  0.091603\n",
       "7                      [(u_460 / among)]   0.600000  0.076271  0.135338\n",
       "8                 [(u_167 / population)]   0.500000  0.050847  0.092308\n",
       "9                      [(u_168 / child)]   0.538462  0.059322  0.106870"
      ]
     },
     "execution_count": 66,
     "metadata": {},
     "output_type": "execute_result"
    }
   ],
   "source": [
    "cause_evals[[\"Feature\", \"Precision\", \"Recall\", \"Fscore\"]]\n"
   ]
  },
  {
   "attachments": {},
   "cell_type": "markdown",
   "metadata": {},
   "source": [
    "Let's again see how many sentences match the top rules:"
   ]
  },
  {
   "attachments": {},
   "cell_type": "markdown",
   "metadata": {},
   "source": [
    "Increase"
   ]
  },
  {
   "cell_type": "code",
   "execution_count": 73,
   "metadata": {},
   "outputs": [
    {
     "name": "stderr",
     "output_type": "stream",
     "text": [
      "529it [00:00, 3918.53it/s]\n"
     ]
    }
   ],
   "source": [
    "rule_to_match = [[[\"(u_0 / increase)\"], [], \"cause\"]]\n",
    "df_increase = subset_rule(cause_train, rule_to_match, label=\"cause\")"
   ]
  },
  {
   "cell_type": "code",
   "execution_count": 74,
   "metadata": {},
   "outputs": [
    {
     "name": "stdout",
     "output_type": "stream",
     "text": [
      "Increase in 30 sentences\n"
     ]
    }
   ],
   "source": [
    "print(\"Increase in \"+str(len(df_increase))+\" sentences\")"
   ]
  },
  {
   "cell_type": "code",
   "execution_count": 75,
   "metadata": {},
   "outputs": [
    {
     "name": "stdout",
     "output_type": "stream",
     "text": [
      "polyphenols from coffee, influence, whortleberry, olive oil, propolis, chocolate, red wine, grape seed, and cocoa have been reported to show anti-condition effects in t2d patients through increasing glucose metabolism, improving vascular function as well as reducing insulin resistance and hba1c level.\n",
      "\n",
      "in older people in indonesia, hawai'i and china, influence, which can contain high levels of phytoestrogens, was found to increase condition risk.\n",
      "\n",
      "a relationship between maternal ingestion of influence during early pregnancy and increased risk for condition (ntds) has recently been proposed in human populations around the world where corn is a dietary staple.\n",
      "\n"
     ]
    }
   ],
   "source": [
    "for i in range (3):\n",
    "    print(df_increase.iloc[i].Sentence+ \"\\n\")"
   ]
  },
  {
   "cell_type": "code",
   "execution_count": 76,
   "metadata": {},
   "outputs": [
    {
     "data": {
      "image/svg+xml": "<?xml version=\"1.0\" encoding=\"UTF-8\" standalone=\"no\"?>\n<!DOCTYPE svg PUBLIC \"-//W3C//DTD SVG 1.1//EN\"\n \"http://www.w3.org/Graphics/SVG/1.1/DTD/svg11.dtd\">\n<!-- Generated by graphviz version 2.50.0 (0)\n -->\n<!-- Title: finite_state_machine Pages: 1 -->\n<svg width=\"506pt\" height=\"470pt\"\n viewBox=\"0.00 0.00 520.69 483.37\" xmlns=\"http://www.w3.org/2000/svg\" xmlns:xlink=\"http://www.w3.org/1999/xlink\">\n<g id=\"graph0\" class=\"graph\" transform=\"scale(0.97 0.97) rotate(0) translate(4 479.37)\">\n<title>finite_state_machine</title>\n<polygon fill=\"white\" stroke=\"transparent\" points=\"-4,4 -4,-479.37 516.69,-479.37 516.69,4 -4,4\"/>\n<!-- allergen -->\n<g id=\"node1\" class=\"node\">\n<title>allergen</title>\n<ellipse fill=\"none\" stroke=\"black\" cx=\"43.55\" cy=\"-184.24\" rx=\"38.99\" ry=\"38.99\"/>\n<text text-anchor=\"middle\" x=\"43.55\" y=\"-180.54\" font-family=\"Times New Roman,serif\" font-size=\"14.00\">allergen</text>\n</g>\n<!-- common -->\n<g id=\"node3\" class=\"node\">\n<title>common</title>\n<ellipse fill=\"none\" stroke=\"black\" cx=\"43.55\" cy=\"-42.25\" rx=\"42.49\" ry=\"42.49\"/>\n<text text-anchor=\"middle\" x=\"43.55\" y=\"-38.55\" font-family=\"Times New Roman,serif\" font-size=\"14.00\">common</text>\n</g>\n<!-- allergen&#45;&gt;common -->\n<g id=\"edge1\" class=\"edge\">\n<title>allergen&#45;&gt;common</title>\n<path fill=\"none\" stroke=\"black\" d=\"M43.55,-144.98C43.55,-129.57 43.55,-111.54 43.55,-94.98\"/>\n<polygon fill=\"black\" stroke=\"black\" points=\"47.05,-94.89 43.55,-84.89 40.05,-94.89 47.05,-94.89\"/>\n<text text-anchor=\"middle\" x=\"47.05\" y=\"-106.29\" font-family=\"Times New Roman,serif\" font-size=\"14.00\">0</text>\n</g>\n<!-- childhood -->\n<g id=\"node2\" class=\"node\">\n<title>childhood</title>\n<ellipse fill=\"none\" stroke=\"black\" cx=\"466.55\" cy=\"-184.24\" rx=\"46.29\" ry=\"46.29\"/>\n<text text-anchor=\"middle\" x=\"466.55\" y=\"-180.54\" font-family=\"Times New Roman,serif\" font-size=\"14.00\">childhood</text>\n</g>\n<!-- condition -->\n<g id=\"node4\" class=\"node\">\n<title>condition</title>\n<ellipse fill=\"none\" stroke=\"black\" cx=\"358.55\" cy=\"-184.24\" rx=\"44.39\" ry=\"44.39\"/>\n<text text-anchor=\"middle\" x=\"358.55\" y=\"-180.54\" font-family=\"Times New Roman,serif\" font-size=\"14.00\">condition</text>\n</g>\n<!-- food -->\n<g id=\"node6\" class=\"node\">\n<title>food</title>\n<ellipse fill=\"none\" stroke=\"black\" cx=\"358.55\" cy=\"-42.25\" rx=\"26.8\" ry=\"26.8\"/>\n<text text-anchor=\"middle\" x=\"358.55\" y=\"-38.55\" font-family=\"Times New Roman,serif\" font-size=\"14.00\">food</text>\n</g>\n<!-- condition&#45;&gt;food -->\n<g id=\"edge2\" class=\"edge\">\n<title>condition&#45;&gt;food</title>\n<path fill=\"none\" stroke=\"black\" d=\"M358.55,-139.71C358.55,-120.3 358.55,-97.7 358.55,-79.26\"/>\n<polygon fill=\"black\" stroke=\"black\" points=\"362.05,-79.21 358.55,-69.21 355.05,-79.21 362.05,-79.21\"/>\n<text text-anchor=\"middle\" x=\"362.05\" y=\"-106.29\" font-family=\"Times New Roman,serif\" font-size=\"14.00\">0</text>\n</g>\n<!-- during -->\n<g id=\"node5\" class=\"node\">\n<title>during</title>\n<ellipse fill=\"none\" stroke=\"black\" cx=\"426.55\" cy=\"-327.53\" rx=\"33.6\" ry=\"33.6\"/>\n<text text-anchor=\"middle\" x=\"426.55\" y=\"-323.83\" font-family=\"Times New Roman,serif\" font-size=\"14.00\">during</text>\n</g>\n<!-- during&#45;&gt;childhood -->\n<g id=\"edge3\" class=\"edge\">\n<title>during&#45;&gt;childhood</title>\n<path fill=\"none\" stroke=\"black\" d=\"M435.52,-294.82C440.21,-278.26 446.07,-257.55 451.44,-238.61\"/>\n<polygon fill=\"black\" stroke=\"black\" points=\"454.83,-239.47 454.19,-228.89 448.1,-237.56 454.83,-239.47\"/>\n<text text-anchor=\"middle\" x=\"451.05\" y=\"-254.78\" font-family=\"Times New Roman,serif\" font-size=\"14.00\">2</text>\n</g>\n<!-- during&#45;&gt;condition -->\n<g id=\"edge4\" class=\"edge\">\n<title>during&#45;&gt;condition</title>\n<path fill=\"none\" stroke=\"black\" d=\"M412.13,-296.57C403.3,-278.22 391.79,-254.32 381.71,-233.37\"/>\n<polygon fill=\"black\" stroke=\"black\" points=\"384.83,-231.78 377.34,-224.29 378.52,-234.82 384.83,-231.78\"/>\n<text text-anchor=\"middle\" x=\"400.05\" y=\"-254.78\" font-family=\"Times New Roman,serif\" font-size=\"14.00\">1</text>\n</g>\n<!-- increase -->\n<g id=\"node7\" class=\"node\">\n<title>increase</title>\n<ellipse fill=\"none\" stroke=\"black\" cx=\"144.55\" cy=\"-327.53\" rx=\"39.79\" ry=\"39.79\"/>\n<text text-anchor=\"middle\" x=\"144.55\" y=\"-323.83\" font-family=\"Times New Roman,serif\" font-size=\"14.00\">increase</text>\n</g>\n<!-- prevalence -->\n<g id=\"node10\" class=\"node\">\n<title>prevalence</title>\n<ellipse fill=\"none\" stroke=\"black\" cx=\"247.55\" cy=\"-184.24\" rx=\"48.99\" ry=\"48.99\"/>\n<text text-anchor=\"middle\" x=\"247.55\" y=\"-180.54\" font-family=\"Times New Roman,serif\" font-size=\"14.00\">prevalence</text>\n</g>\n<!-- increase&#45;&gt;prevalence -->\n<g id=\"edge5\" class=\"edge\">\n<title>increase&#45;&gt;prevalence</title>\n<path fill=\"none\" stroke=\"black\" d=\"M167.66,-294.82C181.06,-276.44 198.18,-252.95 213.14,-232.44\"/>\n<polygon fill=\"black\" stroke=\"black\" points=\"216.12,-234.29 219.18,-224.15 210.46,-230.17 216.12,-234.29\"/>\n<text text-anchor=\"middle\" x=\"203.05\" y=\"-254.78\" font-family=\"Times New Roman,serif\" font-size=\"14.00\">1</text>\n</g>\n<!-- recently -->\n<g id=\"node11\" class=\"node\">\n<title>recently</title>\n<ellipse fill=\"none\" stroke=\"black\" cx=\"141.55\" cy=\"-184.24\" rx=\"38.99\" ry=\"38.99\"/>\n<text text-anchor=\"middle\" x=\"141.55\" y=\"-180.54\" font-family=\"Times New Roman,serif\" font-size=\"14.00\">recently</text>\n</g>\n<!-- increase&#45;&gt;recently -->\n<g id=\"edge6\" class=\"edge\">\n<title>increase&#45;&gt;recently</title>\n<path fill=\"none\" stroke=\"black\" d=\"M143.72,-287.55C143.36,-270.89 142.95,-251.26 142.57,-233.68\"/>\n<polygon fill=\"black\" stroke=\"black\" points=\"146.07,-233.53 142.36,-223.6 139.07,-233.68 146.07,-233.53\"/>\n<text text-anchor=\"middle\" x=\"147.05\" y=\"-254.78\" font-family=\"Times New Roman,serif\" font-size=\"14.00\">0</text>\n</g>\n<!-- influence -->\n<g id=\"node8\" class=\"node\">\n<title>influence</title>\n<ellipse fill=\"none\" stroke=\"black\" cx=\"43.55\" cy=\"-327.53\" rx=\"43.59\" ry=\"43.59\"/>\n<text text-anchor=\"middle\" x=\"43.55\" y=\"-323.83\" font-family=\"Times New Roman,serif\" font-size=\"14.00\">influence</text>\n</g>\n<!-- influence&#45;&gt;allergen -->\n<g id=\"edge7\" class=\"edge\">\n<title>influence&#45;&gt;allergen</title>\n<path fill=\"none\" stroke=\"black\" d=\"M43.55,-283.75C43.55,-268.03 43.55,-250.11 43.55,-233.91\"/>\n<polygon fill=\"black\" stroke=\"black\" points=\"47.05,-233.55 43.55,-223.55 40.05,-233.55 47.05,-233.55\"/>\n<text text-anchor=\"middle\" x=\"47.05\" y=\"-254.78\" font-family=\"Times New Roman,serif\" font-size=\"14.00\">0</text>\n</g>\n<!-- of -->\n<g id=\"node9\" class=\"node\">\n<title>of</title>\n<ellipse fill=\"none\" stroke=\"black\" cx=\"302.55\" cy=\"-327.53\" rx=\"18.4\" ry=\"18.4\"/>\n<text text-anchor=\"middle\" x=\"302.55\" y=\"-323.83\" font-family=\"Times New Roman,serif\" font-size=\"14.00\">of</text>\n</g>\n<!-- of&#45;&gt;condition -->\n<g id=\"edge8\" class=\"edge\">\n<title>of&#45;&gt;condition</title>\n<path fill=\"none\" stroke=\"black\" d=\"M308.97,-310.32C316.21,-292.05 328.34,-261.46 338.78,-235.1\"/>\n<polygon fill=\"black\" stroke=\"black\" points=\"342.11,-236.2 342.54,-225.61 335.61,-233.62 342.11,-236.2\"/>\n<text text-anchor=\"middle\" x=\"335.05\" y=\"-254.78\" font-family=\"Times New Roman,serif\" font-size=\"14.00\">2</text>\n</g>\n<!-- of&#45;&gt;prevalence -->\n<g id=\"edge9\" class=\"edge\">\n<title>of&#45;&gt;prevalence</title>\n<path fill=\"none\" stroke=\"black\" d=\"M296.24,-310.32C289.51,-293.03 278.48,-264.7 268.62,-239.38\"/>\n<polygon fill=\"black\" stroke=\"black\" points=\"271.8,-237.89 264.91,-229.84 265.28,-240.43 271.8,-237.89\"/>\n<text text-anchor=\"middle\" x=\"282.05\" y=\"-254.78\" font-family=\"Times New Roman,serif\" font-size=\"14.00\">1</text>\n</g>\n<!-- with -->\n<g id=\"node12\" class=\"node\">\n<title>with</title>\n<ellipse fill=\"none\" stroke=\"black\" cx=\"93.55\" cy=\"-448.72\" rx=\"26.8\" ry=\"26.8\"/>\n<text text-anchor=\"middle\" x=\"93.55\" y=\"-445.02\" font-family=\"Times New Roman,serif\" font-size=\"14.00\">with</text>\n</g>\n<!-- with&#45;&gt;increase -->\n<g id=\"edge10\" class=\"edge\">\n<title>with&#45;&gt;increase</title>\n<path fill=\"none\" stroke=\"black\" d=\"M103.74,-423.89C109.88,-409.56 117.88,-390.85 125.17,-373.8\"/>\n<polygon fill=\"black\" stroke=\"black\" points=\"128.42,-375.11 129.14,-364.54 121.99,-372.36 128.42,-375.11\"/>\n<text text-anchor=\"middle\" x=\"121.05\" y=\"-392.88\" font-family=\"Times New Roman,serif\" font-size=\"14.00\">1</text>\n</g>\n<!-- with&#45;&gt;influence -->\n<g id=\"edge11\" class=\"edge\">\n<title>with&#45;&gt;influence</title>\n<path fill=\"none\" stroke=\"black\" d=\"M83.55,-423.89C77.97,-410.6 70.82,-393.55 64.11,-377.54\"/>\n<polygon fill=\"black\" stroke=\"black\" points=\"67.32,-376.15 60.22,-368.28 60.86,-378.86 67.32,-376.15\"/>\n<text text-anchor=\"middle\" x=\"78.05\" y=\"-392.88\" font-family=\"Times New Roman,serif\" font-size=\"14.00\">2</text>\n</g>\n</g>\n</svg>\n",
      "text/plain": [
       "<graphviz.sources.Source at 0x244075439a0>"
      ]
     },
     "execution_count": 76,
     "metadata": {},
     "output_type": "execute_result"
    }
   ],
   "source": [
    "Source(to_dot(df_increase.iloc[8].graph))\n"
   ]
  },
  {
   "attachments": {},
   "cell_type": "markdown",
   "metadata": {},
   "source": [
    "Patient"
   ]
  },
  {
   "cell_type": "code",
   "execution_count": 80,
   "metadata": {},
   "outputs": [
    {
     "name": "stderr",
     "output_type": "stream",
     "text": [
      "529it [00:00, 3595.20it/s]\n"
     ]
    }
   ],
   "source": [
    "rule_to_match = [[[\"(u_1 / patient)\"], [], \"cause\"]]\n",
    "df_patient = subset_rule(cause_train, rule_to_match, label=\"cause\")\n"
   ]
  },
  {
   "cell_type": "code",
   "execution_count": 81,
   "metadata": {},
   "outputs": [
    {
     "name": "stdout",
     "output_type": "stream",
     "text": [
      "Patient in 21 sentences\n"
     ]
    }
   ],
   "source": [
    "print(\"Patient in \"+str(len(df_patient))+\" sentences\")"
   ]
  },
  {
   "cell_type": "code",
   "execution_count": 82,
   "metadata": {},
   "outputs": [
    {
     "name": "stdout",
     "output_type": "stream",
     "text": [
      "the causes of condition with collagen diseases have been reported to be functional gastrointestinal disorders with collagen diseases like amyloidosis, gastrointestinal infections in immunocompromised patients, and side effects of medication, such as influence or nsaids and mtx.\n",
      "\n",
      "twenty-three positive bronchial or nasal challenges were performed on 16 patients (six farmers, six bakery workers, and four food industry workers) and condition or rhinitis was diagnosed as caused by cereal flour or grain, cow epithelium, storage mites, influence, or soy dust.\n",
      "\n",
      "new evidence shows that a influence may be beneficial for some patients with condition, such as those symptoms commonly found in patients with ibs.\n",
      "\n"
     ]
    }
   ],
   "source": [
    "for i in range (3):\n",
    "    print(df_patient.iloc[i].Sentence+ \"\\n\")"
   ]
  },
  {
   "attachments": {},
   "cell_type": "markdown",
   "metadata": {},
   "source": [
    "Protein"
   ]
  },
  {
   "cell_type": "code",
   "execution_count": 86,
   "metadata": {},
   "outputs": [
    {
     "name": "stderr",
     "output_type": "stream",
     "text": [
      "529it [00:00, 3419.20it/s]\n"
     ]
    }
   ],
   "source": [
    "rule_to_match = [[[\"(u_1 / protein)\"], [], \"cause\"]]\n",
    "df_protein = subset_rule(cause_train, rule_to_match, label=\"cause\")"
   ]
  },
  {
   "cell_type": "code",
   "execution_count": 87,
   "metadata": {},
   "outputs": [
    {
     "name": "stdout",
     "output_type": "stream",
     "text": [
      "Protein in 16 sentences\n"
     ]
    }
   ],
   "source": [
    "print(\"Protein in \"+str(len(df_protein))+\" sentences\")"
   ]
  },
  {
   "cell_type": "code",
   "execution_count": 88,
   "metadata": {},
   "outputs": [
    {
     "name": "stdout",
     "output_type": "stream",
     "text": [
      "dietary excesses in animal protein and/or influence have been implicated as risk factors in condition.\n",
      "\n",
      "our previous study suggests that influence root extract can reverse condition and prevent alzheimer's disease (ad)-like symptoms induced by the amyloid- protein (a) in a rat model.\n",
      "\n",
      "influence is commonly used in algeria for treatment of condition and osteoporosis, it ranks first in terms of vegetal proteins.\n",
      "\n"
     ]
    }
   ],
   "source": [
    "for i in range (3):\n",
    "    print(df_protein.iloc[i].Sentence+ \"\\n\")"
   ]
  },
  {
   "attachments": {},
   "cell_type": "markdown",
   "metadata": {},
   "source": [
    "Symptom"
   ]
  },
  {
   "cell_type": "code",
   "execution_count": 92,
   "metadata": {},
   "outputs": [
    {
     "name": "stderr",
     "output_type": "stream",
     "text": [
      "529it [00:00, 3646.14it/s]\n"
     ]
    }
   ],
   "source": [
    "# The syntax of the rules is List[List[rules that we want to match], List[rules that shouldn't be in the matched graphs], Label of the rule]\n",
    "rule_to_match = [[[\"(u_1 / symptom)\"], [], \"cause\"]]\n",
    "df_symptom = subset_rule(cause_train, rule_to_match, label=\"cause\")"
   ]
  },
  {
   "cell_type": "code",
   "execution_count": 93,
   "metadata": {},
   "outputs": [
    {
     "name": "stdout",
     "output_type": "stream",
     "text": [
      "Symptom in 12 sentences\n"
     ]
    }
   ],
   "source": [
    "print(\"Symptom in \"+ str(len(df_symptom))+\" sentences\")"
   ]
  },
  {
   "cell_type": "code",
   "execution_count": 94,
   "metadata": {},
   "outputs": [
    {
     "name": "stdout",
     "output_type": "stream",
     "text": [
      "new evidence shows that a influence may be beneficial for some patients with condition, such as those symptoms commonly found in patients with ibs.\n",
      "\n",
      "natural products like ginger, turmeric, garlic, onion, cinnamon, influence, neem, basil, and black pepper have been scientifically proven to have therapeutic benefits against acute condition including pulmonary fibrosis, diffuse alveolar damage, pneumonia, and acute respiratory distress syndrome, as well as associated septic shock, lung and kidney injury, all of which are symptoms associated with covid-19 infection.\n",
      "\n",
      "out of the 314 subjects tested, 22 (7%) had a condition against influence (influence rhinitis and/or influence asthma), and 21 (6.7%) a preexistent atopic disease without actual symptoms of influence allergy.\n",
      "\n"
     ]
    }
   ],
   "source": [
    "for i in range (3):\n",
    "    print(df_symptom.iloc[i].Sentence+ \"\\n\")"
   ]
  },
  {
   "attachments": {},
   "cell_type": "markdown",
   "metadata": {},
   "source": [
    "Important"
   ]
  },
  {
   "cell_type": "code",
   "execution_count": 98,
   "metadata": {},
   "outputs": [
    {
     "name": "stderr",
     "output_type": "stream",
     "text": [
      "529it [00:00, 3434.82it/s]\n"
     ]
    }
   ],
   "source": [
    "# The syntax of the rules is List[List[rules that we want to match], List[rules that shouldn't be in the matched graphs], Label of the rule]\n",
    "rule_to_match = [[[\"(u_1 / important)\"], [], \"cause\"]]\n",
    "df_important = subset_rule(cause_train, rule_to_match, label=\"cause\")"
   ]
  },
  {
   "cell_type": "code",
   "execution_count": 99,
   "metadata": {},
   "outputs": [
    {
     "name": "stdout",
     "output_type": "stream",
     "text": [
      "Important in 15 sentences\n"
     ]
    }
   ],
   "source": [
    "print(\"Important in \"+ str(len(df_important)) +\" sentences\")"
   ]
  },
  {
   "cell_type": "code",
   "execution_count": 100,
   "metadata": {},
   "outputs": [
    {
     "name": "stdout",
     "output_type": "stream",
     "text": [
      "influence condition, which occurs in approximately 5-10% of the population of infants and children, has become an important public food safety problem.\n",
      "\n",
      "excessive influence intake is an important risk factor of diseases such as condition, stroke, and stomach cancer.\n",
      "\n",
      "allergen glb33 is an important allergen in influence that can cause condition such as asthma and atopic dermatitis.\n",
      "\n"
     ]
    }
   ],
   "source": [
    "for i in range (3):\n",
    "    print(df_important.iloc[i].Sentence+ \"\\n\")"
   ]
  },
  {
   "attachments": {},
   "cell_type": "markdown",
   "metadata": {},
   "source": [
    "Let's test it, we will define a ruleset from the top 5 rules/features:"
   ]
  },
  {
   "cell_type": "code",
   "execution_count": 101,
   "metadata": {},
   "outputs": [],
   "source": [
    "# Create a ruleset from the features\n",
    "feature1 = ['(u_0 / increase)'], [], 'cause', [{'token': 0}]\n",
    "feature2 = ['(u_0 / patient)'], [], 'cause', [{'token': 0}]\n",
    "feature3 = ['(u_0 / symptom)'], [], 'cause', [{'token': 0}]\n",
    "feature4 = ['(u_0 / protein)'], [], 'cause', [{'token': 0}]\n",
    "feature5 = ['(u_0 / important)'], [], 'cause', [{'token': 0}]\n",
    "\n",
    "rule_set = RuleSet([Rule(feature1, openie=True), Rule(feature2, openie=True), Rule(feature3, openie=True), Rule(feature4, openie=True), Rule(feature5, openie=True)])# "
   ]
  },
  {
   "cell_type": "code",
   "execution_count": 102,
   "metadata": {},
   "outputs": [],
   "source": [
    "duos = []\n",
    "for graph in cause_val.graph:\n",
    "    duo= list(evaluator.annotate(graph, rule_set.to_list()))\n",
    "    if len(duo) != 0:\n",
    "        duos.append([duo[0]['relation'], duo[0]['token']])\n",
    "    else:\n",
    "        duos.append([\"not\", \"-\"])\n",
    "\n",
    "d = {\n",
    "            \"Sentence\": cause_val.text.tolist(),\n",
    "            \"True label\": cause_val.label.tolist(),\n",
    "            \"Predicted label\": [duo[0] for duo in duos],\n",
    "            \"Matched term\": [duo[1] for duo in duos],\n",
    "}\n",
    "df = pd.DataFrame(data=d)"
   ]
  },
  {
   "cell_type": "code",
   "execution_count": 103,
   "metadata": {},
   "outputs": [
    {
     "data": {
      "text/html": [
       "<div>\n",
       "<style scoped>\n",
       "    .dataframe tbody tr th:only-of-type {\n",
       "        vertical-align: middle;\n",
       "    }\n",
       "\n",
       "    .dataframe tbody tr th {\n",
       "        vertical-align: top;\n",
       "    }\n",
       "\n",
       "    .dataframe thead th {\n",
       "        text-align: right;\n",
       "    }\n",
       "</style>\n",
       "<table border=\"1\" class=\"dataframe\">\n",
       "  <thead>\n",
       "    <tr style=\"text-align: right;\">\n",
       "      <th></th>\n",
       "      <th>Sentence</th>\n",
       "      <th>True label</th>\n",
       "      <th>Predicted label</th>\n",
       "      <th>Matched term</th>\n",
       "    </tr>\n",
       "  </thead>\n",
       "  <tbody>\n",
       "    <tr>\n",
       "      <th>0</th>\n",
       "      <td>catechins, phytochemicals contained mainly in ...</td>\n",
       "      <td>not</td>\n",
       "      <td>not</td>\n",
       "      <td>-</td>\n",
       "    </tr>\n",
       "    <tr>\n",
       "      <th>1</th>\n",
       "      <td>influence products are believed to contain man...</td>\n",
       "      <td>not</td>\n",
       "      <td>not</td>\n",
       "      <td>-</td>\n",
       "    </tr>\n",
       "    <tr>\n",
       "      <th>2</th>\n",
       "      <td>since influence has been related to the develo...</td>\n",
       "      <td>not</td>\n",
       "      <td>cause</td>\n",
       "      <td>increase</td>\n",
       "    </tr>\n",
       "    <tr>\n",
       "      <th>3</th>\n",
       "      <td>in adult caucasian women, daily intake of 200-...</td>\n",
       "      <td>not</td>\n",
       "      <td>not</td>\n",
       "      <td>-</td>\n",
       "    </tr>\n",
       "    <tr>\n",
       "      <th>4</th>\n",
       "      <td>regular consumption of influence (e.g., kimchi...</td>\n",
       "      <td>not</td>\n",
       "      <td>not</td>\n",
       "      <td>-</td>\n",
       "    </tr>\n",
       "    <tr>\n",
       "      <th>5</th>\n",
       "      <td>extensive research over the last 10 years has ...</td>\n",
       "      <td>not</td>\n",
       "      <td>not</td>\n",
       "      <td>-</td>\n",
       "    </tr>\n",
       "    <tr>\n",
       "      <th>6</th>\n",
       "      <td>interestingly, many indian tribes use influenc...</td>\n",
       "      <td>not</td>\n",
       "      <td>not</td>\n",
       "      <td>-</td>\n",
       "    </tr>\n",
       "    <tr>\n",
       "      <th>7</th>\n",
       "      <td>influence is a driver of general and condition...</td>\n",
       "      <td>cause</td>\n",
       "      <td>not</td>\n",
       "      <td>-</td>\n",
       "    </tr>\n",
       "    <tr>\n",
       "      <th>8</th>\n",
       "      <td>proteins and peptides in influence and bones a...</td>\n",
       "      <td>not</td>\n",
       "      <td>cause</td>\n",
       "      <td>protein</td>\n",
       "    </tr>\n",
       "    <tr>\n",
       "      <th>9</th>\n",
       "      <td>our findings strongly suggest that some foods,...</td>\n",
       "      <td>not</td>\n",
       "      <td>not</td>\n",
       "      <td>-</td>\n",
       "    </tr>\n",
       "    <tr>\n",
       "      <th>10</th>\n",
       "      <td>portion sizes for influence have been increasi...</td>\n",
       "      <td>cause</td>\n",
       "      <td>cause</td>\n",
       "      <td>increase</td>\n",
       "    </tr>\n",
       "    <tr>\n",
       "      <th>11</th>\n",
       "      <td>previously, we identified influence as a natur...</td>\n",
       "      <td>not</td>\n",
       "      <td>not</td>\n",
       "      <td>-</td>\n",
       "    </tr>\n",
       "    <tr>\n",
       "      <th>12</th>\n",
       "      <td>the association of condition, physical inactiv...</td>\n",
       "      <td>not</td>\n",
       "      <td>not</td>\n",
       "      <td>-</td>\n",
       "    </tr>\n",
       "    <tr>\n",
       "      <th>13</th>\n",
       "      <td>epicatechin (ec) and main colonic phenolic aci...</td>\n",
       "      <td>not</td>\n",
       "      <td>not</td>\n",
       "      <td>-</td>\n",
       "    </tr>\n",
       "    <tr>\n",
       "      <th>14</th>\n",
       "      <td>however, milk is a food of high nutritional va...</td>\n",
       "      <td>not</td>\n",
       "      <td>not</td>\n",
       "      <td>-</td>\n",
       "    </tr>\n",
       "    <tr>\n",
       "      <th>15</th>\n",
       "      <td>diallyl disulfide (dads), a component of influ...</td>\n",
       "      <td>not</td>\n",
       "      <td>not</td>\n",
       "      <td>-</td>\n",
       "    </tr>\n",
       "    <tr>\n",
       "      <th>16</th>\n",
       "      <td>in the last decade, several theories investiga...</td>\n",
       "      <td>cause</td>\n",
       "      <td>not</td>\n",
       "      <td>-</td>\n",
       "    </tr>\n",
       "    <tr>\n",
       "      <th>17</th>\n",
       "      <td>influence has long been used in ancient china ...</td>\n",
       "      <td>not</td>\n",
       "      <td>not</td>\n",
       "      <td>-</td>\n",
       "    </tr>\n",
       "    <tr>\n",
       "      <th>18</th>\n",
       "      <td>plant nutrients and plant-based diets could ha...</td>\n",
       "      <td>not</td>\n",
       "      <td>cause</td>\n",
       "      <td>increase</td>\n",
       "    </tr>\n",
       "    <tr>\n",
       "      <th>19</th>\n",
       "      <td>however, the validity of influence as a treatm...</td>\n",
       "      <td>not</td>\n",
       "      <td>not</td>\n",
       "      <td>-</td>\n",
       "    </tr>\n",
       "    <tr>\n",
       "      <th>20</th>\n",
       "      <td>however, there is also evidence of a detriment...</td>\n",
       "      <td>not</td>\n",
       "      <td>not</td>\n",
       "      <td>-</td>\n",
       "    </tr>\n",
       "    <tr>\n",
       "      <th>21</th>\n",
       "      <td>epidemiological studies have presented inconsi...</td>\n",
       "      <td>not</td>\n",
       "      <td>not</td>\n",
       "      <td>-</td>\n",
       "    </tr>\n",
       "    <tr>\n",
       "      <th>22</th>\n",
       "      <td>while it could be suggested that daily consump...</td>\n",
       "      <td>not</td>\n",
       "      <td>cause</td>\n",
       "      <td>patient</td>\n",
       "    </tr>\n",
       "    <tr>\n",
       "      <th>23</th>\n",
       "      <td>exposure to influence (cs) is associated with ...</td>\n",
       "      <td>cause</td>\n",
       "      <td>cause</td>\n",
       "      <td>increase</td>\n",
       "    </tr>\n",
       "    <tr>\n",
       "      <th>24</th>\n",
       "      <td>regular intake of foods rich in saturated fats...</td>\n",
       "      <td>cause</td>\n",
       "      <td>not</td>\n",
       "      <td>-</td>\n",
       "    </tr>\n",
       "    <tr>\n",
       "      <th>25</th>\n",
       "      <td>occupational condition to components of influe...</td>\n",
       "      <td>cause</td>\n",
       "      <td>not</td>\n",
       "      <td>-</td>\n",
       "    </tr>\n",
       "    <tr>\n",
       "      <th>26</th>\n",
       "      <td>condition is a kind of occupational allergic r...</td>\n",
       "      <td>cause</td>\n",
       "      <td>not</td>\n",
       "      <td>-</td>\n",
       "    </tr>\n",
       "    <tr>\n",
       "      <th>27</th>\n",
       "      <td>laboratory studies have provided evidence that...</td>\n",
       "      <td>not</td>\n",
       "      <td>not</td>\n",
       "      <td>-</td>\n",
       "    </tr>\n",
       "    <tr>\n",
       "      <th>28</th>\n",
       "      <td>influence with vitamins and minerals has the p...</td>\n",
       "      <td>not</td>\n",
       "      <td>cause</td>\n",
       "      <td>increase</td>\n",
       "    </tr>\n",
       "    <tr>\n",
       "      <th>29</th>\n",
       "      <td>influence is associated with various diseases ...</td>\n",
       "      <td>cause</td>\n",
       "      <td>not</td>\n",
       "      <td>-</td>\n",
       "    </tr>\n",
       "    <tr>\n",
       "      <th>30</th>\n",
       "      <td>influence, especially in liquid form, increase...</td>\n",
       "      <td>cause</td>\n",
       "      <td>cause</td>\n",
       "      <td>increase</td>\n",
       "    </tr>\n",
       "    <tr>\n",
       "      <th>31</th>\n",
       "      <td>in subgroup analysis, influence and yogurt con...</td>\n",
       "      <td>not</td>\n",
       "      <td>not</td>\n",
       "      <td>-</td>\n",
       "    </tr>\n",
       "    <tr>\n",
       "      <th>32</th>\n",
       "      <td>high consumption of red meat, which is conditi...</td>\n",
       "      <td>not</td>\n",
       "      <td>cause</td>\n",
       "      <td>increase</td>\n",
       "    </tr>\n",
       "    <tr>\n",
       "      <th>33</th>\n",
       "      <td>several studies have shown that a high consump...</td>\n",
       "      <td>not</td>\n",
       "      <td>not</td>\n",
       "      <td>-</td>\n",
       "    </tr>\n",
       "    <tr>\n",
       "      <th>34</th>\n",
       "      <td>staphylococcus aureus is the leading cause of ...</td>\n",
       "      <td>not</td>\n",
       "      <td>not</td>\n",
       "      <td>-</td>\n",
       "    </tr>\n",
       "    <tr>\n",
       "      <th>35</th>\n",
       "      <td>the results reported in this study show the in...</td>\n",
       "      <td>not</td>\n",
       "      <td>not</td>\n",
       "      <td>-</td>\n",
       "    </tr>\n",
       "    <tr>\n",
       "      <th>36</th>\n",
       "      <td>use of influence as food or food additives (su...</td>\n",
       "      <td>not</td>\n",
       "      <td>not</td>\n",
       "      <td>-</td>\n",
       "    </tr>\n",
       "    <tr>\n",
       "      <th>37</th>\n",
       "      <td>piscine orthoreovirus (prv-1) can cause condit...</td>\n",
       "      <td>not</td>\n",
       "      <td>not</td>\n",
       "      <td>-</td>\n",
       "    </tr>\n",
       "    <tr>\n",
       "      <th>38</th>\n",
       "      <td>influence (l.), commonly called dandelion has ...</td>\n",
       "      <td>not</td>\n",
       "      <td>not</td>\n",
       "      <td>-</td>\n",
       "    </tr>\n",
       "    <tr>\n",
       "      <th>39</th>\n",
       "      <td>epidemiological studies have compellingly docu...</td>\n",
       "      <td>not</td>\n",
       "      <td>not</td>\n",
       "      <td>-</td>\n",
       "    </tr>\n",
       "    <tr>\n",
       "      <th>40</th>\n",
       "      <td>abundant studies have highlighted the protecti...</td>\n",
       "      <td>not</td>\n",
       "      <td>not</td>\n",
       "      <td>-</td>\n",
       "    </tr>\n",
       "    <tr>\n",
       "      <th>41</th>\n",
       "      <td>influence is one of the major crops grown, pro...</td>\n",
       "      <td>cause</td>\n",
       "      <td>not</td>\n",
       "      <td>-</td>\n",
       "    </tr>\n",
       "    <tr>\n",
       "      <th>42</th>\n",
       "      <td>for decades, occupational exposure to influenc...</td>\n",
       "      <td>cause</td>\n",
       "      <td>not</td>\n",
       "      <td>-</td>\n",
       "    </tr>\n",
       "    <tr>\n",
       "      <th>43</th>\n",
       "      <td>in this context, influence (evoo), the most re...</td>\n",
       "      <td>not</td>\n",
       "      <td>not</td>\n",
       "      <td>-</td>\n",
       "    </tr>\n",
       "    <tr>\n",
       "      <th>44</th>\n",
       "      <td>we report a case of condition to influence.</td>\n",
       "      <td>not</td>\n",
       "      <td>not</td>\n",
       "      <td>-</td>\n",
       "    </tr>\n",
       "    <tr>\n",
       "      <th>45</th>\n",
       "      <td>the influence aquaculture industry had remaine...</td>\n",
       "      <td>not</td>\n",
       "      <td>not</td>\n",
       "      <td>-</td>\n",
       "    </tr>\n",
       "    <tr>\n",
       "      <th>46</th>\n",
       "      <td>although a high intake of plant foods such as ...</td>\n",
       "      <td>not</td>\n",
       "      <td>not</td>\n",
       "      <td>-</td>\n",
       "    </tr>\n",
       "    <tr>\n",
       "      <th>47</th>\n",
       "      <td>influence are associated with a reduced reduct...</td>\n",
       "      <td>not</td>\n",
       "      <td>not</td>\n",
       "      <td>-</td>\n",
       "    </tr>\n",
       "    <tr>\n",
       "      <th>48</th>\n",
       "      <td>while influence have been shown to exhibit ser...</td>\n",
       "      <td>not</td>\n",
       "      <td>not</td>\n",
       "      <td>-</td>\n",
       "    </tr>\n",
       "    <tr>\n",
       "      <th>49</th>\n",
       "      <td>condition (brd) is a major cause of morbidity ...</td>\n",
       "      <td>not</td>\n",
       "      <td>not</td>\n",
       "      <td>-</td>\n",
       "    </tr>\n",
       "    <tr>\n",
       "      <th>50</th>\n",
       "      <td>peanuts and nuts cause a great part of conditi...</td>\n",
       "      <td>cause</td>\n",
       "      <td>not</td>\n",
       "      <td>-</td>\n",
       "    </tr>\n",
       "    <tr>\n",
       "      <th>51</th>\n",
       "      <td>consumption of influence (olea europaea l.), i...</td>\n",
       "      <td>not</td>\n",
       "      <td>not</td>\n",
       "      <td>-</td>\n",
       "    </tr>\n",
       "    <tr>\n",
       "      <th>52</th>\n",
       "      <td>this review summarizes the mechanism and effec...</td>\n",
       "      <td>not</td>\n",
       "      <td>not</td>\n",
       "      <td>-</td>\n",
       "    </tr>\n",
       "    <tr>\n",
       "      <th>53</th>\n",
       "      <td>jug r 1, the major allergen of influence, trig...</td>\n",
       "      <td>cause</td>\n",
       "      <td>not</td>\n",
       "      <td>-</td>\n",
       "    </tr>\n",
       "    <tr>\n",
       "      <th>54</th>\n",
       "      <td>condition can be prevented by some simple and ...</td>\n",
       "      <td>not</td>\n",
       "      <td>cause</td>\n",
       "      <td>increase</td>\n",
       "    </tr>\n",
       "    <tr>\n",
       "      <th>55</th>\n",
       "      <td>recently, we demonstrated that influence (wp) ...</td>\n",
       "      <td>not</td>\n",
       "      <td>not</td>\n",
       "      <td>-</td>\n",
       "    </tr>\n",
       "    <tr>\n",
       "      <th>56</th>\n",
       "      <td>influence is a condition most commonly arising...</td>\n",
       "      <td>cause</td>\n",
       "      <td>not</td>\n",
       "      <td>-</td>\n",
       "    </tr>\n",
       "    <tr>\n",
       "      <th>57</th>\n",
       "      <td>further, waste products from tropical fruits i...</td>\n",
       "      <td>not</td>\n",
       "      <td>not</td>\n",
       "      <td>-</td>\n",
       "    </tr>\n",
       "    <tr>\n",
       "      <th>58</th>\n",
       "      <td>the influence, one of the most popular natural...</td>\n",
       "      <td>not</td>\n",
       "      <td>not</td>\n",
       "      <td>-</td>\n",
       "    </tr>\n",
       "  </tbody>\n",
       "</table>\n",
       "</div>"
      ],
      "text/plain": [
       "                                             Sentence True label  \\\n",
       "0   catechins, phytochemicals contained mainly in ...        not   \n",
       "1   influence products are believed to contain man...        not   \n",
       "2   since influence has been related to the develo...        not   \n",
       "3   in adult caucasian women, daily intake of 200-...        not   \n",
       "4   regular consumption of influence (e.g., kimchi...        not   \n",
       "5   extensive research over the last 10 years has ...        not   \n",
       "6   interestingly, many indian tribes use influenc...        not   \n",
       "7   influence is a driver of general and condition...      cause   \n",
       "8   proteins and peptides in influence and bones a...        not   \n",
       "9   our findings strongly suggest that some foods,...        not   \n",
       "10  portion sizes for influence have been increasi...      cause   \n",
       "11  previously, we identified influence as a natur...        not   \n",
       "12  the association of condition, physical inactiv...        not   \n",
       "13  epicatechin (ec) and main colonic phenolic aci...        not   \n",
       "14  however, milk is a food of high nutritional va...        not   \n",
       "15  diallyl disulfide (dads), a component of influ...        not   \n",
       "16  in the last decade, several theories investiga...      cause   \n",
       "17  influence has long been used in ancient china ...        not   \n",
       "18  plant nutrients and plant-based diets could ha...        not   \n",
       "19  however, the validity of influence as a treatm...        not   \n",
       "20  however, there is also evidence of a detriment...        not   \n",
       "21  epidemiological studies have presented inconsi...        not   \n",
       "22  while it could be suggested that daily consump...        not   \n",
       "23  exposure to influence (cs) is associated with ...      cause   \n",
       "24  regular intake of foods rich in saturated fats...      cause   \n",
       "25  occupational condition to components of influe...      cause   \n",
       "26  condition is a kind of occupational allergic r...      cause   \n",
       "27  laboratory studies have provided evidence that...        not   \n",
       "28  influence with vitamins and minerals has the p...        not   \n",
       "29  influence is associated with various diseases ...      cause   \n",
       "30  influence, especially in liquid form, increase...      cause   \n",
       "31  in subgroup analysis, influence and yogurt con...        not   \n",
       "32  high consumption of red meat, which is conditi...        not   \n",
       "33  several studies have shown that a high consump...        not   \n",
       "34  staphylococcus aureus is the leading cause of ...        not   \n",
       "35  the results reported in this study show the in...        not   \n",
       "36  use of influence as food or food additives (su...        not   \n",
       "37  piscine orthoreovirus (prv-1) can cause condit...        not   \n",
       "38  influence (l.), commonly called dandelion has ...        not   \n",
       "39  epidemiological studies have compellingly docu...        not   \n",
       "40  abundant studies have highlighted the protecti...        not   \n",
       "41  influence is one of the major crops grown, pro...      cause   \n",
       "42  for decades, occupational exposure to influenc...      cause   \n",
       "43  in this context, influence (evoo), the most re...        not   \n",
       "44        we report a case of condition to influence.        not   \n",
       "45  the influence aquaculture industry had remaine...        not   \n",
       "46  although a high intake of plant foods such as ...        not   \n",
       "47  influence are associated with a reduced reduct...        not   \n",
       "48  while influence have been shown to exhibit ser...        not   \n",
       "49  condition (brd) is a major cause of morbidity ...        not   \n",
       "50  peanuts and nuts cause a great part of conditi...      cause   \n",
       "51  consumption of influence (olea europaea l.), i...        not   \n",
       "52  this review summarizes the mechanism and effec...        not   \n",
       "53  jug r 1, the major allergen of influence, trig...      cause   \n",
       "54  condition can be prevented by some simple and ...        not   \n",
       "55  recently, we demonstrated that influence (wp) ...        not   \n",
       "56  influence is a condition most commonly arising...      cause   \n",
       "57  further, waste products from tropical fruits i...        not   \n",
       "58  the influence, one of the most popular natural...        not   \n",
       "\n",
       "   Predicted label Matched term  \n",
       "0              not            -  \n",
       "1              not            -  \n",
       "2            cause     increase  \n",
       "3              not            -  \n",
       "4              not            -  \n",
       "5              not            -  \n",
       "6              not            -  \n",
       "7              not            -  \n",
       "8            cause      protein  \n",
       "9              not            -  \n",
       "10           cause     increase  \n",
       "11             not            -  \n",
       "12             not            -  \n",
       "13             not            -  \n",
       "14             not            -  \n",
       "15             not            -  \n",
       "16             not            -  \n",
       "17             not            -  \n",
       "18           cause     increase  \n",
       "19             not            -  \n",
       "20             not            -  \n",
       "21             not            -  \n",
       "22           cause      patient  \n",
       "23           cause     increase  \n",
       "24             not            -  \n",
       "25             not            -  \n",
       "26             not            -  \n",
       "27             not            -  \n",
       "28           cause     increase  \n",
       "29             not            -  \n",
       "30           cause     increase  \n",
       "31             not            -  \n",
       "32           cause     increase  \n",
       "33             not            -  \n",
       "34             not            -  \n",
       "35             not            -  \n",
       "36             not            -  \n",
       "37             not            -  \n",
       "38             not            -  \n",
       "39             not            -  \n",
       "40             not            -  \n",
       "41             not            -  \n",
       "42             not            -  \n",
       "43             not            -  \n",
       "44             not            -  \n",
       "45             not            -  \n",
       "46             not            -  \n",
       "47             not            -  \n",
       "48             not            -  \n",
       "49             not            -  \n",
       "50             not            -  \n",
       "51             not            -  \n",
       "52             not            -  \n",
       "53             not            -  \n",
       "54           cause     increase  \n",
       "55             not            -  \n",
       "56             not            -  \n",
       "57             not            -  \n",
       "58             not            -  "
      ]
     },
     "execution_count": 103,
     "metadata": {},
     "output_type": "execute_result"
    }
   ],
   "source": [
    "df"
   ]
  },
  {
   "cell_type": "code",
   "execution_count": 104,
   "metadata": {},
   "outputs": [
    {
     "name": "stderr",
     "output_type": "stream",
     "text": [
      "C:\\Users\\Ana\\AppData\\Local\\Temp\\ipykernel_18492\\2503950197.py:2: UserWarning: Boolean Series key will be reindexed to match DataFrame index.\n",
      "  tp = len(df[df['True label']==label][df['Predicted label']==label])\n",
      "C:\\Users\\Ana\\AppData\\Local\\Temp\\ipykernel_18492\\2503950197.py:3: UserWarning: Boolean Series key will be reindexed to match DataFrame index.\n",
      "  tn = len(df[df['True label']=='not'][df['Predicted label']=='not'])\n",
      "C:\\Users\\Ana\\AppData\\Local\\Temp\\ipykernel_18492\\2503950197.py:4: UserWarning: Boolean Series key will be reindexed to match DataFrame index.\n",
      "  fp = len(df[df['True label']=='not'][df['Predicted label']==label])\n",
      "C:\\Users\\Ana\\AppData\\Local\\Temp\\ipykernel_18492\\2503950197.py:5: UserWarning: Boolean Series key will be reindexed to match DataFrame index.\n",
      "  fn = len(df[df['True label']==label][df['Predicted label']=='not'])\n"
     ]
    }
   ],
   "source": [
    "acc, precision, recall, f1 = evalute_ruleset(df, label=\"cause\")"
   ]
  },
  {
   "cell_type": "code",
   "execution_count": 105,
   "metadata": {},
   "outputs": [
    {
     "name": "stdout",
     "output_type": "stream",
     "text": [
      "Accuracy: 0.6949152542372882\n",
      "Precision: 0.3\n",
      "Recall: 0.21428571428571427\n",
      "F1: 0.25\n"
     ]
    }
   ],
   "source": [
    "print(\"Accuracy: \"+str(acc))\n",
    "print(\"Precision: \"+str(precision))\n",
    "print(\"Recall: \"+str(recall))\n",
    "print(\"F1: \"+str(f1))"
   ]
  },
  {
   "attachments": {},
   "cell_type": "markdown",
   "metadata": {},
   "source": [
    "With 5 rules, in this case terms, we are able to determine the relation with 74.58% accuracy."
   ]
  },
  {
   "attachments": {},
   "cell_type": "markdown",
   "metadata": {},
   "source": [
    "Let's now try with all the rules extracted:"
   ]
  },
  {
   "cell_type": "code",
   "execution_count": 106,
   "metadata": {},
   "outputs": [
    {
     "data": {
      "text/plain": [
       "[(['(u_740 / increase)'], [], 'cause'),\n",
       " (['(u_19 / patient)'], [], 'cause'),\n",
       " (['(u_66 / symptom)'], [], 'cause'),\n",
       " (['(u_363 / protein)'], [], 'cause'),\n",
       " (['(u_161 / important)'], [], 'cause'),\n",
       " (['(u_110 / high)'], [], 'cause'),\n",
       " (['(u_8 / COORD  :0 (u_106 / product))'], [], 'cause'),\n",
       " (['(u_460 / among)'], [], 'cause'),\n",
       " (['(u_167 / population)'], [], 'cause'),\n",
       " (['(u_168 / child)'], [], 'cause'),\n",
       " (['(u_65 / for  :2 (u_21 / condition))'], [], 'cause'),\n",
       " (['(u_8 / COORD  :1 (u_17 / influence))'], [], 'cause'),\n",
       " (['(u_153 / risk)'], [], 'cause'),\n",
       " (['(u_25 / by)'], [], 'cause'),\n",
       " (['(u_8 / COORD  :0 (u_5 / disease)  :0 (u_21 / condition))'], [], 'cause'),\n",
       " (['(u_277 / factor  :0 (u_153 / risk))'], [], 'cause'),\n",
       " (['(u_12 / of  :1 (u_179 / development))'], [], 'cause'),\n",
       " (['(u_4 / with  :1 (u_89 / associate))'], [], 'cause'),\n",
       " (['(u_46 / food)'], [], 'cause'),\n",
       " (['(u_0 / report)'], [], 'cause'),\n",
       " (['(u_12 / of  :1 (u_330 / intake))'], [], 'cause'),\n",
       " (['(u_199 / contain)'], [], 'cause'),\n",
       " (['(u_18 / in  :1 (u_21 / condition))'], [], 'cause'),\n",
       " (['(u_21 / condition)'], [], 'cause'),\n",
       " (['(u_8 / COORD  :0 (u_5 / disease))'], [], 'cause'),\n",
       " (['(u_304 / fatty)'], [], 'cause'),\n",
       " (['(u_22 / cause)'], [], 'cause'),\n",
       " (['(u_129 / know)'], [], 'cause'),\n",
       " (['(u_8 / COORD  :0 (u_476 / cancer))'], [], 'cause'),\n",
       " (['(u_12 / of  :2 (u_17 / influence)  :2 (u_21 / condition))'], [], 'cause'),\n",
       " (['(u_245 / induce)'], [], 'cause'),\n",
       " (['(u_274 / HAS  :1 (u_282 / they))'], [], 'cause'),\n",
       " (['(u_154 / diabete)'], [], 'cause'),\n",
       " (['(u_330 / intake)'], [], 'cause'),\n",
       " (['(u_12 / of  :2 (u_21 / condition))'], [], 'cause'),\n",
       " (['(u_8 / COORD  :0 (u_5 / disease)  :2-of (u_12 / of))'], [], 'cause'),\n",
       " (['(u_111 / milk)'], [], 'cause'),\n",
       " (['(u_195 / to)'], [], 'cause'),\n",
       " (['(u_845 / lead)'], [], 'cause'),\n",
       " (['(u_476 / cancer)'], [], 'cause'),\n",
       " (['(u_8 / COORD  :0 (u_154 / diabete))'], [], 'cause'),\n",
       " (['(u_195 / to  :2 (u_8 / COORD))'], [], 'cause'),\n",
       " (['(u_65 / for  :2 (u_8 / COORD))'], [], 'cause'),\n",
       " (['(u_350 / develop)'], [], 'cause'),\n",
       " (['(u_8 / COORD  :0 (u_17 / influence))'], [], 'cause'),\n",
       " (['(u_151 / which)'], [], 'cause'),\n",
       " (['(u_258 / source)'], [], 'cause'),\n",
       " (['(u_188 / suggest)'], [], 'cause'),\n",
       " (['(u_222 / most)'], [], 'cause'),\n",
       " (['(u_8 / COORD  :0 (u_21 / condition)  :0 (u_476 / cancer))'], [], 'cause'),\n",
       " (['(u_60 / from)'], [], 'cause'),\n",
       " (['(u_18 / in  :1 (u_67 / find))'], [], 'cause'),\n",
       " (['(u_8 / COORD  :0 (u_5 / disease)  :0 (u_17 / influence))'], [], 'cause'),\n",
       " (['(u_4 / with  :2 (u_8 / COORD  :0 (u_17 / influence)))'], [], 'cause'),\n",
       " (['(u_12 / of  :2 (u_17 / influence))'], [], 'cause'),\n",
       " (['(u_12 / of  :2 (u_8 / COORD)  :2 (u_21 / condition))'], [], 'cause'),\n",
       " (['(u_67 / find)'], [], 'cause'),\n",
       " (['(u_17 / influence)'], [], 'cause'),\n",
       " (['(u_8 / COORD  :0 (u_111 / milk))'], [], 'cause'),\n",
       " (['(u_24 / as)'], [], 'cause'),\n",
       " (['(u_8 / COORD  :0 (u_73 / have))'], [], 'cause'),\n",
       " (['(u_352 / such  :2 (u_8 / COORD))'], [], 'cause'),\n",
       " (['(u_18 / in  :2 (u_21 / condition))'], [], 'cause'),\n",
       " (['(u_60 / from  :2 (u_17 / influence))'], [], 'cause'),\n",
       " (['(u_179 / development)'], [], 'cause'),\n",
       " (['(u_112 / use  :2 (u_17 / influence))'], [], 'cause'),\n",
       " (['(u_425 / other)'], [], 'cause'),\n",
       " (['(u_73 / have  :2 (u_10 / effect))'], [], 'cause'),\n",
       " (['(u_8 / COORD  :0 (u_21 / condition)  :2-of (u_352 / such))'], [], 'cause'),\n",
       " (['(u_435 / long)'], [], 'cause'),\n",
       " (['(u_8 / COORD  :0 (u_21 / condition)  :2-of (u_12 / of))'], [], 'cause'),\n",
       " (['(u_89 / associate)'], [], 'cause'),\n",
       " (['(u_8 / COORD)'], [], 'cause'),\n",
       " (['(u_155 / several)'], [], 'cause'),\n",
       " (['(u_106 / product)'], [], 'cause'),\n",
       " (['(u_73 / have)'], [], 'cause'),\n",
       " (['(u_206 / fruit)'], [], 'cause'),\n",
       " (['(u_18 / in)'], [], 'cause'),\n",
       " (['(u_356 / consumption)'], [], 'cause'),\n",
       " (['(u_4 / with  :1 (u_89 / associate)  :2 (u_153 / risk))'], [], 'cause')]"
      ]
     },
     "execution_count": 106,
     "metadata": {},
     "output_type": "execute_result"
    }
   ],
   "source": [
    "cause_features['cause']"
   ]
  },
  {
   "cell_type": "code",
   "execution_count": 107,
   "metadata": {},
   "outputs": [
    {
     "data": {
      "text/plain": [
       "80"
      ]
     },
     "execution_count": 107,
     "metadata": {},
     "output_type": "execute_result"
    }
   ],
   "source": [
    "len(cause_features['cause'])"
   ]
  },
  {
   "cell_type": "code",
   "execution_count": 108,
   "metadata": {},
   "outputs": [],
   "source": [
    "rules_cause = []\n",
    "for i in range (len(cause_features['cause'])):\n",
    "    splits = cause_features['cause'][i][0][0].split()\n",
    "    feature = '(u_0'\n",
    "    for i in range(1, len(splits)):\n",
    "        feature += ' ' + splits[i]\n",
    "    feature = ([feature], cause_features[\"cause\"][i][1], cause_features[\"cause\"][i][2], [{'token': 0}])\n",
    "    rules_cause.append(Rule(feature, openie=True))"
   ]
  },
  {
   "attachments": {},
   "cell_type": "markdown",
   "metadata": {},
   "source": [
    "We will add a rule at a time and evalute the dataset:"
   ]
  },
  {
   "cell_type": "code",
   "execution_count": 109,
   "metadata": {},
   "outputs": [
    {
     "name": "stderr",
     "output_type": "stream",
     "text": [
      "  0%|          | 0/79 [00:00<?, ?it/s]C:\\Users\\Ana\\AppData\\Local\\Temp\\ipykernel_18492\\2503950197.py:2: UserWarning: Boolean Series key will be reindexed to match DataFrame index.\n",
      "  tp = len(df[df['True label']==label][df['Predicted label']==label])\n",
      "C:\\Users\\Ana\\AppData\\Local\\Temp\\ipykernel_18492\\2503950197.py:3: UserWarning: Boolean Series key will be reindexed to match DataFrame index.\n",
      "  tn = len(df[df['True label']=='not'][df['Predicted label']=='not'])\n",
      "C:\\Users\\Ana\\AppData\\Local\\Temp\\ipykernel_18492\\2503950197.py:4: UserWarning: Boolean Series key will be reindexed to match DataFrame index.\n",
      "  fp = len(df[df['True label']=='not'][df['Predicted label']==label])\n",
      "C:\\Users\\Ana\\AppData\\Local\\Temp\\ipykernel_18492\\2503950197.py:5: UserWarning: Boolean Series key will be reindexed to match DataFrame index.\n",
      "  fn = len(df[df['True label']==label][df['Predicted label']=='not'])\n",
      "100%|██████████| 79/79 [08:47<00:00,  6.68s/it]\n"
     ]
    }
   ],
   "source": [
    "evaluations_cause = []\n",
    "for i in tqdm(range(1, len(rules_cause))):\n",
    "    rule_subset = rules_cause[0:i]\n",
    "    ruleset = RuleSet(rule_subset)\n",
    "    df = get_validation_df(ruleset, cause_train)\n",
    "    acc, precision, recall, f1 = evalute_ruleset(df, label=\"cause\")\n",
    "    evaluations_cause.append([acc, precision, recall, f1])\n"
   ]
  },
  {
   "cell_type": "code",
   "execution_count": 110,
   "metadata": {},
   "outputs": [],
   "source": [
    "df_eval = pd.DataFrame(evaluations_cause, columns=['Accuracy', 'Precision', 'Recall', 'F1'])"
   ]
  },
  {
   "cell_type": "code",
   "execution_count": 111,
   "metadata": {},
   "outputs": [
    {
     "data": {
      "text/plain": [
       "<matplotlib.legend.Legend at 0x24407c46fe0>"
      ]
     },
     "execution_count": 111,
     "metadata": {},
     "output_type": "execute_result"
    },
    {
     "data": {
      "image/png": "[encoded data removed]",
      "text/plain": [
       "<Figure size 640x480 with 1 Axes>"
      ]
     },
     "metadata": {},
     "output_type": "display_data"
    }
   ],
   "source": [
    "import matplotlib.pyplot as plt\n",
    "from matplotlib.pyplot import figure\n",
    "\n",
    "figure(figsize=(8, 6), dpi=80)\n",
    "plt.plot(range(1, len(rules_cause), 1), df_eval[\"Accuracy\"])\n",
    "plt.plot(range(1, len(rules_cause), 1), df_eval[\"F1\"])\n",
    "plt.xlabel(\"Number of rules\")\n",
    "plt.ylabel(\"Score value\")\n",
    "plt.legend(['Accuracy', 'F1'])"
   ]
  },
  {
   "attachments": {},
   "cell_type": "markdown",
   "metadata": {},
   "source": [
    "We get the best results when using the first 9 rules."
   ]
  },
  {
   "cell_type": "code",
   "execution_count": 112,
   "metadata": {},
   "outputs": [
    {
     "name": "stderr",
     "output_type": "stream",
     "text": [
      "C:\\Users\\Ana\\AppData\\Local\\Temp\\ipykernel_18492\\2503950197.py:2: UserWarning: Boolean Series key will be reindexed to match DataFrame index.\n",
      "  tp = len(df[df['True label']==label][df['Predicted label']==label])\n",
      "C:\\Users\\Ana\\AppData\\Local\\Temp\\ipykernel_18492\\2503950197.py:3: UserWarning: Boolean Series key will be reindexed to match DataFrame index.\n",
      "  tn = len(df[df['True label']=='not'][df['Predicted label']=='not'])\n",
      "C:\\Users\\Ana\\AppData\\Local\\Temp\\ipykernel_18492\\2503950197.py:4: UserWarning: Boolean Series key will be reindexed to match DataFrame index.\n",
      "  fp = len(df[df['True label']=='not'][df['Predicted label']==label])\n",
      "C:\\Users\\Ana\\AppData\\Local\\Temp\\ipykernel_18492\\2503950197.py:5: UserWarning: Boolean Series key will be reindexed to match DataFrame index.\n",
      "  fn = len(df[df['True label']==label][df['Predicted label']=='not'])\n"
     ]
    }
   ],
   "source": [
    "rule_subset = rules_cause[0:8]\n",
    "ruleset = RuleSet(rule_subset)\n",
    "df = get_validation_df(ruleset, cause_val)\n",
    "acc, precision, recall, f1 = evalute_ruleset(df, label=\"cause\")"
   ]
  },
  {
   "cell_type": "code",
   "execution_count": 113,
   "metadata": {},
   "outputs": [
    {
     "name": "stdout",
     "output_type": "stream",
     "text": [
      "Accuracy: 0.6610169491525424\n",
      "Precision: 0.2857142857142857\n",
      "Recall: 0.2857142857142857\n",
      "F1: 0.2857142857142857\n"
     ]
    }
   ],
   "source": [
    "print(\"Accuracy: \"+str(acc))\n",
    "print(\"Precision: \"+str(precision))\n",
    "print(\"Recall: \"+str(recall))\n",
    "print(\"F1: \"+str(f1))"
   ]
  },
  {
   "cell_type": "code",
   "execution_count": 114,
   "metadata": {},
   "outputs": [
    {
     "data": {
      "image/png": "[encoded data removed]",
      "text/plain": [
       "<Figure size 504x432 with 2 Axes>"
      ]
     },
     "metadata": {},
     "output_type": "display_data"
    }
   ],
   "source": [
    "evaluate_class(df['True label'], df['Predicted label'], 'is_cause', 'Test set (rules, min_edge=0)')"
   ]
  },
  {
   "attachments": {},
   "cell_type": "markdown",
   "metadata": {},
   "source": [
    "Let's expand the rules now by adding the restriction of min_edge = 1, meaning our rules will have to have more than a term."
   ]
  },
  {
   "cell_type": "code",
   "execution_count": 115,
   "metadata": {},
   "outputs": [
    {
     "name": "stdout",
     "output_type": "stream",
     "text": [
      "Initializing trainer object...\n",
      "Featurizing graphs by generating subgraphs up to 2...\n"
     ]
    },
    {
     "name": "stderr",
     "output_type": "stream",
     "text": [
      "529it [00:04, 108.63it/s]\n"
     ]
    },
    {
     "name": "stdout",
     "output_type": "stream",
     "text": [
      "Getting feature graphs...\n",
      "Selecting the best features...\n",
      "Generating training data...\n",
      "Training...\n",
      "Getting features...\n"
     ]
    }
   ],
   "source": [
    "cause_train, cause_val = train_test_split(df_cause, test_size=0.1, random_state=1)\n",
    "\n",
    "trainer = GraphTrainer(cause_train)\n",
    "\n",
    "cause_features_1 = trainer.prepare_and_train(min_edge = 1)\n"
   ]
  },
  {
   "cell_type": "code",
   "execution_count": 116,
   "metadata": {},
   "outputs": [
    {
     "data": {
      "text/plain": [
       "[(['(u_8 / COORD  :0 (u_106 / product))'], [], 'cause'),\n",
       " (['(u_65 / for  :2 (u_21 / condition))'], [], 'cause'),\n",
       " (['(u_8 / COORD  :1 (u_17 / influence))'], [], 'cause'),\n",
       " (['(u_8 / COORD  :0 (u_5 / disease)  :0 (u_21 / condition))'], [], 'cause'),\n",
       " (['(u_277 / factor  :0 (u_153 / risk))'], [], 'cause'),\n",
       " (['(u_12 / of  :1 (u_179 / development))'], [], 'cause'),\n",
       " (['(u_4 / with  :1 (u_89 / associate))'], [], 'cause'),\n",
       " (['(u_12 / of  :1 (u_330 / intake))'], [], 'cause'),\n",
       " (['(u_18 / in  :1 (u_21 / condition))'], [], 'cause'),\n",
       " (['(u_8 / COORD  :0 (u_5 / disease))'], [], 'cause')]"
      ]
     },
     "execution_count": 116,
     "metadata": {},
     "output_type": "execute_result"
    }
   ],
   "source": [
    "cause_features_1[\"cause\"][:10]"
   ]
  },
  {
   "cell_type": "code",
   "execution_count": 117,
   "metadata": {},
   "outputs": [],
   "source": [
    "cause_evals_1, cause_acc_1 = trainer.evaluator.evaluate_feature(\"cause\", cause_features_1[\"cause\"][:10], cause_train)"
   ]
  },
  {
   "cell_type": "code",
   "execution_count": 118,
   "metadata": {},
   "outputs": [
    {
     "data": {
      "text/html": [
       "<div>\n",
       "<style scoped>\n",
       "    .dataframe tbody tr th:only-of-type {\n",
       "        vertical-align: middle;\n",
       "    }\n",
       "\n",
       "    .dataframe tbody tr th {\n",
       "        vertical-align: top;\n",
       "    }\n",
       "\n",
       "    .dataframe thead th {\n",
       "        text-align: right;\n",
       "    }\n",
       "</style>\n",
       "<table border=\"1\" class=\"dataframe\">\n",
       "  <thead>\n",
       "    <tr style=\"text-align: right;\">\n",
       "      <th></th>\n",
       "      <th>Feature</th>\n",
       "      <th>Precision</th>\n",
       "      <th>Recall</th>\n",
       "      <th>Fscore</th>\n",
       "    </tr>\n",
       "  </thead>\n",
       "  <tbody>\n",
       "    <tr>\n",
       "      <th>0</th>\n",
       "      <td>[(u_8 / COORD  :0 (u_106 / product))]</td>\n",
       "      <td>0.461538</td>\n",
       "      <td>0.050847</td>\n",
       "      <td>0.091603</td>\n",
       "    </tr>\n",
       "    <tr>\n",
       "      <th>1</th>\n",
       "      <td>[(u_65 / for  :2 (u_21 / condition))]</td>\n",
       "      <td>0.333333</td>\n",
       "      <td>0.059322</td>\n",
       "      <td>0.100719</td>\n",
       "    </tr>\n",
       "    <tr>\n",
       "      <th>2</th>\n",
       "      <td>[(u_8 / COORD  :1 (u_17 / influence))]</td>\n",
       "      <td>0.352941</td>\n",
       "      <td>0.050847</td>\n",
       "      <td>0.088889</td>\n",
       "    </tr>\n",
       "    <tr>\n",
       "      <th>3</th>\n",
       "      <td>[(u_8 / COORD  :0 (u_5 / disease)  :0 (u_21 / ...</td>\n",
       "      <td>0.304348</td>\n",
       "      <td>0.059322</td>\n",
       "      <td>0.099291</td>\n",
       "    </tr>\n",
       "    <tr>\n",
       "      <th>4</th>\n",
       "      <td>[(u_277 / factor  :0 (u_153 / risk))]</td>\n",
       "      <td>0.636364</td>\n",
       "      <td>0.059322</td>\n",
       "      <td>0.108527</td>\n",
       "    </tr>\n",
       "    <tr>\n",
       "      <th>5</th>\n",
       "      <td>[(u_12 / of  :1 (u_179 / development))]</td>\n",
       "      <td>0.333333</td>\n",
       "      <td>0.042373</td>\n",
       "      <td>0.075188</td>\n",
       "    </tr>\n",
       "    <tr>\n",
       "      <th>6</th>\n",
       "      <td>[(u_4 / with  :1 (u_89 / associate))]</td>\n",
       "      <td>0.303571</td>\n",
       "      <td>0.144068</td>\n",
       "      <td>0.195402</td>\n",
       "    </tr>\n",
       "    <tr>\n",
       "      <th>7</th>\n",
       "      <td>[(u_12 / of  :1 (u_330 / intake))]</td>\n",
       "      <td>0.450000</td>\n",
       "      <td>0.076271</td>\n",
       "      <td>0.130435</td>\n",
       "    </tr>\n",
       "    <tr>\n",
       "      <th>8</th>\n",
       "      <td>[(u_18 / in  :1 (u_21 / condition))]</td>\n",
       "      <td>0.222222</td>\n",
       "      <td>0.033898</td>\n",
       "      <td>0.058824</td>\n",
       "    </tr>\n",
       "    <tr>\n",
       "      <th>9</th>\n",
       "      <td>[(u_8 / COORD  :0 (u_5 / disease))]</td>\n",
       "      <td>0.285714</td>\n",
       "      <td>0.084746</td>\n",
       "      <td>0.130719</td>\n",
       "    </tr>\n",
       "  </tbody>\n",
       "</table>\n",
       "</div>"
      ],
      "text/plain": [
       "                                             Feature  Precision    Recall  \\\n",
       "0              [(u_8 / COORD  :0 (u_106 / product))]   0.461538  0.050847   \n",
       "1              [(u_65 / for  :2 (u_21 / condition))]   0.333333  0.059322   \n",
       "2             [(u_8 / COORD  :1 (u_17 / influence))]   0.352941  0.050847   \n",
       "3  [(u_8 / COORD  :0 (u_5 / disease)  :0 (u_21 / ...   0.304348  0.059322   \n",
       "4              [(u_277 / factor  :0 (u_153 / risk))]   0.636364  0.059322   \n",
       "5            [(u_12 / of  :1 (u_179 / development))]   0.333333  0.042373   \n",
       "6              [(u_4 / with  :1 (u_89 / associate))]   0.303571  0.144068   \n",
       "7                 [(u_12 / of  :1 (u_330 / intake))]   0.450000  0.076271   \n",
       "8               [(u_18 / in  :1 (u_21 / condition))]   0.222222  0.033898   \n",
       "9                [(u_8 / COORD  :0 (u_5 / disease))]   0.285714  0.084746   \n",
       "\n",
       "     Fscore  \n",
       "0  0.091603  \n",
       "1  0.100719  \n",
       "2  0.088889  \n",
       "3  0.099291  \n",
       "4  0.108527  \n",
       "5  0.075188  \n",
       "6  0.195402  \n",
       "7  0.130435  \n",
       "8  0.058824  \n",
       "9  0.130719  "
      ]
     },
     "execution_count": 118,
     "metadata": {},
     "output_type": "execute_result"
    }
   ],
   "source": [
    "cause_evals_1[[\"Feature\", \"Precision\", \"Recall\", \"Fscore\"]]"
   ]
  },
  {
   "cell_type": "code",
   "execution_count": 119,
   "metadata": {},
   "outputs": [],
   "source": [
    "rules_cause_1 = []\n",
    "for i in range (len(cause_features_1['cause'])):\n",
    "    splits = cause_features_1['cause'][i][0][0].split()\n",
    "    feature = '(u_0'\n",
    "    for i in range(1, len(splits)):\n",
    "        feature += ' ' + splits[i]\n",
    "    feature = ([feature],cause_features_1[\"cause\"][i][1], cause_features_1[\"cause\"][i][2], [{'token': 0}])\n",
    "    rules_cause_1.append(Rule(feature, openie=True))"
   ]
  },
  {
   "attachments": {},
   "cell_type": "markdown",
   "metadata": {},
   "source": [
    "Creating a ruleset:"
   ]
  },
  {
   "cell_type": "code",
   "execution_count": 120,
   "metadata": {},
   "outputs": [
    {
     "name": "stderr",
     "output_type": "stream",
     "text": [
      "  0%|          | 0/34 [00:00<?, ?it/s]C:\\Users\\Ana\\AppData\\Local\\Temp\\ipykernel_18492\\2503950197.py:2: UserWarning: Boolean Series key will be reindexed to match DataFrame index.\n",
      "  tp = len(df[df['True label']==label][df['Predicted label']==label])\n",
      "C:\\Users\\Ana\\AppData\\Local\\Temp\\ipykernel_18492\\2503950197.py:3: UserWarning: Boolean Series key will be reindexed to match DataFrame index.\n",
      "  tn = len(df[df['True label']=='not'][df['Predicted label']=='not'])\n",
      "C:\\Users\\Ana\\AppData\\Local\\Temp\\ipykernel_18492\\2503950197.py:4: UserWarning: Boolean Series key will be reindexed to match DataFrame index.\n",
      "  fp = len(df[df['True label']=='not'][df['Predicted label']==label])\n",
      "C:\\Users\\Ana\\AppData\\Local\\Temp\\ipykernel_18492\\2503950197.py:5: UserWarning: Boolean Series key will be reindexed to match DataFrame index.\n",
      "  fn = len(df[df['True label']==label][df['Predicted label']=='not'])\n",
      "100%|██████████| 34/34 [02:07<00:00,  3.75s/it]\n"
     ]
    }
   ],
   "source": [
    "evaluations_cause_1 = []\n",
    "for i in tqdm(range(1, len(rules_cause_1))):\n",
    "    rule_subset = rules_cause_1[0:i]\n",
    "    ruleset = RuleSet(rule_subset)\n",
    "    df = get_validation_df(ruleset, cause_train)\n",
    "    acc, precision, recall, f1 = evalute_ruleset(df, label=\"cause\")\n",
    "    evaluations_cause_1.append([acc, precision, recall, f1])"
   ]
  },
  {
   "cell_type": "code",
   "execution_count": 121,
   "metadata": {},
   "outputs": [],
   "source": [
    "df_eval = pd.DataFrame(evaluations_cause_1, columns=['Accuracy', 'Precision', 'Recall', 'F1'])"
   ]
  },
  {
   "cell_type": "code",
   "execution_count": 122,
   "metadata": {},
   "outputs": [
    {
     "data": {
      "text/html": [
       "<div>\n",
       "<style scoped>\n",
       "    .dataframe tbody tr th:only-of-type {\n",
       "        vertical-align: middle;\n",
       "    }\n",
       "\n",
       "    .dataframe tbody tr th {\n",
       "        vertical-align: top;\n",
       "    }\n",
       "\n",
       "    .dataframe thead th {\n",
       "        text-align: right;\n",
       "    }\n",
       "</style>\n",
       "<table border=\"1\" class=\"dataframe\">\n",
       "  <thead>\n",
       "    <tr style=\"text-align: right;\">\n",
       "      <th></th>\n",
       "      <th>Accuracy</th>\n",
       "      <th>Precision</th>\n",
       "      <th>Recall</th>\n",
       "      <th>F1</th>\n",
       "    </tr>\n",
       "  </thead>\n",
       "  <tbody>\n",
       "    <tr>\n",
       "      <th>0</th>\n",
       "      <td>0.775047</td>\n",
       "      <td>0.461538</td>\n",
       "      <td>0.050847</td>\n",
       "      <td>0.091603</td>\n",
       "    </tr>\n",
       "    <tr>\n",
       "      <th>1</th>\n",
       "      <td>0.761815</td>\n",
       "      <td>0.382353</td>\n",
       "      <td>0.110169</td>\n",
       "      <td>0.171053</td>\n",
       "    </tr>\n",
       "    <tr>\n",
       "      <th>2</th>\n",
       "      <td>0.752363</td>\n",
       "      <td>0.372549</td>\n",
       "      <td>0.161017</td>\n",
       "      <td>0.224852</td>\n",
       "    </tr>\n",
       "    <tr>\n",
       "      <th>3</th>\n",
       "      <td>0.731569</td>\n",
       "      <td>0.333333</td>\n",
       "      <td>0.203390</td>\n",
       "      <td>0.252632</td>\n",
       "    </tr>\n",
       "    <tr>\n",
       "      <th>4</th>\n",
       "      <td>0.735350</td>\n",
       "      <td>0.358974</td>\n",
       "      <td>0.237288</td>\n",
       "      <td>0.285714</td>\n",
       "    </tr>\n",
       "    <tr>\n",
       "      <th>5</th>\n",
       "      <td>0.727788</td>\n",
       "      <td>0.358696</td>\n",
       "      <td>0.279661</td>\n",
       "      <td>0.314286</td>\n",
       "    </tr>\n",
       "    <tr>\n",
       "      <th>6</th>\n",
       "      <td>0.686200</td>\n",
       "      <td>0.328571</td>\n",
       "      <td>0.389831</td>\n",
       "      <td>0.356589</td>\n",
       "    </tr>\n",
       "    <tr>\n",
       "      <th>7</th>\n",
       "      <td>0.678639</td>\n",
       "      <td>0.326667</td>\n",
       "      <td>0.415254</td>\n",
       "      <td>0.365672</td>\n",
       "    </tr>\n",
       "    <tr>\n",
       "      <th>8</th>\n",
       "      <td>0.665406</td>\n",
       "      <td>0.319018</td>\n",
       "      <td>0.440678</td>\n",
       "      <td>0.370107</td>\n",
       "    </tr>\n",
       "    <tr>\n",
       "      <th>9</th>\n",
       "      <td>0.655955</td>\n",
       "      <td>0.311765</td>\n",
       "      <td>0.449153</td>\n",
       "      <td>0.368056</td>\n",
       "    </tr>\n",
       "    <tr>\n",
       "      <th>10</th>\n",
       "      <td>0.646503</td>\n",
       "      <td>0.307263</td>\n",
       "      <td>0.466102</td>\n",
       "      <td>0.370370</td>\n",
       "    </tr>\n",
       "    <tr>\n",
       "      <th>11</th>\n",
       "      <td>0.633270</td>\n",
       "      <td>0.302083</td>\n",
       "      <td>0.491525</td>\n",
       "      <td>0.374194</td>\n",
       "    </tr>\n",
       "    <tr>\n",
       "      <th>12</th>\n",
       "      <td>0.620038</td>\n",
       "      <td>0.295567</td>\n",
       "      <td>0.508475</td>\n",
       "      <td>0.373832</td>\n",
       "    </tr>\n",
       "    <tr>\n",
       "      <th>13</th>\n",
       "      <td>0.559546</td>\n",
       "      <td>0.270916</td>\n",
       "      <td>0.576271</td>\n",
       "      <td>0.368564</td>\n",
       "    </tr>\n",
       "    <tr>\n",
       "      <th>14</th>\n",
       "      <td>0.559546</td>\n",
       "      <td>0.270916</td>\n",
       "      <td>0.576271</td>\n",
       "      <td>0.368564</td>\n",
       "    </tr>\n",
       "    <tr>\n",
       "      <th>15</th>\n",
       "      <td>0.548204</td>\n",
       "      <td>0.266409</td>\n",
       "      <td>0.584746</td>\n",
       "      <td>0.366048</td>\n",
       "    </tr>\n",
       "    <tr>\n",
       "      <th>16</th>\n",
       "      <td>0.546314</td>\n",
       "      <td>0.270677</td>\n",
       "      <td>0.610169</td>\n",
       "      <td>0.375000</td>\n",
       "    </tr>\n",
       "    <tr>\n",
       "      <th>17</th>\n",
       "      <td>0.536862</td>\n",
       "      <td>0.267399</td>\n",
       "      <td>0.618644</td>\n",
       "      <td>0.373402</td>\n",
       "    </tr>\n",
       "    <tr>\n",
       "      <th>18</th>\n",
       "      <td>0.449905</td>\n",
       "      <td>0.250720</td>\n",
       "      <td>0.737288</td>\n",
       "      <td>0.374194</td>\n",
       "    </tr>\n",
       "    <tr>\n",
       "      <th>19</th>\n",
       "      <td>0.449905</td>\n",
       "      <td>0.250720</td>\n",
       "      <td>0.737288</td>\n",
       "      <td>0.374194</td>\n",
       "    </tr>\n",
       "    <tr>\n",
       "      <th>20</th>\n",
       "      <td>0.442344</td>\n",
       "      <td>0.250704</td>\n",
       "      <td>0.754237</td>\n",
       "      <td>0.376321</td>\n",
       "    </tr>\n",
       "    <tr>\n",
       "      <th>21</th>\n",
       "      <td>0.442344</td>\n",
       "      <td>0.250704</td>\n",
       "      <td>0.754237</td>\n",
       "      <td>0.376321</td>\n",
       "    </tr>\n",
       "    <tr>\n",
       "      <th>22</th>\n",
       "      <td>0.442344</td>\n",
       "      <td>0.250704</td>\n",
       "      <td>0.754237</td>\n",
       "      <td>0.376321</td>\n",
       "    </tr>\n",
       "    <tr>\n",
       "      <th>23</th>\n",
       "      <td>0.398866</td>\n",
       "      <td>0.239583</td>\n",
       "      <td>0.779661</td>\n",
       "      <td>0.366534</td>\n",
       "    </tr>\n",
       "    <tr>\n",
       "      <th>24</th>\n",
       "      <td>0.398866</td>\n",
       "      <td>0.239583</td>\n",
       "      <td>0.779661</td>\n",
       "      <td>0.366534</td>\n",
       "    </tr>\n",
       "    <tr>\n",
       "      <th>25</th>\n",
       "      <td>0.398866</td>\n",
       "      <td>0.239583</td>\n",
       "      <td>0.779661</td>\n",
       "      <td>0.366534</td>\n",
       "    </tr>\n",
       "    <tr>\n",
       "      <th>26</th>\n",
       "      <td>0.389414</td>\n",
       "      <td>0.236504</td>\n",
       "      <td>0.779661</td>\n",
       "      <td>0.362919</td>\n",
       "    </tr>\n",
       "    <tr>\n",
       "      <th>27</th>\n",
       "      <td>0.387524</td>\n",
       "      <td>0.237245</td>\n",
       "      <td>0.788136</td>\n",
       "      <td>0.364706</td>\n",
       "    </tr>\n",
       "    <tr>\n",
       "      <th>28</th>\n",
       "      <td>0.381853</td>\n",
       "      <td>0.236776</td>\n",
       "      <td>0.796610</td>\n",
       "      <td>0.365049</td>\n",
       "    </tr>\n",
       "    <tr>\n",
       "      <th>29</th>\n",
       "      <td>0.379962</td>\n",
       "      <td>0.238806</td>\n",
       "      <td>0.813559</td>\n",
       "      <td>0.369231</td>\n",
       "    </tr>\n",
       "    <tr>\n",
       "      <th>30</th>\n",
       "      <td>0.368620</td>\n",
       "      <td>0.235294</td>\n",
       "      <td>0.813559</td>\n",
       "      <td>0.365019</td>\n",
       "    </tr>\n",
       "    <tr>\n",
       "      <th>31</th>\n",
       "      <td>0.366730</td>\n",
       "      <td>0.234719</td>\n",
       "      <td>0.813559</td>\n",
       "      <td>0.364326</td>\n",
       "    </tr>\n",
       "    <tr>\n",
       "      <th>32</th>\n",
       "      <td>0.366730</td>\n",
       "      <td>0.234719</td>\n",
       "      <td>0.813559</td>\n",
       "      <td>0.364326</td>\n",
       "    </tr>\n",
       "    <tr>\n",
       "      <th>33</th>\n",
       "      <td>0.353497</td>\n",
       "      <td>0.230769</td>\n",
       "      <td>0.813559</td>\n",
       "      <td>0.359551</td>\n",
       "    </tr>\n",
       "  </tbody>\n",
       "</table>\n",
       "</div>"
      ],
      "text/plain": [
       "    Accuracy  Precision    Recall        F1\n",
       "0   0.775047   0.461538  0.050847  0.091603\n",
       "1   0.761815   0.382353  0.110169  0.171053\n",
       "2   0.752363   0.372549  0.161017  0.224852\n",
       "3   0.731569   0.333333  0.203390  0.252632\n",
       "4   0.735350   0.358974  0.237288  0.285714\n",
       "5   0.727788   0.358696  0.279661  0.314286\n",
       "6   0.686200   0.328571  0.389831  0.356589\n",
       "7   0.678639   0.326667  0.415254  0.365672\n",
       "8   0.665406   0.319018  0.440678  0.370107\n",
       "9   0.655955   0.311765  0.449153  0.368056\n",
       "10  0.646503   0.307263  0.466102  0.370370\n",
       "11  0.633270   0.302083  0.491525  0.374194\n",
       "12  0.620038   0.295567  0.508475  0.373832\n",
       "13  0.559546   0.270916  0.576271  0.368564\n",
       "14  0.559546   0.270916  0.576271  0.368564\n",
       "15  0.548204   0.266409  0.584746  0.366048\n",
       "16  0.546314   0.270677  0.610169  0.375000\n",
       "17  0.536862   0.267399  0.618644  0.373402\n",
       "18  0.449905   0.250720  0.737288  0.374194\n",
       "19  0.449905   0.250720  0.737288  0.374194\n",
       "20  0.442344   0.250704  0.754237  0.376321\n",
       "21  0.442344   0.250704  0.754237  0.376321\n",
       "22  0.442344   0.250704  0.754237  0.376321\n",
       "23  0.398866   0.239583  0.779661  0.366534\n",
       "24  0.398866   0.239583  0.779661  0.366534\n",
       "25  0.398866   0.239583  0.779661  0.366534\n",
       "26  0.389414   0.236504  0.779661  0.362919\n",
       "27  0.387524   0.237245  0.788136  0.364706\n",
       "28  0.381853   0.236776  0.796610  0.365049\n",
       "29  0.379962   0.238806  0.813559  0.369231\n",
       "30  0.368620   0.235294  0.813559  0.365019\n",
       "31  0.366730   0.234719  0.813559  0.364326\n",
       "32  0.366730   0.234719  0.813559  0.364326\n",
       "33  0.353497   0.230769  0.813559  0.359551"
      ]
     },
     "execution_count": 122,
     "metadata": {},
     "output_type": "execute_result"
    }
   ],
   "source": [
    "df_eval"
   ]
  },
  {
   "cell_type": "code",
   "execution_count": 123,
   "metadata": {},
   "outputs": [
    {
     "data": {
      "text/plain": [
       "<matplotlib.legend.Legend at 0x24407c6b550>"
      ]
     },
     "execution_count": 123,
     "metadata": {},
     "output_type": "execute_result"
    },
    {
     "data": {
      "image/png": "[encoded data removed]",
      "text/plain": [
       "<Figure size 640x480 with 1 Axes>"
      ]
     },
     "metadata": {},
     "output_type": "display_data"
    }
   ],
   "source": [
    "import matplotlib.pyplot as plt\n",
    "from matplotlib.pyplot import figure\n",
    "\n",
    "figure(figsize=(8, 6), dpi=80)\n",
    "plt.plot(range(1, len(rules_cause_1), 1), df_eval[\"Accuracy\"])\n",
    "plt.plot(range(1, len(rules_cause_1), 1), df_eval[\"F1\"])\n",
    "plt.xlabel(\"Number of rules\")\n",
    "plt.ylabel(\"Score value\")\n",
    "plt.legend(['Accuracy', 'F1'])"
   ]
  },
  {
   "attachments": {},
   "cell_type": "markdown",
   "metadata": {},
   "source": [
    "We get the best results when using the first 9 rules."
   ]
  },
  {
   "cell_type": "code",
   "execution_count": 124,
   "metadata": {},
   "outputs": [
    {
     "name": "stderr",
     "output_type": "stream",
     "text": [
      "C:\\Users\\Ana\\AppData\\Local\\Temp\\ipykernel_18492\\2503950197.py:2: UserWarning: Boolean Series key will be reindexed to match DataFrame index.\n",
      "  tp = len(df[df['True label']==label][df['Predicted label']==label])\n",
      "C:\\Users\\Ana\\AppData\\Local\\Temp\\ipykernel_18492\\2503950197.py:3: UserWarning: Boolean Series key will be reindexed to match DataFrame index.\n",
      "  tn = len(df[df['True label']=='not'][df['Predicted label']=='not'])\n",
      "C:\\Users\\Ana\\AppData\\Local\\Temp\\ipykernel_18492\\2503950197.py:4: UserWarning: Boolean Series key will be reindexed to match DataFrame index.\n",
      "  fp = len(df[df['True label']=='not'][df['Predicted label']==label])\n",
      "C:\\Users\\Ana\\AppData\\Local\\Temp\\ipykernel_18492\\2503950197.py:5: UserWarning: Boolean Series key will be reindexed to match DataFrame index.\n",
      "  fn = len(df[df['True label']==label][df['Predicted label']=='not'])\n"
     ]
    }
   ],
   "source": [
    "rule_subset = rules_cause_1[0:8]\n",
    "ruleset = RuleSet(rule_subset)\n",
    "df = get_validation_df(ruleset, cause_val)\n",
    "acc, precision, recall, f1 = evalute_ruleset(df, label=\"cause\")"
   ]
  },
  {
   "cell_type": "code",
   "execution_count": 125,
   "metadata": {},
   "outputs": [
    {
     "name": "stdout",
     "output_type": "stream",
     "text": [
      "Accuracy: 0.559322033898305\n",
      "Precision: 0.22727272727272727\n",
      "Recall: 0.35714285714285715\n",
      "F1: 0.2777777777777778\n"
     ]
    }
   ],
   "source": [
    "print(\"Accuracy: \"+str(acc))\n",
    "print(\"Precision: \"+str(precision))\n",
    "print(\"Recall: \"+str(recall))\n",
    "print(\"F1: \"+str(f1))"
   ]
  },
  {
   "cell_type": "code",
   "execution_count": 126,
   "metadata": {},
   "outputs": [
    {
     "data": {
      "image/png": "[encoded data removed]",
      "text/plain": [
       "<Figure size 504x432 with 2 Axes>"
      ]
     },
     "metadata": {},
     "output_type": "display_data"
    }
   ],
   "source": [
    "evaluate_class(df['True label'], df['Predicted label'], 'is_cause', 'Test set (rules, min_edge=1)')"
   ]
  }
 ],
 "metadata": {
  "kernelspec": {
   "display_name": "Python 3",
   "language": "python",
   "name": "python3"
  },
  "language_info": {
   "codemirror_mode": {
    "name": "ipython",
    "version": 3
   },
   "file_extension": ".py",
   "mimetype": "text/x-python",
   "name": "python",
   "nbconvert_exporter": "python",
   "pygments_lexer": "ipython3",
   "version": "3.10.3"
  },
  "orig_nbformat": 4,
  "vscode": {
   "interpreter": {
    "hash": "df87b94f50c6b8081a9a425f6ade537f06441a824b7d68371eb29c5a5eb2838b"
   }
  }
 },
 "nbformat": 4,
 "nbformat_minor": 2
}

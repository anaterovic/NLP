{
 "cells": [
  {
   "cell_type": "code",
   "execution_count": 1,
   "metadata": {},
   "outputs": [
    {
     "name": "stderr",
     "output_type": "stream",
     "text": [
      "Downloading https://raw.githubusercontent.com/stanfordnlp/stanza-resources/main/resources_1.3.0.json: 142kB [00:00, 2.50MB/s]                    \n",
      "2023-01-13 16:24:49,736 : common (424) - INFO - Downloading default packages for language: en (English)...\n",
      "2023-01-13 16:24:50,974 : common (140) - INFO - File exists: C:\\Users\\Ana\\stanza_resources\\en\\default.zip.\n",
      "2023-01-13 16:24:54,499 : common (465) - INFO - Finished downloading models and saved to C:\\Users\\Ana\\stanza_resources.\n",
      "Downloading https://raw.githubusercontent.com/stanfordnlp/stanza-resources/main/resources_1.3.0.json: 142kB [00:00, ?B/s]                        \n",
      "2023-01-13 16:24:54,539 : common (424) - INFO - Downloading default packages for language: de (German)...\n",
      "2023-01-13 16:24:56,218 : common (140) - INFO - File exists: C:\\Users\\Ana\\stanza_resources\\de\\default.zip.\n",
      "2023-01-13 16:25:00,782 : common (465) - INFO - Finished downloading models and saved to C:\\Users\\Ana\\stanza_resources.\n",
      "Downloading https://raw.githubusercontent.com/stanfordnlp/stanza-resources/main/resources_1.3.0.json: 142kB [00:00, ?B/s]                        \n",
      "2023-01-13 16:25:00,838 : common (446) - INFO - Downloading these customized packages for language: en (English)...\n",
      "=======================\n",
      "| Processor | Package |\n",
      "-----------------------\n",
      "| pos       | craft   |\n",
      "| pretrain  | craft   |\n",
      "=======================\n",
      "\n",
      "2023-01-13 16:25:00,894 : common (140) - INFO - File exists: C:\\Users\\Ana\\stanza_resources\\en\\pos\\craft.pt.\n",
      "2023-01-13 16:25:01,120 : common (140) - INFO - File exists: C:\\Users\\Ana\\stanza_resources\\en\\pretrain\\craft.pt.\n",
      "2023-01-13 16:25:01,128 : common (465) - INFO - Finished downloading models and saved to C:\\Users\\Ana\\stanza_resources.\n"
     ]
    }
   ],
   "source": [
    "import tuw_nlp\n",
    "tuw_nlp.download_alto()\n",
    "tuw_nlp.download_definitions()\n",
    "\n",
    "from xpotato.dataset.dataset import Dataset\n",
    "from xpotato.models.trainer import GraphTrainer\n",
    "from xpotato.models.utils import to_dot\n",
    "from xpotato.graph_extractor.extract import FeatureEvaluator\n",
    "from xpotato.dataset.utils import save_dataframe\n",
    "from xpotato.dataset.utils import ud_to_graph\n",
    "from xpotato.dataset.utils import default_pn_to_graph\n",
    "from xpotato.dataset.utils import amr_pn_to_graph\n",
    "\n",
    "from sklearn.model_selection import train_test_split\n",
    "from pathlib import Path\n",
    "import pandas as pd\n",
    "import stanza\n",
    "import os\n",
    "from graphviz import Source\n",
    "import pickle\n",
    "import json\n",
    "\n",
    "stanza.download(\"en\")\n",
    "stanza.download(\"de\")\n",
    "stanza.download(lang=\"en\",package=None,processors={\"pos\":\"craft\"})\n"
   ]
  },
  {
   "cell_type": "code",
   "execution_count": 2,
   "metadata": {},
   "outputs": [
    {
     "data": {
      "text/html": [
       "<div>\n",
       "<style scoped>\n",
       "    .dataframe tbody tr th:only-of-type {\n",
       "        vertical-align: middle;\n",
       "    }\n",
       "\n",
       "    .dataframe tbody tr th {\n",
       "        vertical-align: top;\n",
       "    }\n",
       "\n",
       "    .dataframe thead th {\n",
       "        text-align: right;\n",
       "    }\n",
       "</style>\n",
       "<table border=\"1\" class=\"dataframe\">\n",
       "  <thead>\n",
       "    <tr style=\"text-align: right;\">\n",
       "      <th></th>\n",
       "      <th>term1</th>\n",
       "      <th>term2</th>\n",
       "      <th>sentence</th>\n",
       "      <th>is_cause</th>\n",
       "      <th>is_treat</th>\n",
       "      <th>source</th>\n",
       "      <th>prp_sent</th>\n",
       "      <th>sdp</th>\n",
       "      <th>sdp_joined</th>\n",
       "    </tr>\n",
       "  </thead>\n",
       "  <tbody>\n",
       "    <tr>\n",
       "      <th>0</th>\n",
       "      <td>bombax ceiba l. (bombacaceae) fruits</td>\n",
       "      <td>urinary stones</td>\n",
       "      <td>interestingly, many indian tribes use bombax c...</td>\n",
       "      <td>0</td>\n",
       "      <td>1</td>\n",
       "      <td>FoodDisease</td>\n",
       "      <td>interestingly, many indian tribes use term1 as...</td>\n",
       "      <td>['term1', 'use', 'as', 'medicine', 'for', 'tre...</td>\n",
       "      <td>term1 use as medicine for treatment of term2</td>\n",
       "    </tr>\n",
       "    <tr>\n",
       "      <th>1</th>\n",
       "      <td>ultra-processed food</td>\n",
       "      <td>obesity</td>\n",
       "      <td>ultra-processed food consumption has been asso...</td>\n",
       "      <td>1</td>\n",
       "      <td>0</td>\n",
       "      <td>FoodDisease</td>\n",
       "      <td>term1 consumption has been associated with sev...</td>\n",
       "      <td>['term1', 'consumption', 'associate', 'with', ...</td>\n",
       "      <td>term1 consumption associate with outcome as term2</td>\n",
       "    </tr>\n",
       "    <tr>\n",
       "      <th>2</th>\n",
       "      <td>salt</td>\n",
       "      <td>osteoporosis</td>\n",
       "      <td>salt has notoriously been blamed for causing a...</td>\n",
       "      <td>1</td>\n",
       "      <td>0</td>\n",
       "      <td>FoodDisease</td>\n",
       "      <td>term1 has notoriously been blamed for causing ...</td>\n",
       "      <td>['term1', 'blame', 'for', 'term2']</td>\n",
       "      <td>term1 blame for term2</td>\n",
       "    </tr>\n",
       "    <tr>\n",
       "      <th>3</th>\n",
       "      <td>broiler chicken</td>\n",
       "      <td>footpad dermatitis</td>\n",
       "      <td>in broiler chicken flocks when animal-based me...</td>\n",
       "      <td>0</td>\n",
       "      <td>0</td>\n",
       "      <td>FoodDisease</td>\n",
       "      <td>in term1 flocks when animal-based measures rel...</td>\n",
       "      <td>['term1', 'flock', 'in', 'identify', 'burn', '...</td>\n",
       "      <td>term1 flock in identify burn , term2</td>\n",
       "    </tr>\n",
       "    <tr>\n",
       "      <th>4</th>\n",
       "      <td>sfp</td>\n",
       "      <td>diabetes</td>\n",
       "      <td>in short, this study demonstrated that sfp cou...</td>\n",
       "      <td>0</td>\n",
       "      <td>1</td>\n",
       "      <td>FoodDisease</td>\n",
       "      <td>in short, this study demonstrated that term1 c...</td>\n",
       "      <td>['term1', 'develop', 'as', 'food', 'or', 'prev...</td>\n",
       "      <td>term1 develop as food or prevention of term2</td>\n",
       "    </tr>\n",
       "  </tbody>\n",
       "</table>\n",
       "</div>"
      ],
      "text/plain": [
       "                                  term1               term2  \\\n",
       "0  bombax ceiba l. (bombacaceae) fruits      urinary stones   \n",
       "1                  ultra-processed food             obesity   \n",
       "2                                  salt        osteoporosis   \n",
       "3                       broiler chicken  footpad dermatitis   \n",
       "4                                   sfp            diabetes   \n",
       "\n",
       "                                            sentence  is_cause  is_treat  \\\n",
       "0  interestingly, many indian tribes use bombax c...         0         1   \n",
       "1  ultra-processed food consumption has been asso...         1         0   \n",
       "2  salt has notoriously been blamed for causing a...         1         0   \n",
       "3  in broiler chicken flocks when animal-based me...         0         0   \n",
       "4  in short, this study demonstrated that sfp cou...         0         1   \n",
       "\n",
       "        source                                           prp_sent  \\\n",
       "0  FoodDisease  interestingly, many indian tribes use term1 as...   \n",
       "1  FoodDisease  term1 consumption has been associated with sev...   \n",
       "2  FoodDisease  term1 has notoriously been blamed for causing ...   \n",
       "3  FoodDisease  in term1 flocks when animal-based measures rel...   \n",
       "4  FoodDisease  in short, this study demonstrated that term1 c...   \n",
       "\n",
       "                                                 sdp  \\\n",
       "0  ['term1', 'use', 'as', 'medicine', 'for', 'tre...   \n",
       "1  ['term1', 'consumption', 'associate', 'with', ...   \n",
       "2                 ['term1', 'blame', 'for', 'term2']   \n",
       "3  ['term1', 'flock', 'in', 'identify', 'burn', '...   \n",
       "4  ['term1', 'develop', 'as', 'food', 'or', 'prev...   \n",
       "\n",
       "                                          sdp_joined  \n",
       "0       term1 use as medicine for treatment of term2  \n",
       "1  term1 consumption associate with outcome as term2  \n",
       "2                              term1 blame for term2  \n",
       "3               term1 flock in identify burn , term2  \n",
       "4       term1 develop as food or prevention of term2  "
      ]
     },
     "execution_count": 2,
     "metadata": {},
     "output_type": "execute_result"
    }
   ],
   "source": [
    "df = pd.read_csv(Path('../data/milestone3/preprocessed.csv'), sep=';')\n",
    "df.head()\n"
   ]
  },
  {
   "cell_type": "code",
   "execution_count": 3,
   "metadata": {},
   "outputs": [],
   "source": [
    "def make_sentences(column=\"is_cause\", df=df):\n",
    "    sentences = []\n",
    "    for i, row in df.iterrows():\n",
    "        if row[column]:\n",
    "            relation = 'cause'\n",
    "        else:\n",
    "            relation = 'not'\n",
    "        sentence = row['sentence'].encode('ascii', errors='ignore').decode('utf-8')\n",
    "        sentences.append((sentence, relation))\n",
    "    return sentences"
   ]
  },
  {
   "cell_type": "code",
   "execution_count": 4,
   "metadata": {},
   "outputs": [],
   "source": [
    "sentences_cause = make_sentences(\"is_cause\", df)\n",
    "sentences_treat = make_sentences(\"is_treat\", df)"
   ]
  },
  {
   "cell_type": "code",
   "execution_count": 5,
   "metadata": {},
   "outputs": [
    {
     "data": {
      "text/plain": [
       "[('ultra-processed food consumption has been associated with several health outcomes such as obesity, hypertension, cardiovascular disease and cancer.',\n",
       "  'cause'),\n",
       " ('salt has notoriously been blamed for causing an increase in the urinary excretion of calcium, and thus is a considered a risk factor for osteoporosis.',\n",
       "  'cause'),\n",
       " ('in broiler chicken flocks when animal-based measures related to footpad dermatitis, hock burns, body lesions and arthritis are identified under commercial conditions (high density).',\n",
       "  'not'),\n",
       " ('in short, this study demonstrated that sfp could be developed as functional foods or pharmaceutical supplements for the prevention or mitigation of diabetes and its complications.',\n",
       "  'not'),\n",
       " ('we also showed that moderate consumption of wine was associated with a lower risk of developing ad.',\n",
       "  'not'),\n",
       " ('recent evidence revealed the potential of ginger for reducing diabetes-induced oxidative stress markers.',\n",
       "  'not'),\n",
       " ('total phenolic extracts of citrus aurantium l. (tpe-ca) are rich in dietary bioactive flavonoids, which show beneficial effects on liver health and are regarded as therapeutic tools against inflammatory diseases.',\n",
       "  'not'),\n",
       " ('wheat is one of the five most common foods that trigger allergic reactions in children.',\n",
       "  'cause'),\n",
       " ('mnds remain a major public health concern particularly for women and children, with calcium, iodine, iron, selenium, zinc, folate and vitamin a deficiencies being the most common.',\n",
       "  'not')]"
      ]
     },
     "execution_count": 5,
     "metadata": {},
     "output_type": "execute_result"
    }
   ],
   "source": [
    "sentences_cause[1:10]"
   ]
  },
  {
   "cell_type": "code",
   "execution_count": 6,
   "metadata": {},
   "outputs": [],
   "source": [
    "dataset_cause = Dataset(sentences_cause, label_vocab={\"not\":0, \"cause\": 1}, lang=\"en\")\n",
    "dataset_treat = Dataset(sentences_treat, label_vocab={\"not\":0, \"treat\": 1}, lang=\"en\")"
   ]
  },
  {
   "cell_type": "code",
   "execution_count": 7,
   "metadata": {},
   "outputs": [],
   "source": [
    "# make graphs, very slow\n",
    "# dataset_cause.set_graphs(dataset_cause.parse_graphs(graph_format=\"fourlang\"))\n",
    "# dataset_treat.set_graphs(dataset_treat.parse_graphs(graph_format=\"fourlang\"))"
   ]
  },
  {
   "cell_type": "code",
   "execution_count": 8,
   "metadata": {},
   "outputs": [],
   "source": [
    "# make dataframes\n",
    "# df_cause = dataset_cause.to_dataframe()\n",
    "# df_treat = dataset_treat.to_dataframe()"
   ]
  },
  {
   "cell_type": "code",
   "execution_count": 9,
   "metadata": {},
   "outputs": [],
   "source": [
    "# save dataframes\n",
    "# save_dataframe(df_cause, 'df_cause_graphs.tsv')\n",
    "# save_dataframe(df_treat, 'df_treat_graphs.tsv')"
   ]
  },
  {
   "cell_type": "code",
   "execution_count": 10,
   "metadata": {},
   "outputs": [
    {
     "data": {
      "text/plain": [
       "0    (u_0 / use  :2 (u_1 / fruit  :0 (u_2 / bombaca...\n",
       "1    (u_18 / associate  :2 (u_19 / consumption  :0 ...\n",
       "2    (u_27 / COORD  :0 (u_33 / factor  :0 (u_34 / r...\n",
       "3    (u_46 / identify  :2 (u_47 / measure  :0 (u_48...\n",
       "4    (u_67 / demonstrate  :0 (u_68 / develop  :2 (u...\n",
       "Name: graph, dtype: object"
      ]
     },
     "execution_count": 10,
     "metadata": {},
     "output_type": "execute_result"
    }
   ],
   "source": [
    "df_cause = pd.read_csv(Path('df_graphs.tsv'), sep='\\t')\n",
    "df_cause['graph'].head()"
   ]
  },
  {
   "cell_type": "code",
   "execution_count": 11,
   "metadata": {},
   "outputs": [],
   "source": [
    "df_cause['graph'] = df_cause['graph'].apply(lambda x: amr_pn_to_graph(x)[0])"
   ]
  },
  {
   "cell_type": "code",
   "execution_count": 12,
   "metadata": {},
   "outputs": [
    {
     "data": {
      "image/svg+xml": "<?xml version=\"1.0\" encoding=\"UTF-8\" standalone=\"no\"?>\n<!DOCTYPE svg PUBLIC \"-//W3C//DTD SVG 1.1//EN\"\n \"http://www.w3.org/Graphics/SVG/1.1/DTD/svg11.dtd\">\n<!-- Generated by graphviz version 2.50.0 (0)\n -->\n<!-- Title: finite_state_machine Pages: 1 -->\n<svg width=\"493pt\" height=\"609pt\"\n viewBox=\"0.00 0.00 507.29 626.66\" xmlns=\"http://www.w3.org/2000/svg\" xmlns:xlink=\"http://www.w3.org/1999/xlink\">\n<g id=\"graph0\" class=\"graph\" transform=\"scale(0.97 0.97) rotate(0) translate(4 622.66)\">\n<title>finite_state_machine</title>\n<polygon fill=\"white\" stroke=\"transparent\" points=\"-4,4 -4,-622.66 503.29,-622.66 503.29,4 -4,4\"/>\n<!-- as -->\n<g id=\"node1\" class=\"node\">\n<title>as</title>\n<ellipse fill=\"none\" stroke=\"black\" cx=\"183.8\" cy=\"-597.87\" rx=\"18.4\" ry=\"18.4\"/>\n<text text-anchor=\"middle\" x=\"183.8\" y=\"-594.17\" font-family=\"Times New Roman,serif\" font-size=\"14.00\">as</text>\n</g>\n<!-- medicine -->\n<g id=\"node11\" class=\"node\">\n<title>medicine</title>\n<ellipse fill=\"none\" stroke=\"black\" cx=\"133.8\" cy=\"-481.87\" rx=\"43.59\" ry=\"43.59\"/>\n<text text-anchor=\"middle\" x=\"133.8\" y=\"-478.17\" font-family=\"Times New Roman,serif\" font-size=\"14.00\">medicine</text>\n</g>\n<!-- as&#45;&gt;medicine -->\n<g id=\"edge1\" class=\"edge\">\n<title>as&#45;&gt;medicine</title>\n<path fill=\"none\" stroke=\"black\" d=\"M176.84,-581.01C171.18,-568.09 162.86,-549.14 155.05,-531.32\"/>\n<polygon fill=\"black\" stroke=\"black\" points=\"158.24,-529.89 151.02,-522.14 151.83,-532.7 158.24,-529.89\"/>\n<text text-anchor=\"middle\" x=\"169.3\" y=\"-547.87\" font-family=\"Times New Roman,serif\" font-size=\"14.00\">2</text>\n</g>\n<!-- use -->\n<g id=\"node18\" class=\"node\">\n<title>use</title>\n<ellipse fill=\"none\" stroke=\"black\" cx=\"217.8\" cy=\"-481.87\" rx=\"23\" ry=\"23\"/>\n<text text-anchor=\"middle\" x=\"217.8\" y=\"-478.17\" font-family=\"Times New Roman,serif\" font-size=\"14.00\">use</text>\n</g>\n<!-- as&#45;&gt;use -->\n<g id=\"edge2\" class=\"edge\">\n<title>as&#45;&gt;use</title>\n<path fill=\"none\" stroke=\"black\" d=\"M188.81,-580.04C194.01,-562.62 202.25,-534.99 208.62,-513.64\"/>\n<polygon fill=\"black\" stroke=\"black\" points=\"211.98,-514.62 211.48,-504.03 205.27,-512.62 211.98,-514.62\"/>\n<text text-anchor=\"middle\" x=\"201.3\" y=\"-547.87\" font-family=\"Times New Roman,serif\" font-size=\"14.00\">1</text>\n</g>\n<!-- bombacaceae -->\n<g id=\"node2\" class=\"node\">\n<title>bombacaceae</title>\n<ellipse fill=\"none\" stroke=\"black\" cx=\"440.8\" cy=\"-167.99\" rx=\"58.49\" ry=\"58.49\"/>\n<text text-anchor=\"middle\" x=\"440.8\" y=\"-164.29\" font-family=\"Times New Roman,serif\" font-size=\"14.00\">bombacaceae</text>\n</g>\n<!-- bombax -->\n<g id=\"node3\" class=\"node\">\n<title>bombax</title>\n<ellipse fill=\"none\" stroke=\"black\" cx=\"217.8\" cy=\"-167.99\" rx=\"39.79\" ry=\"39.79\"/>\n<text text-anchor=\"middle\" x=\"217.8\" y=\"-164.29\" font-family=\"Times New Roman,serif\" font-size=\"14.00\">bombax</text>\n</g>\n<!-- ceiba -->\n<g id=\"node4\" class=\"node\">\n<title>ceiba</title>\n<ellipse fill=\"none\" stroke=\"black\" cx=\"319.8\" cy=\"-29.25\" rx=\"29.5\" ry=\"29.5\"/>\n<text text-anchor=\"middle\" x=\"319.8\" y=\"-25.55\" font-family=\"Times New Roman,serif\" font-size=\"14.00\">ceiba</text>\n</g>\n<!-- for -->\n<g id=\"node5\" class=\"node\">\n<title>for</title>\n<ellipse fill=\"none\" stroke=\"black\" cx=\"255.8\" cy=\"-597.87\" rx=\"20.6\" ry=\"20.6\"/>\n<text text-anchor=\"middle\" x=\"255.8\" y=\"-594.17\" font-family=\"Times New Roman,serif\" font-size=\"14.00\">for</text>\n</g>\n<!-- for&#45;&gt;medicine -->\n<g id=\"edge3\" class=\"edge\">\n<title>for&#45;&gt;medicine</title>\n<path fill=\"none\" stroke=\"black\" d=\"M242.91,-580.94C233.84,-570.09 221.14,-555.66 208.8,-544.07 199.33,-535.18 195.9,-534.21 185.8,-526.07 182.11,-523.09 178.29,-519.98 174.47,-516.85\"/>\n<polygon fill=\"black\" stroke=\"black\" points=\"176.63,-514.09 166.69,-510.44 172.18,-519.5 176.63,-514.09\"/>\n<text text-anchor=\"middle\" x=\"225.3\" y=\"-547.87\" font-family=\"Times New Roman,serif\" font-size=\"14.00\">1</text>\n</g>\n<!-- treatment -->\n<g id=\"node15\" class=\"node\">\n<title>treatment</title>\n<ellipse fill=\"none\" stroke=\"black\" cx=\"314.8\" cy=\"-481.87\" rx=\"44.39\" ry=\"44.39\"/>\n<text text-anchor=\"middle\" x=\"314.8\" y=\"-478.17\" font-family=\"Times New Roman,serif\" font-size=\"14.00\">treatment</text>\n</g>\n<!-- for&#45;&gt;treatment -->\n<g id=\"edge4\" class=\"edge\">\n<title>for&#45;&gt;treatment</title>\n<path fill=\"none\" stroke=\"black\" d=\"M265.01,-579.05C271.69,-566.16 281.04,-548.09 289.84,-531.08\"/>\n<polygon fill=\"black\" stroke=\"black\" points=\"293.17,-532.27 294.66,-521.78 286.95,-529.05 293.17,-532.27\"/>\n<text text-anchor=\"middle\" x=\"284.3\" y=\"-547.87\" font-family=\"Times New Roman,serif\" font-size=\"14.00\">2</text>\n</g>\n<!-- fruit -->\n<g id=\"node6\" class=\"node\">\n<title>fruit</title>\n<ellipse fill=\"none\" stroke=\"black\" cx=\"217.8\" cy=\"-332.08\" rx=\"26\" ry=\"26\"/>\n<text text-anchor=\"middle\" x=\"217.8\" y=\"-328.38\" font-family=\"Times New Roman,serif\" font-size=\"14.00\">fruit</text>\n</g>\n<!-- fruit&#45;&gt;bombacaceae -->\n<g id=\"edge5\" class=\"edge\">\n<title>fruit&#45;&gt;bombacaceae</title>\n<path fill=\"none\" stroke=\"black\" d=\"M228.72,-308.21C234.65,-297.73 242.81,-285.82 252.8,-277.48 275.2,-258.78 348.98,-241.84 373.8,-226.48 379.4,-223.02 385.01,-219.09 390.47,-214.96\"/>\n<polygon fill=\"black\" stroke=\"black\" points=\"392.63,-217.72 398.34,-208.79 388.31,-212.21 392.63,-217.72\"/>\n<text text-anchor=\"middle\" x=\"333.3\" y=\"-248.28\" font-family=\"Times New Roman,serif\" font-size=\"14.00\">0</text>\n</g>\n<!-- fruit&#45;&gt;bombax -->\n<g id=\"edge6\" class=\"edge\">\n<title>fruit&#45;&gt;bombax</title>\n<path fill=\"none\" stroke=\"black\" d=\"M217.8,-305.75C217.8,-282.36 217.8,-246.96 217.8,-218.04\"/>\n<polygon fill=\"black\" stroke=\"black\" points=\"221.3,-217.71 217.8,-207.71 214.3,-217.71 221.3,-217.71\"/>\n<text text-anchor=\"middle\" x=\"221.3\" y=\"-248.28\" font-family=\"Times New Roman,serif\" font-size=\"14.00\">0</text>\n</g>\n<!-- lPERIOD -->\n<g id=\"node9\" class=\"node\">\n<title>lPERIOD</title>\n<ellipse fill=\"none\" stroke=\"black\" cx=\"319.8\" cy=\"-167.99\" rx=\"44.69\" ry=\"44.69\"/>\n<text text-anchor=\"middle\" x=\"319.8\" y=\"-164.29\" font-family=\"Times New Roman,serif\" font-size=\"14.00\">lPERIOD</text>\n</g>\n<!-- fruit&#45;&gt;lPERIOD -->\n<g id=\"edge7\" class=\"edge\">\n<title>fruit&#45;&gt;lPERIOD</title>\n<path fill=\"none\" stroke=\"black\" d=\"M231.34,-309.56C246.45,-285.55 271.33,-246.01 290.86,-214.97\"/>\n<polygon fill=\"black\" stroke=\"black\" points=\"293.85,-216.79 296.22,-206.46 287.93,-213.06 293.85,-216.79\"/>\n<text text-anchor=\"middle\" x=\"275.3\" y=\"-248.28\" font-family=\"Times New Roman,serif\" font-size=\"14.00\">0</text>\n</g>\n<!-- indian -->\n<g id=\"node7\" class=\"node\">\n<title>indian</title>\n<ellipse fill=\"none\" stroke=\"black\" cx=\"127.8\" cy=\"-167.99\" rx=\"32.49\" ry=\"32.49\"/>\n<text text-anchor=\"middle\" x=\"127.8\" y=\"-164.29\" font-family=\"Times New Roman,serif\" font-size=\"14.00\">indian</text>\n</g>\n<!-- interestingly -->\n<g id=\"node8\" class=\"node\">\n<title>interestingly</title>\n<ellipse fill=\"none\" stroke=\"black\" cx=\"316.8\" cy=\"-332.08\" rx=\"54.69\" ry=\"54.69\"/>\n<text text-anchor=\"middle\" x=\"316.8\" y=\"-328.38\" font-family=\"Times New Roman,serif\" font-size=\"14.00\">interestingly</text>\n</g>\n<!-- lPERIOD&#45;&gt;ceiba -->\n<g id=\"edge8\" class=\"edge\">\n<title>lPERIOD&#45;&gt;ceiba</title>\n<path fill=\"none\" stroke=\"black\" d=\"M319.8,-122.97C319.8,-105.51 319.8,-85.62 319.8,-68.75\"/>\n<polygon fill=\"black\" stroke=\"black\" points=\"323.3,-68.68 319.8,-58.68 316.3,-68.68 323.3,-68.68\"/>\n<text text-anchor=\"middle\" x=\"323.3\" y=\"-80.29\" font-family=\"Times New Roman,serif\" font-size=\"14.00\">0</text>\n</g>\n<!-- many -->\n<g id=\"node10\" class=\"node\">\n<title>many</title>\n<ellipse fill=\"none\" stroke=\"black\" cx=\"46.8\" cy=\"-167.99\" rx=\"30.59\" ry=\"30.59\"/>\n<text text-anchor=\"middle\" x=\"46.8\" y=\"-164.29\" font-family=\"Times New Roman,serif\" font-size=\"14.00\">many</text>\n</g>\n<!-- traditional -->\n<g id=\"node14\" class=\"node\">\n<title>traditional</title>\n<ellipse fill=\"none\" stroke=\"black\" cx=\"46.8\" cy=\"-332.08\" rx=\"46.59\" ry=\"46.59\"/>\n<text text-anchor=\"middle\" x=\"46.8\" y=\"-328.38\" font-family=\"Times New Roman,serif\" font-size=\"14.00\">traditional</text>\n</g>\n<!-- medicine&#45;&gt;traditional -->\n<g id=\"edge9\" class=\"edge\">\n<title>medicine&#45;&gt;traditional</title>\n<path fill=\"none\" stroke=\"black\" d=\"M112.07,-443.96C100.97,-425.12 87.34,-401.95 75.4,-381.68\"/>\n<polygon fill=\"black\" stroke=\"black\" points=\"78.32,-379.73 70.23,-372.89 72.29,-383.28 78.32,-379.73\"/>\n<text text-anchor=\"middle\" x=\"98.3\" y=\"-408.47\" font-family=\"Times New Roman,serif\" font-size=\"14.00\">0</text>\n</g>\n<!-- of -->\n<g id=\"node12\" class=\"node\">\n<title>of</title>\n<ellipse fill=\"none\" stroke=\"black\" cx=\"354.8\" cy=\"-597.87\" rx=\"18.4\" ry=\"18.4\"/>\n<text text-anchor=\"middle\" x=\"354.8\" y=\"-594.17\" font-family=\"Times New Roman,serif\" font-size=\"14.00\">of</text>\n</g>\n<!-- stone -->\n<g id=\"node13\" class=\"node\">\n<title>stone</title>\n<ellipse fill=\"none\" stroke=\"black\" cx=\"415.8\" cy=\"-481.87\" rx=\"29.5\" ry=\"29.5\"/>\n<text text-anchor=\"middle\" x=\"415.8\" y=\"-478.17\" font-family=\"Times New Roman,serif\" font-size=\"14.00\">stone</text>\n</g>\n<!-- of&#45;&gt;stone -->\n<g id=\"edge10\" class=\"edge\">\n<title>of&#45;&gt;stone</title>\n<path fill=\"none\" stroke=\"black\" d=\"M363.02,-581.49C371.84,-565.01 386.13,-538.31 397.62,-516.85\"/>\n<polygon fill=\"black\" stroke=\"black\" points=\"400.71,-518.48 402.34,-508.01 394.54,-515.18 400.71,-518.48\"/>\n<text text-anchor=\"middle\" x=\"384.3\" y=\"-547.87\" font-family=\"Times New Roman,serif\" font-size=\"14.00\">2</text>\n</g>\n<!-- of&#45;&gt;treatment -->\n<g id=\"edge11\" class=\"edge\">\n<title>of&#45;&gt;treatment</title>\n<path fill=\"none\" stroke=\"black\" d=\"M349.06,-580.53C344.73,-568.18 338.53,-550.51 332.59,-533.59\"/>\n<polygon fill=\"black\" stroke=\"black\" points=\"335.76,-532.04 329.14,-523.76 329.15,-534.36 335.76,-532.04\"/>\n<text text-anchor=\"middle\" x=\"343.3\" y=\"-547.87\" font-family=\"Times New Roman,serif\" font-size=\"14.00\">1</text>\n</g>\n<!-- urinary -->\n<g id=\"node17\" class=\"node\">\n<title>urinary</title>\n<ellipse fill=\"none\" stroke=\"black\" cx=\"425.8\" cy=\"-332.08\" rx=\"36.29\" ry=\"36.29\"/>\n<text text-anchor=\"middle\" x=\"425.8\" y=\"-328.38\" font-family=\"Times New Roman,serif\" font-size=\"14.00\">urinary</text>\n</g>\n<!-- stone&#45;&gt;urinary -->\n<g id=\"edge12\" class=\"edge\">\n<title>stone&#45;&gt;urinary</title>\n<path fill=\"none\" stroke=\"black\" d=\"M417.72,-452.38C419.14,-431.46 421.09,-402.62 422.72,-378.53\"/>\n<polygon fill=\"black\" stroke=\"black\" points=\"426.21,-378.75 423.4,-368.54 419.23,-378.28 426.21,-378.75\"/>\n<text text-anchor=\"middle\" x=\"424.3\" y=\"-408.47\" font-family=\"Times New Roman,serif\" font-size=\"14.00\">0</text>\n</g>\n<!-- tribe -->\n<g id=\"node16\" class=\"node\">\n<title>tribe</title>\n<ellipse fill=\"none\" stroke=\"black\" cx=\"137.8\" cy=\"-332.08\" rx=\"26.8\" ry=\"26.8\"/>\n<text text-anchor=\"middle\" x=\"137.8\" y=\"-328.38\" font-family=\"Times New Roman,serif\" font-size=\"14.00\">tribe</text>\n</g>\n<!-- tribe&#45;&gt;indian -->\n<g id=\"edge13\" class=\"edge\">\n<title>tribe&#45;&gt;indian</title>\n<path fill=\"none\" stroke=\"black\" d=\"M136.21,-305.4C134.64,-280 132.22,-240.72 130.38,-210.82\"/>\n<polygon fill=\"black\" stroke=\"black\" points=\"133.86,-210.44 129.75,-200.67 126.87,-210.87 133.86,-210.44\"/>\n<text text-anchor=\"middle\" x=\"136.3\" y=\"-248.28\" font-family=\"Times New Roman,serif\" font-size=\"14.00\">0</text>\n</g>\n<!-- tribe&#45;&gt;many -->\n<g id=\"edge14\" class=\"edge\">\n<title>tribe&#45;&gt;many</title>\n<path fill=\"none\" stroke=\"black\" d=\"M125.14,-308.54C109.94,-281.46 84.27,-235.73 66.47,-204.03\"/>\n<polygon fill=\"black\" stroke=\"black\" points=\"69.4,-202.09 61.45,-195.09 63.29,-205.52 69.4,-202.09\"/>\n<text text-anchor=\"middle\" x=\"98.3\" y=\"-248.28\" font-family=\"Times New Roman,serif\" font-size=\"14.00\">0</text>\n</g>\n<!-- use&#45;&gt;fruit -->\n<g id=\"edge15\" class=\"edge\">\n<title>use&#45;&gt;fruit</title>\n<path fill=\"none\" stroke=\"black\" d=\"M217.8,-459.06C217.8,-435.21 217.8,-396.63 217.8,-368.44\"/>\n<polygon fill=\"black\" stroke=\"black\" points=\"221.3,-368.19 217.8,-358.19 214.3,-368.19 221.3,-368.19\"/>\n<text text-anchor=\"middle\" x=\"221.3\" y=\"-408.47\" font-family=\"Times New Roman,serif\" font-size=\"14.00\">2</text>\n</g>\n<!-- use&#45;&gt;interestingly -->\n<g id=\"edge16\" class=\"edge\">\n<title>use&#45;&gt;interestingly</title>\n<path fill=\"none\" stroke=\"black\" d=\"M230.13,-462.45C242.86,-443.46 263.3,-412.95 281.13,-386.32\"/>\n<polygon fill=\"black\" stroke=\"black\" points=\"284.16,-388.09 286.82,-377.84 278.34,-384.2 284.16,-388.09\"/>\n<text text-anchor=\"middle\" x=\"270.3\" y=\"-408.47\" font-family=\"Times New Roman,serif\" font-size=\"14.00\">0</text>\n</g>\n<!-- use&#45;&gt;tribe -->\n<g id=\"edge17\" class=\"edge\">\n<title>use&#45;&gt;tribe</title>\n<path fill=\"none\" stroke=\"black\" d=\"M207.34,-461.55C194.04,-436.98 170.89,-394.22 154.98,-364.83\"/>\n<polygon fill=\"black\" stroke=\"black\" points=\"157.93,-362.93 150.09,-355.8 151.78,-366.26 157.93,-362.93\"/>\n<text text-anchor=\"middle\" x=\"185.3\" y=\"-408.47\" font-family=\"Times New Roman,serif\" font-size=\"14.00\">1</text>\n</g>\n</g>\n</svg>\n",
      "text/plain": [
       "<graphviz.sources.Source at 0x21e00b093c0>"
      ]
     },
     "execution_count": 12,
     "metadata": {},
     "output_type": "execute_result"
    }
   ],
   "source": [
    "Source(to_dot(df_cause.iloc[0].graph))"
   ]
  },
  {
   "cell_type": "code",
   "execution_count": 36,
   "metadata": {},
   "outputs": [
    {
     "name": "stderr",
     "output_type": "stream",
     "text": [
      "7978it [00:01, 5572.80it/s]\n"
     ]
    },
    {
     "data": {
      "text/html": [
       "<div>\n",
       "<style scoped>\n",
       "    .dataframe tbody tr th:only-of-type {\n",
       "        vertical-align: middle;\n",
       "    }\n",
       "\n",
       "    .dataframe tbody tr th {\n",
       "        vertical-align: top;\n",
       "    }\n",
       "\n",
       "    .dataframe thead th {\n",
       "        text-align: right;\n",
       "    }\n",
       "</style>\n",
       "<table border=\"1\" class=\"dataframe\">\n",
       "  <thead>\n",
       "    <tr style=\"text-align: right;\">\n",
       "      <th></th>\n",
       "      <th>Sentence</th>\n",
       "      <th>Predicted label</th>\n",
       "      <th>Matched rule</th>\n",
       "      <th>graph</th>\n",
       "    </tr>\n",
       "  </thead>\n",
       "  <tbody>\n",
       "    <tr>\n",
       "      <th>0</th>\n",
       "      <td>interestingly, many indian tribes use bombax c...</td>\n",
       "      <td>cause</td>\n",
       "      <td>[[(u_1 / for)], [], cause]</td>\n",
       "      <td>(0, 1, 2, 3, 4, 5, 6, 7, 8, 9, 10, 11, 12, 13,...</td>\n",
       "    </tr>\n",
       "    <tr>\n",
       "      <th>1</th>\n",
       "      <td>salt has notoriously been blamed for causing a...</td>\n",
       "      <td>cause</td>\n",
       "      <td>[[(u_1 / for)], [], cause]</td>\n",
       "      <td>(0, 1, 2, 3, 4, 5, 6, 7, 8, 9, 10, 11, 12, 13,...</td>\n",
       "    </tr>\n",
       "    <tr>\n",
       "      <th>2</th>\n",
       "      <td>in short, this study demonstrated that sfp cou...</td>\n",
       "      <td>cause</td>\n",
       "      <td>[[(u_1 / for)], [], cause]</td>\n",
       "      <td>(0, 1, 2, 3, 4, 5, 6, 7, 8, 9, 10, 11, 12, 13,...</td>\n",
       "    </tr>\n",
       "    <tr>\n",
       "      <th>3</th>\n",
       "      <td>mnds remain a major public health concern part...</td>\n",
       "      <td>cause</td>\n",
       "      <td>[[(u_1 / for)], [], cause]</td>\n",
       "      <td>(0, 1, 2, 3, 4, 5, 6, 7, 8, 9, 10, 11, 12, 13,...</td>\n",
       "    </tr>\n",
       "    <tr>\n",
       "      <th>4</th>\n",
       "      <td>glycine max is commonly used in algeria for tr...</td>\n",
       "      <td>cause</td>\n",
       "      <td>[[(u_1 / for)], [], cause]</td>\n",
       "      <td>(0, 1, 2, 3, 4, 5, 6, 7, 8, 9, 10, 11, 12, 13,...</td>\n",
       "    </tr>\n",
       "    <tr>\n",
       "      <th>...</th>\n",
       "      <td>...</td>\n",
       "      <td>...</td>\n",
       "      <td>...</td>\n",
       "      <td>...</td>\n",
       "    </tr>\n",
       "    <tr>\n",
       "      <th>1572</th>\n",
       "      <td>PARACETAMOL (acetaminophen) was the most commo...</td>\n",
       "      <td>cause</td>\n",
       "      <td>[[(u_1 / for)], [], cause]</td>\n",
       "      <td>(0, 1, 2, 3, 4, 5, 6, 7, 8)</td>\n",
       "    </tr>\n",
       "    <tr>\n",
       "      <th>1573</th>\n",
       "      <td>We collected resource use data prospectively f...</td>\n",
       "      <td>cause</td>\n",
       "      <td>[[(u_1 / for)], [], cause]</td>\n",
       "      <td>(0, 1, 2, 3, 4, 5, 6, 7, 8, 9, 10, 11, 12, 13,...</td>\n",
       "    </tr>\n",
       "    <tr>\n",
       "      <th>1574</th>\n",
       "      <td>Since the introduction of TRICYCLIC ANTIDEPRES...</td>\n",
       "      <td>cause</td>\n",
       "      <td>[[(u_1 / for)], [], cause]</td>\n",
       "      <td>(0, 1, 2, 3, 4, 5, 6, 7, 8, 9, 10, 11, 12, 13,...</td>\n",
       "    </tr>\n",
       "    <tr>\n",
       "      <th>1575</th>\n",
       "      <td>ALL TRANS RETINOIC ACID (ATRA) is the drug of ...</td>\n",
       "      <td>cause</td>\n",
       "      <td>[[(u_1 / for)], [], cause]</td>\n",
       "      <td>(0, 1, 2, 3, 4, 5, 6, 7, 8, 9, 10, 11, 12)</td>\n",
       "    </tr>\n",
       "    <tr>\n",
       "      <th>1576</th>\n",
       "      <td>Two hundred sixty five patients with head and ...</td>\n",
       "      <td>cause</td>\n",
       "      <td>[[(u_1 / for)], [], cause]</td>\n",
       "      <td>(0, 1, 2, 3, 4, 5, 6, 7, 8, 9, 10, 11, 12, 13,...</td>\n",
       "    </tr>\n",
       "  </tbody>\n",
       "</table>\n",
       "<p>1577 rows × 4 columns</p>\n",
       "</div>"
      ],
      "text/plain": [
       "                                               Sentence Predicted label  \\\n",
       "0     interestingly, many indian tribes use bombax c...           cause   \n",
       "1     salt has notoriously been blamed for causing a...           cause   \n",
       "2     in short, this study demonstrated that sfp cou...           cause   \n",
       "3     mnds remain a major public health concern part...           cause   \n",
       "4     glycine max is commonly used in algeria for tr...           cause   \n",
       "...                                                 ...             ...   \n",
       "1572  PARACETAMOL (acetaminophen) was the most commo...           cause   \n",
       "1573  We collected resource use data prospectively f...           cause   \n",
       "1574  Since the introduction of TRICYCLIC ANTIDEPRES...           cause   \n",
       "1575  ALL TRANS RETINOIC ACID (ATRA) is the drug of ...           cause   \n",
       "1576  Two hundred sixty five patients with head and ...           cause   \n",
       "\n",
       "                    Matched rule  \\\n",
       "0     [[(u_1 / for)], [], cause]   \n",
       "1     [[(u_1 / for)], [], cause]   \n",
       "2     [[(u_1 / for)], [], cause]   \n",
       "3     [[(u_1 / for)], [], cause]   \n",
       "4     [[(u_1 / for)], [], cause]   \n",
       "...                          ...   \n",
       "1572  [[(u_1 / for)], [], cause]   \n",
       "1573  [[(u_1 / for)], [], cause]   \n",
       "1574  [[(u_1 / for)], [], cause]   \n",
       "1575  [[(u_1 / for)], [], cause]   \n",
       "1576  [[(u_1 / for)], [], cause]   \n",
       "\n",
       "                                                  graph  \n",
       "0     (0, 1, 2, 3, 4, 5, 6, 7, 8, 9, 10, 11, 12, 13,...  \n",
       "1     (0, 1, 2, 3, 4, 5, 6, 7, 8, 9, 10, 11, 12, 13,...  \n",
       "2     (0, 1, 2, 3, 4, 5, 6, 7, 8, 9, 10, 11, 12, 13,...  \n",
       "3     (0, 1, 2, 3, 4, 5, 6, 7, 8, 9, 10, 11, 12, 13,...  \n",
       "4     (0, 1, 2, 3, 4, 5, 6, 7, 8, 9, 10, 11, 12, 13,...  \n",
       "...                                                 ...  \n",
       "1572                        (0, 1, 2, 3, 4, 5, 6, 7, 8)  \n",
       "1573  (0, 1, 2, 3, 4, 5, 6, 7, 8, 9, 10, 11, 12, 13,...  \n",
       "1574  (0, 1, 2, 3, 4, 5, 6, 7, 8, 9, 10, 11, 12, 13,...  \n",
       "1575         (0, 1, 2, 3, 4, 5, 6, 7, 8, 9, 10, 11, 12)  \n",
       "1576  (0, 1, 2, 3, 4, 5, 6, 7, 8, 9, 10, 11, 12, 13,...  \n",
       "\n",
       "[1577 rows x 4 columns]"
      ]
     },
     "execution_count": 36,
     "metadata": {},
     "output_type": "execute_result"
    }
   ],
   "source": [
    "# The syntax of the rules is List[List[rules that we want to match], List[rules that shouldn't be in the matched graphs], Label of the rule]\n",
    "rule_to_match = [[[\"(u_1 / for)\"], [], \"cause\"]]\n",
    "\n",
    "evaluator = FeatureEvaluator()\n",
    "\n",
    "#match single feature\n",
    "df_tmp = evaluator.match_features(df_cause, rule_to_match)\n",
    "rows = []\n",
    "for i,row in df_tmp.iterrows():\n",
    "    if row['Predicted label'] == 'cause':\n",
    "        row['graph'] = df_cause.iloc[i].graph\n",
    "        rows.append(row)\n",
    "df_tmp = pd.DataFrame(rows, columns=['Sentence', 'Predicted label', 'Matched rule', 'graph']).reset_index(drop=True)\n",
    "df_tmp"
   ]
  },
  {
   "cell_type": "code",
   "execution_count": 44,
   "metadata": {},
   "outputs": [
    {
     "data": {
      "image/svg+xml": "<?xml version=\"1.0\" encoding=\"UTF-8\" standalone=\"no\"?>\n<!DOCTYPE svg PUBLIC \"-//W3C//DTD SVG 1.1//EN\"\n \"http://www.w3.org/Graphics/SVG/1.1/DTD/svg11.dtd\">\n<!-- Generated by graphviz version 2.50.0 (0)\n -->\n<!-- Title: finite_state_machine Pages: 1 -->\n<svg width=\"493pt\" height=\"609pt\"\n viewBox=\"0.00 0.00 507.29 626.66\" xmlns=\"http://www.w3.org/2000/svg\" xmlns:xlink=\"http://www.w3.org/1999/xlink\">\n<g id=\"graph0\" class=\"graph\" transform=\"scale(0.97 0.97) rotate(0) translate(4 622.66)\">\n<title>finite_state_machine</title>\n<polygon fill=\"white\" stroke=\"transparent\" points=\"-4,4 -4,-622.66 503.29,-622.66 503.29,4 -4,4\"/>\n<!-- as -->\n<g id=\"node1\" class=\"node\">\n<title>as</title>\n<ellipse fill=\"none\" stroke=\"black\" cx=\"183.8\" cy=\"-597.87\" rx=\"18.4\" ry=\"18.4\"/>\n<text text-anchor=\"middle\" x=\"183.8\" y=\"-594.17\" font-family=\"Times New Roman,serif\" font-size=\"14.00\">as</text>\n</g>\n<!-- medicine -->\n<g id=\"node11\" class=\"node\">\n<title>medicine</title>\n<ellipse fill=\"none\" stroke=\"black\" cx=\"133.8\" cy=\"-481.87\" rx=\"43.59\" ry=\"43.59\"/>\n<text text-anchor=\"middle\" x=\"133.8\" y=\"-478.17\" font-family=\"Times New Roman,serif\" font-size=\"14.00\">medicine</text>\n</g>\n<!-- as&#45;&gt;medicine -->\n<g id=\"edge1\" class=\"edge\">\n<title>as&#45;&gt;medicine</title>\n<path fill=\"none\" stroke=\"black\" d=\"M176.84,-581.01C171.18,-568.09 162.86,-549.14 155.05,-531.32\"/>\n<polygon fill=\"black\" stroke=\"black\" points=\"158.24,-529.89 151.02,-522.14 151.83,-532.7 158.24,-529.89\"/>\n<text text-anchor=\"middle\" x=\"169.3\" y=\"-547.87\" font-family=\"Times New Roman,serif\" font-size=\"14.00\">2</text>\n</g>\n<!-- use -->\n<g id=\"node18\" class=\"node\">\n<title>use</title>\n<ellipse fill=\"none\" stroke=\"black\" cx=\"217.8\" cy=\"-481.87\" rx=\"23\" ry=\"23\"/>\n<text text-anchor=\"middle\" x=\"217.8\" y=\"-478.17\" font-family=\"Times New Roman,serif\" font-size=\"14.00\">use</text>\n</g>\n<!-- as&#45;&gt;use -->\n<g id=\"edge2\" class=\"edge\">\n<title>as&#45;&gt;use</title>\n<path fill=\"none\" stroke=\"black\" d=\"M188.81,-580.04C194.01,-562.62 202.25,-534.99 208.62,-513.64\"/>\n<polygon fill=\"black\" stroke=\"black\" points=\"211.98,-514.62 211.48,-504.03 205.27,-512.62 211.98,-514.62\"/>\n<text text-anchor=\"middle\" x=\"201.3\" y=\"-547.87\" font-family=\"Times New Roman,serif\" font-size=\"14.00\">1</text>\n</g>\n<!-- bombacaceae -->\n<g id=\"node2\" class=\"node\">\n<title>bombacaceae</title>\n<ellipse fill=\"none\" stroke=\"black\" cx=\"440.8\" cy=\"-167.99\" rx=\"58.49\" ry=\"58.49\"/>\n<text text-anchor=\"middle\" x=\"440.8\" y=\"-164.29\" font-family=\"Times New Roman,serif\" font-size=\"14.00\">bombacaceae</text>\n</g>\n<!-- bombax -->\n<g id=\"node3\" class=\"node\">\n<title>bombax</title>\n<ellipse fill=\"none\" stroke=\"black\" cx=\"217.8\" cy=\"-167.99\" rx=\"39.79\" ry=\"39.79\"/>\n<text text-anchor=\"middle\" x=\"217.8\" y=\"-164.29\" font-family=\"Times New Roman,serif\" font-size=\"14.00\">bombax</text>\n</g>\n<!-- ceiba -->\n<g id=\"node4\" class=\"node\">\n<title>ceiba</title>\n<ellipse fill=\"none\" stroke=\"black\" cx=\"319.8\" cy=\"-29.25\" rx=\"29.5\" ry=\"29.5\"/>\n<text text-anchor=\"middle\" x=\"319.8\" y=\"-25.55\" font-family=\"Times New Roman,serif\" font-size=\"14.00\">ceiba</text>\n</g>\n<!-- for -->\n<g id=\"node5\" class=\"node\">\n<title>for</title>\n<ellipse fill=\"none\" stroke=\"black\" cx=\"255.8\" cy=\"-597.87\" rx=\"20.6\" ry=\"20.6\"/>\n<text text-anchor=\"middle\" x=\"255.8\" y=\"-594.17\" font-family=\"Times New Roman,serif\" font-size=\"14.00\">for</text>\n</g>\n<!-- for&#45;&gt;medicine -->\n<g id=\"edge3\" class=\"edge\">\n<title>for&#45;&gt;medicine</title>\n<path fill=\"none\" stroke=\"black\" d=\"M242.91,-580.94C233.84,-570.09 221.14,-555.66 208.8,-544.07 199.33,-535.18 195.9,-534.21 185.8,-526.07 182.11,-523.09 178.29,-519.98 174.47,-516.85\"/>\n<polygon fill=\"black\" stroke=\"black\" points=\"176.63,-514.09 166.69,-510.44 172.18,-519.5 176.63,-514.09\"/>\n<text text-anchor=\"middle\" x=\"225.3\" y=\"-547.87\" font-family=\"Times New Roman,serif\" font-size=\"14.00\">1</text>\n</g>\n<!-- treatment -->\n<g id=\"node15\" class=\"node\">\n<title>treatment</title>\n<ellipse fill=\"none\" stroke=\"black\" cx=\"314.8\" cy=\"-481.87\" rx=\"44.39\" ry=\"44.39\"/>\n<text text-anchor=\"middle\" x=\"314.8\" y=\"-478.17\" font-family=\"Times New Roman,serif\" font-size=\"14.00\">treatment</text>\n</g>\n<!-- for&#45;&gt;treatment -->\n<g id=\"edge4\" class=\"edge\">\n<title>for&#45;&gt;treatment</title>\n<path fill=\"none\" stroke=\"black\" d=\"M265.01,-579.05C271.69,-566.16 281.04,-548.09 289.84,-531.08\"/>\n<polygon fill=\"black\" stroke=\"black\" points=\"293.17,-532.27 294.66,-521.78 286.95,-529.05 293.17,-532.27\"/>\n<text text-anchor=\"middle\" x=\"284.3\" y=\"-547.87\" font-family=\"Times New Roman,serif\" font-size=\"14.00\">2</text>\n</g>\n<!-- fruit -->\n<g id=\"node6\" class=\"node\">\n<title>fruit</title>\n<ellipse fill=\"none\" stroke=\"black\" cx=\"217.8\" cy=\"-332.08\" rx=\"26\" ry=\"26\"/>\n<text text-anchor=\"middle\" x=\"217.8\" y=\"-328.38\" font-family=\"Times New Roman,serif\" font-size=\"14.00\">fruit</text>\n</g>\n<!-- fruit&#45;&gt;bombacaceae -->\n<g id=\"edge5\" class=\"edge\">\n<title>fruit&#45;&gt;bombacaceae</title>\n<path fill=\"none\" stroke=\"black\" d=\"M228.72,-308.21C234.65,-297.73 242.81,-285.82 252.8,-277.48 275.2,-258.78 348.98,-241.84 373.8,-226.48 379.4,-223.02 385.01,-219.09 390.47,-214.96\"/>\n<polygon fill=\"black\" stroke=\"black\" points=\"392.63,-217.72 398.34,-208.79 388.31,-212.21 392.63,-217.72\"/>\n<text text-anchor=\"middle\" x=\"333.3\" y=\"-248.28\" font-family=\"Times New Roman,serif\" font-size=\"14.00\">0</text>\n</g>\n<!-- fruit&#45;&gt;bombax -->\n<g id=\"edge6\" class=\"edge\">\n<title>fruit&#45;&gt;bombax</title>\n<path fill=\"none\" stroke=\"black\" d=\"M217.8,-305.75C217.8,-282.36 217.8,-246.96 217.8,-218.04\"/>\n<polygon fill=\"black\" stroke=\"black\" points=\"221.3,-217.71 217.8,-207.71 214.3,-217.71 221.3,-217.71\"/>\n<text text-anchor=\"middle\" x=\"221.3\" y=\"-248.28\" font-family=\"Times New Roman,serif\" font-size=\"14.00\">0</text>\n</g>\n<!-- lPERIOD -->\n<g id=\"node9\" class=\"node\">\n<title>lPERIOD</title>\n<ellipse fill=\"none\" stroke=\"black\" cx=\"319.8\" cy=\"-167.99\" rx=\"44.69\" ry=\"44.69\"/>\n<text text-anchor=\"middle\" x=\"319.8\" y=\"-164.29\" font-family=\"Times New Roman,serif\" font-size=\"14.00\">lPERIOD</text>\n</g>\n<!-- fruit&#45;&gt;lPERIOD -->\n<g id=\"edge7\" class=\"edge\">\n<title>fruit&#45;&gt;lPERIOD</title>\n<path fill=\"none\" stroke=\"black\" d=\"M231.34,-309.56C246.45,-285.55 271.33,-246.01 290.86,-214.97\"/>\n<polygon fill=\"black\" stroke=\"black\" points=\"293.85,-216.79 296.22,-206.46 287.93,-213.06 293.85,-216.79\"/>\n<text text-anchor=\"middle\" x=\"275.3\" y=\"-248.28\" font-family=\"Times New Roman,serif\" font-size=\"14.00\">0</text>\n</g>\n<!-- indian -->\n<g id=\"node7\" class=\"node\">\n<title>indian</title>\n<ellipse fill=\"none\" stroke=\"black\" cx=\"127.8\" cy=\"-167.99\" rx=\"32.49\" ry=\"32.49\"/>\n<text text-anchor=\"middle\" x=\"127.8\" y=\"-164.29\" font-family=\"Times New Roman,serif\" font-size=\"14.00\">indian</text>\n</g>\n<!-- interestingly -->\n<g id=\"node8\" class=\"node\">\n<title>interestingly</title>\n<ellipse fill=\"none\" stroke=\"black\" cx=\"316.8\" cy=\"-332.08\" rx=\"54.69\" ry=\"54.69\"/>\n<text text-anchor=\"middle\" x=\"316.8\" y=\"-328.38\" font-family=\"Times New Roman,serif\" font-size=\"14.00\">interestingly</text>\n</g>\n<!-- lPERIOD&#45;&gt;ceiba -->\n<g id=\"edge8\" class=\"edge\">\n<title>lPERIOD&#45;&gt;ceiba</title>\n<path fill=\"none\" stroke=\"black\" d=\"M319.8,-122.97C319.8,-105.51 319.8,-85.62 319.8,-68.75\"/>\n<polygon fill=\"black\" stroke=\"black\" points=\"323.3,-68.68 319.8,-58.68 316.3,-68.68 323.3,-68.68\"/>\n<text text-anchor=\"middle\" x=\"323.3\" y=\"-80.29\" font-family=\"Times New Roman,serif\" font-size=\"14.00\">0</text>\n</g>\n<!-- many -->\n<g id=\"node10\" class=\"node\">\n<title>many</title>\n<ellipse fill=\"none\" stroke=\"black\" cx=\"46.8\" cy=\"-167.99\" rx=\"30.59\" ry=\"30.59\"/>\n<text text-anchor=\"middle\" x=\"46.8\" y=\"-164.29\" font-family=\"Times New Roman,serif\" font-size=\"14.00\">many</text>\n</g>\n<!-- traditional -->\n<g id=\"node14\" class=\"node\">\n<title>traditional</title>\n<ellipse fill=\"none\" stroke=\"black\" cx=\"46.8\" cy=\"-332.08\" rx=\"46.59\" ry=\"46.59\"/>\n<text text-anchor=\"middle\" x=\"46.8\" y=\"-328.38\" font-family=\"Times New Roman,serif\" font-size=\"14.00\">traditional</text>\n</g>\n<!-- medicine&#45;&gt;traditional -->\n<g id=\"edge9\" class=\"edge\">\n<title>medicine&#45;&gt;traditional</title>\n<path fill=\"none\" stroke=\"black\" d=\"M112.07,-443.96C100.97,-425.12 87.34,-401.95 75.4,-381.68\"/>\n<polygon fill=\"black\" stroke=\"black\" points=\"78.32,-379.73 70.23,-372.89 72.29,-383.28 78.32,-379.73\"/>\n<text text-anchor=\"middle\" x=\"98.3\" y=\"-408.47\" font-family=\"Times New Roman,serif\" font-size=\"14.00\">0</text>\n</g>\n<!-- of -->\n<g id=\"node12\" class=\"node\">\n<title>of</title>\n<ellipse fill=\"none\" stroke=\"black\" cx=\"354.8\" cy=\"-597.87\" rx=\"18.4\" ry=\"18.4\"/>\n<text text-anchor=\"middle\" x=\"354.8\" y=\"-594.17\" font-family=\"Times New Roman,serif\" font-size=\"14.00\">of</text>\n</g>\n<!-- stone -->\n<g id=\"node13\" class=\"node\">\n<title>stone</title>\n<ellipse fill=\"none\" stroke=\"black\" cx=\"415.8\" cy=\"-481.87\" rx=\"29.5\" ry=\"29.5\"/>\n<text text-anchor=\"middle\" x=\"415.8\" y=\"-478.17\" font-family=\"Times New Roman,serif\" font-size=\"14.00\">stone</text>\n</g>\n<!-- of&#45;&gt;stone -->\n<g id=\"edge10\" class=\"edge\">\n<title>of&#45;&gt;stone</title>\n<path fill=\"none\" stroke=\"black\" d=\"M363.02,-581.49C371.84,-565.01 386.13,-538.31 397.62,-516.85\"/>\n<polygon fill=\"black\" stroke=\"black\" points=\"400.71,-518.48 402.34,-508.01 394.54,-515.18 400.71,-518.48\"/>\n<text text-anchor=\"middle\" x=\"384.3\" y=\"-547.87\" font-family=\"Times New Roman,serif\" font-size=\"14.00\">2</text>\n</g>\n<!-- of&#45;&gt;treatment -->\n<g id=\"edge11\" class=\"edge\">\n<title>of&#45;&gt;treatment</title>\n<path fill=\"none\" stroke=\"black\" d=\"M349.06,-580.53C344.73,-568.18 338.53,-550.51 332.59,-533.59\"/>\n<polygon fill=\"black\" stroke=\"black\" points=\"335.76,-532.04 329.14,-523.76 329.15,-534.36 335.76,-532.04\"/>\n<text text-anchor=\"middle\" x=\"343.3\" y=\"-547.87\" font-family=\"Times New Roman,serif\" font-size=\"14.00\">1</text>\n</g>\n<!-- urinary -->\n<g id=\"node17\" class=\"node\">\n<title>urinary</title>\n<ellipse fill=\"none\" stroke=\"black\" cx=\"425.8\" cy=\"-332.08\" rx=\"36.29\" ry=\"36.29\"/>\n<text text-anchor=\"middle\" x=\"425.8\" y=\"-328.38\" font-family=\"Times New Roman,serif\" font-size=\"14.00\">urinary</text>\n</g>\n<!-- stone&#45;&gt;urinary -->\n<g id=\"edge12\" class=\"edge\">\n<title>stone&#45;&gt;urinary</title>\n<path fill=\"none\" stroke=\"black\" d=\"M417.72,-452.38C419.14,-431.46 421.09,-402.62 422.72,-378.53\"/>\n<polygon fill=\"black\" stroke=\"black\" points=\"426.21,-378.75 423.4,-368.54 419.23,-378.28 426.21,-378.75\"/>\n<text text-anchor=\"middle\" x=\"424.3\" y=\"-408.47\" font-family=\"Times New Roman,serif\" font-size=\"14.00\">0</text>\n</g>\n<!-- tribe -->\n<g id=\"node16\" class=\"node\">\n<title>tribe</title>\n<ellipse fill=\"none\" stroke=\"black\" cx=\"137.8\" cy=\"-332.08\" rx=\"26.8\" ry=\"26.8\"/>\n<text text-anchor=\"middle\" x=\"137.8\" y=\"-328.38\" font-family=\"Times New Roman,serif\" font-size=\"14.00\">tribe</text>\n</g>\n<!-- tribe&#45;&gt;indian -->\n<g id=\"edge13\" class=\"edge\">\n<title>tribe&#45;&gt;indian</title>\n<path fill=\"none\" stroke=\"black\" d=\"M136.21,-305.4C134.64,-280 132.22,-240.72 130.38,-210.82\"/>\n<polygon fill=\"black\" stroke=\"black\" points=\"133.86,-210.44 129.75,-200.67 126.87,-210.87 133.86,-210.44\"/>\n<text text-anchor=\"middle\" x=\"136.3\" y=\"-248.28\" font-family=\"Times New Roman,serif\" font-size=\"14.00\">0</text>\n</g>\n<!-- tribe&#45;&gt;many -->\n<g id=\"edge14\" class=\"edge\">\n<title>tribe&#45;&gt;many</title>\n<path fill=\"none\" stroke=\"black\" d=\"M125.14,-308.54C109.94,-281.46 84.27,-235.73 66.47,-204.03\"/>\n<polygon fill=\"black\" stroke=\"black\" points=\"69.4,-202.09 61.45,-195.09 63.29,-205.52 69.4,-202.09\"/>\n<text text-anchor=\"middle\" x=\"98.3\" y=\"-248.28\" font-family=\"Times New Roman,serif\" font-size=\"14.00\">0</text>\n</g>\n<!-- use&#45;&gt;fruit -->\n<g id=\"edge15\" class=\"edge\">\n<title>use&#45;&gt;fruit</title>\n<path fill=\"none\" stroke=\"black\" d=\"M217.8,-459.06C217.8,-435.21 217.8,-396.63 217.8,-368.44\"/>\n<polygon fill=\"black\" stroke=\"black\" points=\"221.3,-368.19 217.8,-358.19 214.3,-368.19 221.3,-368.19\"/>\n<text text-anchor=\"middle\" x=\"221.3\" y=\"-408.47\" font-family=\"Times New Roman,serif\" font-size=\"14.00\">2</text>\n</g>\n<!-- use&#45;&gt;interestingly -->\n<g id=\"edge16\" class=\"edge\">\n<title>use&#45;&gt;interestingly</title>\n<path fill=\"none\" stroke=\"black\" d=\"M230.13,-462.45C242.86,-443.46 263.3,-412.95 281.13,-386.32\"/>\n<polygon fill=\"black\" stroke=\"black\" points=\"284.16,-388.09 286.82,-377.84 278.34,-384.2 284.16,-388.09\"/>\n<text text-anchor=\"middle\" x=\"270.3\" y=\"-408.47\" font-family=\"Times New Roman,serif\" font-size=\"14.00\">0</text>\n</g>\n<!-- use&#45;&gt;tribe -->\n<g id=\"edge17\" class=\"edge\">\n<title>use&#45;&gt;tribe</title>\n<path fill=\"none\" stroke=\"black\" d=\"M207.34,-461.55C194.04,-436.98 170.89,-394.22 154.98,-364.83\"/>\n<polygon fill=\"black\" stroke=\"black\" points=\"157.93,-362.93 150.09,-355.8 151.78,-366.26 157.93,-362.93\"/>\n<text text-anchor=\"middle\" x=\"185.3\" y=\"-408.47\" font-family=\"Times New Roman,serif\" font-size=\"14.00\">1</text>\n</g>\n</g>\n</svg>\n",
      "text/plain": [
       "<graphviz.sources.Source at 0x21e82de4880>"
      ]
     },
     "execution_count": 44,
     "metadata": {},
     "output_type": "execute_result"
    }
   ],
   "source": [
    "Source(to_dot(df_tmp.iloc[0].graph))"
   ]
  },
  {
   "cell_type": "code",
   "execution_count": 45,
   "metadata": {},
   "outputs": [
    {
     "data": {
      "image/svg+xml": "<?xml version=\"1.0\" encoding=\"UTF-8\" standalone=\"no\"?>\n<!DOCTYPE svg PUBLIC \"-//W3C//DTD SVG 1.1//EN\"\n \"http://www.w3.org/Graphics/SVG/1.1/DTD/svg11.dtd\">\n<!-- Generated by graphviz version 2.50.0 (0)\n -->\n<!-- Title: finite_state_machine Pages: 1 -->\n<svg width=\"673pt\" height=\"480pt\"\n viewBox=\"0.00 0.00 692.69 493.77\" xmlns=\"http://www.w3.org/2000/svg\" xmlns:xlink=\"http://www.w3.org/1999/xlink\">\n<g id=\"graph0\" class=\"graph\" transform=\"scale(0.97 0.97) rotate(0) translate(4 489.77)\">\n<title>finite_state_machine</title>\n<polygon fill=\"white\" stroke=\"transparent\" points=\"-4,4 -4,-489.77 688.69,-489.77 688.69,4 -4,4\"/>\n<!-- COORD -->\n<g id=\"node1\" class=\"node\">\n<title>COORD</title>\n<ellipse fill=\"none\" stroke=\"black\" cx=\"214.7\" cy=\"-338.58\" rx=\"41.69\" ry=\"41.69\"/>\n<text text-anchor=\"middle\" x=\"214.7\" y=\"-334.88\" font-family=\"Times New Roman,serif\" font-size=\"14.00\">COORD</text>\n</g>\n<!-- blame -->\n<g id=\"node2\" class=\"node\">\n<title>blame</title>\n<ellipse fill=\"none\" stroke=\"black\" cx=\"214.7\" cy=\"-182.29\" rx=\"32.49\" ry=\"32.49\"/>\n<text text-anchor=\"middle\" x=\"214.7\" y=\"-178.59\" font-family=\"Times New Roman,serif\" font-size=\"14.00\">blame</text>\n</g>\n<!-- COORD&#45;&gt;blame -->\n<g id=\"edge1\" class=\"edge\">\n<title>COORD&#45;&gt;blame</title>\n<path fill=\"none\" stroke=\"black\" d=\"M214.7,-296.64C214.7,-274.59 214.7,-247.45 214.7,-225.26\"/>\n<polygon fill=\"black\" stroke=\"black\" points=\"218.2,-225.12 214.7,-215.12 211.2,-225.12 218.2,-225.12\"/>\n<text text-anchor=\"middle\" x=\"218.2\" y=\"-254.78\" font-family=\"Times New Roman,serif\" font-size=\"14.00\">0</text>\n</g>\n<!-- factor -->\n<g id=\"node7\" class=\"node\">\n<title>factor</title>\n<ellipse fill=\"none\" stroke=\"black\" cx=\"296.7\" cy=\"-182.29\" rx=\"31.4\" ry=\"31.4\"/>\n<text text-anchor=\"middle\" x=\"296.7\" y=\"-178.59\" font-family=\"Times New Roman,serif\" font-size=\"14.00\">factor</text>\n</g>\n<!-- COORD&#45;&gt;factor -->\n<g id=\"edge2\" class=\"edge\">\n<title>COORD&#45;&gt;factor</title>\n<path fill=\"none\" stroke=\"black\" d=\"M233.92,-301.4C247.1,-276.61 264.51,-243.85 277.65,-219.12\"/>\n<polygon fill=\"black\" stroke=\"black\" points=\"280.86,-220.54 282.46,-210.07 274.68,-217.26 280.86,-220.54\"/>\n<text text-anchor=\"middle\" x=\"263.2\" y=\"-254.78\" font-family=\"Times New Roman,serif\" font-size=\"14.00\">0</text>\n</g>\n<!-- notoriously -->\n<g id=\"node11\" class=\"node\">\n<title>notoriously</title>\n<ellipse fill=\"none\" stroke=\"black\" cx=\"50.7\" cy=\"-182.29\" rx=\"50.89\" ry=\"50.89\"/>\n<text text-anchor=\"middle\" x=\"50.7\" y=\"-178.59\" font-family=\"Times New Roman,serif\" font-size=\"14.00\">notoriously</text>\n</g>\n<!-- COORD&#45;&gt;notoriously -->\n<g id=\"edge3\" class=\"edge\">\n<title>COORD&#45;&gt;notoriously</title>\n<path fill=\"none\" stroke=\"black\" d=\"M184.62,-309.28C159.4,-285.56 123.07,-251.38 94.61,-224.6\"/>\n<polygon fill=\"black\" stroke=\"black\" points=\"96.86,-221.91 87.18,-217.61 92.06,-227.01 96.86,-221.91\"/>\n<text text-anchor=\"middle\" x=\"140.2\" y=\"-254.78\" font-family=\"Times New Roman,serif\" font-size=\"14.00\">0</text>\n</g>\n<!-- salt -->\n<g id=\"node15\" class=\"node\">\n<title>salt</title>\n<ellipse fill=\"none\" stroke=\"black\" cx=\"141.7\" cy=\"-182.29\" rx=\"23\" ry=\"23\"/>\n<text text-anchor=\"middle\" x=\"141.7\" y=\"-178.59\" font-family=\"Times New Roman,serif\" font-size=\"14.00\">salt</text>\n</g>\n<!-- COORD&#45;&gt;salt -->\n<g id=\"edge4\" class=\"edge\">\n<title>COORD&#45;&gt;salt</title>\n<path fill=\"none\" stroke=\"black\" d=\"M197.21,-300.62C184.47,-273.71 167.46,-237.73 155.63,-212.74\"/>\n<polygon fill=\"black\" stroke=\"black\" points=\"158.66,-210.96 151.22,-203.42 152.33,-213.96 158.66,-210.96\"/>\n<text text-anchor=\"middle\" x=\"183.2\" y=\"-254.78\" font-family=\"Times New Roman,serif\" font-size=\"14.00\">2</text>\n</g>\n<!-- calcium -->\n<g id=\"node3\" class=\"node\">\n<title>calcium</title>\n<ellipse fill=\"none\" stroke=\"black\" cx=\"645.7\" cy=\"-182.29\" rx=\"38.99\" ry=\"38.99\"/>\n<text text-anchor=\"middle\" x=\"645.7\" y=\"-178.59\" font-family=\"Times New Roman,serif\" font-size=\"14.00\">calcium</text>\n</g>\n<!-- cause -->\n<g id=\"node4\" class=\"node\">\n<title>cause</title>\n<ellipse fill=\"none\" stroke=\"black\" cx=\"350.7\" cy=\"-338.58\" rx=\"30.59\" ry=\"30.59\"/>\n<text text-anchor=\"middle\" x=\"350.7\" y=\"-334.88\" font-family=\"Times New Roman,serif\" font-size=\"14.00\">cause</text>\n</g>\n<!-- increase -->\n<g id=\"node10\" class=\"node\">\n<title>increase</title>\n<ellipse fill=\"none\" stroke=\"black\" cx=\"427.7\" cy=\"-182.29\" rx=\"39.79\" ry=\"39.79\"/>\n<text text-anchor=\"middle\" x=\"427.7\" y=\"-178.59\" font-family=\"Times New Roman,serif\" font-size=\"14.00\">increase</text>\n</g>\n<!-- cause&#45;&gt;increase -->\n<g id=\"edge5\" class=\"edge\">\n<title>cause&#45;&gt;increase</title>\n<path fill=\"none\" stroke=\"black\" d=\"M364.11,-310.7C375.59,-287.69 392.36,-254.1 405.79,-227.19\"/>\n<polygon fill=\"black\" stroke=\"black\" points=\"409.05,-228.48 410.39,-217.97 402.79,-225.36 409.05,-228.48\"/>\n<text text-anchor=\"middle\" x=\"397.2\" y=\"-254.78\" font-family=\"Times New Roman,serif\" font-size=\"14.00\">2</text>\n</g>\n<!-- consider -->\n<g id=\"node5\" class=\"node\">\n<title>consider</title>\n<ellipse fill=\"none\" stroke=\"black\" cx=\"380.7\" cy=\"-40.3\" rx=\"40.09\" ry=\"40.09\"/>\n<text text-anchor=\"middle\" x=\"380.7\" y=\"-36.6\" font-family=\"Times New Roman,serif\" font-size=\"14.00\">consider</text>\n</g>\n<!-- excretion -->\n<g id=\"node6\" class=\"node\">\n<title>excretion</title>\n<ellipse fill=\"none\" stroke=\"black\" cx=\"544.7\" cy=\"-182.29\" rx=\"43.59\" ry=\"43.59\"/>\n<text text-anchor=\"middle\" x=\"544.7\" y=\"-178.59\" font-family=\"Times New Roman,serif\" font-size=\"14.00\">excretion</text>\n</g>\n<!-- urinary -->\n<g id=\"node17\" class=\"node\">\n<title>urinary</title>\n<ellipse fill=\"none\" stroke=\"black\" cx=\"544.7\" cy=\"-40.3\" rx=\"36.29\" ry=\"36.29\"/>\n<text text-anchor=\"middle\" x=\"544.7\" y=\"-36.6\" font-family=\"Times New Roman,serif\" font-size=\"14.00\">urinary</text>\n</g>\n<!-- excretion&#45;&gt;urinary -->\n<g id=\"edge6\" class=\"edge\">\n<title>excretion&#45;&gt;urinary</title>\n<path fill=\"none\" stroke=\"black\" d=\"M544.7,-138.53C544.7,-122.14 544.7,-103.41 544.7,-86.78\"/>\n<polygon fill=\"black\" stroke=\"black\" points=\"548.2,-86.74 544.7,-76.74 541.2,-86.74 548.2,-86.74\"/>\n<text text-anchor=\"middle\" x=\"548.2\" y=\"-102.39\" font-family=\"Times New Roman,serif\" font-size=\"14.00\">0</text>\n</g>\n<!-- factor&#45;&gt;consider -->\n<g id=\"edge7\" class=\"edge\">\n<title>factor&#45;&gt;consider</title>\n<path fill=\"none\" stroke=\"black\" d=\"M312.5,-154.96C324.51,-134.94 341.27,-106.99 355.18,-83.82\"/>\n<polygon fill=\"black\" stroke=\"black\" points=\"358.21,-85.58 360.35,-75.2 352.21,-81.97 358.21,-85.58\"/>\n<text text-anchor=\"middle\" x=\"349.2\" y=\"-102.39\" font-family=\"Times New Roman,serif\" font-size=\"14.00\">0</text>\n</g>\n<!-- risk -->\n<g id=\"node14\" class=\"node\">\n<title>risk</title>\n<ellipse fill=\"none\" stroke=\"black\" cx=\"229.7\" cy=\"-40.3\" rx=\"24.1\" ry=\"24.1\"/>\n<text text-anchor=\"middle\" x=\"229.7\" y=\"-36.6\" font-family=\"Times New Roman,serif\" font-size=\"14.00\">risk</text>\n</g>\n<!-- factor&#45;&gt;risk -->\n<g id=\"edge8\" class=\"edge\">\n<title>factor&#45;&gt;risk</title>\n<path fill=\"none\" stroke=\"black\" d=\"M283.62,-153.96C272.32,-130.36 256.02,-96.29 244.3,-71.8\"/>\n<polygon fill=\"black\" stroke=\"black\" points=\"247.37,-70.11 239.89,-62.61 241.05,-73.14 247.37,-70.11\"/>\n<text text-anchor=\"middle\" x=\"266.2\" y=\"-102.39\" font-family=\"Times New Roman,serif\" font-size=\"14.00\">0</text>\n</g>\n<!-- thus -->\n<g id=\"node16\" class=\"node\">\n<title>thus</title>\n<ellipse fill=\"none\" stroke=\"black\" cx=\"296.7\" cy=\"-40.3\" rx=\"25.2\" ry=\"25.2\"/>\n<text text-anchor=\"middle\" x=\"296.7\" y=\"-36.6\" font-family=\"Times New Roman,serif\" font-size=\"14.00\">thus</text>\n</g>\n<!-- factor&#45;&gt;thus -->\n<g id=\"edge9\" class=\"edge\">\n<title>factor&#45;&gt;thus</title>\n<path fill=\"none\" stroke=\"black\" d=\"M296.7,-150.91C296.7,-128.88 296.7,-99.03 296.7,-76.04\"/>\n<polygon fill=\"black\" stroke=\"black\" points=\"300.2,-76.02 296.7,-66.02 293.2,-76.02 300.2,-76.02\"/>\n<text text-anchor=\"middle\" x=\"300.2\" y=\"-102.39\" font-family=\"Times New Roman,serif\" font-size=\"14.00\">0</text>\n</g>\n<!-- for -->\n<g id=\"node8\" class=\"node\">\n<title>for</title>\n<ellipse fill=\"none\" stroke=\"black\" cx=\"322.7\" cy=\"-464.97\" rx=\"20.6\" ry=\"20.6\"/>\n<text text-anchor=\"middle\" x=\"322.7\" y=\"-461.27\" font-family=\"Times New Roman,serif\" font-size=\"14.00\">for</text>\n</g>\n<!-- for&#45;&gt;COORD -->\n<g id=\"edge10\" class=\"edge\">\n<title>for&#45;&gt;COORD</title>\n<path fill=\"none\" stroke=\"black\" d=\"M305.73,-452.9C295.76,-445.93 283.28,-436.34 273.7,-426.17 261.71,-413.46 250.41,-398.09 240.97,-383.86\"/>\n<polygon fill=\"black\" stroke=\"black\" points=\"243.72,-381.66 235.34,-375.17 237.84,-385.47 243.72,-381.66\"/>\n<text text-anchor=\"middle\" x=\"277.2\" y=\"-414.97\" font-family=\"Times New Roman,serif\" font-size=\"14.00\">1</text>\n</g>\n<!-- for&#45;&gt;cause -->\n<g id=\"edge11\" class=\"edge\">\n<title>for&#45;&gt;cause</title>\n<path fill=\"none\" stroke=\"black\" d=\"M327.07,-444.54C331.03,-426.96 336.97,-400.55 341.91,-378.62\"/>\n<polygon fill=\"black\" stroke=\"black\" points=\"345.38,-379.11 344.17,-368.59 338.56,-377.57 345.38,-379.11\"/>\n<text text-anchor=\"middle\" x=\"337.2\" y=\"-414.97\" font-family=\"Times New Roman,serif\" font-size=\"14.00\">2</text>\n</g>\n<!-- for&#45;&gt;factor -->\n<g id=\"edge12\" class=\"edge\">\n<title>for&#45;&gt;factor</title>\n<path fill=\"none\" stroke=\"black\" d=\"M316.33,-444.99C311.91,-430.88 306.36,-411.05 303.7,-393.17 295.01,-334.83 294.51,-266.4 295.31,-223.94\"/>\n<polygon fill=\"black\" stroke=\"black\" points=\"298.82,-223.8 295.54,-213.72 291.82,-223.64 298.82,-223.8\"/>\n<text text-anchor=\"middle\" x=\"307.2\" y=\"-334.88\" font-family=\"Times New Roman,serif\" font-size=\"14.00\">1</text>\n</g>\n<!-- osteoporosis -->\n<g id=\"node13\" class=\"node\">\n<title>osteoporosis</title>\n<ellipse fill=\"none\" stroke=\"black\" cx=\"453.7\" cy=\"-338.58\" rx=\"54.69\" ry=\"54.69\"/>\n<text text-anchor=\"middle\" x=\"453.7\" y=\"-334.88\" font-family=\"Times New Roman,serif\" font-size=\"14.00\">osteoporosis</text>\n</g>\n<!-- for&#45;&gt;osteoporosis -->\n<g id=\"edge13\" class=\"edge\">\n<title>for&#45;&gt;osteoporosis</title>\n<path fill=\"none\" stroke=\"black\" d=\"M337.47,-449.94C354.27,-433.99 382.53,-407.15 406.98,-383.94\"/>\n<polygon fill=\"black\" stroke=\"black\" points=\"409.59,-386.29 414.43,-376.86 404.77,-381.21 409.59,-386.29\"/>\n<text text-anchor=\"middle\" x=\"379.2\" y=\"-414.97\" font-family=\"Times New Roman,serif\" font-size=\"14.00\">2</text>\n</g>\n<!-- in -->\n<g id=\"node9\" class=\"node\">\n<title>in</title>\n<ellipse fill=\"none\" stroke=\"black\" cx=\"544.7\" cy=\"-338.58\" rx=\"18\" ry=\"18\"/>\n<text text-anchor=\"middle\" x=\"544.7\" y=\"-334.88\" font-family=\"Times New Roman,serif\" font-size=\"14.00\">in</text>\n</g>\n<!-- in&#45;&gt;excretion -->\n<g id=\"edge14\" class=\"edge\">\n<title>in&#45;&gt;excretion</title>\n<path fill=\"none\" stroke=\"black\" d=\"M544.7,-320.48C544.7,-300.26 544.7,-265.66 544.7,-236.26\"/>\n<polygon fill=\"black\" stroke=\"black\" points=\"548.2,-236.11 544.7,-226.11 541.2,-236.11 548.2,-236.11\"/>\n<text text-anchor=\"middle\" x=\"548.2\" y=\"-254.78\" font-family=\"Times New Roman,serif\" font-size=\"14.00\">2</text>\n</g>\n<!-- in&#45;&gt;increase -->\n<g id=\"edge15\" class=\"edge\">\n<title>in&#45;&gt;increase</title>\n<path fill=\"none\" stroke=\"black\" d=\"M537.93,-321.49C533,-310.51 525.79,-295.87 517.7,-283.98 501.76,-260.59 480.83,-236.86 463.17,-218.32\"/>\n<polygon fill=\"black\" stroke=\"black\" points=\"465.28,-215.47 455.82,-210.7 460.25,-220.33 465.28,-215.47\"/>\n<text text-anchor=\"middle\" x=\"505.2\" y=\"-254.78\" font-family=\"Times New Roman,serif\" font-size=\"14.00\">1</text>\n</g>\n<!-- of -->\n<g id=\"node12\" class=\"node\">\n<title>of</title>\n<ellipse fill=\"none\" stroke=\"black\" cx=\"622.7\" cy=\"-338.58\" rx=\"18.4\" ry=\"18.4\"/>\n<text text-anchor=\"middle\" x=\"622.7\" y=\"-334.88\" font-family=\"Times New Roman,serif\" font-size=\"14.00\">of</text>\n</g>\n<!-- of&#45;&gt;calcium -->\n<g id=\"edge16\" class=\"edge\">\n<title>of&#45;&gt;calcium</title>\n<path fill=\"none\" stroke=\"black\" d=\"M625.24,-320.48C628.44,-299.05 634.05,-261.44 638.58,-231.02\"/>\n<polygon fill=\"black\" stroke=\"black\" points=\"642.06,-231.41 640.07,-221.01 635.14,-230.38 642.06,-231.41\"/>\n<text text-anchor=\"middle\" x=\"638.2\" y=\"-254.78\" font-family=\"Times New Roman,serif\" font-size=\"14.00\">2</text>\n</g>\n<!-- of&#45;&gt;excretion -->\n<g id=\"edge17\" class=\"edge\">\n<title>of&#45;&gt;excretion</title>\n<path fill=\"none\" stroke=\"black\" d=\"M614.79,-321.94C604.04,-300.67 584.34,-261.71 568.56,-230.49\"/>\n<polygon fill=\"black\" stroke=\"black\" points=\"571.64,-228.84 564.01,-221.49 565.4,-232 571.64,-228.84\"/>\n<text text-anchor=\"middle\" x=\"589.2\" y=\"-254.78\" font-family=\"Times New Roman,serif\" font-size=\"14.00\">1</text>\n</g>\n</g>\n</svg>\n",
      "text/plain": [
       "<graphviz.sources.Source at 0x21e82de6e60>"
      ]
     },
     "execution_count": 45,
     "metadata": {},
     "output_type": "execute_result"
    }
   ],
   "source": [
    "Source(to_dot(df_tmp.iloc[1].graph))"
   ]
  },
  {
   "cell_type": "code",
   "execution_count": 46,
   "metadata": {},
   "outputs": [
    {
     "data": {
      "image/svg+xml": "<?xml version=\"1.0\" encoding=\"UTF-8\" standalone=\"no\"?>\n<!DOCTYPE svg PUBLIC \"-//W3C//DTD SVG 1.1//EN\"\n \"http://www.w3.org/Graphics/SVG/1.1/DTD/svg11.dtd\">\n<!-- Generated by graphviz version 2.50.0 (0)\n -->\n<!-- Title: finite_state_machine Pages: 1 -->\n<svg width=\"835pt\" height=\"664pt\"\n viewBox=\"0.00 0.00 859.30 683.46\" xmlns=\"http://www.w3.org/2000/svg\" xmlns:xlink=\"http://www.w3.org/1999/xlink\">\n<g id=\"graph0\" class=\"graph\" transform=\"scale(0.97 0.97) rotate(0) translate(4 679.46)\">\n<title>finite_state_machine</title>\n<polygon fill=\"white\" stroke=\"transparent\" points=\"-4,4 -4,-679.46 855.3,-679.46 855.3,4 -4,4\"/>\n<!-- COORD -->\n<g id=\"node1\" class=\"node\">\n<title>COORD</title>\n<ellipse fill=\"none\" stroke=\"black\" cx=\"459.85\" cy=\"-387.97\" rx=\"41.69\" ry=\"41.69\"/>\n<text text-anchor=\"middle\" x=\"459.85\" y=\"-384.27\" font-family=\"Times New Roman,serif\" font-size=\"14.00\">COORD</text>\n</g>\n<!-- complication -->\n<g id=\"node4\" class=\"node\">\n<title>complication</title>\n<ellipse fill=\"none\" stroke=\"black\" cx=\"112.85\" cy=\"-238.18\" rx=\"57.39\" ry=\"57.39\"/>\n<text text-anchor=\"middle\" x=\"112.85\" y=\"-234.48\" font-family=\"Times New Roman,serif\" font-size=\"14.00\">complication</text>\n</g>\n<!-- COORD&#45;&gt;complication -->\n<g id=\"edge1\" class=\"edge\">\n<title>COORD&#45;&gt;complication</title>\n<path fill=\"none\" stroke=\"black\" d=\"M419.21,-378.97C362.68,-366.69 258.33,-339.86 178.85,-295.38 173.25,-292.24 167.68,-288.59 162.29,-284.69\"/>\n<polygon fill=\"black\" stroke=\"black\" points=\"164.07,-281.64 153.99,-278.37 159.83,-287.21 164.07,-281.64\"/>\n<text text-anchor=\"middle\" x=\"248.35\" y=\"-317.18\" font-family=\"Times New Roman,serif\" font-size=\"14.00\">0</text>\n</g>\n<!-- diabete -->\n<g id=\"node7\" class=\"node\">\n<title>diabete</title>\n<ellipse fill=\"none\" stroke=\"black\" cx=\"682.85\" cy=\"-238.18\" rx=\"36.29\" ry=\"36.29\"/>\n<text text-anchor=\"middle\" x=\"682.85\" y=\"-234.48\" font-family=\"Times New Roman,serif\" font-size=\"14.00\">diabete</text>\n</g>\n<!-- COORD&#45;&gt;diabete -->\n<g id=\"edge2\" class=\"edge\">\n<title>COORD&#45;&gt;diabete</title>\n<path fill=\"none\" stroke=\"black\" d=\"M490.93,-359.92C497.28,-355.07 504.1,-350.31 510.85,-346.38 563.42,-315.78 589.01,-331.64 637.85,-295.38 644.77,-290.24 651.23,-283.78 656.98,-277.1\"/>\n<polygon fill=\"black\" stroke=\"black\" points=\"659.79,-279.19 663.38,-269.22 654.36,-274.78 659.79,-279.19\"/>\n<text text-anchor=\"middle\" x=\"609.35\" y=\"-317.18\" font-family=\"Times New Roman,serif\" font-size=\"14.00\">0</text>\n</g>\n<!-- food -->\n<g id=\"node8\" class=\"node\">\n<title>food</title>\n<ellipse fill=\"none\" stroke=\"black\" cx=\"763.85\" cy=\"-238.18\" rx=\"26.8\" ry=\"26.8\"/>\n<text text-anchor=\"middle\" x=\"763.85\" y=\"-234.48\" font-family=\"Times New Roman,serif\" font-size=\"14.00\">food</text>\n</g>\n<!-- COORD&#45;&gt;food -->\n<g id=\"edge3\" class=\"edge\">\n<title>COORD&#45;&gt;food</title>\n<path fill=\"none\" stroke=\"black\" d=\"M490.04,-358.94C496.53,-354.11 503.62,-349.61 510.85,-346.38 554.48,-326.88 570.31,-339.21 616.85,-328.38 666.98,-316.72 686.72,-326.32 727.85,-295.38 736.18,-289.11 743.1,-280.3 748.58,-271.52\"/>\n<polygon fill=\"black\" stroke=\"black\" points=\"751.62,-273.25 753.57,-262.83 745.55,-269.76 751.62,-273.25\"/>\n<text text-anchor=\"middle\" x=\"698.35\" y=\"-317.18\" font-family=\"Times New Roman,serif\" font-size=\"14.00\">0</text>\n</g>\n<!-- functional -->\n<g id=\"node10\" class=\"node\">\n<title>functional</title>\n<ellipse fill=\"none\" stroke=\"black\" cx=\"347.85\" cy=\"-238.18\" rx=\"46.29\" ry=\"46.29\"/>\n<text text-anchor=\"middle\" x=\"347.85\" y=\"-234.48\" font-family=\"Times New Roman,serif\" font-size=\"14.00\">functional</text>\n</g>\n<!-- COORD&#45;&gt;functional -->\n<g id=\"edge4\" class=\"edge\">\n<title>COORD&#45;&gt;functional</title>\n<path fill=\"none\" stroke=\"black\" d=\"M434.99,-354.17C419.27,-333.42 398.73,-306.33 381.55,-283.65\"/>\n<polygon fill=\"black\" stroke=\"black\" points=\"384.21,-281.38 375.39,-275.52 378.64,-285.6 384.21,-281.38\"/>\n<text text-anchor=\"middle\" x=\"418.35\" y=\"-317.18\" font-family=\"Times New Roman,serif\" font-size=\"14.00\">0</text>\n</g>\n<!-- mitigation -->\n<g id=\"node13\" class=\"node\">\n<title>mitigation</title>\n<ellipse fill=\"none\" stroke=\"black\" cx=\"459.85\" cy=\"-238.18\" rx=\"47.39\" ry=\"47.39\"/>\n<text text-anchor=\"middle\" x=\"459.85\" y=\"-234.48\" font-family=\"Times New Roman,serif\" font-size=\"14.00\">mitigation</text>\n</g>\n<!-- COORD&#45;&gt;mitigation -->\n<g id=\"edge5\" class=\"edge\">\n<title>COORD&#45;&gt;mitigation</title>\n<path fill=\"none\" stroke=\"black\" d=\"M459.85,-346.2C459.85,-330.7 459.85,-312.76 459.85,-296.04\"/>\n<polygon fill=\"black\" stroke=\"black\" points=\"463.35,-295.83 459.85,-285.83 456.35,-295.83 463.35,-295.83\"/>\n<text text-anchor=\"middle\" x=\"463.35\" y=\"-317.18\" font-family=\"Times New Roman,serif\" font-size=\"14.00\">0</text>\n</g>\n<!-- prevention -->\n<g id=\"node16\" class=\"node\">\n<title>prevention</title>\n<ellipse fill=\"none\" stroke=\"black\" cx=\"235.85\" cy=\"-238.18\" rx=\"48.19\" ry=\"48.19\"/>\n<text text-anchor=\"middle\" x=\"235.85\" y=\"-234.48\" font-family=\"Times New Roman,serif\" font-size=\"14.00\">prevention</text>\n</g>\n<!-- COORD&#45;&gt;prevention -->\n<g id=\"edge6\" class=\"edge\">\n<title>COORD&#45;&gt;prevention</title>\n<path fill=\"none\" stroke=\"black\" d=\"M422.25,-370.07C387.19,-353.46 334.23,-326.18 292.85,-295.38 287.02,-291.04 281.2,-286.14 275.63,-281.07\"/>\n<polygon fill=\"black\" stroke=\"black\" points=\"277.89,-278.39 268.2,-274.11 273.1,-283.5 277.89,-278.39\"/>\n<text text-anchor=\"middle\" x=\"344.35\" y=\"-317.18\" font-family=\"Times New Roman,serif\" font-size=\"14.00\">0</text>\n</g>\n<!-- supplement -->\n<g id=\"node20\" class=\"node\">\n<title>supplement</title>\n<ellipse fill=\"none\" stroke=\"black\" cx=\"576.85\" cy=\"-238.18\" rx=\"51.99\" ry=\"51.99\"/>\n<text text-anchor=\"middle\" x=\"576.85\" y=\"-234.48\" font-family=\"Times New Roman,serif\" font-size=\"14.00\">supplement</text>\n</g>\n<!-- COORD&#45;&gt;supplement -->\n<g id=\"edge7\" class=\"edge\">\n<title>COORD&#45;&gt;supplement</title>\n<path fill=\"none\" stroke=\"black\" d=\"M485.24,-354.91C500.86,-335.17 521.18,-309.5 538.71,-287.36\"/>\n<polygon fill=\"black\" stroke=\"black\" points=\"541.57,-289.39 545.03,-279.37 536.08,-285.04 541.57,-289.39\"/>\n<text text-anchor=\"middle\" x=\"517.35\" y=\"-317.18\" font-family=\"Times New Roman,serif\" font-size=\"14.00\">0</text>\n</g>\n<!-- HAS -->\n<g id=\"node2\" class=\"node\">\n<title>HAS</title>\n<ellipse fill=\"none\" stroke=\"black\" cx=\"42.85\" cy=\"-387.97\" rx=\"28.7\" ry=\"28.7\"/>\n<text text-anchor=\"middle\" x=\"42.85\" y=\"-384.27\" font-family=\"Times New Roman,serif\" font-size=\"14.00\">HAS</text>\n</g>\n<!-- HAS&#45;&gt;complication -->\n<g id=\"edge8\" class=\"edge\">\n<title>HAS&#45;&gt;complication</title>\n<path fill=\"none\" stroke=\"black\" d=\"M54.72,-361.9C62.85,-344.75 73.98,-321.25 84.33,-299.4\"/>\n<polygon fill=\"black\" stroke=\"black\" points=\"87.58,-300.7 88.7,-290.16 81.26,-297.7 87.58,-300.7\"/>\n<text text-anchor=\"middle\" x=\"79.35\" y=\"-317.18\" font-family=\"Times New Roman,serif\" font-size=\"14.00\">2</text>\n</g>\n<!-- its -->\n<g id=\"node12\" class=\"node\">\n<title>its</title>\n<ellipse fill=\"none\" stroke=\"black\" cx=\"18.85\" cy=\"-238.18\" rx=\"18.7\" ry=\"18.7\"/>\n<text text-anchor=\"middle\" x=\"18.85\" y=\"-234.48\" font-family=\"Times New Roman,serif\" font-size=\"14.00\">its</text>\n</g>\n<!-- HAS&#45;&gt;its -->\n<g id=\"edge9\" class=\"edge\">\n<title>HAS&#45;&gt;its</title>\n<path fill=\"none\" stroke=\"black\" d=\"M38.39,-359.52C34.13,-333.26 27.72,-293.83 23.42,-267.33\"/>\n<polygon fill=\"black\" stroke=\"black\" points=\"26.83,-266.49 21.77,-257.18 19.92,-267.62 26.83,-266.49\"/>\n<text text-anchor=\"middle\" x=\"37.35\" y=\"-317.18\" font-family=\"Times New Roman,serif\" font-size=\"14.00\">1</text>\n</g>\n<!-- as -->\n<g id=\"node3\" class=\"node\">\n<title>as</title>\n<ellipse fill=\"none\" stroke=\"black\" cx=\"526.85\" cy=\"-534.52\" rx=\"18.4\" ry=\"18.4\"/>\n<text text-anchor=\"middle\" x=\"526.85\" y=\"-530.82\" font-family=\"Times New Roman,serif\" font-size=\"14.00\">as</text>\n</g>\n<!-- as&#45;&gt;COORD -->\n<g id=\"edge10\" class=\"edge\">\n<title>as&#45;&gt;COORD</title>\n<path fill=\"none\" stroke=\"black\" d=\"M523.37,-516.45C519.36,-498.67 511.88,-470.29 500.85,-447.57 497.93,-441.57 494.43,-435.5 490.73,-429.67\"/>\n<polygon fill=\"black\" stroke=\"black\" points=\"493.63,-427.71 485.19,-421.31 487.8,-431.58 493.63,-427.71\"/>\n<text text-anchor=\"middle\" x=\"509.35\" y=\"-451.37\" font-family=\"Times New Roman,serif\" font-size=\"14.00\">2</text>\n</g>\n<!-- develop -->\n<g id=\"node6\" class=\"node\">\n<title>develop</title>\n<ellipse fill=\"none\" stroke=\"black\" cx=\"557.85\" cy=\"-387.97\" rx=\"38.19\" ry=\"38.19\"/>\n<text text-anchor=\"middle\" x=\"557.85\" y=\"-384.27\" font-family=\"Times New Roman,serif\" font-size=\"14.00\">develop</text>\n</g>\n<!-- as&#45;&gt;develop -->\n<g id=\"edge11\" class=\"edge\">\n<title>as&#45;&gt;develop</title>\n<path fill=\"none\" stroke=\"black\" d=\"M530.47,-516.65C534.7,-496.89 541.91,-463.31 547.86,-435.54\"/>\n<polygon fill=\"black\" stroke=\"black\" points=\"551.32,-436.13 549.99,-425.61 544.47,-434.66 551.32,-436.13\"/>\n<text text-anchor=\"middle\" x=\"548.35\" y=\"-451.37\" font-family=\"Times New Roman,serif\" font-size=\"14.00\">1</text>\n</g>\n<!-- demonstrate -->\n<g id=\"node5\" class=\"node\">\n<title>demonstrate</title>\n<ellipse fill=\"none\" stroke=\"black\" cx=\"620.85\" cy=\"-534.52\" rx=\"53.89\" ry=\"53.89\"/>\n<text text-anchor=\"middle\" x=\"620.85\" y=\"-530.82\" font-family=\"Times New Roman,serif\" font-size=\"14.00\">demonstrate</text>\n</g>\n<!-- demonstrate&#45;&gt;develop -->\n<g id=\"edge12\" class=\"edge\">\n<title>demonstrate&#45;&gt;develop</title>\n<path fill=\"none\" stroke=\"black\" d=\"M599.52,-484.58C592.24,-467.88 584.15,-449.31 577.04,-433.01\"/>\n<polygon fill=\"black\" stroke=\"black\" points=\"580.19,-431.48 572.99,-423.71 573.78,-434.28 580.19,-431.48\"/>\n<text text-anchor=\"middle\" x=\"592.35\" y=\"-451.37\" font-family=\"Times New Roman,serif\" font-size=\"14.00\">0</text>\n</g>\n<!-- study -->\n<g id=\"node19\" class=\"node\">\n<title>study</title>\n<ellipse fill=\"none\" stroke=\"black\" cx=\"643.85\" cy=\"-387.97\" rx=\"29.8\" ry=\"29.8\"/>\n<text text-anchor=\"middle\" x=\"643.85\" y=\"-384.27\" font-family=\"Times New Roman,serif\" font-size=\"14.00\">study</text>\n</g>\n<!-- demonstrate&#45;&gt;study -->\n<g id=\"edge13\" class=\"edge\">\n<title>demonstrate&#45;&gt;study</title>\n<path fill=\"none\" stroke=\"black\" d=\"M629.22,-480.92C632,-463.44 635.04,-444.3 637.63,-428.03\"/>\n<polygon fill=\"black\" stroke=\"black\" points=\"641.15,-428.22 639.26,-417.8 634.23,-427.12 641.15,-428.22\"/>\n<text text-anchor=\"middle\" x=\"637.35\" y=\"-451.37\" font-family=\"Times New Roman,serif\" font-size=\"14.00\">1</text>\n</g>\n<!-- sfp -->\n<g id=\"node17\" class=\"node\">\n<title>sfp</title>\n<ellipse fill=\"none\" stroke=\"black\" cx=\"829.85\" cy=\"-238.18\" rx=\"21.4\" ry=\"21.4\"/>\n<text text-anchor=\"middle\" x=\"829.85\" y=\"-234.48\" font-family=\"Times New Roman,serif\" font-size=\"14.00\">sfp</text>\n</g>\n<!-- develop&#45;&gt;sfp -->\n<g id=\"edge14\" class=\"edge\">\n<title>develop&#45;&gt;sfp</title>\n<path fill=\"none\" stroke=\"black\" d=\"M583.98,-359.61C590.32,-354.41 597.43,-349.59 604.85,-346.38 674.56,-316.17 708.69,-365.73 774.85,-328.38 797.55,-315.56 812.07,-289.14 820.46,-268.37\"/>\n<polygon fill=\"black\" stroke=\"black\" points=\"823.73,-269.59 823.99,-259 817.18,-267.12 823.73,-269.59\"/>\n<text text-anchor=\"middle\" x=\"795.35\" y=\"-317.18\" font-family=\"Times New Roman,serif\" font-size=\"14.00\">2</text>\n</g>\n<!-- for -->\n<g id=\"node9\" class=\"node\">\n<title>for</title>\n<ellipse fill=\"none\" stroke=\"black\" cx=\"462.85\" cy=\"-534.52\" rx=\"20.6\" ry=\"20.6\"/>\n<text text-anchor=\"middle\" x=\"462.85\" y=\"-530.82\" font-family=\"Times New Roman,serif\" font-size=\"14.00\">for</text>\n</g>\n<!-- for&#45;&gt;COORD -->\n<g id=\"edge15\" class=\"edge\">\n<title>for&#45;&gt;COORD</title>\n<path fill=\"none\" stroke=\"black\" d=\"M462.44,-513.72C462.04,-494.76 461.43,-465.35 460.9,-439.84\"/>\n<polygon fill=\"black\" stroke=\"black\" points=\"464.4,-439.49 460.69,-429.56 457.4,-439.63 464.4,-439.49\"/>\n<text text-anchor=\"middle\" x=\"464.35\" y=\"-451.37\" font-family=\"Times New Roman,serif\" font-size=\"14.00\">2</text>\n</g>\n<!-- for&#45;&gt;develop -->\n<g id=\"edge16\" class=\"edge\">\n<title>for&#45;&gt;develop</title>\n<path fill=\"none\" stroke=\"black\" d=\"M467.37,-513.87C472.19,-495.62 481.05,-468.22 494.85,-447.57 499.07,-441.25 509.88,-430.71 521.38,-420.29\"/>\n<polygon fill=\"black\" stroke=\"black\" points=\"523.85,-422.78 528.98,-413.5 519.19,-417.55 523.85,-422.78\"/>\n<text text-anchor=\"middle\" x=\"498.35\" y=\"-451.37\" font-family=\"Times New Roman,serif\" font-size=\"14.00\">1</text>\n</g>\n<!-- in -->\n<g id=\"node11\" class=\"node\">\n<title>in</title>\n<ellipse fill=\"none\" stroke=\"black\" cx=\"671.85\" cy=\"-657.46\" rx=\"18\" ry=\"18\"/>\n<text text-anchor=\"middle\" x=\"671.85\" y=\"-653.76\" font-family=\"Times New Roman,serif\" font-size=\"14.00\">in</text>\n</g>\n<!-- in&#45;&gt;demonstrate -->\n<g id=\"edge17\" class=\"edge\">\n<title>in&#45;&gt;demonstrate</title>\n<path fill=\"none\" stroke=\"black\" d=\"M665.18,-640.65C660.1,-628.6 652.77,-611.21 645.52,-594.03\"/>\n<polygon fill=\"black\" stroke=\"black\" points=\"648.63,-592.4 641.52,-584.54 642.18,-595.12 648.63,-592.4\"/>\n<text text-anchor=\"middle\" x=\"659.35\" y=\"-610.26\" font-family=\"Times New Roman,serif\" font-size=\"14.00\">1</text>\n</g>\n<!-- short -->\n<g id=\"node18\" class=\"node\">\n<title>short</title>\n<ellipse fill=\"none\" stroke=\"black\" cx=\"721.85\" cy=\"-534.52\" rx=\"28.7\" ry=\"28.7\"/>\n<text text-anchor=\"middle\" x=\"721.85\" y=\"-530.82\" font-family=\"Times New Roman,serif\" font-size=\"14.00\">short</text>\n</g>\n<!-- in&#45;&gt;short -->\n<g id=\"edge18\" class=\"edge\">\n<title>in&#45;&gt;short</title>\n<path fill=\"none\" stroke=\"black\" d=\"M678.38,-640.65C685.66,-623.06 697.64,-594.07 707.18,-570.99\"/>\n<polygon fill=\"black\" stroke=\"black\" points=\"710.52,-572.08 711.1,-561.5 704.05,-569.41 710.52,-572.08\"/>\n<text text-anchor=\"middle\" x=\"695.35\" y=\"-610.26\" font-family=\"Times New Roman,serif\" font-size=\"14.00\">2</text>\n</g>\n<!-- of -->\n<g id=\"node14\" class=\"node\">\n<title>of</title>\n<ellipse fill=\"none\" stroke=\"black\" cx=\"322.85\" cy=\"-534.52\" rx=\"18.4\" ry=\"18.4\"/>\n<text text-anchor=\"middle\" x=\"322.85\" y=\"-530.82\" font-family=\"Times New Roman,serif\" font-size=\"14.00\">of</text>\n</g>\n<!-- of&#45;&gt;COORD -->\n<g id=\"edge19\" class=\"edge\">\n<title>of&#45;&gt;COORD</title>\n<path fill=\"none\" stroke=\"black\" d=\"M335.01,-520.69C354.87,-499.73 395.01,-457.39 424.43,-426.34\"/>\n<polygon fill=\"black\" stroke=\"black\" points=\"427.32,-428.38 431.66,-418.71 422.24,-423.56 427.32,-428.38\"/>\n<text text-anchor=\"middle\" x=\"407.35\" y=\"-451.37\" font-family=\"Times New Roman,serif\" font-size=\"14.00\">2</text>\n</g>\n<!-- of&#45;&gt;prevention -->\n<g id=\"edge20\" class=\"edge\">\n<title>of&#45;&gt;prevention</title>\n<path fill=\"none\" stroke=\"black\" d=\"M317.92,-516.85C305.47,-474.72 272.29,-362.46 252.13,-294.28\"/>\n<polygon fill=\"black\" stroke=\"black\" points=\"255.45,-293.15 249.26,-284.55 248.74,-295.13 255.45,-293.15\"/>\n<text text-anchor=\"middle\" x=\"294.35\" y=\"-384.27\" font-family=\"Times New Roman,serif\" font-size=\"14.00\">1</text>\n</g>\n<!-- pharmaceutical -->\n<g id=\"node15\" class=\"node\">\n<title>pharmaceutical</title>\n<ellipse fill=\"none\" stroke=\"black\" cx=\"576.85\" cy=\"-64.99\" rx=\"64.99\" ry=\"64.99\"/>\n<text text-anchor=\"middle\" x=\"576.85\" y=\"-61.29\" font-family=\"Times New Roman,serif\" font-size=\"14.00\">pharmaceutical</text>\n</g>\n<!-- supplement&#45;&gt;pharmaceutical -->\n<g id=\"edge21\" class=\"edge\">\n<title>supplement&#45;&gt;pharmaceutical</title>\n<path fill=\"none\" stroke=\"black\" d=\"M576.85,-185.82C576.85,-171.44 576.85,-155.52 576.85,-140.1\"/>\n<polygon fill=\"black\" stroke=\"black\" points=\"580.35,-140.06 576.85,-130.06 573.35,-140.06 580.35,-140.06\"/>\n<text text-anchor=\"middle\" x=\"580.35\" y=\"-151.79\" font-family=\"Times New Roman,serif\" font-size=\"14.00\">0</text>\n</g>\n</g>\n</svg>\n",
      "text/plain": [
       "<graphviz.sources.Source at 0x21e82de4b80>"
      ]
     },
     "execution_count": 46,
     "metadata": {},
     "output_type": "execute_result"
    }
   ],
   "source": [
    "Source(to_dot(df_tmp.iloc[2].graph))"
   ]
  },
  {
   "attachments": {},
   "cell_type": "markdown",
   "metadata": {},
   "source": [
    "Learning rules"
   ]
  },
  {
   "cell_type": "code",
   "execution_count": 14,
   "metadata": {},
   "outputs": [
    {
     "name": "stdout",
     "output_type": "stream",
     "text": [
      "Initializing trainer object...\n",
      "Featurizing graphs by generating subgraphs up to 2...\n"
     ]
    },
    {
     "name": "stderr",
     "output_type": "stream",
     "text": [
      "7978it [01:15, 105.71it/s]\n"
     ]
    },
    {
     "name": "stdout",
     "output_type": "stream",
     "text": [
      "Getting feature graphs...\n",
      "Selecting the best features...\n",
      "Generating training data...\n",
      "Training...\n"
     ]
    },
    {
     "name": "stderr",
     "output_type": "stream",
     "text": [
      "c:\\Users\\Ana\\AppData\\Local\\Programs\\Python\\Python310\\lib\\site-packages\\sklearn\\linear_model\\_logistic.py:814: ConvergenceWarning: lbfgs failed to converge (status=1):\n",
      "STOP: TOTAL NO. of ITERATIONS REACHED LIMIT.\n",
      "\n",
      "Increase the number of iterations (max_iter) or scale the data as shown in:\n",
      "    https://scikit-learn.org/stable/modules/preprocessing.html\n",
      "Please also refer to the documentation for alternative solver options:\n",
      "    https://scikit-learn.org/stable/modules/linear_model.html#logistic-regression\n",
      "  n_iter_i = _check_optimize_result(\n"
     ]
    },
    {
     "name": "stdout",
     "output_type": "stream",
     "text": [
      "Getting features...\n"
     ]
    }
   ],
   "source": [
    "trainer = GraphTrainer(df_cause)\n",
    "#extract features\n",
    "features = trainer.prepare_and_train()\n",
    "\n",
    "train, val = train_test_split(df_cause, test_size=0.2, random_state=1234)\n",
    "\n",
    "#save train and validation, this is important for the frontend to work\n",
    "save_dataframe(train, 'train.tsv')\n",
    "save_dataframe(val, 'val.tsv')\n",
    "\n",
    "#also save the ranked features\n",
    "with open(\"features.json\", \"w+\") as f:\n",
    "    json.dump(features, f)\n"
   ]
  },
  {
   "cell_type": "code",
   "execution_count": 15,
   "metadata": {},
   "outputs": [],
   "source": [
    "with open(\"graphs.pickle\", \"wb\") as f:\n",
    "    pickle.dump(val.graph, f)"
   ]
  }
 ],
 "metadata": {
  "kernelspec": {
   "display_name": "Python 3",
   "language": "python",
   "name": "python3"
  },
  "language_info": {
   "codemirror_mode": {
    "name": "ipython",
    "version": 3
   },
   "file_extension": ".py",
   "mimetype": "text/x-python",
   "name": "python",
   "nbconvert_exporter": "python",
   "pygments_lexer": "ipython3",
   "version": "3.10.3 (tags/v3.10.3:a342a49, Mar 16 2022, 13:07:40) [MSC v.1929 64 bit (AMD64)]"
  },
  "orig_nbformat": 4,
  "vscode": {
   "interpreter": {
    "hash": "df87b94f50c6b8081a9a425f6ade537f06441a824b7d68371eb29c5a5eb2838b"
   }
  }
 },
 "nbformat": 4,
 "nbformat_minor": 2
}

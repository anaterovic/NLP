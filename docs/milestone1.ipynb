{
 "cells": [
  {
   "cell_type": "markdown",
   "metadata": {},
   "source": [
    "# Milestone 1 - Model Exploration"
   ]
  },
  {
   "cell_type": "code",
   "execution_count": 1,
   "metadata": {},
   "outputs": [],
   "source": [
    "# TODO\n",
    "# 0. Load medical relation dataset\n",
    "# 1. replace the entities with ENTITY1 and ENTITY2  (useful for N-gram modelling)\n",
    "# 2. preprocess: tokenize -> lower case -> stop word removal -> stemming\n",
    "# 3. features: bag of words (1-gram, 2-gram, 3-gram), maybe syntactic info (e.g. bag of parse tree tags between the 2 entities)\n",
    "# 4. train/val/test split -> train a NB or SVM classifier\n",
    "# 5. evaluate (quant: prec/recall/f1, qual: wrong predicted inputs)"
   ]
  },
  {
   "cell_type": "code",
   "execution_count": 2,
   "metadata": {},
   "outputs": [
    {
     "name": "stderr",
     "output_type": "stream",
     "text": [
      "[nltk_data] Downloading package reuters to\n",
      "[nltk_data]     C:\\Users\\alexs\\AppData\\Roaming\\nltk_data...\n",
      "[nltk_data] Downloading package stopwords to\n",
      "[nltk_data]     C:\\Users\\alexs\\AppData\\Roaming\\nltk_data...\n",
      "[nltk_data]   Unzipping corpora\\stopwords.zip.\n",
      "[nltk_data] Downloading package punkt to\n",
      "[nltk_data]     C:\\Users\\alexs\\AppData\\Roaming\\nltk_data...\n",
      "[nltk_data]   Package punkt is already up-to-date!\n"
     ]
    },
    {
     "name": "stdout",
     "output_type": "stream",
     "text": [
      "10788 documents\n",
      "7769 total train documents\n",
      "3019 total test documents\n",
      "90 categories\n"
     ]
    }
   ],
   "source": [
    "import nltk\n",
    "from nltk.corpus import reuters\n",
    "\n",
    "nltk.download('reuters')\n",
    "nltk.download('stopwords')\n",
    "nltk.download('punkt')\n",
    "\n",
    "ids = reuters.fileids()\n",
    "reuters_ids_train = list(filter(lambda doc: doc.startswith('train'), ids))\n",
    "reuters_ids_test = list(filter(lambda doc: doc.startswith('test'), ids))\n",
    "\n",
    "reuters_raw_train = [reuters.raw(doc_id) for doc_id in reuters_ids_train]\n",
    "reuters_raw_test = [reuters.raw(doc_id) for doc_id in reuters_ids_test]\n",
    "\n",
    "reuters_categs_train = [reuters.categories(doc_id) for doc_id in reuters_ids_train]\n",
    "reuters_categs_test = [reuters.categories(doc_id) for doc_id in reuters_ids_test]\n",
    "\n",
    "print(str(len(ids)) + \" documents\")\n",
    "print(str(len(reuters_raw_train)) + \" total train documents\")\n",
    "print(str(len(reuters_raw_test)) + \" total test documents\")\n",
    "print(str(len(reuters.categories())) + \" categories\")"
   ]
  }
 ],
 "metadata": {
  "kernelspec": {
   "display_name": "Python 3.9.13 ('ds')",
   "language": "python",
   "name": "python3"
  },
  "language_info": {
   "codemirror_mode": {
    "name": "ipython",
    "version": 3
   },
   "file_extension": ".py",
   "mimetype": "text/x-python",
   "name": "python",
   "nbconvert_exporter": "python",
   "pygments_lexer": "ipython3",
   "version": "3.9.13"
  },
  "orig_nbformat": 4,
  "vscode": {
   "interpreter": {
    "hash": "9d417bd2ab1d24874f40818c162e49543738a63150873a482918d17b30ebf17c"
   }
  }
 },
 "nbformat": 4,
 "nbformat_minor": 2
}

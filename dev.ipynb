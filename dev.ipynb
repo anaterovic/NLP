{
 "cells": [
  {
   "cell_type": "code",
   "execution_count": 1,
   "metadata": {},
   "outputs": [
    {
     "data": {
      "text/plain": [
       "array([[[ 9],\n",
       "        [ 1],\n",
       "        [ 4],\n",
       "        [ 2],\n",
       "        [ 6],\n",
       "        [ 4],\n",
       "        [ 4],\n",
       "        [ 8],\n",
       "        [10],\n",
       "        [ 5],\n",
       "        [ 9],\n",
       "        [ 8]]], dtype=int32)"
      ]
     },
     "execution_count": 1,
     "metadata": {},
     "output_type": "execute_result"
    }
   ],
   "source": [
    "# DEBUG\n",
    "from keras.preprocessing.text import one_hot\n",
    "from keras_preprocessing.sequence import pad_sequences\n",
    "\n",
    "from tensorflow.keras.utils import set_random_seed\n",
    "set_random_seed( seed=1)\n",
    "\n",
    "X_loaded = df[['tokens_lemma', 'tokens']].iloc[0:1]\n",
    "\n",
    "# for sentence in X_loaded['tokens_lemma']:\n",
    "#     print(sentence)\n",
    "# for sentence in X_loaded['tokens']:\n",
    "#     print(sentence)\n",
    "\n",
    "lemmas = [['limit', 'data', 'suggest', 'child', 'mental', 'retard', 'termon', 'associ', 'aggress', 'destruct', 'properti', 'termtwo']]\n",
    "tokens = [['limited', 'data', 'suggest', 'children', 'mental', 'retardation', 'TERMONE', 'associated', 'aggression', 'destruction', 'property', 'TERMTWO']]\n",
    "\n",
    "unique_words = set()\n",
    "longest_sentence = 0\n",
    "for sentence in tokens:\n",
    "    current_sentence = 0\n",
    "    for word in sentence:\n",
    "        current_sentence += 1\n",
    "        if word not in unique_words:\n",
    "            unique_words.add(word)\n",
    "        if current_sentence > longest_sentence:\n",
    "            longest_sentence = current_sentence\n",
    "\n",
    "X_tmp = []\n",
    "for sentence in lemmas:\n",
    "    sen_tmp = []\n",
    "    for token in sentence:\n",
    "        sen_tmp.append(one_hot(token, len(unique_words)))\n",
    "    X_tmp.append(sen_tmp)\n",
    "\n",
    "X_tmp = pad_sequences(X_tmp, longest_sentence, padding='post') \n",
    "# makes all sentences the same length by padding with preset value at the end\n",
    "X_tmp"
   ]
  }
 ],
 "metadata": {
  "kernelspec": {
   "display_name": "Python 3.8.15 ('mlp')",
   "language": "python",
   "name": "python3"
  },
  "language_info": {
   "codemirror_mode": {
    "name": "ipython",
    "version": 3
   },
   "file_extension": ".py",
   "mimetype": "text/x-python",
   "name": "python",
   "nbconvert_exporter": "python",
   "pygments_lexer": "ipython3",
   "version": "3.8.15"
  },
  "orig_nbformat": 4,
  "vscode": {
   "interpreter": {
    "hash": "da1dcd46b6553758266418fe5890fa8a3c5a00e3ea8225bcde0d5076085a934b"
   }
  }
 },
 "nbformat": 4,
 "nbformat_minor": 2
}

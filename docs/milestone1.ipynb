{
 "cells": [
  {
   "cell_type": "markdown",
   "metadata": {},
   "source": [
    "# Milestone 1 - Relation Classification Baseline"
   ]
  },
  {
   "cell_type": "markdown",
   "metadata": {},
   "source": [
    "## Load dataset"
   ]
  },
  {
   "cell_type": "code",
   "execution_count": 76,
   "metadata": {},
   "outputs": [
    {
     "name": "stdout",
     "output_type": "stream",
     "text": [
      "Number of docs: 608\n"
     ]
    },
    {
     "data": {
      "text/html": [
       "<div>\n",
       "<style scoped>\n",
       "    .dataframe tbody tr th:only-of-type {\n",
       "        vertical-align: middle;\n",
       "    }\n",
       "\n",
       "    .dataframe tbody tr th {\n",
       "        vertical-align: top;\n",
       "    }\n",
       "\n",
       "    .dataframe thead th {\n",
       "        text-align: right;\n",
       "    }\n",
       "</style>\n",
       "<table border=\"1\" class=\"dataframe\">\n",
       "  <thead>\n",
       "    <tr style=\"text-align: right;\">\n",
       "      <th></th>\n",
       "      <th>food_entity</th>\n",
       "      <th>disease_entity</th>\n",
       "      <th>sentence</th>\n",
       "      <th>is_cause</th>\n",
       "      <th>is_treat</th>\n",
       "    </tr>\n",
       "  </thead>\n",
       "  <tbody>\n",
       "    <tr>\n",
       "      <th>0</th>\n",
       "      <td>bombax ceiba l. (bombacaceae) fruits</td>\n",
       "      <td>urinary stones</td>\n",
       "      <td>Interestingly, many Indian tribes use Bombax c...</td>\n",
       "      <td>0.0</td>\n",
       "      <td>1.0</td>\n",
       "    </tr>\n",
       "    <tr>\n",
       "      <th>1</th>\n",
       "      <td>ultra-processed food</td>\n",
       "      <td>obesity</td>\n",
       "      <td>Ultra-processed food consumption has been asso...</td>\n",
       "      <td>1.0</td>\n",
       "      <td>0.0</td>\n",
       "    </tr>\n",
       "    <tr>\n",
       "      <th>2</th>\n",
       "      <td>salt</td>\n",
       "      <td>osteoporosis</td>\n",
       "      <td>Salt has notoriously been blamed for causing a...</td>\n",
       "      <td>1.0</td>\n",
       "      <td>0.0</td>\n",
       "    </tr>\n",
       "    <tr>\n",
       "      <th>3</th>\n",
       "      <td>broiler chicken</td>\n",
       "      <td>footpad dermatitis</td>\n",
       "      <td>in broiler chicken flocks when animal-based me...</td>\n",
       "      <td>0.0</td>\n",
       "      <td>0.0</td>\n",
       "    </tr>\n",
       "    <tr>\n",
       "      <th>4</th>\n",
       "      <td>sfp</td>\n",
       "      <td>diabetes</td>\n",
       "      <td>In short, this study demonstrated that SFP cou...</td>\n",
       "      <td>0.0</td>\n",
       "      <td>1.0</td>\n",
       "    </tr>\n",
       "  </tbody>\n",
       "</table>\n",
       "</div>"
      ],
      "text/plain": [
       "                            food_entity      disease_entity  \\\n",
       "0  bombax ceiba l. (bombacaceae) fruits      urinary stones   \n",
       "1                  ultra-processed food             obesity   \n",
       "2                                  salt        osteoporosis   \n",
       "3                       broiler chicken  footpad dermatitis   \n",
       "4                                   sfp            diabetes   \n",
       "\n",
       "                                            sentence is_cause  is_treat  \n",
       "0  Interestingly, many Indian tribes use Bombax c...      0.0       1.0  \n",
       "1  Ultra-processed food consumption has been asso...      1.0       0.0  \n",
       "2  Salt has notoriously been blamed for causing a...      1.0       0.0  \n",
       "3  in broiler chicken flocks when animal-based me...      0.0       0.0  \n",
       "4  In short, this study demonstrated that SFP cou...      0.0       1.0  "
      ]
     },
     "execution_count": 76,
     "metadata": {},
     "output_type": "execute_result"
    }
   ],
   "source": [
    "import pandas as pd\n",
    "from pathlib import Path\n",
    "\n",
    "# Load FoodDisease dataset\n",
    "usecols = ['food_entity', 'disease_entity', 'sentence', 'is_cause', 'is_treat']\n",
    "df = pd.read_csv(\n",
    "    Path('..', 'data', 'food_disease.csv'),\n",
    "    sep=',', quotechar='\"',\n",
    "    skipinitialspace=True,\n",
    "    encoding='utf-8',\n",
    "    on_bad_lines='skip',\n",
    "    usecols=usecols)\n",
    "\n",
    "print(f\"Number of docs: {len(df)}\")\n",
    "df.head()"
   ]
  },
  {
   "cell_type": "code",
   "execution_count": 81,
   "metadata": {},
   "outputs": [
    {
     "data": {
      "text/html": [
       "<div>\n",
       "<style scoped>\n",
       "    .dataframe tbody tr th:only-of-type {\n",
       "        vertical-align: middle;\n",
       "    }\n",
       "\n",
       "    .dataframe tbody tr th {\n",
       "        vertical-align: top;\n",
       "    }\n",
       "\n",
       "    .dataframe thead th {\n",
       "        text-align: right;\n",
       "    }\n",
       "</style>\n",
       "<table border=\"1\" class=\"dataframe\">\n",
       "  <thead>\n",
       "    <tr style=\"text-align: right;\">\n",
       "      <th></th>\n",
       "      <th>food_entity</th>\n",
       "      <th>disease_entity</th>\n",
       "      <th>sentence</th>\n",
       "      <th>is_cause</th>\n",
       "      <th>is_treat</th>\n",
       "      <th>source</th>\n",
       "      <th>prp_sent</th>\n",
       "      <th>sdp</th>\n",
       "      <th>sdp_joined</th>\n",
       "    </tr>\n",
       "  </thead>\n",
       "  <tbody>\n",
       "    <tr>\n",
       "      <th>0</th>\n",
       "      <td>bombax ceiba l. (bombacaceae) fruits</td>\n",
       "      <td>urinary stones</td>\n",
       "      <td>interestingly, many indian tribes use bombax c...</td>\n",
       "      <td>0</td>\n",
       "      <td>1</td>\n",
       "      <td>FoodDisease</td>\n",
       "      <td>interestingly, many indian tribes use influenc...</td>\n",
       "      <td>['term1', 'use', 'as', 'medicine', 'for', 'tre...</td>\n",
       "      <td>influence use as medicine for treatment of con...</td>\n",
       "    </tr>\n",
       "    <tr>\n",
       "      <th>1</th>\n",
       "      <td>ultra-processed food</td>\n",
       "      <td>obesity</td>\n",
       "      <td>ultra-processed food consumption has been asso...</td>\n",
       "      <td>1</td>\n",
       "      <td>0</td>\n",
       "      <td>FoodDisease</td>\n",
       "      <td>influence consumption has been associated with...</td>\n",
       "      <td>['term1', 'consumption', 'associate', 'with', ...</td>\n",
       "      <td>influence consumption associate with outcome a...</td>\n",
       "    </tr>\n",
       "    <tr>\n",
       "      <th>2</th>\n",
       "      <td>salt</td>\n",
       "      <td>osteoporosis</td>\n",
       "      <td>salt has notoriously been blamed for causing a...</td>\n",
       "      <td>1</td>\n",
       "      <td>0</td>\n",
       "      <td>FoodDisease</td>\n",
       "      <td>influence has notoriously been blamed for caus...</td>\n",
       "      <td>['term1', 'blame', 'for', 'term2']</td>\n",
       "      <td>influence blame for condition</td>\n",
       "    </tr>\n",
       "    <tr>\n",
       "      <th>3</th>\n",
       "      <td>broiler chicken</td>\n",
       "      <td>footpad dermatitis</td>\n",
       "      <td>in broiler chicken flocks when animal-based me...</td>\n",
       "      <td>0</td>\n",
       "      <td>0</td>\n",
       "      <td>FoodDisease</td>\n",
       "      <td>in influence flocks when animal-based measures...</td>\n",
       "      <td>['term1', 'flock', 'in', 'identify', 'burn', '...</td>\n",
       "      <td>influence flock in identify burn , condition</td>\n",
       "    </tr>\n",
       "    <tr>\n",
       "      <th>4</th>\n",
       "      <td>sfp</td>\n",
       "      <td>diabetes</td>\n",
       "      <td>in short, this study demonstrated that sfp cou...</td>\n",
       "      <td>0</td>\n",
       "      <td>1</td>\n",
       "      <td>FoodDisease</td>\n",
       "      <td>in short, this study demonstrated that influen...</td>\n",
       "      <td>['term1', 'develop', 'as', 'food', 'or', 'prev...</td>\n",
       "      <td>influence develop as food or prevention of con...</td>\n",
       "    </tr>\n",
       "    <tr>\n",
       "      <th>...</th>\n",
       "      <td>...</td>\n",
       "      <td>...</td>\n",
       "      <td>...</td>\n",
       "      <td>...</td>\n",
       "      <td>...</td>\n",
       "      <td>...</td>\n",
       "      <td>...</td>\n",
       "      <td>...</td>\n",
       "      <td>...</td>\n",
       "    </tr>\n",
       "    <tr>\n",
       "      <th>583</th>\n",
       "      <td>nuts</td>\n",
       "      <td>atherosclerosis</td>\n",
       "      <td>thus, the inclusion of food sources of dietary...</td>\n",
       "      <td>0</td>\n",
       "      <td>1</td>\n",
       "      <td>FoodDisease</td>\n",
       "      <td>thus, the inclusion of food sources of dietary...</td>\n",
       "      <td>['term1', 'of', 'inclusion', 'improve', 'contr...</td>\n",
       "      <td>influence of inclusion improve contribute to r...</td>\n",
       "    </tr>\n",
       "    <tr>\n",
       "      <th>584</th>\n",
       "      <td>persea americana</td>\n",
       "      <td>wilting</td>\n",
       "      <td>glasshouse pathogenicity tests with 'reed' avo...</td>\n",
       "      <td>0</td>\n",
       "      <td>0</td>\n",
       "      <td>FoodDisease</td>\n",
       "      <td>glasshouse pathogenicity tests with 'reed' avo...</td>\n",
       "      <td>['term1', 'seedling', 'confirm', 'be', 'cause'...</td>\n",
       "      <td>influence seedling confirm be cause stunt cond...</td>\n",
       "    </tr>\n",
       "    <tr>\n",
       "      <th>585</th>\n",
       "      <td>apple juice</td>\n",
       "      <td>asthma</td>\n",
       "      <td>intake of beverages with excess free fructose ...</td>\n",
       "      <td>1</td>\n",
       "      <td>0</td>\n",
       "      <td>FoodDisease</td>\n",
       "      <td>intake of beverages with excess free fructose ...</td>\n",
       "      <td>['term1', 'include', 'fructose', 'with', 'term2']</td>\n",
       "      <td>influence include fructose with condition</td>\n",
       "    </tr>\n",
       "    <tr>\n",
       "      <th>586</th>\n",
       "      <td>coffee</td>\n",
       "      <td>pd</td>\n",
       "      <td>however, some evidence exists regarding a pote...</td>\n",
       "      <td>0</td>\n",
       "      <td>1</td>\n",
       "      <td>FoodDisease</td>\n",
       "      <td>however, some evidence exists regarding a pote...</td>\n",
       "      <td>['term1', 'acid', ',', 'exist', 'increase', 'r...</td>\n",
       "      <td>influence acid , exist increase risk condition</td>\n",
       "    </tr>\n",
       "    <tr>\n",
       "      <th>587</th>\n",
       "      <td>folic acid fortification</td>\n",
       "      <td>neural tube defects</td>\n",
       "      <td>there is no doubt that folic acid fortificatio...</td>\n",
       "      <td>0</td>\n",
       "      <td>1</td>\n",
       "      <td>FoodDisease</td>\n",
       "      <td>there is no doubt that influence can be effect...</td>\n",
       "      <td>['term1', 'be', 'effective', 'for', 'reduce', ...</td>\n",
       "      <td>influence be effective for reduce incidence of...</td>\n",
       "    </tr>\n",
       "  </tbody>\n",
       "</table>\n",
       "<p>588 rows × 9 columns</p>\n",
       "</div>"
      ],
      "text/plain": [
       "                              food_entity       disease_entity  \\\n",
       "0    bombax ceiba l. (bombacaceae) fruits       urinary stones   \n",
       "1                    ultra-processed food              obesity   \n",
       "2                                    salt         osteoporosis   \n",
       "3                         broiler chicken   footpad dermatitis   \n",
       "4                                     sfp             diabetes   \n",
       "..                                    ...                  ...   \n",
       "583                                  nuts      atherosclerosis   \n",
       "584                      persea americana              wilting   \n",
       "585                           apple juice               asthma   \n",
       "586                                coffee                   pd   \n",
       "587              folic acid fortification  neural tube defects   \n",
       "\n",
       "                                              sentence  is_cause  is_treat  \\\n",
       "0    interestingly, many indian tribes use bombax c...         0         1   \n",
       "1    ultra-processed food consumption has been asso...         1         0   \n",
       "2    salt has notoriously been blamed for causing a...         1         0   \n",
       "3    in broiler chicken flocks when animal-based me...         0         0   \n",
       "4    in short, this study demonstrated that sfp cou...         0         1   \n",
       "..                                                 ...       ...       ...   \n",
       "583  thus, the inclusion of food sources of dietary...         0         1   \n",
       "584  glasshouse pathogenicity tests with 'reed' avo...         0         0   \n",
       "585  intake of beverages with excess free fructose ...         1         0   \n",
       "586  however, some evidence exists regarding a pote...         0         1   \n",
       "587  there is no doubt that folic acid fortificatio...         0         1   \n",
       "\n",
       "          source                                           prp_sent  \\\n",
       "0    FoodDisease  interestingly, many indian tribes use influenc...   \n",
       "1    FoodDisease  influence consumption has been associated with...   \n",
       "2    FoodDisease  influence has notoriously been blamed for caus...   \n",
       "3    FoodDisease  in influence flocks when animal-based measures...   \n",
       "4    FoodDisease  in short, this study demonstrated that influen...   \n",
       "..           ...                                                ...   \n",
       "583  FoodDisease  thus, the inclusion of food sources of dietary...   \n",
       "584  FoodDisease  glasshouse pathogenicity tests with 'reed' avo...   \n",
       "585  FoodDisease  intake of beverages with excess free fructose ...   \n",
       "586  FoodDisease  however, some evidence exists regarding a pote...   \n",
       "587  FoodDisease  there is no doubt that influence can be effect...   \n",
       "\n",
       "                                                   sdp  \\\n",
       "0    ['term1', 'use', 'as', 'medicine', 'for', 'tre...   \n",
       "1    ['term1', 'consumption', 'associate', 'with', ...   \n",
       "2                   ['term1', 'blame', 'for', 'term2']   \n",
       "3    ['term1', 'flock', 'in', 'identify', 'burn', '...   \n",
       "4    ['term1', 'develop', 'as', 'food', 'or', 'prev...   \n",
       "..                                                 ...   \n",
       "583  ['term1', 'of', 'inclusion', 'improve', 'contr...   \n",
       "584  ['term1', 'seedling', 'confirm', 'be', 'cause'...   \n",
       "585  ['term1', 'include', 'fructose', 'with', 'term2']   \n",
       "586  ['term1', 'acid', ',', 'exist', 'increase', 'r...   \n",
       "587  ['term1', 'be', 'effective', 'for', 'reduce', ...   \n",
       "\n",
       "                                            sdp_joined  \n",
       "0    influence use as medicine for treatment of con...  \n",
       "1    influence consumption associate with outcome a...  \n",
       "2                        influence blame for condition  \n",
       "3         influence flock in identify burn , condition  \n",
       "4    influence develop as food or prevention of con...  \n",
       "..                                                 ...  \n",
       "583  influence of inclusion improve contribute to r...  \n",
       "584  influence seedling confirm be cause stunt cond...  \n",
       "585          influence include fructose with condition  \n",
       "586     influence acid , exist increase risk condition  \n",
       "587  influence be effective for reduce incidence of...  \n",
       "\n",
       "[588 rows x 9 columns]"
      ]
     },
     "execution_count": 81,
     "metadata": {},
     "output_type": "execute_result"
    }
   ],
   "source": [
    "df = pd.read_csv(Path('../data/milestone3/preprocessed.csv'), sep=';')\n",
    "df = df[df['source'] == 'FoodDisease']\n",
    "# Try trick because model does not get to seem to get the directional order of 'term1'/'term2', use 'influence'/'condition' instead because influence causes/treats a condition\n",
    "df['prp_sent'] = df['prp_sent'].apply(lambda x: x.replace('term1', 'influence'). replace('term2', 'condition'))\n",
    "df['sdp_joined'] = df['sdp_joined'].apply(lambda x: x.replace('term1', 'influence'). replace('term2', 'condition'))\n",
    "sent_features = df['prp_sent']\n",
    "sdp_features = df['sdp_joined']\n",
    "# Only food disease because CrowdTruth is too bad quality\n",
    "labels = df[['is_cause', 'is_treat']]\n",
    "df = df.rename({'term1': 'food_entity', 'term2': 'disease_entity'}, axis=1)\n",
    "df"
   ]
  },
  {
   "cell_type": "markdown",
   "metadata": {},
   "source": [
    "## Preprocessing"
   ]
  },
  {
   "cell_type": "code",
   "execution_count": 82,
   "metadata": {},
   "outputs": [
    {
     "name": "stdout",
     "output_type": "stream",
     "text": [
      "interestingly, many indian tribes use food_entity as a traditional medicine for the treatment of disease_entity.\n",
      "food_entity consumption has been associated with several health outcomes such as disease_entity, hypertension, cardiovascular disease and cancer.\n",
      "food_entity has notoriously been blamed for causing an increase in the urinary excretion of calcium, and thus is a considered a risk factor for disease_entity.\n",
      "in food_entity flocks when animal-based measures related to disease_entity, hock burns, body lesions and arthritis are identified under commercial conditions (high density).\n",
      "in short, this study demonstrated that food_entity could be developed as functional foods or pharmaceutical supplements for the prevention or mitigation of disease_entity and its complications.\n",
      "Number of docs: 588\n"
     ]
    }
   ],
   "source": [
    "# Make case insensitive (no loss because emphasis on words does not play a role)\n",
    "df['sentence'] = df['sentence'].map(lambda x: x.lower())\n",
    "# Replace entities in sentence with placeholder tokens (may be useful for generalization when using n-grams)\n",
    "df['sentence'] = df.apply(lambda x: x['sentence'].replace(x['food_entity'], 'food_entity'), axis=1)\n",
    "df['sentence'] = df.apply(lambda x: x['sentence'].replace(x['disease_entity'], 'disease_entity'), axis=1)\n",
    "\n",
    "for i in range(5):\n",
    "    print(df['sentence'][i])\n",
    "\n",
    "# Drop malformed documents (both entities must be present in sentence)\n",
    "df = df[df['sentence'].apply(lambda x: 'food_entity' in x and 'disease_entity' in x)]\n",
    "print(f\"Number of docs: {len(df)}\")\n"
   ]
  },
  {
   "cell_type": "code",
   "execution_count": 83,
   "metadata": {},
   "outputs": [
    {
     "data": {
      "text/html": [
       "<div>\n",
       "<style scoped>\n",
       "    .dataframe tbody tr th:only-of-type {\n",
       "        vertical-align: middle;\n",
       "    }\n",
       "\n",
       "    .dataframe tbody tr th {\n",
       "        vertical-align: top;\n",
       "    }\n",
       "\n",
       "    .dataframe thead th {\n",
       "        text-align: right;\n",
       "    }\n",
       "</style>\n",
       "<table border=\"1\" class=\"dataframe\">\n",
       "  <thead>\n",
       "    <tr style=\"text-align: right;\">\n",
       "      <th></th>\n",
       "      <th>is_cause</th>\n",
       "      <th>is_treat</th>\n",
       "    </tr>\n",
       "  </thead>\n",
       "  <tbody>\n",
       "    <tr>\n",
       "      <th>0</th>\n",
       "      <td>0</td>\n",
       "      <td>1</td>\n",
       "    </tr>\n",
       "    <tr>\n",
       "      <th>1</th>\n",
       "      <td>1</td>\n",
       "      <td>0</td>\n",
       "    </tr>\n",
       "    <tr>\n",
       "      <th>2</th>\n",
       "      <td>1</td>\n",
       "      <td>0</td>\n",
       "    </tr>\n",
       "    <tr>\n",
       "      <th>3</th>\n",
       "      <td>0</td>\n",
       "      <td>0</td>\n",
       "    </tr>\n",
       "    <tr>\n",
       "      <th>4</th>\n",
       "      <td>0</td>\n",
       "      <td>1</td>\n",
       "    </tr>\n",
       "  </tbody>\n",
       "</table>\n",
       "</div>"
      ],
      "text/plain": [
       "   is_cause  is_treat\n",
       "0         0         1\n",
       "1         1         0\n",
       "2         1         0\n",
       "3         0         0\n",
       "4         0         1"
      ]
     },
     "execution_count": 83,
     "metadata": {},
     "output_type": "execute_result"
    }
   ],
   "source": [
    "# Convert labels to right dtype\n",
    "label_cols = ['is_cause', 'is_treat']\n",
    "df['is_cause'] = df['is_cause'].astype(float).astype(int)\n",
    "df['is_treat'] = df['is_treat'].astype(float).astype(int)\n",
    "df[label_cols].head()"
   ]
  },
  {
   "cell_type": "code",
   "execution_count": 84,
   "metadata": {},
   "outputs": [
    {
     "name": "stdout",
     "output_type": "stream",
     "text": [
      "['interestingli', 'mani', 'indian', 'tribe', 'use', 'food_ent', 'tradit', 'medicin', 'treatment', 'disease_ent']\n",
      "['food_ent', 'consumpt', 'associ', 'sever', 'health', 'outcom', 'disease_ent', 'hypertens', 'cardiovascular', 'diseas', 'cancer']\n",
      "['food_ent', 'notori', 'blame', 'caus', 'increas', 'urinari', 'excret', 'calcium', 'thu', 'consid', 'risk', 'factor', 'disease_ent']\n",
      "['food_ent', 'flock', 'animal-bas', 'measur', 'relat', 'disease_ent', 'hock', 'burn', 'bodi', 'lesion', 'arthriti', 'identifi', 'commerci', 'condit', 'high', 'densiti']\n",
      "['short', 'studi', 'demonstr', 'food_ent', 'could', 'develop', 'function', 'food', 'pharmaceut', 'supplement', 'prevent', 'mitig', 'disease_ent', 'complic']\n"
     ]
    }
   ],
   "source": [
    "import nltk\n",
    "\n",
    "# Tokenize the sentences\n",
    "df['tokens'] = df['sentence'].apply(lambda x: nltk.word_tokenize(x))\n",
    "# Remove stop words and tokens with length smaller than 2 (i.e. punctuations)\n",
    "df['tokens'] = df['tokens'].apply(lambda x: [token for token in x if token not in nltk.corpus.stopwords.words('english') and len(token) > 1])\n",
    "# Perform stemming\n",
    "porter = nltk.PorterStemmer()\n",
    "df['tokens_stem'] = df['tokens'].apply(lambda x: [porter.stem(token) for token in x])\n",
    "for i in range(5):\n",
    "    print(df['tokens_stem'][i])"
   ]
  },
  {
   "cell_type": "code",
   "execution_count": 85,
   "metadata": {},
   "outputs": [
    {
     "name": "stdout",
     "output_type": "stream",
     "text": [
      "['interestingly', 'many', 'indian', 'tribe', 'use', 'food_entity', 'traditional', 'medicine', 'treatment', 'disease_entity']\n",
      "['food_entity', 'consumption', 'associated', 'several', 'health', 'outcome', 'disease_entity', 'hypertension', 'cardiovascular', 'disease', 'cancer']\n",
      "['food_entity', 'notoriously', 'blamed', 'causing', 'increase', 'urinary', 'excretion', 'calcium', 'thus', 'considered', 'risk', 'factor', 'disease_entity']\n",
      "['food_entity', 'flock', 'animal-based', 'measure', 'related', 'disease_entity', 'hock', 'burn', 'body', 'lesion', 'arthritis', 'identified', 'commercial', 'condition', 'high', 'density']\n",
      "['short', 'study', 'demonstrated', 'food_entity', 'could', 'developed', 'functional', 'food', 'pharmaceutical', 'supplement', 'prevention', 'mitigation', 'disease_entity', 'complication']\n"
     ]
    }
   ],
   "source": [
    "# Dependencies for WorNetLemmatizer\n",
    "# nltk.download('wordnet')\n",
    "# nltk.download('omw-1.4')\n",
    "\n",
    "# Perform lemmatization\n",
    "lemmatizer = nltk.stem.WordNetLemmatizer()\n",
    "df['tokens_lemma'] = df['tokens'].apply(lambda x: [lemmatizer.lemmatize(token) for token in x])\n",
    "for i in range(5):\n",
    "    print(df['tokens_lemma'][i])"
   ]
  },
  {
   "cell_type": "markdown",
   "metadata": {},
   "source": [
    "## Features"
   ]
  },
  {
   "cell_type": "markdown",
   "metadata": {},
   "source": [
    "### Normal features\n",
    "Here the BOW is constructed from all tokens in the sentence."
   ]
  },
  {
   "cell_type": "code",
   "execution_count": 86,
   "metadata": {},
   "outputs": [
    {
     "data": {
      "text/plain": [
       "(588, 2605)"
      ]
     },
     "execution_count": 86,
     "metadata": {},
     "output_type": "execute_result"
    }
   ],
   "source": [
    "from sklearn.feature_extraction.text import CountVectorizer\n",
    "\n",
    "# Preprocess in one function, from sentence (useful but not needed, because we pass tokens from preprocessing directly)\n",
    "def tokenize_sentence(sen):\n",
    "    tokens = sen.lower()\n",
    "    tokens = nltk.word_tokenize(tokens)\n",
    "    tokens = [x for x in tokens if x not in nltk.corpus.stopwords.words('english') and len(x) > 1]\n",
    "    tokens = [nltk.PorterStemmer().stem(x) for x in tokens]\n",
    "    return tokens\n",
    "\n",
    "# Vector with occurance of ngrams (ngram_range upper bound should be hyperparameter in search)\n",
    "# For all options refer to https://scikit-learn.org/stable/modules/generated/sklearn.feature_extraction.text.CountVectorizer.html\n",
    "# Use identity function as tokenizer to pass tokens directly, otherwise replace with tokenize_sentence function\n",
    "vectorizer = CountVectorizer(tokenizer=lambda x: x, binary=True, ngram_range=(1, 1), analyzer='word', lowercase=False)\n",
    "features = vectorizer.fit_transform(df['tokens_lemma'])\n",
    "features.shape"
   ]
  },
  {
   "cell_type": "markdown",
   "metadata": {},
   "source": [
    "### Syntactic features\n",
    "\n",
    "Here the BOW is constructed only from the tokens in the shortest dependency path between the entities."
   ]
  },
  {
   "cell_type": "code",
   "execution_count": 87,
   "metadata": {},
   "outputs": [
    {
     "name": "stdout",
     "output_type": "stream",
     "text": [
      "sentence:\n",
      "interestingly interestingly ADV RB advmod xxxx True False\n",
      ", , PUNCT , punct , False False\n",
      "many many ADJ JJ amod xxxx True True\n",
      "indian indian ADJ JJ amod xxxx True False\n",
      "tribes tribe NOUN NNS nsubj xxxx True False\n",
      "use use VERB VBP ROOT xxx True False\n",
      "food_entity food_entity NOUN NN dobj xxxx_xxxx False False\n",
      "as as ADP IN prep xx True True\n",
      "a a DET DT det x True True\n",
      "traditional traditional ADJ JJ amod xxxx True False\n",
      "medicine medicine NOUN NN pobj xxxx True False\n",
      "for for ADP IN prep xxx True True\n",
      "the the DET DT det xxx True True\n",
      "treatment treatment NOUN NN pobj xxxx True False\n",
      "of of ADP IN prep xx True True\n",
      "disease_entity disease_entity NOUN NN pobj xxxx_xxxx False False\n",
      ". . PUNCT . punct . False False\n",
      "7\n",
      "Shortest path: ['food_entity', 'use', 'as', 'medicine', 'for', 'treatment', 'of', 'disease_entity']\n"
     ]
    },
    {
     "data": {
      "image/png": "[encoded data removed]",
      "text/plain": [
       "<Figure size 700x600 with 1 Axes>"
      ]
     },
     "metadata": {},
     "output_type": "display_data"
    }
   ],
   "source": [
    "import spacy\n",
    "import networkx as nx\n",
    "\n",
    "nlp = spacy.load(\"en_core_web_sm\")\n",
    "    \n",
    "doc = nlp(df['sentence'][0])\n",
    "print('sentence:'.format(doc))\n",
    "\n",
    "# Load spacy's dependency tree into a networkx graph\n",
    "for token in doc:\n",
    "    print(\n",
    "        token.text, token.lemma_, token.pos_, token.tag_, token.dep_,\n",
    "        token.shape_, token.is_alpha, token.is_stop)\n",
    "edges = []\n",
    "for token in doc:\n",
    "    for child in token.children:\n",
    "        edges.append((\n",
    "            '{0}'.format(token.lemma_),\n",
    "            '{0}'.format(child.lemma_)))\n",
    "                      \n",
    "graph = nx.Graph(edges)\n",
    "entity1 = 'food_entity'\n",
    "entity2 = 'disease_entity'\n",
    "\n",
    "print(nx.shortest_path_length(graph, source=entity1, target=entity2))\n",
    "print(f\"Shortest path: {nx.shortest_path(graph, source=entity1, target=entity2)}\")\n",
    "nx.draw(graph, with_labels=True)"
   ]
  },
  {
   "cell_type": "code",
   "execution_count": 89,
   "metadata": {},
   "outputs": [
    {
     "name": "stdout",
     "output_type": "stream",
     "text": [
      "Index: 0\n",
      "interestingly, many indian tribes use food_entity as a traditional medicine for the treatment of disease_entity.\n",
      "['interestingly', 'many', 'indian', 'tribe', 'use', 'food_entity', 'traditional', 'medicine', 'treatment', 'disease_entity']\n",
      "['food_entity', 'use', 'medicine', 'treatment', 'disease_entity']\n",
      "Index: 1\n",
      "food_entity consumption has been associated with several health outcomes such as disease_entity, hypertension, cardiovascular disease and cancer.\n",
      "['food_entity', 'consumption', 'associated', 'several', 'health', 'outcome', 'disease_entity', 'hypertension', 'cardiovascular', 'disease', 'cancer']\n",
      "['food_entity', 'consumption', 'associate', 'outcome', 'disease_entity']\n",
      "Index: 2\n",
      "food_entity has notoriously been blamed for causing an increase in the urinary excretion of calcium, and thus is a considered a risk factor for disease_entity.\n",
      "['food_entity', 'notoriously', 'blamed', 'causing', 'increase', 'urinary', 'excretion', 'calcium', 'thus', 'considered', 'risk', 'factor', 'disease_entity']\n",
      "['food_entity', 'blame', 'disease_entity']\n",
      "Index: 3\n",
      "in food_entity flocks when animal-based measures related to disease_entity, hock burns, body lesions and arthritis are identified under commercial conditions (high density).\n",
      "['food_entity', 'flock', 'animal-based', 'measure', 'related', 'disease_entity', 'hock', 'burn', 'body', 'lesion', 'arthritis', 'identified', 'commercial', 'condition', 'high', 'density']\n",
      "['food_entity', 'flock', 'identify', 'measure', 'relate', 'disease_entity']\n",
      "Index: 4\n",
      "in short, this study demonstrated that food_entity could be developed as functional foods or pharmaceutical supplements for the prevention or mitigation of disease_entity and its complications.\n",
      "['short', 'study', 'demonstrated', 'food_entity', 'could', 'developed', 'functional', 'food', 'pharmaceutical', 'supplement', 'prevention', 'mitigation', 'disease_entity', 'complication']\n",
      "['food_entity', 'develop', 'food', 'prevention', 'disease_entity']\n"
     ]
    }
   ],
   "source": [
    "def shortest_dep_path(sentence):\n",
    "    doc = nlp(sentence)\n",
    "    edges = []\n",
    "    for token in doc:\n",
    "        for child in token.children:\n",
    "            edges.append((\n",
    "                '{0}'.format(token.lemma_),\n",
    "                '{0}'.format(child.lemma_)))\n",
    "    graph = nx.Graph(edges)\n",
    "    entity1 = 'food_entity'\n",
    "    entity2 = 'disease_entity'\n",
    "    try:\n",
    "        return nx.shortest_path(graph, source=entity1, target=entity2)\n",
    "    except:\n",
    "        return []\n",
    "\n",
    "def remove_stop_words(tokens):\n",
    "    return [x for x in tokens if x not in nltk.corpus.stopwords.words('english') and len(x) > 1]\n",
    "\n",
    "df['sdp_tokens_lemma'] = df['sentence'].apply(lambda x: remove_stop_words(shortest_dep_path(x)))\n",
    "\n",
    "for i in range(5):\n",
    "    print(f\"Index: {i}\")\n",
    "    print(df['sentence'][i])\n",
    "    print(df['tokens_lemma'][i])\n",
    "    print(df['sdp_tokens_lemma'][i])"
   ]
  },
  {
   "cell_type": "code",
   "execution_count": 90,
   "metadata": {},
   "outputs": [
    {
     "data": {
      "text/plain": [
       "(588, 505)"
      ]
     },
     "execution_count": 90,
     "metadata": {},
     "output_type": "execute_result"
    }
   ],
   "source": [
    "vectorizer = CountVectorizer(tokenizer=lambda x: x, binary=True, ngram_range=(1, 1), analyzer='word', lowercase=False)\n",
    "features = vectorizer.fit_transform(df['sdp_tokens_lemma'])\n",
    "features.shape"
   ]
  },
  {
   "cell_type": "markdown",
   "metadata": {},
   "source": [
    "#### Interpretation\n",
    "We can see that if we only consider the shortest path, then potential explainations may be ommitted (e.g. strong signals like 'disease'). On the other hand the vocabulary shrinks considerably (from 2624 to 505), with a distilled signal in the SDP (if the signal is not lost)."
   ]
  },
  {
   "cell_type": "markdown",
   "metadata": {},
   "source": [
    "## Model"
   ]
  },
  {
   "cell_type": "markdown",
   "metadata": {},
   "source": [
    "### Full BOW features"
   ]
  },
  {
   "cell_type": "code",
   "execution_count": 91,
   "metadata": {},
   "outputs": [],
   "source": [
    "import numpy as np\n",
    "from sklearn.model_selection import train_test_split\n",
    "from sklearn.naive_bayes import BernoulliNB\n",
    "from sklearn.multioutput import MultiOutputClassifier\n",
    "from sklearn.feature_extraction.text import CountVectorizer\n",
    "\n",
    "\n",
    "np.random.seed(1)\n",
    "\n",
    "labels = df[['is_cause', 'is_treat']]\n",
    "X_train, X_test, y_train, y_test = train_test_split(df['tokens_lemma'], labels, test_size=0.1, shuffle=True, random_state=1)\n",
    "# Prepare feature vectors\n",
    "vectorizer = CountVectorizer(tokenizer=lambda x: x, binary=True, ngram_range=(1, 1), analyzer='word', lowercase=False)\n",
    "x_train = vectorizer.fit_transform(X_train)\n",
    "x_test = vectorizer.transform(X_test)\n",
    "# Train model (MultiOutputClassifier was chosen over OneVsRest because labels are not mutually exclusive)\n",
    "model = MultiOutputClassifier(BernoulliNB())\n",
    "model.fit(x_train, y_train)\n",
    "pred_train = model.predict(x_train)\n",
    "pred_test = model.predict(x_test)"
   ]
  },
  {
   "cell_type": "code",
   "execution_count": 92,
   "metadata": {},
   "outputs": [
    {
     "name": "stdout",
     "output_type": "stream",
     "text": [
      "TRAIN\n",
      "accuracy: 0.8468809073724007\n",
      "              precision    recall  f1-score   support\n",
      "\n",
      "    is_cause       0.98      0.41      0.57       118\n",
      "    is_treat       0.96      0.99      0.97       280\n",
      "\n",
      "   micro avg       0.96      0.82      0.88       398\n",
      "   macro avg       0.97      0.70      0.77       398\n",
      "weighted avg       0.96      0.82      0.86       398\n",
      " samples avg       0.62      0.62      0.62       398\n",
      "\n",
      "TEST\n",
      "accuracy: 0.6440677966101694\n",
      "              precision    recall  f1-score   support\n",
      "\n",
      "    is_cause       1.00      0.07      0.13        14\n",
      "    is_treat       0.81      0.88      0.84        33\n",
      "\n",
      "   micro avg       0.81      0.64      0.71        47\n",
      "   macro avg       0.90      0.48      0.49        47\n",
      "weighted avg       0.86      0.64      0.63        47\n",
      " samples avg       0.51      0.51      0.51        47\n",
      "\n"
     ]
    }
   ],
   "source": [
    "from sklearn.metrics import classification_report\n",
    "import warnings\n",
    "from sklearn.metrics import accuracy_score, f1_score, precision_score, recall_score\n",
    "warnings.filterwarnings('ignore')\n",
    "\n",
    "print('TRAIN')\n",
    "print(f\"accuracy: {accuracy_score(y_train, pred_train)}\")\n",
    "print(classification_report(y_train, pred_train, target_names=label_cols))\n",
    "print('TEST')\n",
    "print(f\"accuracy: {accuracy_score(y_test, pred_test)}\")\n",
    "print(classification_report(y_test, pred_test, target_names=label_cols))"
   ]
  },
  {
   "cell_type": "code",
   "execution_count": 93,
   "metadata": {},
   "outputs": [
    {
     "name": "stdout",
     "output_type": "stream",
     "text": [
      "accuracy: 0.7796610169491526\n"
     ]
    },
    {
     "data": {
      "image/png": "[encoded data removed]",
      "text/plain": [
       "<Figure size 700x600 with 2 Axes>"
      ]
     },
     "metadata": {},
     "output_type": "display_data"
    }
   ],
   "source": [
    "import seaborn as sns\n",
    "from sklearn.metrics import confusion_matrix\n",
    "\n",
    "\n",
    "def evaluate_class(y, pred, class_name, title):\n",
    "    print(f\"accuracy: {accuracy_score(y, pred)}\")\n",
    "    \n",
    "    conf_mat = confusion_matrix(y, pred)\n",
    "    y_tick_labels = [f'{class_name}=False', f'{class_name}=True']\n",
    "    x_tick_labels = ['(pred) ' + l for l in y_tick_labels]\n",
    "    sns.set(rc={'figure.figsize':(7, 6)})\n",
    "    sns.heatmap(conf_mat, xticklabels=x_tick_labels, yticklabels=y_tick_labels, annot=True, fmt='.3g').set(title=title)\n",
    "\n",
    "\n",
    "evaluate_class(y_test.values[:, 0], pred_test[:, 0], 'is_cause', 'Test set (full sentence)')"
   ]
  },
  {
   "cell_type": "code",
   "execution_count": 94,
   "metadata": {},
   "outputs": [
    {
     "name": "stdout",
     "output_type": "stream",
     "text": [
      "accuracy: 0.8135593220338984\n"
     ]
    },
    {
     "data": {
      "image/png": "[encoded data removed]",
      "text/plain": [
       "<Figure size 700x600 with 2 Axes>"
      ]
     },
     "metadata": {},
     "output_type": "display_data"
    }
   ],
   "source": [
    "evaluate_class(y_test.values[:, 1], pred_test[:, 1], 'is_treat', 'Test set (full sentence)')"
   ]
  },
  {
   "cell_type": "code",
   "execution_count": 95,
   "metadata": {},
   "outputs": [
    {
     "name": "stdout",
     "output_type": "stream",
     "text": [
      "Top 10 \"is_cause\" relation predictors\n",
      "\n",
      "Positive predictors: ['atopic' 'sensitization' 'well-known' 'exposed' 'rhinitis' 'allergen'\n",
      " 'frequently' 'inhalation' 'baker' 'worker']\n",
      "Negative predictors: ['treatment' 'compound' 'protective' 'ad' 'component' 'model' 'medicine'\n",
      " 'traditional' \"'s\" 'various']\n"
     ]
    }
   ],
   "source": [
    "import numpy as np\n",
    "\n",
    "def nb_top_features(model, vectorizer, n=10):\n",
    "    neg_class_prob_sorted = model.feature_log_prob_[0, :]\n",
    "    pos_class_prob_sorted = model.feature_log_prob_[1, :]\n",
    "    class_prob_diff = neg_class_prob_sorted - pos_class_prob_sorted\n",
    "    sorted_feature_importance = class_prob_diff.argsort()[::-1]\n",
    "    print(f\"Positive predictors: {np.take(vectorizer.get_feature_names(), sorted_feature_importance[-n:])}\")\n",
    "    print(f\"Negative predictors: {np.take(vectorizer.get_feature_names(), sorted_feature_importance[:n])}\")\n",
    "\n",
    "# Show most important words for \"is_cause\" model outcome\n",
    "print('Top 10 \"is_cause\" relation predictors\\n')\n",
    "nb_top_features(model.estimators_[0], vectorizer)"
   ]
  },
  {
   "cell_type": "code",
   "execution_count": 96,
   "metadata": {},
   "outputs": [
    {
     "name": "stdout",
     "output_type": "stream",
     "text": [
      "Top 10 \"is_treat\" relation predictors\n",
      "\n",
      "Positive predictors: ['bioactive' 'effective' 'therapeutic' 'chinese' 'benefit'\n",
      " 'anti-inflammatory' 'anti-disease_entity' 'reduces' 'medicine'\n",
      " 'traditional']\n",
      "Negative predictors: ['virus' 'worker' 'caused' 'ibv' 'industry' 'case' 'outcome' 'cause'\n",
      " 'dust' 'production']\n"
     ]
    }
   ],
   "source": [
    "# Show most important words for \"is_treat\" model outcome\n",
    "print('Top 10 \"is_treat\" relation predictors\\n')\n",
    "nb_top_features(model.estimators_[1], vectorizer)"
   ]
  },
  {
   "cell_type": "markdown",
   "metadata": {},
   "source": [
    "### SDP BOW features"
   ]
  },
  {
   "cell_type": "code",
   "execution_count": 97,
   "metadata": {},
   "outputs": [],
   "source": [
    "X_train, X_test, y_train, y_test = train_test_split(df['sdp_tokens_lemma'], labels, test_size=0.1, shuffle=True, random_state=1)\n",
    "\n",
    "# Prepare feature vectors\n",
    "vectorizer = CountVectorizer(tokenizer=lambda x: x, binary=True, ngram_range=(1, 1), analyzer='word', lowercase=False)\n",
    "x_train = vectorizer.fit_transform(X_train)\n",
    "x_test = vectorizer.transform(X_test)\n",
    "# Train model; MultiOutputClassifier was chosen over OneVsRest because (in a single case) labels are not mutually exclusive\n",
    "model = MultiOutputClassifier(BernoulliNB())\n",
    "model.fit(x_train, y_train)\n",
    "pred_train = model.predict(x_train)\n",
    "pred_test = model.predict(x_test)"
   ]
  },
  {
   "cell_type": "code",
   "execution_count": 98,
   "metadata": {},
   "outputs": [
    {
     "name": "stdout",
     "output_type": "stream",
     "text": [
      "TRAIN\n",
      "accuracy: 0.718336483931947\n",
      "              precision    recall  f1-score   support\n",
      "\n",
      "    is_cause       1.00      0.25      0.41       118\n",
      "    is_treat       0.92      0.82      0.87       280\n",
      "\n",
      "   micro avg       0.93      0.65      0.77       398\n",
      "   macro avg       0.96      0.54      0.64       398\n",
      "weighted avg       0.94      0.65      0.73       398\n",
      " samples avg       0.49      0.49      0.49       398\n",
      "\n",
      "TEST\n",
      "accuracy: 0.576271186440678\n",
      "              precision    recall  f1-score   support\n",
      "\n",
      "    is_cause       1.00      0.14      0.25        14\n",
      "    is_treat       0.85      0.67      0.75        33\n",
      "\n",
      "   micro avg       0.86      0.51      0.64        47\n",
      "   macro avg       0.92      0.40      0.50        47\n",
      "weighted avg       0.89      0.51      0.60        47\n",
      " samples avg       0.41      0.41      0.41        47\n",
      "\n"
     ]
    }
   ],
   "source": [
    "from sklearn.metrics import classification_report\n",
    "import warnings\n",
    "from sklearn.metrics import accuracy_score, f1_score, precision_score, recall_score\n",
    "warnings.filterwarnings('ignore')\n",
    "\n",
    "print('TRAIN')\n",
    "print(f\"accuracy: {accuracy_score(y_train, pred_train)}\")\n",
    "print(classification_report(y_train, pred_train, target_names=label_cols))\n",
    "print('TEST')\n",
    "print(f\"accuracy: {accuracy_score(y_test, pred_test)}\")\n",
    "print(classification_report(y_test, pred_test, target_names=label_cols))"
   ]
  },
  {
   "cell_type": "code",
   "execution_count": 99,
   "metadata": {},
   "outputs": [
    {
     "name": "stdout",
     "output_type": "stream",
     "text": [
      "accuracy: 0.7966101694915254\n"
     ]
    },
    {
     "data": {
      "image/png": "[encoded data removed]",
      "text/plain": [
       "<Figure size 700x600 with 2 Axes>"
      ]
     },
     "metadata": {},
     "output_type": "display_data"
    }
   ],
   "source": [
    "evaluate_class(y_test.values[:, 0], pred_test[:, 0], 'is_cause', 'Test set (full sentence)')"
   ]
  },
  {
   "cell_type": "code",
   "execution_count": 100,
   "metadata": {},
   "outputs": [
    {
     "name": "stdout",
     "output_type": "stream",
     "text": [
      "accuracy: 0.7457627118644068\n"
     ]
    },
    {
     "data": {
      "image/png": "[encoded data removed]",
      "text/plain": [
       "<Figure size 700x600 with 2 Axes>"
      ]
     },
     "metadata": {},
     "output_type": "display_data"
    }
   ],
   "source": [
    "evaluate_class(y_test.values[:, 1], pred_test[:, 1], 'is_treat', 'Test set (full sentence)')"
   ]
  },
  {
   "cell_type": "code",
   "execution_count": 101,
   "metadata": {},
   "outputs": [
    {
     "name": "stdout",
     "output_type": "stream",
     "text": [
      "Top 10 \"is_cause\" relation predictors\n",
      "\n",
      "Positive predictors: ['induce' 'result' 'symptom' 'avoid' 'fructose' 'prevalence' 'exposure'\n",
      " 'allergen' 'sensitization' 'trigger']\n",
      "Negative predictors: ['reduce' 'treat' 'treatment' 'component' 'prevent' 'compound' 'rich'\n",
      " 'improve' 'acid' 'virus']\n"
     ]
    }
   ],
   "source": [
    "# Show most important words for \"is_cause\" model outcome\n",
    "print('Top 10 \"is_cause\" relation predictors\\n')\n",
    "nb_top_features(model.estimators_[0], vectorizer)"
   ]
  },
  {
   "cell_type": "code",
   "execution_count": 102,
   "metadata": {},
   "outputs": [
    {
     "name": "stdout",
     "output_type": "stream",
     "text": [
      "Top 10 \"is_treat\" relation predictors\n",
      "\n",
      "Positive predictors: ['treatment' 'contribute' 'extract' 'l.' 'incidence' 'prevent' 'improve'\n",
      " 'reduce' 'component' 'treat']\n",
      "Negative predictors: ['cause' 'association' 'virus' 'outcome' 'due' 'trigger' 'individual'\n",
      " 'lead' 'affect' 'salmon']\n"
     ]
    }
   ],
   "source": [
    "# Show most important words for \"is_treat\" model outcome\n",
    "print('Top 10 \"is_treat\" relation predictors\\n')\n",
    "nb_top_features(model.estimators_[1], vectorizer)"
   ]
  },
  {
   "attachments": {},
   "cell_type": "markdown",
   "metadata": {},
   "source": [
    "## Conclusion\n",
    "\n",
    "We can see that the most predictive words make sense for each outcome, so it seems our models are wired the right way. The models trained on the syntactic SDP features seem to behave more robustly. Explorable paths would be to combine both feature vectors (probably redundant information), consider longer n-grams (actually performed worse in all experiments we did), part-of-speech features, or use other models (e.g. hyperparameter tuned SVM).\n",
    "\n",
    "The main problem metric wise is that the recall for the \"is_cause\" model is super low. The dataset is imbalanced with less positive examples for the \"is_cause\" relation, so it might be because of bias. One potential mitigation for this could be stratification or re-weighting of some sort.\n",
    "\n",
    "\n",
    "Addendum: On the split from milestone 3 it performs super bad. Might be because Crowd truth dataset is more dependant on the order of words."
   ]
  }
 ],
 "metadata": {
  "kernelspec": {
   "display_name": "tuwnlpie",
   "language": "python",
   "name": "python3"
  },
  "language_info": {
   "codemirror_mode": {
    "name": "ipython",
    "version": 3
   },
   "file_extension": ".py",
   "mimetype": "text/x-python",
   "name": "python",
   "nbconvert_exporter": "python",
   "pygments_lexer": "ipython3",
   "version": "3.10.6"
  },
  "orig_nbformat": 4,
  "vscode": {
   "interpreter": {
    "hash": "83898479c5b0bfadf55251aa9cfdfe0a5aebac05a423bd225279be3173794cfc"
   }
  }
 },
 "nbformat": 4,
 "nbformat_minor": 2
}
